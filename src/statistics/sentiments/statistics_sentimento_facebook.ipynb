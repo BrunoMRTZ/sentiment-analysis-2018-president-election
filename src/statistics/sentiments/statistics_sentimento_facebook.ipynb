{
 "cells": [
  {
   "cell_type": "code",
   "execution_count": 47,
   "metadata": {
    "ExecuteTime": {
     "end_time": "2018-11-26T00:53:43.831817Z",
     "start_time": "2018-11-26T00:53:43.804148Z"
    },
    "collapsed": true
   },
   "outputs": [],
   "source": [
    "import sys\n",
    "sys.path.append('..')\n",
    "sys.path.append('../..')\n",
    "\n",
    "from stats import *\n",
    "from sentiment_stats import *\n",
    "\n",
    "from peewee import SQL\n",
    "from database.models import RawFacebookComments, RawTwitterComments, RawInstagramComments, RawYouTubeComments, RawHashtagComments\n",
    "\n",
    "modelo = RawFacebookComments\n",
    "\n",
    "cores = ['#FFA726', '#66BB6A', '#42A5F5', '#FFEE58', '#EF5350', '#AB47BC', '#C8C8C8']\n",
    "cores2 = ['#FFA726', '#AB47BC', '#FFEE58', '#C8C8C8', '#EF5350', '#66BB6A', '#42A5F5']\n",
    "cores_val = ['#EF5350', '#C8C8C8', '#66BB6A']\n",
    "cores_val2 = ['#66BB6A', '#EF5350', '#C8C8C8']\n",
    "sentimentos = ['ALEGRIA', 'SURPRESA', 'TRISTEZA', 'MEDO', 'RAIVA', 'DESGOSTO', 'NEUTRO']\n",
    "valencia = ['POSITIVO', 'NEGATIVO', 'NEUTRO']\n",
    "\n",
    "valencia_dict = OrderedDict()\n",
    "for val in valencia:\n",
    "    valencia_dict[val] = 0\n",
    "\n",
    "sentimentos_dict = OrderedDict()\n",
    "for sentimento in sentimentos:\n",
    "    sentimentos_dict[sentimento] = 0\n",
    "    \n",
    "default_clause = [\n",
    "    SQL('length(clean_comment) > 0'),\n",
    "]\n",
    "\n",
    "positivo_clause = [\n",
    "    SQL('length(emotion) > 0 AND length(valence) > 0'),\n",
    "    SQL('emotion in (\"ALEGRIA\", \"SURPRESA\") AND valence = \"POSITIVO\"')\n",
    "]\n",
    "\n",
    "negativo_clause = [\n",
    "    SQL('length(emotion) > 0 AND length(valence) > 0'),\n",
    "    SQL('emotion in (\"TRISTEZA\", \"RAIVA\", \"MEDO\", \"DESGOSTO\") AND valence = \"NEGATIVO\"')\n",
    "]\n",
    "\n",
    "neutro_clause = [\n",
    "    SQL('length(emotion) > 0 AND length(valence) > 0'),\n",
    "    SQL('emotion in (\"NEUTRO\") AND valence = \"NEUTRO\"')\n",
    "]\n",
    "\n",
    "general = default_clause + [\n",
    "    SQL('length(emotion) > 0 AND length(valence) > 0'),\n",
    "    SQL(\"\"\"\n",
    "        (emotion in (\"ALEGRIA\", \"SURPRESA\") AND valence = \"POSITIVO\") \n",
    "        OR \n",
    "        (emotion in (\"TRISTEZA\", \"RAIVA\", \"MEDO\", \"DESGOSTO\") AND valence = \"NEGATIVO\")\n",
    "        OR\n",
    "        (emotion in (\"NEUTRO\") AND valence = \"NEUTRO\")\n",
    "    \"\"\")\n",
    "]"
   ]
  },
  {
   "cell_type": "markdown",
   "metadata": {},
   "source": [
    "### Emoções gerais dos comentários : Facebook"
   ]
  },
  {
   "cell_type": "code",
   "execution_count": 48,
   "metadata": {
    "ExecuteTime": {
     "end_time": "2018-11-26T00:53:44.173941Z",
     "start_time": "2018-11-26T00:53:44.119979Z"
    }
   },
   "outputs": [],
   "source": [
    "rede_social = 'Facebook'\n",
    "\n",
    "total_comentarios = modelo.select() \\\n",
    "        .where(default_clause) \\\n",
    "        .count()\n",
    "\n",
    "comentarios_positivos = modelo.select() \\\n",
    "        .where(reduce(operator.and_, default_clause + positivo_clause)) \\\n",
    "        .order_by(modelo.timestamp)\n",
    "\n",
    "comentarios_negativos = modelo.select() \\\n",
    "        .where(reduce(operator.and_, default_clause + negativo_clause)) \\\n",
    "        .order_by(modelo.timestamp)\n",
    "\n",
    "comentarios_neutros = modelo.select() \\\n",
    "        .where(reduce(operator.and_, default_clause + neutro_clause)) \\\n",
    "        .order_by(modelo.timestamp)\n",
    "\n",
    "comentarios = modelo.select() \\\n",
    "        .where(reduce(operator.and_, general)) \\\n",
    "        .order_by(modelo.timestamp)"
   ]
  },
  {
   "cell_type": "code",
   "execution_count": 70,
   "metadata": {
    "ExecuteTime": {
     "end_time": "2018-11-26T01:00:03.849777Z",
     "start_time": "2018-11-26T01:00:03.838836Z"
    }
   },
   "outputs": [
    {
     "name": "stdout",
     "output_type": "stream",
     "text": [
      "Estatísticas do Facebook:\n",
      "--------------------\n",
      "Total de Comentários  : 13688\n",
      "Comentários Positivos : 2594\n",
      "Comentários Negativos : 2604\n",
      "Comentários Neutros   : 920\n",
      "\n",
      "Porcentagem de comentários:\n",
      "--------------------\n",
      "Comentários Positivos : 18.95%\n",
      "Comentários Negativos : 19.02%\n",
      "Comentários Negativos : 6.72%\n",
      "Total                 : 44.7%\n"
     ]
    }
   ],
   "source": [
    "alegria, surpresa, tristeza, medo, raiva, desgosto, positivo, negativo, neutro = load_emocoes_comentarios(comentarios_positivos, comentarios_negativos, comentarios_neutros)\n",
    "print_statistics(rede_social, total_comentarios, comentarios_positivos, comentarios_negativos, comentarios_neutros)"
   ]
  },
  {
   "cell_type": "markdown",
   "metadata": {},
   "source": [
    "#### Contagem total de comentários : Valência"
   ]
  },
  {
   "cell_type": "code",
   "execution_count": 51,
   "metadata": {
    "ExecuteTime": {
     "end_time": "2018-11-26T00:53:45.700958Z",
     "start_time": "2018-11-26T00:53:45.398208Z"
    }
   },
   "outputs": [
    {
     "data": {
      "text/html": [
       "<div>\n",
       "<style scoped>\n",
       "    .dataframe tbody tr th:only-of-type {\n",
       "        vertical-align: middle;\n",
       "    }\n",
       "\n",
       "    .dataframe tbody tr th {\n",
       "        vertical-align: top;\n",
       "    }\n",
       "\n",
       "    .dataframe thead th {\n",
       "        text-align: right;\n",
       "    }\n",
       "</style>\n",
       "<table border=\"1\" class=\"dataframe\">\n",
       "  <thead>\n",
       "    <tr style=\"text-align: right;\">\n",
       "      <th></th>\n",
       "      <th>POSITIVO</th>\n",
       "      <th>NEGATIVO</th>\n",
       "      <th>NEUTRO</th>\n",
       "    </tr>\n",
       "  </thead>\n",
       "  <tbody>\n",
       "    <tr>\n",
       "      <th>0</th>\n",
       "      <td>15322</td>\n",
       "      <td>13742</td>\n",
       "      <td>1418</td>\n",
       "    </tr>\n",
       "  </tbody>\n",
       "</table>\n",
       "</div>"
      ],
      "text/plain": [
       "   POSITIVO  NEGATIVO  NEUTRO\n",
       "0     15322     13742    1418"
      ]
     },
     "metadata": {},
     "output_type": "display_data"
    },
    {
     "data": {
      "image/png": "[encoded data removed]",
      "text/plain": [
       "<Figure size 576x288 with 1 Axes>"
      ]
     },
     "metadata": {
      "needs_background": "light"
     },
     "output_type": "display_data"
    }
   ],
   "source": [
    "graph_valence_total(rede_social, cores_val2, valencia, positivo, negativo, neutro)"
   ]
  },
  {
   "cell_type": "markdown",
   "metadata": {},
   "source": [
    "#### Contagem total de comentários : Emoções"
   ]
  },
  {
   "cell_type": "code",
   "execution_count": 52,
   "metadata": {
    "ExecuteTime": {
     "end_time": "2018-11-26T00:53:45.953091Z",
     "start_time": "2018-11-26T00:53:45.703776Z"
    }
   },
   "outputs": [
    {
     "data": {
      "text/html": [
       "<div>\n",
       "<style scoped>\n",
       "    .dataframe tbody tr th:only-of-type {\n",
       "        vertical-align: middle;\n",
       "    }\n",
       "\n",
       "    .dataframe tbody tr th {\n",
       "        vertical-align: top;\n",
       "    }\n",
       "\n",
       "    .dataframe thead th {\n",
       "        text-align: right;\n",
       "    }\n",
       "</style>\n",
       "<table border=\"1\" class=\"dataframe\">\n",
       "  <thead>\n",
       "    <tr style=\"text-align: right;\">\n",
       "      <th></th>\n",
       "      <th>ALEGRIA</th>\n",
       "      <th>SURPRESA</th>\n",
       "      <th>TRISTEZA</th>\n",
       "      <th>MEDO</th>\n",
       "      <th>RAIVA</th>\n",
       "      <th>DESGOSTO</th>\n",
       "      <th>NEUTRO</th>\n",
       "    </tr>\n",
       "  </thead>\n",
       "  <tbody>\n",
       "    <tr>\n",
       "      <th>0</th>\n",
       "      <td>15203</td>\n",
       "      <td>119</td>\n",
       "      <td>12785</td>\n",
       "      <td>13</td>\n",
       "      <td>62</td>\n",
       "      <td>882</td>\n",
       "      <td>1418</td>\n",
       "    </tr>\n",
       "  </tbody>\n",
       "</table>\n",
       "</div>"
      ],
      "text/plain": [
       "   ALEGRIA  SURPRESA  TRISTEZA  MEDO  RAIVA  DESGOSTO  NEUTRO\n",
       "0    15203       119     12785    13     62       882    1418"
      ]
     },
     "metadata": {},
     "output_type": "display_data"
    },
    {
     "data": {
      "image/png": "[encoded data removed]",
      "text/plain": [
       "<Figure size 576x288 with 1 Axes>"
      ]
     },
     "metadata": {
      "needs_background": "light"
     },
     "output_type": "display_data"
    }
   ],
   "source": [
    "graph_sentimentos_total(rede_social, cores, sentimentos, alegria, surpresa, tristeza, medo, raiva, desgosto, neutro)"
   ]
  },
  {
   "cell_type": "markdown",
   "metadata": {},
   "source": [
    "#### Comentários por data : Valência"
   ]
  },
  {
   "cell_type": "code",
   "execution_count": 53,
   "metadata": {
    "ExecuteTime": {
     "end_time": "2018-11-26T00:53:49.680972Z",
     "start_time": "2018-11-26T00:53:46.042426Z"
    },
    "scrolled": false
   },
   "outputs": [
    {
     "data": {
      "text/html": [
       "<div>\n",
       "<style scoped>\n",
       "    .dataframe tbody tr th:only-of-type {\n",
       "        vertical-align: middle;\n",
       "    }\n",
       "\n",
       "    .dataframe tbody tr th {\n",
       "        vertical-align: top;\n",
       "    }\n",
       "\n",
       "    .dataframe thead th {\n",
       "        text-align: right;\n",
       "    }\n",
       "</style>\n",
       "<table border=\"1\" class=\"dataframe\">\n",
       "  <thead>\n",
       "    <tr style=\"text-align: right;\">\n",
       "      <th></th>\n",
       "      <th>16/08/2018</th>\n",
       "      <th>17/08/2018</th>\n",
       "      <th>18/08/2018</th>\n",
       "      <th>19/08/2018</th>\n",
       "      <th>20/08/2018</th>\n",
       "      <th>21/08/2018</th>\n",
       "      <th>22/08/2018</th>\n",
       "      <th>23/08/2018</th>\n",
       "    </tr>\n",
       "  </thead>\n",
       "  <tbody>\n",
       "    <tr>\n",
       "      <th>NEGATIVO</th>\n",
       "      <td>22</td>\n",
       "      <td>3</td>\n",
       "      <td>1</td>\n",
       "      <td>6</td>\n",
       "      <td>7</td>\n",
       "      <td>11</td>\n",
       "      <td>89</td>\n",
       "      <td>272</td>\n",
       "    </tr>\n",
       "    <tr>\n",
       "      <th>NEUTRO</th>\n",
       "      <td>1</td>\n",
       "      <td>0</td>\n",
       "      <td>1</td>\n",
       "      <td>0</td>\n",
       "      <td>0</td>\n",
       "      <td>1</td>\n",
       "      <td>6</td>\n",
       "      <td>13</td>\n",
       "    </tr>\n",
       "    <tr>\n",
       "      <th>POSITIVO</th>\n",
       "      <td>24</td>\n",
       "      <td>9</td>\n",
       "      <td>2</td>\n",
       "      <td>4</td>\n",
       "      <td>4</td>\n",
       "      <td>11</td>\n",
       "      <td>175</td>\n",
       "      <td>411</td>\n",
       "    </tr>\n",
       "  </tbody>\n",
       "</table>\n",
       "</div>"
      ],
      "text/plain": [
       "          16/08/2018  17/08/2018  18/08/2018  19/08/2018  20/08/2018  \\\n",
       "NEGATIVO          22           3           1           6           7   \n",
       "NEUTRO             1           0           1           0           0   \n",
       "POSITIVO          24           9           2           4           4   \n",
       "\n",
       "          21/08/2018  22/08/2018  23/08/2018  \n",
       "NEGATIVO          11          89         272  \n",
       "NEUTRO             1           6          13  \n",
       "POSITIVO          11         175         411  "
      ]
     },
     "metadata": {},
     "output_type": "display_data"
    },
    {
     "data": {
      "image/png": "[encoded data removed]",
      "text/plain": [
       "<Figure size 1224x432 with 1 Axes>"
      ]
     },
     "metadata": {
      "needs_background": "light"
     },
     "output_type": "display_data"
    }
   ],
   "source": [
    "graph_valencia_por_data(rede_social, cores_val, valencia_dict, comentarios)"
   ]
  },
  {
   "cell_type": "markdown",
   "metadata": {},
   "source": [
    "#### Comentários por data : Emoções"
   ]
  },
  {
   "cell_type": "code",
   "execution_count": 54,
   "metadata": {
    "ExecuteTime": {
     "end_time": "2018-11-26T00:53:52.684266Z",
     "start_time": "2018-11-26T00:53:49.684005Z"
    }
   },
   "outputs": [
    {
     "data": {
      "text/html": [
       "<div>\n",
       "<style scoped>\n",
       "    .dataframe tbody tr th:only-of-type {\n",
       "        vertical-align: middle;\n",
       "    }\n",
       "\n",
       "    .dataframe tbody tr th {\n",
       "        vertical-align: top;\n",
       "    }\n",
       "\n",
       "    .dataframe thead th {\n",
       "        text-align: right;\n",
       "    }\n",
       "</style>\n",
       "<table border=\"1\" class=\"dataframe\">\n",
       "  <thead>\n",
       "    <tr style=\"text-align: right;\">\n",
       "      <th></th>\n",
       "      <th>16/08/2018</th>\n",
       "      <th>17/08/2018</th>\n",
       "      <th>18/08/2018</th>\n",
       "      <th>19/08/2018</th>\n",
       "      <th>20/08/2018</th>\n",
       "      <th>21/08/2018</th>\n",
       "      <th>22/08/2018</th>\n",
       "      <th>23/08/2018</th>\n",
       "    </tr>\n",
       "  </thead>\n",
       "  <tbody>\n",
       "    <tr>\n",
       "      <th>ALEGRIA</th>\n",
       "      <td>24</td>\n",
       "      <td>9</td>\n",
       "      <td>2</td>\n",
       "      <td>4</td>\n",
       "      <td>4</td>\n",
       "      <td>11</td>\n",
       "      <td>174</td>\n",
       "      <td>409</td>\n",
       "    </tr>\n",
       "    <tr>\n",
       "      <th>DESGOSTO</th>\n",
       "      <td>0</td>\n",
       "      <td>0</td>\n",
       "      <td>0</td>\n",
       "      <td>0</td>\n",
       "      <td>1</td>\n",
       "      <td>1</td>\n",
       "      <td>6</td>\n",
       "      <td>22</td>\n",
       "    </tr>\n",
       "    <tr>\n",
       "      <th>MEDO</th>\n",
       "      <td>0</td>\n",
       "      <td>0</td>\n",
       "      <td>0</td>\n",
       "      <td>0</td>\n",
       "      <td>0</td>\n",
       "      <td>0</td>\n",
       "      <td>0</td>\n",
       "      <td>0</td>\n",
       "    </tr>\n",
       "    <tr>\n",
       "      <th>NEUTRO</th>\n",
       "      <td>1</td>\n",
       "      <td>0</td>\n",
       "      <td>1</td>\n",
       "      <td>0</td>\n",
       "      <td>0</td>\n",
       "      <td>1</td>\n",
       "      <td>6</td>\n",
       "      <td>13</td>\n",
       "    </tr>\n",
       "    <tr>\n",
       "      <th>RAIVA</th>\n",
       "      <td>1</td>\n",
       "      <td>0</td>\n",
       "      <td>0</td>\n",
       "      <td>0</td>\n",
       "      <td>0</td>\n",
       "      <td>0</td>\n",
       "      <td>0</td>\n",
       "      <td>2</td>\n",
       "    </tr>\n",
       "    <tr>\n",
       "      <th>SURPRESA</th>\n",
       "      <td>0</td>\n",
       "      <td>0</td>\n",
       "      <td>0</td>\n",
       "      <td>0</td>\n",
       "      <td>0</td>\n",
       "      <td>0</td>\n",
       "      <td>1</td>\n",
       "      <td>2</td>\n",
       "    </tr>\n",
       "    <tr>\n",
       "      <th>TRISTEZA</th>\n",
       "      <td>21</td>\n",
       "      <td>3</td>\n",
       "      <td>1</td>\n",
       "      <td>6</td>\n",
       "      <td>6</td>\n",
       "      <td>10</td>\n",
       "      <td>83</td>\n",
       "      <td>248</td>\n",
       "    </tr>\n",
       "  </tbody>\n",
       "</table>\n",
       "</div>"
      ],
      "text/plain": [
       "          16/08/2018  17/08/2018  18/08/2018  19/08/2018  20/08/2018  \\\n",
       "ALEGRIA           24           9           2           4           4   \n",
       "DESGOSTO           0           0           0           0           1   \n",
       "MEDO               0           0           0           0           0   \n",
       "NEUTRO             1           0           1           0           0   \n",
       "RAIVA              1           0           0           0           0   \n",
       "SURPRESA           0           0           0           0           0   \n",
       "TRISTEZA          21           3           1           6           6   \n",
       "\n",
       "          21/08/2018  22/08/2018  23/08/2018  \n",
       "ALEGRIA           11         174         409  \n",
       "DESGOSTO           1           6          22  \n",
       "MEDO               0           0           0  \n",
       "NEUTRO             1           6          13  \n",
       "RAIVA              0           0           2  \n",
       "SURPRESA           0           1           2  \n",
       "TRISTEZA          10          83         248  "
      ]
     },
     "metadata": {},
     "output_type": "display_data"
    },
    {
     "data": {
      "image/png": "[encoded data removed]",
      "text/plain": [
       "<Figure size 1224x432 with 1 Axes>"
      ]
     },
     "metadata": {
      "needs_background": "light"
     },
     "output_type": "display_data"
    }
   ],
   "source": [
    "graph_emocoes_por_data(rede_social, cores2, sentimentos_dict, comentarios)"
   ]
  },
  {
   "cell_type": "markdown",
   "metadata": {},
   "source": [
    "### Emoções por candidato : Facebook"
   ]
  },
  {
   "cell_type": "markdown",
   "metadata": {},
   "source": [
    "#### Jair Bolsonaro"
   ]
  },
  {
   "cell_type": "code",
   "execution_count": 55,
   "metadata": {
    "ExecuteTime": {
     "end_time": "2018-11-26T00:53:52.729940Z",
     "start_time": "2018-11-26T00:53:52.686190Z"
    }
   },
   "outputs": [],
   "source": [
    "candidato_c = [modelo.candidate == 'Jair Bolsonaro']\n",
    "\n",
    "total_comentarios = modelo.select() \\\n",
    "        .where(reduce(operator.and_, default_clause + candidato_c)) \\\n",
    "        .count()\n",
    "\n",
    "comentarios_positivos = modelo.select() \\\n",
    "        .where(reduce(operator.and_, default_clause + positivo_clause + candidato_c)) \\\n",
    "        .order_by(modelo.timestamp)\n",
    "\n",
    "comentarios_negativos = modelo.select() \\\n",
    "        .where(reduce(operator.and_, default_clause + negativo_clause + candidato_c)) \\\n",
    "        .order_by(modelo.timestamp)\n",
    "\n",
    "comentarios_neutros = modelo.select() \\\n",
    "        .where(reduce(operator.and_, default_clause + neutro_clause + candidato_c)) \\\n",
    "        .order_by(modelo.timestamp)\n",
    "\n",
    "comentarios = modelo.select() \\\n",
    "        .where(reduce(operator.and_, general + candidato_c)) \\\n",
    "        .order_by(modelo.timestamp)"
   ]
  },
  {
   "cell_type": "code",
   "execution_count": 63,
   "metadata": {
    "ExecuteTime": {
     "end_time": "2018-11-26T00:56:48.972376Z",
     "start_time": "2018-11-26T00:56:48.770426Z"
    }
   },
   "outputs": [
    {
     "name": "stdout",
     "output_type": "stream",
     "text": [
      "Estatísticas do Facebook:\n",
      "--------------------\n",
      "Total de Comentários  : 13688\n",
      "Comentários Positivos : 2594\n",
      "Comentários Negativos : 2604\n",
      "Comentários Neutros   : 920\n",
      "\n",
      "Porcentagem de comentários:\n",
      "--------------------\n",
      "Comentários Positivos : 18.95%\n",
      "Comentários Negativos : 19.02%\n",
      "Comentários Negativos : 6.72%\n",
      "Total                 : 44.7%\n"
     ]
    }
   ],
   "source": [
    "alegria, surpresa, tristeza, medo, raiva, desgosto, positivo, negativo, neutro = load_emocoes_comentarios(comentarios_positivos, comentarios_negativos, comentarios_neutros)\n",
    "print_statistics(rede_social, total_comentarios, comentarios_positivos, comentarios_negativos, comentarios_neutros)"
   ]
  },
  {
   "cell_type": "markdown",
   "metadata": {},
   "source": [
    "##### Contagem total de comentários : Valência"
   ]
  },
  {
   "cell_type": "code",
   "execution_count": 58,
   "metadata": {
    "ExecuteTime": {
     "end_time": "2018-11-26T00:53:53.612610Z",
     "start_time": "2018-11-26T00:53:53.133913Z"
    }
   },
   "outputs": [
    {
     "data": {
      "text/html": [
       "<div>\n",
       "<style scoped>\n",
       "    .dataframe tbody tr th:only-of-type {\n",
       "        vertical-align: middle;\n",
       "    }\n",
       "\n",
       "    .dataframe tbody tr th {\n",
       "        vertical-align: top;\n",
       "    }\n",
       "\n",
       "    .dataframe thead th {\n",
       "        text-align: right;\n",
       "    }\n",
       "</style>\n",
       "<table border=\"1\" class=\"dataframe\">\n",
       "  <thead>\n",
       "    <tr style=\"text-align: right;\">\n",
       "      <th></th>\n",
       "      <th>POSITIVO</th>\n",
       "      <th>NEGATIVO</th>\n",
       "      <th>NEUTRO</th>\n",
       "    </tr>\n",
       "  </thead>\n",
       "  <tbody>\n",
       "    <tr>\n",
       "      <th>0</th>\n",
       "      <td>4175</td>\n",
       "      <td>3341</td>\n",
       "      <td>44</td>\n",
       "    </tr>\n",
       "  </tbody>\n",
       "</table>\n",
       "</div>"
      ],
      "text/plain": [
       "   POSITIVO  NEGATIVO  NEUTRO\n",
       "0      4175      3341      44"
      ]
     },
     "metadata": {},
     "output_type": "display_data"
    },
    {
     "data": {
      "image/png": "[encoded data removed]",
      "text/plain": [
       "<Figure size 576x288 with 1 Axes>"
      ]
     },
     "metadata": {
      "needs_background": "light"
     },
     "output_type": "display_data"
    }
   ],
   "source": [
    "graph_valence_total(rede_social, cores_val2, valencia, positivo, negativo, neutro)"
   ]
  },
  {
   "cell_type": "markdown",
   "metadata": {},
   "source": [
    "##### Contagem total de comentários : Emoções"
   ]
  },
  {
   "cell_type": "code",
   "execution_count": 59,
   "metadata": {
    "ExecuteTime": {
     "end_time": "2018-11-26T00:53:53.841429Z",
     "start_time": "2018-11-26T00:53:53.614630Z"
    }
   },
   "outputs": [
    {
     "data": {
      "text/html": [
       "<div>\n",
       "<style scoped>\n",
       "    .dataframe tbody tr th:only-of-type {\n",
       "        vertical-align: middle;\n",
       "    }\n",
       "\n",
       "    .dataframe tbody tr th {\n",
       "        vertical-align: top;\n",
       "    }\n",
       "\n",
       "    .dataframe thead th {\n",
       "        text-align: right;\n",
       "    }\n",
       "</style>\n",
       "<table border=\"1\" class=\"dataframe\">\n",
       "  <thead>\n",
       "    <tr style=\"text-align: right;\">\n",
       "      <th></th>\n",
       "      <th>ALEGRIA</th>\n",
       "      <th>SURPRESA</th>\n",
       "      <th>TRISTEZA</th>\n",
       "      <th>MEDO</th>\n",
       "      <th>RAIVA</th>\n",
       "      <th>DESGOSTO</th>\n",
       "      <th>NEUTRO</th>\n",
       "    </tr>\n",
       "  </thead>\n",
       "  <tbody>\n",
       "    <tr>\n",
       "      <th>0</th>\n",
       "      <td>4156</td>\n",
       "      <td>19</td>\n",
       "      <td>3120</td>\n",
       "      <td>4</td>\n",
       "      <td>11</td>\n",
       "      <td>206</td>\n",
       "      <td>44</td>\n",
       "    </tr>\n",
       "  </tbody>\n",
       "</table>\n",
       "</div>"
      ],
      "text/plain": [
       "   ALEGRIA  SURPRESA  TRISTEZA  MEDO  RAIVA  DESGOSTO  NEUTRO\n",
       "0     4156        19      3120     4     11       206      44"
      ]
     },
     "metadata": {},
     "output_type": "display_data"
    },
    {
     "data": {
      "image/png": "[encoded data removed]",
      "text/plain": [
       "<Figure size 576x288 with 1 Axes>"
      ]
     },
     "metadata": {
      "needs_background": "light"
     },
     "output_type": "display_data"
    }
   ],
   "source": [
    "graph_sentimentos_total(rede_social, cores, sentimentos, alegria, surpresa, tristeza, medo, raiva, desgosto, neutro)"
   ]
  },
  {
   "cell_type": "markdown",
   "metadata": {},
   "source": [
    "##### Comentários por data : Valência"
   ]
  },
  {
   "cell_type": "code",
   "execution_count": 60,
   "metadata": {
    "ExecuteTime": {
     "end_time": "2018-11-26T00:53:55.108586Z",
     "start_time": "2018-11-26T00:53:53.846981Z"
    },
    "scrolled": false
   },
   "outputs": [
    {
     "data": {
      "text/html": [
       "<div>\n",
       "<style scoped>\n",
       "    .dataframe tbody tr th:only-of-type {\n",
       "        vertical-align: middle;\n",
       "    }\n",
       "\n",
       "    .dataframe tbody tr th {\n",
       "        vertical-align: top;\n",
       "    }\n",
       "\n",
       "    .dataframe thead th {\n",
       "        text-align: right;\n",
       "    }\n",
       "</style>\n",
       "<table border=\"1\" class=\"dataframe\">\n",
       "  <thead>\n",
       "    <tr style=\"text-align: right;\">\n",
       "      <th></th>\n",
       "      <th>22/08/2018</th>\n",
       "      <th>23/08/2018</th>\n",
       "      <th>24/08/2018</th>\n",
       "      <th>25/08/2018</th>\n",
       "      <th>26/08/2018</th>\n",
       "      <th>27/08/2018</th>\n",
       "      <th>28/08/2018</th>\n",
       "      <th>30/08/2018</th>\n",
       "    </tr>\n",
       "  </thead>\n",
       "  <tbody>\n",
       "    <tr>\n",
       "      <th>NEGATIVO</th>\n",
       "      <td>0</td>\n",
       "      <td>72</td>\n",
       "      <td>98</td>\n",
       "      <td>171</td>\n",
       "      <td>20</td>\n",
       "      <td>49</td>\n",
       "      <td>343</td>\n",
       "      <td>57</td>\n",
       "    </tr>\n",
       "    <tr>\n",
       "      <th>NEUTRO</th>\n",
       "      <td>0</td>\n",
       "      <td>1</td>\n",
       "      <td>0</td>\n",
       "      <td>0</td>\n",
       "      <td>1</td>\n",
       "      <td>0</td>\n",
       "      <td>6</td>\n",
       "      <td>0</td>\n",
       "    </tr>\n",
       "    <tr>\n",
       "      <th>POSITIVO</th>\n",
       "      <td>1</td>\n",
       "      <td>61</td>\n",
       "      <td>151</td>\n",
       "      <td>193</td>\n",
       "      <td>15</td>\n",
       "      <td>74</td>\n",
       "      <td>470</td>\n",
       "      <td>57</td>\n",
       "    </tr>\n",
       "  </tbody>\n",
       "</table>\n",
       "</div>"
      ],
      "text/plain": [
       "          22/08/2018  23/08/2018  24/08/2018  25/08/2018  26/08/2018  \\\n",
       "NEGATIVO           0          72          98         171          20   \n",
       "NEUTRO             0           1           0           0           1   \n",
       "POSITIVO           1          61         151         193          15   \n",
       "\n",
       "          27/08/2018  28/08/2018  30/08/2018  \n",
       "NEGATIVO          49         343          57  \n",
       "NEUTRO             0           6           0  \n",
       "POSITIVO          74         470          57  "
      ]
     },
     "metadata": {},
     "output_type": "display_data"
    },
    {
     "data": {
      "image/png": "[encoded data removed]",
      "text/plain": [
       "<Figure size 1224x432 with 1 Axes>"
      ]
     },
     "metadata": {
      "needs_background": "light"
     },
     "output_type": "display_data"
    }
   ],
   "source": [
    "graph_valencia_por_data(rede_social, cores_val, valencia_dict, comentarios)"
   ]
  },
  {
   "cell_type": "markdown",
   "metadata": {},
   "source": [
    "##### Comentários por data : Emoções"
   ]
  },
  {
   "cell_type": "code",
   "execution_count": 61,
   "metadata": {
    "ExecuteTime": {
     "end_time": "2018-11-26T00:53:56.543158Z",
     "start_time": "2018-11-26T00:53:55.111186Z"
    },
    "scrolled": false
   },
   "outputs": [
    {
     "data": {
      "text/html": [
       "<div>\n",
       "<style scoped>\n",
       "    .dataframe tbody tr th:only-of-type {\n",
       "        vertical-align: middle;\n",
       "    }\n",
       "\n",
       "    .dataframe tbody tr th {\n",
       "        vertical-align: top;\n",
       "    }\n",
       "\n",
       "    .dataframe thead th {\n",
       "        text-align: right;\n",
       "    }\n",
       "</style>\n",
       "<table border=\"1\" class=\"dataframe\">\n",
       "  <thead>\n",
       "    <tr style=\"text-align: right;\">\n",
       "      <th></th>\n",
       "      <th>22/08/2018</th>\n",
       "      <th>23/08/2018</th>\n",
       "      <th>24/08/2018</th>\n",
       "      <th>25/08/2018</th>\n",
       "      <th>26/08/2018</th>\n",
       "      <th>27/08/2018</th>\n",
       "      <th>28/08/2018</th>\n",
       "      <th>30/08/2018</th>\n",
       "    </tr>\n",
       "  </thead>\n",
       "  <tbody>\n",
       "    <tr>\n",
       "      <th>ALEGRIA</th>\n",
       "      <td>1</td>\n",
       "      <td>60</td>\n",
       "      <td>151</td>\n",
       "      <td>188</td>\n",
       "      <td>15</td>\n",
       "      <td>74</td>\n",
       "      <td>467</td>\n",
       "      <td>57</td>\n",
       "    </tr>\n",
       "    <tr>\n",
       "      <th>DESGOSTO</th>\n",
       "      <td>0</td>\n",
       "      <td>5</td>\n",
       "      <td>3</td>\n",
       "      <td>12</td>\n",
       "      <td>0</td>\n",
       "      <td>1</td>\n",
       "      <td>23</td>\n",
       "      <td>2</td>\n",
       "    </tr>\n",
       "    <tr>\n",
       "      <th>MEDO</th>\n",
       "      <td>0</td>\n",
       "      <td>0</td>\n",
       "      <td>1</td>\n",
       "      <td>0</td>\n",
       "      <td>0</td>\n",
       "      <td>0</td>\n",
       "      <td>0</td>\n",
       "      <td>0</td>\n",
       "    </tr>\n",
       "    <tr>\n",
       "      <th>NEUTRO</th>\n",
       "      <td>0</td>\n",
       "      <td>1</td>\n",
       "      <td>0</td>\n",
       "      <td>0</td>\n",
       "      <td>1</td>\n",
       "      <td>0</td>\n",
       "      <td>6</td>\n",
       "      <td>0</td>\n",
       "    </tr>\n",
       "    <tr>\n",
       "      <th>RAIVA</th>\n",
       "      <td>0</td>\n",
       "      <td>0</td>\n",
       "      <td>0</td>\n",
       "      <td>0</td>\n",
       "      <td>0</td>\n",
       "      <td>0</td>\n",
       "      <td>3</td>\n",
       "      <td>0</td>\n",
       "    </tr>\n",
       "    <tr>\n",
       "      <th>SURPRESA</th>\n",
       "      <td>0</td>\n",
       "      <td>1</td>\n",
       "      <td>0</td>\n",
       "      <td>5</td>\n",
       "      <td>0</td>\n",
       "      <td>0</td>\n",
       "      <td>3</td>\n",
       "      <td>0</td>\n",
       "    </tr>\n",
       "    <tr>\n",
       "      <th>TRISTEZA</th>\n",
       "      <td>0</td>\n",
       "      <td>67</td>\n",
       "      <td>94</td>\n",
       "      <td>159</td>\n",
       "      <td>20</td>\n",
       "      <td>48</td>\n",
       "      <td>317</td>\n",
       "      <td>55</td>\n",
       "    </tr>\n",
       "  </tbody>\n",
       "</table>\n",
       "</div>"
      ],
      "text/plain": [
       "          22/08/2018  23/08/2018  24/08/2018  25/08/2018  26/08/2018  \\\n",
       "ALEGRIA            1          60         151         188          15   \n",
       "DESGOSTO           0           5           3          12           0   \n",
       "MEDO               0           0           1           0           0   \n",
       "NEUTRO             0           1           0           0           1   \n",
       "RAIVA              0           0           0           0           0   \n",
       "SURPRESA           0           1           0           5           0   \n",
       "TRISTEZA           0          67          94         159          20   \n",
       "\n",
       "          27/08/2018  28/08/2018  30/08/2018  \n",
       "ALEGRIA           74         467          57  \n",
       "DESGOSTO           1          23           2  \n",
       "MEDO               0           0           0  \n",
       "NEUTRO             0           6           0  \n",
       "RAIVA              0           3           0  \n",
       "SURPRESA           0           3           0  \n",
       "TRISTEZA          48         317          55  "
      ]
     },
     "metadata": {},
     "output_type": "display_data"
    },
    {
     "data": {
      "image/png": "[encoded data removed]",
      "text/plain": [
       "<Figure size 1224x432 with 1 Axes>"
      ]
     },
     "metadata": {
      "needs_background": "light"
     },
     "output_type": "display_data"
    }
   ],
   "source": [
    "graph_emocoes_por_data(rede_social, cores2, sentimentos_dict, comentarios)"
   ]
  },
  {
   "cell_type": "markdown",
   "metadata": {},
   "source": [
    "#### Fernando Haddad"
   ]
  },
  {
   "cell_type": "code",
   "execution_count": 62,
   "metadata": {
    "ExecuteTime": {
     "end_time": "2018-11-26T00:56:37.634671Z",
     "start_time": "2018-11-26T00:56:37.437486Z"
    }
   },
   "outputs": [],
   "source": [
    "candidato_c = [modelo.candidate == 'Fernando Haddad']\n",
    "\n",
    "total_comentarios = modelo.select() \\\n",
    "        .where(reduce(operator.and_, default_clause + candidato_c)) \\\n",
    "        .count()\n",
    "\n",
    "comentarios_positivos = modelo.select() \\\n",
    "        .where(reduce(operator.and_, default_clause + positivo_clause + candidato_c)) \\\n",
    "        .order_by(modelo.timestamp)\n",
    "\n",
    "comentarios_negativos = modelo.select() \\\n",
    "        .where(reduce(operator.and_, default_clause + negativo_clause + candidato_c)) \\\n",
    "        .order_by(modelo.timestamp)\n",
    "\n",
    "comentarios_neutros = modelo.select() \\\n",
    "        .where(reduce(operator.and_, default_clause + neutro_clause + candidato_c)) \\\n",
    "        .order_by(modelo.timestamp)\n",
    "\n",
    "comentarios = modelo.select() \\\n",
    "        .where(reduce(operator.and_, general + candidato_c)) \\\n",
    "        .order_by(modelo.timestamp)"
   ]
  },
  {
   "cell_type": "code",
   "execution_count": 64,
   "metadata": {
    "ExecuteTime": {
     "end_time": "2018-11-26T00:57:03.149755Z",
     "start_time": "2018-11-26T00:57:03.132923Z"
    }
   },
   "outputs": [
    {
     "name": "stdout",
     "output_type": "stream",
     "text": [
      "Estatísticas do Facebook:\n",
      "--------------------\n",
      "Total de Comentários  : 13688\n",
      "Comentários Positivos : 2594\n",
      "Comentários Negativos : 2604\n",
      "Comentários Neutros   : 920\n",
      "\n",
      "Porcentagem de comentários:\n",
      "--------------------\n",
      "Comentários Positivos : 18.95%\n",
      "Comentários Negativos : 19.02%\n",
      "Comentários Negativos : 6.72%\n",
      "Total                 : 44.7%\n"
     ]
    }
   ],
   "source": [
    "alegria, surpresa, tristeza, medo, raiva, desgosto, positivo, negativo, neutro = load_emocoes_comentarios(comentarios_positivos, comentarios_negativos, comentarios_neutros)\n",
    "print_statistics(rede_social, total_comentarios, comentarios_positivos, comentarios_negativos, comentarios_neutros)"
   ]
  },
  {
   "cell_type": "markdown",
   "metadata": {},
   "source": [
    "##### Contagem total de comentários : Valência"
   ]
  },
  {
   "cell_type": "code",
   "execution_count": 66,
   "metadata": {
    "ExecuteTime": {
     "end_time": "2018-11-26T00:57:51.308501Z",
     "start_time": "2018-11-26T00:57:51.120096Z"
    }
   },
   "outputs": [
    {
     "data": {
      "text/html": [
       "<div>\n",
       "<style scoped>\n",
       "    .dataframe tbody tr th:only-of-type {\n",
       "        vertical-align: middle;\n",
       "    }\n",
       "\n",
       "    .dataframe tbody tr th {\n",
       "        vertical-align: top;\n",
       "    }\n",
       "\n",
       "    .dataframe thead th {\n",
       "        text-align: right;\n",
       "    }\n",
       "</style>\n",
       "<table border=\"1\" class=\"dataframe\">\n",
       "  <thead>\n",
       "    <tr style=\"text-align: right;\">\n",
       "      <th></th>\n",
       "      <th>POSITIVO</th>\n",
       "      <th>NEGATIVO</th>\n",
       "      <th>NEUTRO</th>\n",
       "    </tr>\n",
       "  </thead>\n",
       "  <tbody>\n",
       "    <tr>\n",
       "      <th>0</th>\n",
       "      <td>2594</td>\n",
       "      <td>2604</td>\n",
       "      <td>920</td>\n",
       "    </tr>\n",
       "  </tbody>\n",
       "</table>\n",
       "</div>"
      ],
      "text/plain": [
       "   POSITIVO  NEGATIVO  NEUTRO\n",
       "0      2594      2604     920"
      ]
     },
     "metadata": {},
     "output_type": "display_data"
    },
    {
     "data": {
      "image/png": "[encoded data removed]",
      "text/plain": [
       "<Figure size 576x288 with 1 Axes>"
      ]
     },
     "metadata": {
      "needs_background": "light"
     },
     "output_type": "display_data"
    }
   ],
   "source": [
    "graph_valence_total(rede_social, cores_val2, valencia, positivo, negativo, neutro)"
   ]
  },
  {
   "cell_type": "markdown",
   "metadata": {},
   "source": [
    "##### Contagem total de comentários : Emoções"
   ]
  },
  {
   "cell_type": "code",
   "execution_count": 67,
   "metadata": {
    "ExecuteTime": {
     "end_time": "2018-11-26T00:58:03.212485Z",
     "start_time": "2018-11-26T00:58:03.003141Z"
    }
   },
   "outputs": [
    {
     "data": {
      "text/html": [
       "<div>\n",
       "<style scoped>\n",
       "    .dataframe tbody tr th:only-of-type {\n",
       "        vertical-align: middle;\n",
       "    }\n",
       "\n",
       "    .dataframe tbody tr th {\n",
       "        vertical-align: top;\n",
       "    }\n",
       "\n",
       "    .dataframe thead th {\n",
       "        text-align: right;\n",
       "    }\n",
       "</style>\n",
       "<table border=\"1\" class=\"dataframe\">\n",
       "  <thead>\n",
       "    <tr style=\"text-align: right;\">\n",
       "      <th></th>\n",
       "      <th>ALEGRIA</th>\n",
       "      <th>SURPRESA</th>\n",
       "      <th>TRISTEZA</th>\n",
       "      <th>MEDO</th>\n",
       "      <th>RAIVA</th>\n",
       "      <th>DESGOSTO</th>\n",
       "      <th>NEUTRO</th>\n",
       "    </tr>\n",
       "  </thead>\n",
       "  <tbody>\n",
       "    <tr>\n",
       "      <th>0</th>\n",
       "      <td>2561</td>\n",
       "      <td>33</td>\n",
       "      <td>2446</td>\n",
       "      <td>1</td>\n",
       "      <td>9</td>\n",
       "      <td>148</td>\n",
       "      <td>920</td>\n",
       "    </tr>\n",
       "  </tbody>\n",
       "</table>\n",
       "</div>"
      ],
      "text/plain": [
       "   ALEGRIA  SURPRESA  TRISTEZA  MEDO  RAIVA  DESGOSTO  NEUTRO\n",
       "0     2561        33      2446     1      9       148     920"
      ]
     },
     "metadata": {},
     "output_type": "display_data"
    },
    {
     "data": {
      "image/png": "[encoded data removed]",
      "text/plain": [
       "<Figure size 576x288 with 1 Axes>"
      ]
     },
     "metadata": {
      "needs_background": "light"
     },
     "output_type": "display_data"
    }
   ],
   "source": [
    "graph_sentimentos_total(rede_social, cores, sentimentos, alegria, surpresa, tristeza, medo, raiva, desgosto, neutro)"
   ]
  },
  {
   "cell_type": "markdown",
   "metadata": {},
   "source": [
    "##### Comentários por data : Valência"
   ]
  },
  {
   "cell_type": "code",
   "execution_count": 68,
   "metadata": {
    "ExecuteTime": {
     "end_time": "2018-11-26T00:58:37.470710Z",
     "start_time": "2018-11-26T00:58:36.440404Z"
    }
   },
   "outputs": [
    {
     "data": {
      "text/html": [
       "<div>\n",
       "<style scoped>\n",
       "    .dataframe tbody tr th:only-of-type {\n",
       "        vertical-align: middle;\n",
       "    }\n",
       "\n",
       "    .dataframe tbody tr th {\n",
       "        vertical-align: top;\n",
       "    }\n",
       "\n",
       "    .dataframe thead th {\n",
       "        text-align: right;\n",
       "    }\n",
       "</style>\n",
       "<table border=\"1\" class=\"dataframe\">\n",
       "  <thead>\n",
       "    <tr style=\"text-align: right;\">\n",
       "      <th></th>\n",
       "      <th>23/08/2018</th>\n",
       "      <th>24/08/2018</th>\n",
       "      <th>25/08/2018</th>\n",
       "      <th>26/08/2018</th>\n",
       "      <th>27/08/2018</th>\n",
       "      <th>28/08/2018</th>\n",
       "      <th>31/08/2018</th>\n",
       "      <th>01/09/2018</th>\n",
       "    </tr>\n",
       "  </thead>\n",
       "  <tbody>\n",
       "    <tr>\n",
       "      <th>NEGATIVO</th>\n",
       "      <td>2</td>\n",
       "      <td>95</td>\n",
       "      <td>118</td>\n",
       "      <td>13</td>\n",
       "      <td>29</td>\n",
       "      <td>191</td>\n",
       "      <td>37</td>\n",
       "      <td>172</td>\n",
       "    </tr>\n",
       "    <tr>\n",
       "      <th>NEUTRO</th>\n",
       "      <td>1</td>\n",
       "      <td>23</td>\n",
       "      <td>50</td>\n",
       "      <td>1</td>\n",
       "      <td>5</td>\n",
       "      <td>79</td>\n",
       "      <td>16</td>\n",
       "      <td>147</td>\n",
       "    </tr>\n",
       "    <tr>\n",
       "      <th>POSITIVO</th>\n",
       "      <td>1</td>\n",
       "      <td>107</td>\n",
       "      <td>121</td>\n",
       "      <td>13</td>\n",
       "      <td>43</td>\n",
       "      <td>158</td>\n",
       "      <td>41</td>\n",
       "      <td>113</td>\n",
       "    </tr>\n",
       "  </tbody>\n",
       "</table>\n",
       "</div>"
      ],
      "text/plain": [
       "          23/08/2018  24/08/2018  25/08/2018  26/08/2018  27/08/2018  \\\n",
       "NEGATIVO           2          95         118          13          29   \n",
       "NEUTRO             1          23          50           1           5   \n",
       "POSITIVO           1         107         121          13          43   \n",
       "\n",
       "          28/08/2018  31/08/2018  01/09/2018  \n",
       "NEGATIVO         191          37         172  \n",
       "NEUTRO            79          16         147  \n",
       "POSITIVO         158          41         113  "
      ]
     },
     "metadata": {},
     "output_type": "display_data"
    },
    {
     "data": {
      "image/png": "[encoded data removed]",
      "text/plain": [
       "<Figure size 1224x432 with 1 Axes>"
      ]
     },
     "metadata": {
      "needs_background": "light"
     },
     "output_type": "display_data"
    }
   ],
   "source": [
    "graph_valencia_por_data(rede_social, cores_val, valencia_dict, comentarios)"
   ]
  },
  {
   "cell_type": "markdown",
   "metadata": {},
   "source": [
    "##### Comentários por data : Emoções"
   ]
  },
  {
   "cell_type": "code",
   "execution_count": 69,
   "metadata": {
    "ExecuteTime": {
     "end_time": "2018-11-26T00:59:00.519803Z",
     "start_time": "2018-11-26T00:58:59.639456Z"
    }
   },
   "outputs": [
    {
     "data": {
      "text/html": [
       "<div>\n",
       "<style scoped>\n",
       "    .dataframe tbody tr th:only-of-type {\n",
       "        vertical-align: middle;\n",
       "    }\n",
       "\n",
       "    .dataframe tbody tr th {\n",
       "        vertical-align: top;\n",
       "    }\n",
       "\n",
       "    .dataframe thead th {\n",
       "        text-align: right;\n",
       "    }\n",
       "</style>\n",
       "<table border=\"1\" class=\"dataframe\">\n",
       "  <thead>\n",
       "    <tr style=\"text-align: right;\">\n",
       "      <th></th>\n",
       "      <th>23/08/2018</th>\n",
       "      <th>24/08/2018</th>\n",
       "      <th>25/08/2018</th>\n",
       "      <th>26/08/2018</th>\n",
       "      <th>27/08/2018</th>\n",
       "      <th>28/08/2018</th>\n",
       "      <th>31/08/2018</th>\n",
       "      <th>01/09/2018</th>\n",
       "    </tr>\n",
       "  </thead>\n",
       "  <tbody>\n",
       "    <tr>\n",
       "      <th>ALEGRIA</th>\n",
       "      <td>1</td>\n",
       "      <td>107</td>\n",
       "      <td>120</td>\n",
       "      <td>12</td>\n",
       "      <td>43</td>\n",
       "      <td>158</td>\n",
       "      <td>40</td>\n",
       "      <td>112</td>\n",
       "    </tr>\n",
       "    <tr>\n",
       "      <th>DESGOSTO</th>\n",
       "      <td>0</td>\n",
       "      <td>4</td>\n",
       "      <td>13</td>\n",
       "      <td>2</td>\n",
       "      <td>0</td>\n",
       "      <td>23</td>\n",
       "      <td>1</td>\n",
       "      <td>8</td>\n",
       "    </tr>\n",
       "    <tr>\n",
       "      <th>MEDO</th>\n",
       "      <td>0</td>\n",
       "      <td>0</td>\n",
       "      <td>0</td>\n",
       "      <td>0</td>\n",
       "      <td>0</td>\n",
       "      <td>0</td>\n",
       "      <td>0</td>\n",
       "      <td>0</td>\n",
       "    </tr>\n",
       "    <tr>\n",
       "      <th>NEUTRO</th>\n",
       "      <td>1</td>\n",
       "      <td>23</td>\n",
       "      <td>50</td>\n",
       "      <td>1</td>\n",
       "      <td>5</td>\n",
       "      <td>79</td>\n",
       "      <td>16</td>\n",
       "      <td>147</td>\n",
       "    </tr>\n",
       "    <tr>\n",
       "      <th>RAIVA</th>\n",
       "      <td>0</td>\n",
       "      <td>0</td>\n",
       "      <td>0</td>\n",
       "      <td>0</td>\n",
       "      <td>1</td>\n",
       "      <td>0</td>\n",
       "      <td>0</td>\n",
       "      <td>0</td>\n",
       "    </tr>\n",
       "    <tr>\n",
       "      <th>SURPRESA</th>\n",
       "      <td>0</td>\n",
       "      <td>0</td>\n",
       "      <td>1</td>\n",
       "      <td>1</td>\n",
       "      <td>0</td>\n",
       "      <td>0</td>\n",
       "      <td>1</td>\n",
       "      <td>1</td>\n",
       "    </tr>\n",
       "    <tr>\n",
       "      <th>TRISTEZA</th>\n",
       "      <td>2</td>\n",
       "      <td>91</td>\n",
       "      <td>105</td>\n",
       "      <td>11</td>\n",
       "      <td>28</td>\n",
       "      <td>168</td>\n",
       "      <td>36</td>\n",
       "      <td>164</td>\n",
       "    </tr>\n",
       "  </tbody>\n",
       "</table>\n",
       "</div>"
      ],
      "text/plain": [
       "          23/08/2018  24/08/2018  25/08/2018  26/08/2018  27/08/2018  \\\n",
       "ALEGRIA            1         107         120          12          43   \n",
       "DESGOSTO           0           4          13           2           0   \n",
       "MEDO               0           0           0           0           0   \n",
       "NEUTRO             1          23          50           1           5   \n",
       "RAIVA              0           0           0           0           1   \n",
       "SURPRESA           0           0           1           1           0   \n",
       "TRISTEZA           2          91         105          11          28   \n",
       "\n",
       "          28/08/2018  31/08/2018  01/09/2018  \n",
       "ALEGRIA          158          40         112  \n",
       "DESGOSTO          23           1           8  \n",
       "MEDO               0           0           0  \n",
       "NEUTRO            79          16         147  \n",
       "RAIVA              0           0           0  \n",
       "SURPRESA           0           1           1  \n",
       "TRISTEZA         168          36         164  "
      ]
     },
     "metadata": {},
     "output_type": "display_data"
    },
    {
     "data": {
      "image/png": "[encoded data removed]",
      "text/plain": [
       "<Figure size 1224x432 with 1 Axes>"
      ]
     },
     "metadata": {
      "needs_background": "light"
     },
     "output_type": "display_data"
    }
   ],
   "source": [
    "graph_emocoes_por_data(rede_social, cores2, sentimentos_dict, comentarios)"
   ]
  },
  {
   "cell_type": "code",
   "execution_count": null,
   "metadata": {},
   "outputs": [],
   "source": []
  }
 ],
 "metadata": {
  "hide_input": false,
  "kernelspec": {
   "display_name": "Python 3",
   "language": "python",
   "name": "python3"
  },
  "language_info": {
   "codemirror_mode": {
    "name": "ipython",
    "version": 3
   },
   "file_extension": ".py",
   "mimetype": "text/x-python",
   "name": "python",
   "nbconvert_exporter": "python",
   "pygments_lexer": "ipython3",
   "version": "3.7.1"
  },
  "latex_envs": {
   "LaTeX_envs_menu_present": true,
   "autoclose": false,
   "autocomplete": true,
   "bibliofile": "biblio.bib",
   "cite_by": "apalike",
   "current_citInitial": 1,
   "eqLabelWithNumbers": true,
   "eqNumInitial": 1,
   "hotkeys": {
    "equation": "Ctrl-E",
    "itemize": "Ctrl-I"
   },
   "labels_anchors": false,
   "latex_user_defs": false,
   "report_style_numbering": false,
   "user_envs_cfg": false
  },
  "toc": {
   "base_numbering": 1,
   "nav_menu": {
    "height": "12px",
    "width": "252px"
   },
   "number_sections": true,
   "sideBar": true,
   "skip_h1_title": false,
   "title_cell": "Table of Contents",
   "title_sidebar": "Contents",
   "toc_cell": false,
   "toc_position": {},
   "toc_section_display": "block",
   "toc_window_display": false
  }
 },
 "nbformat": 4,
 "nbformat_minor": 2
}
