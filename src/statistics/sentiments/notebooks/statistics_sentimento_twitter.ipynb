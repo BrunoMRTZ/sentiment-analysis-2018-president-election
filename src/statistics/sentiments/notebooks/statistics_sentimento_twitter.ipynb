{
 "cells": [
  {
   "cell_type": "code",
   "execution_count": 1,
   "metadata": {
    "ExecuteTime": {
     "end_time": "2018-11-26T01:36:32.343768Z",
     "start_time": "2018-11-26T01:36:30.518595Z"
    }
   },
   "outputs": [],
   "source": [
    "import sys\n",
    "sys.path.append('..')\n",
    "sys.path.append('../..')\n",
    "\n",
    "from stats import *\n",
    "from sentiment_stats import *\n",
    "\n",
    "from peewee import SQL\n",
    "from database.models import RawFacebookComments, RawTwitterComments, RawInstagramComments, RawYouTubeComments, RawHashtagComments\n",
    "\n",
    "rede_social = 'Twitter'\n",
    "modelo = RawTwitterComments\n",
    "\n",
    "cores = ['#FFA726', '#66BB6A', '#42A5F5', '#FFEE58', '#EF5350', '#AB47BC', '#C8C8C8']\n",
    "cores2 = ['#FFA726', '#AB47BC', '#FFEE58', '#C8C8C8', '#EF5350', '#66BB6A', '#42A5F5']\n",
    "cores_val = ['#EF5350', '#C8C8C8', '#66BB6A']\n",
    "cores_val2 = ['#66BB6A', '#EF5350', '#C8C8C8']\n",
    "sentimentos = ['ALEGRIA', 'SURPRESA', 'TRISTEZA', 'MEDO', 'RAIVA', 'DESGOSTO', 'NEUTRO']\n",
    "valencia = ['POSITIVO', 'NEGATIVO', 'NEUTRO']\n",
    "\n",
    "valencia_dict = OrderedDict()\n",
    "for val in valencia:\n",
    "    valencia_dict[val] = 0\n",
    "\n",
    "sentimentos_dict = OrderedDict()\n",
    "for sentimento in sentimentos:\n",
    "    sentimentos_dict[sentimento] = 0\n",
    "    \n",
    "default_clause = [\n",
    "    SQL('length(clean_comment) > 0'),\n",
    "]\n",
    "\n",
    "positivo_clause = [\n",
    "    SQL('length(emotion) > 0 AND length(valence) > 0'),\n",
    "    SQL('emotion in (\"ALEGRIA\", \"SURPRESA\") AND valence = \"POSITIVO\"')\n",
    "]\n",
    "\n",
    "negativo_clause = [\n",
    "    SQL('length(emotion) > 0 AND length(valence) > 0'),\n",
    "    SQL('emotion in (\"TRISTEZA\", \"RAIVA\", \"MEDO\", \"DESGOSTO\") AND valence = \"NEGATIVO\"')\n",
    "]\n",
    "\n",
    "neutro_clause = [\n",
    "    SQL('length(emotion) > 0 AND length(valence) > 0'),\n",
    "    SQL('emotion in (\"NEUTRO\") AND valence = \"NEUTRO\"')\n",
    "]\n",
    "\n",
    "general = default_clause + [\n",
    "    SQL('length(emotion) > 0 AND length(valence) > 0'),\n",
    "    SQL(\"\"\"\n",
    "        (emotion in (\"ALEGRIA\", \"SURPRESA\") AND valence = \"POSITIVO\") \n",
    "        OR \n",
    "        (emotion in (\"TRISTEZA\", \"RAIVA\", \"MEDO\", \"DESGOSTO\") AND valence = \"NEGATIVO\")\n",
    "        OR\n",
    "        (emotion in (\"NEUTRO\") AND valence = \"NEUTRO\")\n",
    "    \"\"\")\n",
    "]"
   ]
  },
  {
   "cell_type": "markdown",
   "metadata": {},
   "source": [
    "### Emoções gerais dos comentários : Facebook"
   ]
  },
  {
   "cell_type": "code",
   "execution_count": 2,
   "metadata": {
    "ExecuteTime": {
     "end_time": "2018-11-26T01:36:32.398882Z",
     "start_time": "2018-11-26T01:36:32.346577Z"
    }
   },
   "outputs": [],
   "source": [
    "total_comentarios = modelo.select() \\\n",
    "        .where(default_clause) \\\n",
    "        .count()\n",
    "\n",
    "comentarios_positivos = modelo.select() \\\n",
    "        .where(reduce(operator.and_, default_clause + positivo_clause)) \\\n",
    "        .order_by(modelo.timestamp)\n",
    "\n",
    "comentarios_negativos = modelo.select() \\\n",
    "        .where(reduce(operator.and_, default_clause + negativo_clause)) \\\n",
    "        .order_by(modelo.timestamp)\n",
    "\n",
    "comentarios_neutros = modelo.select() \\\n",
    "        .where(reduce(operator.and_, default_clause + neutro_clause)) \\\n",
    "        .order_by(modelo.timestamp)\n",
    "\n",
    "comentarios = modelo.select() \\\n",
    "        .where(reduce(operator.and_, general)) \\\n",
    "        .order_by(modelo.timestamp)"
   ]
  },
  {
   "cell_type": "code",
   "execution_count": 3,
   "metadata": {
    "ExecuteTime": {
     "end_time": "2018-11-26T01:36:34.372382Z",
     "start_time": "2018-11-26T01:36:32.401360Z"
    }
   },
   "outputs": [
    {
     "name": "stdout",
     "output_type": "stream",
     "text": [
      "Estatísticas do Twitter:\n",
      "--------------------\n",
      "Total de Comentários  : 120082\n",
      "Comentários Positivos : 23507\n",
      "Comentários Negativos : 30871\n",
      "Comentários Neutros   : 1561\n",
      "\n",
      "Porcentagem de comentários:\n",
      "--------------------\n",
      "Comentários Positivos : 19.58%\n",
      "Comentários Negativos : 25.71%\n",
      "Comentários Neutros   : 1.3%\n",
      "Total                 : 46.58%\n"
     ]
    }
   ],
   "source": [
    "alegria, surpresa, tristeza, medo, raiva, desgosto, positivo, negativo, neutro = load_emocoes_comentarios(comentarios_positivos, comentarios_negativos, comentarios_neutros)\n",
    "print_statistics(rede_social, total_comentarios, comentarios_positivos, comentarios_negativos, comentarios_neutros)"
   ]
  },
  {
   "cell_type": "markdown",
   "metadata": {},
   "source": [
    "#### Contagem total de comentários : Valência"
   ]
  },
  {
   "cell_type": "code",
   "execution_count": 4,
   "metadata": {
    "ExecuteTime": {
     "end_time": "2018-11-26T01:36:34.578801Z",
     "start_time": "2018-11-26T01:36:34.375298Z"
    }
   },
   "outputs": [
    {
     "data": {
      "text/html": [
       "<div>\n",
       "<style scoped>\n",
       "    .dataframe tbody tr th:only-of-type {\n",
       "        vertical-align: middle;\n",
       "    }\n",
       "\n",
       "    .dataframe tbody tr th {\n",
       "        vertical-align: top;\n",
       "    }\n",
       "\n",
       "    .dataframe thead th {\n",
       "        text-align: right;\n",
       "    }\n",
       "</style>\n",
       "<table border=\"1\" class=\"dataframe\">\n",
       "  <thead>\n",
       "    <tr style=\"text-align: right;\">\n",
       "      <th></th>\n",
       "      <th>POSITIVO</th>\n",
       "      <th>NEGATIVO</th>\n",
       "      <th>NEUTRO</th>\n",
       "    </tr>\n",
       "  </thead>\n",
       "  <tbody>\n",
       "    <tr>\n",
       "      <th>0</th>\n",
       "      <td>23507</td>\n",
       "      <td>30871</td>\n",
       "      <td>1561</td>\n",
       "    </tr>\n",
       "  </tbody>\n",
       "</table>\n",
       "</div>"
      ],
      "text/plain": [
       "   POSITIVO  NEGATIVO  NEUTRO\n",
       "0     23507     30871    1561"
      ]
     },
     "metadata": {},
     "output_type": "display_data"
    },
    {
     "data": {
      "image/png": "[encoded data removed]",
      "text/plain": [
       "<Figure size 576x288 with 1 Axes>"
      ]
     },
     "metadata": {
      "needs_background": "light"
     },
     "output_type": "display_data"
    }
   ],
   "source": [
    "graph_valence_total(rede_social, cores_val2, valencia, positivo, negativo, neutro)"
   ]
  },
  {
   "cell_type": "markdown",
   "metadata": {},
   "source": [
    "#### Contagem total de comentários : Emoções"
   ]
  },
  {
   "cell_type": "code",
   "execution_count": 5,
   "metadata": {
    "ExecuteTime": {
     "end_time": "2018-11-26T01:36:34.749737Z",
     "start_time": "2018-11-26T01:36:34.580695Z"
    }
   },
   "outputs": [
    {
     "data": {
      "text/html": [
       "<div>\n",
       "<style scoped>\n",
       "    .dataframe tbody tr th:only-of-type {\n",
       "        vertical-align: middle;\n",
       "    }\n",
       "\n",
       "    .dataframe tbody tr th {\n",
       "        vertical-align: top;\n",
       "    }\n",
       "\n",
       "    .dataframe thead th {\n",
       "        text-align: right;\n",
       "    }\n",
       "</style>\n",
       "<table border=\"1\" class=\"dataframe\">\n",
       "  <thead>\n",
       "    <tr style=\"text-align: right;\">\n",
       "      <th></th>\n",
       "      <th>ALEGRIA</th>\n",
       "      <th>SURPRESA</th>\n",
       "      <th>TRISTEZA</th>\n",
       "      <th>MEDO</th>\n",
       "      <th>RAIVA</th>\n",
       "      <th>DESGOSTO</th>\n",
       "      <th>NEUTRO</th>\n",
       "    </tr>\n",
       "  </thead>\n",
       "  <tbody>\n",
       "    <tr>\n",
       "      <th>0</th>\n",
       "      <td>23233</td>\n",
       "      <td>274</td>\n",
       "      <td>28162</td>\n",
       "      <td>22</td>\n",
       "      <td>185</td>\n",
       "      <td>2502</td>\n",
       "      <td>1561</td>\n",
       "    </tr>\n",
       "  </tbody>\n",
       "</table>\n",
       "</div>"
      ],
      "text/plain": [
       "   ALEGRIA  SURPRESA  TRISTEZA  MEDO  RAIVA  DESGOSTO  NEUTRO\n",
       "0    23233       274     28162    22    185      2502    1561"
      ]
     },
     "metadata": {},
     "output_type": "display_data"
    },
    {
     "data": {
      "image/png": "[encoded data removed]",
      "text/plain": [
       "<Figure size 576x288 with 1 Axes>"
      ]
     },
     "metadata": {
      "needs_background": "light"
     },
     "output_type": "display_data"
    }
   ],
   "source": [
    "graph_sentimentos_total(rede_social, cores, sentimentos, alegria, surpresa, tristeza, medo, raiva, desgosto, neutro)"
   ]
  },
  {
   "cell_type": "markdown",
   "metadata": {},
   "source": [
    "#### Comentários por data : Valência"
   ]
  },
  {
   "cell_type": "code",
   "execution_count": 6,
   "metadata": {
    "ExecuteTime": {
     "end_time": "2018-11-26T01:36:41.311293Z",
     "start_time": "2018-11-26T01:36:34.751643Z"
    },
    "scrolled": false
   },
   "outputs": [
    {
     "data": {
      "text/html": [
       "<div>\n",
       "<style scoped>\n",
       "    .dataframe tbody tr th:only-of-type {\n",
       "        vertical-align: middle;\n",
       "    }\n",
       "\n",
       "    .dataframe tbody tr th {\n",
       "        vertical-align: top;\n",
       "    }\n",
       "\n",
       "    .dataframe thead th {\n",
       "        text-align: right;\n",
       "    }\n",
       "</style>\n",
       "<table border=\"1\" class=\"dataframe\">\n",
       "  <thead>\n",
       "    <tr style=\"text-align: right;\">\n",
       "      <th></th>\n",
       "      <th>12/03/2018</th>\n",
       "      <th>13/03/2018</th>\n",
       "      <th>14/03/2018</th>\n",
       "      <th>17/03/2018</th>\n",
       "      <th>29/04/2018</th>\n",
       "      <th>30/04/2018</th>\n",
       "      <th>01/05/2018</th>\n",
       "      <th>03/06/2018</th>\n",
       "    </tr>\n",
       "  </thead>\n",
       "  <tbody>\n",
       "    <tr>\n",
       "      <th>NEGATIVO</th>\n",
       "      <td>4</td>\n",
       "      <td>2</td>\n",
       "      <td>0</td>\n",
       "      <td>0</td>\n",
       "      <td>9</td>\n",
       "      <td>3</td>\n",
       "      <td>1</td>\n",
       "      <td>0</td>\n",
       "    </tr>\n",
       "    <tr>\n",
       "      <th>NEUTRO</th>\n",
       "      <td>0</td>\n",
       "      <td>0</td>\n",
       "      <td>0</td>\n",
       "      <td>0</td>\n",
       "      <td>0</td>\n",
       "      <td>1</td>\n",
       "      <td>0</td>\n",
       "      <td>0</td>\n",
       "    </tr>\n",
       "    <tr>\n",
       "      <th>POSITIVO</th>\n",
       "      <td>11</td>\n",
       "      <td>3</td>\n",
       "      <td>2</td>\n",
       "      <td>1</td>\n",
       "      <td>8</td>\n",
       "      <td>1</td>\n",
       "      <td>2</td>\n",
       "      <td>1</td>\n",
       "    </tr>\n",
       "  </tbody>\n",
       "</table>\n",
       "</div>"
      ],
      "text/plain": [
       "          12/03/2018  13/03/2018  14/03/2018  17/03/2018  29/04/2018  \\\n",
       "NEGATIVO           4           2           0           0           9   \n",
       "NEUTRO             0           0           0           0           0   \n",
       "POSITIVO          11           3           2           1           8   \n",
       "\n",
       "          30/04/2018  01/05/2018  03/06/2018  \n",
       "NEGATIVO           3           1           0  \n",
       "NEUTRO             1           0           0  \n",
       "POSITIVO           1           2           1  "
      ]
     },
     "metadata": {},
     "output_type": "display_data"
    },
    {
     "data": {
      "image/png": "[encoded data removed]",
      "text/plain": [
       "<Figure size 1224x432 with 1 Axes>"
      ]
     },
     "metadata": {
      "needs_background": "light"
     },
     "output_type": "display_data"
    }
   ],
   "source": [
    "graph_valencia_por_data(rede_social, cores_val, valencia_dict, comentarios)"
   ]
  },
  {
   "cell_type": "markdown",
   "metadata": {},
   "source": [
    "#### Comentários por data : Emoções"
   ]
  },
  {
   "cell_type": "code",
   "execution_count": 7,
   "metadata": {
    "ExecuteTime": {
     "end_time": "2018-11-26T01:36:46.401126Z",
     "start_time": "2018-11-26T01:36:41.313331Z"
    }
   },
   "outputs": [
    {
     "data": {
      "text/html": [
       "<div>\n",
       "<style scoped>\n",
       "    .dataframe tbody tr th:only-of-type {\n",
       "        vertical-align: middle;\n",
       "    }\n",
       "\n",
       "    .dataframe tbody tr th {\n",
       "        vertical-align: top;\n",
       "    }\n",
       "\n",
       "    .dataframe thead th {\n",
       "        text-align: right;\n",
       "    }\n",
       "</style>\n",
       "<table border=\"1\" class=\"dataframe\">\n",
       "  <thead>\n",
       "    <tr style=\"text-align: right;\">\n",
       "      <th></th>\n",
       "      <th>12/03/2018</th>\n",
       "      <th>13/03/2018</th>\n",
       "      <th>14/03/2018</th>\n",
       "      <th>17/03/2018</th>\n",
       "      <th>29/04/2018</th>\n",
       "      <th>30/04/2018</th>\n",
       "      <th>01/05/2018</th>\n",
       "      <th>03/06/2018</th>\n",
       "    </tr>\n",
       "  </thead>\n",
       "  <tbody>\n",
       "    <tr>\n",
       "      <th>ALEGRIA</th>\n",
       "      <td>11</td>\n",
       "      <td>3</td>\n",
       "      <td>2</td>\n",
       "      <td>1</td>\n",
       "      <td>8</td>\n",
       "      <td>0</td>\n",
       "      <td>2</td>\n",
       "      <td>1</td>\n",
       "    </tr>\n",
       "    <tr>\n",
       "      <th>DESGOSTO</th>\n",
       "      <td>1</td>\n",
       "      <td>0</td>\n",
       "      <td>0</td>\n",
       "      <td>0</td>\n",
       "      <td>0</td>\n",
       "      <td>0</td>\n",
       "      <td>0</td>\n",
       "      <td>0</td>\n",
       "    </tr>\n",
       "    <tr>\n",
       "      <th>MEDO</th>\n",
       "      <td>0</td>\n",
       "      <td>0</td>\n",
       "      <td>0</td>\n",
       "      <td>0</td>\n",
       "      <td>0</td>\n",
       "      <td>0</td>\n",
       "      <td>0</td>\n",
       "      <td>0</td>\n",
       "    </tr>\n",
       "    <tr>\n",
       "      <th>NEUTRO</th>\n",
       "      <td>0</td>\n",
       "      <td>0</td>\n",
       "      <td>0</td>\n",
       "      <td>0</td>\n",
       "      <td>0</td>\n",
       "      <td>1</td>\n",
       "      <td>0</td>\n",
       "      <td>0</td>\n",
       "    </tr>\n",
       "    <tr>\n",
       "      <th>RAIVA</th>\n",
       "      <td>0</td>\n",
       "      <td>0</td>\n",
       "      <td>0</td>\n",
       "      <td>0</td>\n",
       "      <td>0</td>\n",
       "      <td>0</td>\n",
       "      <td>0</td>\n",
       "      <td>0</td>\n",
       "    </tr>\n",
       "    <tr>\n",
       "      <th>SURPRESA</th>\n",
       "      <td>0</td>\n",
       "      <td>0</td>\n",
       "      <td>0</td>\n",
       "      <td>0</td>\n",
       "      <td>0</td>\n",
       "      <td>1</td>\n",
       "      <td>0</td>\n",
       "      <td>0</td>\n",
       "    </tr>\n",
       "    <tr>\n",
       "      <th>TRISTEZA</th>\n",
       "      <td>3</td>\n",
       "      <td>2</td>\n",
       "      <td>0</td>\n",
       "      <td>0</td>\n",
       "      <td>9</td>\n",
       "      <td>3</td>\n",
       "      <td>1</td>\n",
       "      <td>0</td>\n",
       "    </tr>\n",
       "  </tbody>\n",
       "</table>\n",
       "</div>"
      ],
      "text/plain": [
       "          12/03/2018  13/03/2018  14/03/2018  17/03/2018  29/04/2018  \\\n",
       "ALEGRIA           11           3           2           1           8   \n",
       "DESGOSTO           1           0           0           0           0   \n",
       "MEDO               0           0           0           0           0   \n",
       "NEUTRO             0           0           0           0           0   \n",
       "RAIVA              0           0           0           0           0   \n",
       "SURPRESA           0           0           0           0           0   \n",
       "TRISTEZA           3           2           0           0           9   \n",
       "\n",
       "          30/04/2018  01/05/2018  03/06/2018  \n",
       "ALEGRIA            0           2           1  \n",
       "DESGOSTO           0           0           0  \n",
       "MEDO               0           0           0  \n",
       "NEUTRO             1           0           0  \n",
       "RAIVA              0           0           0  \n",
       "SURPRESA           1           0           0  \n",
       "TRISTEZA           3           1           0  "
      ]
     },
     "metadata": {},
     "output_type": "display_data"
    },
    {
     "data": {
      "image/png": "[encoded data removed]",
      "text/plain": [
       "<Figure size 1224x432 with 1 Axes>"
      ]
     },
     "metadata": {
      "needs_background": "light"
     },
     "output_type": "display_data"
    }
   ],
   "source": [
    "graph_emocoes_por_data(rede_social, cores2, sentimentos_dict, comentarios)"
   ]
  },
  {
   "cell_type": "markdown",
   "metadata": {},
   "source": [
    "### Emoções por candidato : Facebook"
   ]
  },
  {
   "cell_type": "markdown",
   "metadata": {},
   "source": [
    "#### Jair Bolsonaro"
   ]
  },
  {
   "cell_type": "code",
   "execution_count": 8,
   "metadata": {
    "ExecuteTime": {
     "end_time": "2018-11-26T01:36:46.467330Z",
     "start_time": "2018-11-26T01:36:46.402832Z"
    }
   },
   "outputs": [],
   "source": [
    "candidato_c = [modelo.candidate == 'Jair Bolsonaro']\n",
    "\n",
    "total_comentarios = modelo.select() \\\n",
    "        .where(reduce(operator.and_, default_clause + candidato_c)) \\\n",
    "        .count()\n",
    "\n",
    "comentarios_positivos = modelo.select() \\\n",
    "        .where(reduce(operator.and_, default_clause + positivo_clause + candidato_c)) \\\n",
    "        .order_by(modelo.timestamp)\n",
    "\n",
    "comentarios_negativos = modelo.select() \\\n",
    "        .where(reduce(operator.and_, default_clause + negativo_clause + candidato_c)) \\\n",
    "        .order_by(modelo.timestamp)\n",
    "\n",
    "comentarios_neutros = modelo.select() \\\n",
    "        .where(reduce(operator.and_, default_clause + neutro_clause + candidato_c)) \\\n",
    "        .order_by(modelo.timestamp)\n",
    "\n",
    "comentarios = modelo.select() \\\n",
    "        .where(reduce(operator.and_, general + candidato_c)) \\\n",
    "        .order_by(modelo.timestamp)"
   ]
  },
  {
   "cell_type": "code",
   "execution_count": 9,
   "metadata": {
    "ExecuteTime": {
     "end_time": "2018-11-26T01:36:47.058240Z",
     "start_time": "2018-11-26T01:36:46.468964Z"
    }
   },
   "outputs": [
    {
     "name": "stdout",
     "output_type": "stream",
     "text": [
      "Estatísticas do Twitter:\n",
      "--------------------\n",
      "Total de Comentários  : 32712\n",
      "Comentários Positivos : 6834\n",
      "Comentários Negativos : 8476\n",
      "Comentários Neutros   : 358\n",
      "\n",
      "Porcentagem de comentários:\n",
      "--------------------\n",
      "Comentários Positivos : 20.89%\n",
      "Comentários Negativos : 25.91%\n",
      "Comentários Neutros   : 1.09%\n",
      "Total                 : 47.9%\n"
     ]
    }
   ],
   "source": [
    "alegria, surpresa, tristeza, medo, raiva, desgosto, positivo, negativo, neutro = load_emocoes_comentarios(comentarios_positivos, comentarios_negativos, comentarios_neutros)\n",
    "print_statistics(rede_social, total_comentarios, comentarios_positivos, comentarios_negativos, comentarios_neutros)"
   ]
  },
  {
   "cell_type": "markdown",
   "metadata": {},
   "source": [
    "##### Contagem total de comentários : Valência"
   ]
  },
  {
   "cell_type": "code",
   "execution_count": 10,
   "metadata": {
    "ExecuteTime": {
     "end_time": "2018-11-26T01:36:47.229071Z",
     "start_time": "2018-11-26T01:36:47.060078Z"
    }
   },
   "outputs": [
    {
     "data": {
      "text/html": [
       "<div>\n",
       "<style scoped>\n",
       "    .dataframe tbody tr th:only-of-type {\n",
       "        vertical-align: middle;\n",
       "    }\n",
       "\n",
       "    .dataframe tbody tr th {\n",
       "        vertical-align: top;\n",
       "    }\n",
       "\n",
       "    .dataframe thead th {\n",
       "        text-align: right;\n",
       "    }\n",
       "</style>\n",
       "<table border=\"1\" class=\"dataframe\">\n",
       "  <thead>\n",
       "    <tr style=\"text-align: right;\">\n",
       "      <th></th>\n",
       "      <th>POSITIVO</th>\n",
       "      <th>NEGATIVO</th>\n",
       "      <th>NEUTRO</th>\n",
       "    </tr>\n",
       "  </thead>\n",
       "  <tbody>\n",
       "    <tr>\n",
       "      <th>0</th>\n",
       "      <td>6834</td>\n",
       "      <td>8476</td>\n",
       "      <td>358</td>\n",
       "    </tr>\n",
       "  </tbody>\n",
       "</table>\n",
       "</div>"
      ],
      "text/plain": [
       "   POSITIVO  NEGATIVO  NEUTRO\n",
       "0      6834      8476     358"
      ]
     },
     "metadata": {},
     "output_type": "display_data"
    },
    {
     "data": {
      "image/png": "[encoded data removed]",
      "text/plain": [
       "<Figure size 576x288 with 1 Axes>"
      ]
     },
     "metadata": {
      "needs_background": "light"
     },
     "output_type": "display_data"
    }
   ],
   "source": [
    "graph_valence_total(rede_social, cores_val2, valencia, positivo, negativo, neutro)"
   ]
  },
  {
   "cell_type": "markdown",
   "metadata": {},
   "source": [
    "##### Contagem total de comentários : Emoções"
   ]
  },
  {
   "cell_type": "code",
   "execution_count": 11,
   "metadata": {
    "ExecuteTime": {
     "end_time": "2018-11-26T01:36:47.453724Z",
     "start_time": "2018-11-26T01:36:47.232683Z"
    }
   },
   "outputs": [
    {
     "data": {
      "text/html": [
       "<div>\n",
       "<style scoped>\n",
       "    .dataframe tbody tr th:only-of-type {\n",
       "        vertical-align: middle;\n",
       "    }\n",
       "\n",
       "    .dataframe tbody tr th {\n",
       "        vertical-align: top;\n",
       "    }\n",
       "\n",
       "    .dataframe thead th {\n",
       "        text-align: right;\n",
       "    }\n",
       "</style>\n",
       "<table border=\"1\" class=\"dataframe\">\n",
       "  <thead>\n",
       "    <tr style=\"text-align: right;\">\n",
       "      <th></th>\n",
       "      <th>ALEGRIA</th>\n",
       "      <th>SURPRESA</th>\n",
       "      <th>TRISTEZA</th>\n",
       "      <th>MEDO</th>\n",
       "      <th>RAIVA</th>\n",
       "      <th>DESGOSTO</th>\n",
       "      <th>NEUTRO</th>\n",
       "    </tr>\n",
       "  </thead>\n",
       "  <tbody>\n",
       "    <tr>\n",
       "      <th>0</th>\n",
       "      <td>6767</td>\n",
       "      <td>67</td>\n",
       "      <td>7499</td>\n",
       "      <td>4</td>\n",
       "      <td>32</td>\n",
       "      <td>941</td>\n",
       "      <td>358</td>\n",
       "    </tr>\n",
       "  </tbody>\n",
       "</table>\n",
       "</div>"
      ],
      "text/plain": [
       "   ALEGRIA  SURPRESA  TRISTEZA  MEDO  RAIVA  DESGOSTO  NEUTRO\n",
       "0     6767        67      7499     4     32       941     358"
      ]
     },
     "metadata": {},
     "output_type": "display_data"
    },
    {
     "data": {
      "image/png": "[encoded data removed]",
      "text/plain": [
       "<Figure size 576x288 with 1 Axes>"
      ]
     },
     "metadata": {
      "needs_background": "light"
     },
     "output_type": "display_data"
    }
   ],
   "source": [
    "graph_sentimentos_total(rede_social, cores, sentimentos, alegria, surpresa, tristeza, medo, raiva, desgosto, neutro)"
   ]
  },
  {
   "cell_type": "markdown",
   "metadata": {},
   "source": [
    "##### Comentários por data : Valência"
   ]
  },
  {
   "cell_type": "code",
   "execution_count": 12,
   "metadata": {
    "ExecuteTime": {
     "end_time": "2018-11-26T01:36:51.300299Z",
     "start_time": "2018-11-26T01:36:47.456509Z"
    },
    "scrolled": false
   },
   "outputs": [
    {
     "data": {
      "text/html": [
       "<div>\n",
       "<style scoped>\n",
       "    .dataframe tbody tr th:only-of-type {\n",
       "        vertical-align: middle;\n",
       "    }\n",
       "\n",
       "    .dataframe tbody tr th {\n",
       "        vertical-align: top;\n",
       "    }\n",
       "\n",
       "    .dataframe thead th {\n",
       "        text-align: right;\n",
       "    }\n",
       "</style>\n",
       "<table border=\"1\" class=\"dataframe\">\n",
       "  <thead>\n",
       "    <tr style=\"text-align: right;\">\n",
       "      <th></th>\n",
       "      <th>12/03/2018</th>\n",
       "      <th>13/03/2018</th>\n",
       "      <th>14/03/2018</th>\n",
       "      <th>17/03/2018</th>\n",
       "      <th>29/04/2018</th>\n",
       "      <th>30/04/2018</th>\n",
       "      <th>01/05/2018</th>\n",
       "      <th>03/06/2018</th>\n",
       "    </tr>\n",
       "  </thead>\n",
       "  <tbody>\n",
       "    <tr>\n",
       "      <th>NEGATIVO</th>\n",
       "      <td>4</td>\n",
       "      <td>2</td>\n",
       "      <td>0</td>\n",
       "      <td>0</td>\n",
       "      <td>9</td>\n",
       "      <td>3</td>\n",
       "      <td>1</td>\n",
       "      <td>0</td>\n",
       "    </tr>\n",
       "    <tr>\n",
       "      <th>NEUTRO</th>\n",
       "      <td>0</td>\n",
       "      <td>0</td>\n",
       "      <td>0</td>\n",
       "      <td>0</td>\n",
       "      <td>0</td>\n",
       "      <td>1</td>\n",
       "      <td>0</td>\n",
       "      <td>0</td>\n",
       "    </tr>\n",
       "    <tr>\n",
       "      <th>POSITIVO</th>\n",
       "      <td>11</td>\n",
       "      <td>3</td>\n",
       "      <td>2</td>\n",
       "      <td>1</td>\n",
       "      <td>8</td>\n",
       "      <td>1</td>\n",
       "      <td>2</td>\n",
       "      <td>1</td>\n",
       "    </tr>\n",
       "  </tbody>\n",
       "</table>\n",
       "</div>"
      ],
      "text/plain": [
       "          12/03/2018  13/03/2018  14/03/2018  17/03/2018  29/04/2018  \\\n",
       "NEGATIVO           4           2           0           0           9   \n",
       "NEUTRO             0           0           0           0           0   \n",
       "POSITIVO          11           3           2           1           8   \n",
       "\n",
       "          30/04/2018  01/05/2018  03/06/2018  \n",
       "NEGATIVO           3           1           0  \n",
       "NEUTRO             1           0           0  \n",
       "POSITIVO           1           2           1  "
      ]
     },
     "metadata": {},
     "output_type": "display_data"
    },
    {
     "data": {
      "image/png": "[encoded data removed]",
      "text/plain": [
       "<Figure size 1224x432 with 1 Axes>"
      ]
     },
     "metadata": {
      "needs_background": "light"
     },
     "output_type": "display_data"
    }
   ],
   "source": [
    "graph_valencia_por_data(rede_social, cores_val, valencia_dict, comentarios)"
   ]
  },
  {
   "cell_type": "markdown",
   "metadata": {},
   "source": [
    "##### Comentários por data : Emoções"
   ]
  },
  {
   "cell_type": "code",
   "execution_count": 13,
   "metadata": {
    "ExecuteTime": {
     "end_time": "2018-11-26T01:36:54.506018Z",
     "start_time": "2018-11-26T01:36:51.302579Z"
    },
    "scrolled": false
   },
   "outputs": [
    {
     "data": {
      "text/html": [
       "<div>\n",
       "<style scoped>\n",
       "    .dataframe tbody tr th:only-of-type {\n",
       "        vertical-align: middle;\n",
       "    }\n",
       "\n",
       "    .dataframe tbody tr th {\n",
       "        vertical-align: top;\n",
       "    }\n",
       "\n",
       "    .dataframe thead th {\n",
       "        text-align: right;\n",
       "    }\n",
       "</style>\n",
       "<table border=\"1\" class=\"dataframe\">\n",
       "  <thead>\n",
       "    <tr style=\"text-align: right;\">\n",
       "      <th></th>\n",
       "      <th>12/03/2018</th>\n",
       "      <th>13/03/2018</th>\n",
       "      <th>14/03/2018</th>\n",
       "      <th>17/03/2018</th>\n",
       "      <th>29/04/2018</th>\n",
       "      <th>30/04/2018</th>\n",
       "      <th>01/05/2018</th>\n",
       "      <th>03/06/2018</th>\n",
       "    </tr>\n",
       "  </thead>\n",
       "  <tbody>\n",
       "    <tr>\n",
       "      <th>ALEGRIA</th>\n",
       "      <td>11</td>\n",
       "      <td>3</td>\n",
       "      <td>2</td>\n",
       "      <td>1</td>\n",
       "      <td>8</td>\n",
       "      <td>0</td>\n",
       "      <td>2</td>\n",
       "      <td>1</td>\n",
       "    </tr>\n",
       "    <tr>\n",
       "      <th>DESGOSTO</th>\n",
       "      <td>1</td>\n",
       "      <td>0</td>\n",
       "      <td>0</td>\n",
       "      <td>0</td>\n",
       "      <td>0</td>\n",
       "      <td>0</td>\n",
       "      <td>0</td>\n",
       "      <td>0</td>\n",
       "    </tr>\n",
       "    <tr>\n",
       "      <th>MEDO</th>\n",
       "      <td>0</td>\n",
       "      <td>0</td>\n",
       "      <td>0</td>\n",
       "      <td>0</td>\n",
       "      <td>0</td>\n",
       "      <td>0</td>\n",
       "      <td>0</td>\n",
       "      <td>0</td>\n",
       "    </tr>\n",
       "    <tr>\n",
       "      <th>NEUTRO</th>\n",
       "      <td>0</td>\n",
       "      <td>0</td>\n",
       "      <td>0</td>\n",
       "      <td>0</td>\n",
       "      <td>0</td>\n",
       "      <td>1</td>\n",
       "      <td>0</td>\n",
       "      <td>0</td>\n",
       "    </tr>\n",
       "    <tr>\n",
       "      <th>RAIVA</th>\n",
       "      <td>0</td>\n",
       "      <td>0</td>\n",
       "      <td>0</td>\n",
       "      <td>0</td>\n",
       "      <td>0</td>\n",
       "      <td>0</td>\n",
       "      <td>0</td>\n",
       "      <td>0</td>\n",
       "    </tr>\n",
       "    <tr>\n",
       "      <th>SURPRESA</th>\n",
       "      <td>0</td>\n",
       "      <td>0</td>\n",
       "      <td>0</td>\n",
       "      <td>0</td>\n",
       "      <td>0</td>\n",
       "      <td>1</td>\n",
       "      <td>0</td>\n",
       "      <td>0</td>\n",
       "    </tr>\n",
       "    <tr>\n",
       "      <th>TRISTEZA</th>\n",
       "      <td>3</td>\n",
       "      <td>2</td>\n",
       "      <td>0</td>\n",
       "      <td>0</td>\n",
       "      <td>9</td>\n",
       "      <td>3</td>\n",
       "      <td>1</td>\n",
       "      <td>0</td>\n",
       "    </tr>\n",
       "  </tbody>\n",
       "</table>\n",
       "</div>"
      ],
      "text/plain": [
       "          12/03/2018  13/03/2018  14/03/2018  17/03/2018  29/04/2018  \\\n",
       "ALEGRIA           11           3           2           1           8   \n",
       "DESGOSTO           1           0           0           0           0   \n",
       "MEDO               0           0           0           0           0   \n",
       "NEUTRO             0           0           0           0           0   \n",
       "RAIVA              0           0           0           0           0   \n",
       "SURPRESA           0           0           0           0           0   \n",
       "TRISTEZA           3           2           0           0           9   \n",
       "\n",
       "          30/04/2018  01/05/2018  03/06/2018  \n",
       "ALEGRIA            0           2           1  \n",
       "DESGOSTO           0           0           0  \n",
       "MEDO               0           0           0  \n",
       "NEUTRO             1           0           0  \n",
       "RAIVA              0           0           0  \n",
       "SURPRESA           1           0           0  \n",
       "TRISTEZA           3           1           0  "
      ]
     },
     "metadata": {},
     "output_type": "display_data"
    },
    {
     "data": {
      "image/png": "[encoded data removed]",
      "text/plain": [
       "<Figure size 1224x432 with 1 Axes>"
      ]
     },
     "metadata": {
      "needs_background": "light"
     },
     "output_type": "display_data"
    }
   ],
   "source": [
    "graph_emocoes_por_data(rede_social, cores2, sentimentos_dict, comentarios)"
   ]
  },
  {
   "cell_type": "markdown",
   "metadata": {},
   "source": [
    "#### Fernando Haddad"
   ]
  },
  {
   "cell_type": "code",
   "execution_count": 14,
   "metadata": {
    "ExecuteTime": {
     "end_time": "2018-11-26T01:36:54.546159Z",
     "start_time": "2018-11-26T01:36:54.508284Z"
    }
   },
   "outputs": [],
   "source": [
    "candidato_c = [modelo.candidate == 'Fernando Haddad']\n",
    "\n",
    "total_comentarios = modelo.select() \\\n",
    "        .where(reduce(operator.and_, default_clause + candidato_c)) \\\n",
    "        .count()\n",
    "\n",
    "comentarios_positivos = modelo.select() \\\n",
    "        .where(reduce(operator.and_, default_clause + positivo_clause + candidato_c)) \\\n",
    "        .order_by(modelo.timestamp)\n",
    "\n",
    "comentarios_negativos = modelo.select() \\\n",
    "        .where(reduce(operator.and_, default_clause + negativo_clause + candidato_c)) \\\n",
    "        .order_by(modelo.timestamp)\n",
    "\n",
    "comentarios_neutros = modelo.select() \\\n",
    "        .where(reduce(operator.and_, default_clause + neutro_clause + candidato_c)) \\\n",
    "        .order_by(modelo.timestamp)\n",
    "\n",
    "comentarios = modelo.select() \\\n",
    "        .where(reduce(operator.and_, general + candidato_c)) \\\n",
    "        .order_by(modelo.timestamp)"
   ]
  },
  {
   "cell_type": "code",
   "execution_count": 15,
   "metadata": {
    "ExecuteTime": {
     "end_time": "2018-11-26T01:36:55.264701Z",
     "start_time": "2018-11-26T01:36:54.548215Z"
    }
   },
   "outputs": [
    {
     "name": "stdout",
     "output_type": "stream",
     "text": [
      "Estatísticas do Twitter:\n",
      "--------------------\n",
      "Total de Comentários  : 31760\n",
      "Comentários Positivos : 5858\n",
      "Comentários Negativos : 7777\n",
      "Comentários Neutros   : 583\n",
      "\n",
      "Porcentagem de comentários:\n",
      "--------------------\n",
      "Comentários Positivos : 18.44%\n",
      "Comentários Negativos : 24.49%\n",
      "Comentários Neutros   : 1.84%\n",
      "Total                 : 44.77%\n"
     ]
    }
   ],
   "source": [
    "alegria, surpresa, tristeza, medo, raiva, desgosto, positivo, negativo, neutro = load_emocoes_comentarios(comentarios_positivos, comentarios_negativos, comentarios_neutros)\n",
    "print_statistics(rede_social, total_comentarios, comentarios_positivos, comentarios_negativos, comentarios_neutros)"
   ]
  },
  {
   "cell_type": "markdown",
   "metadata": {},
   "source": [
    "##### Contagem total de comentários : Valência"
   ]
  },
  {
   "cell_type": "code",
   "execution_count": 16,
   "metadata": {
    "ExecuteTime": {
     "end_time": "2018-11-26T01:36:55.452750Z",
     "start_time": "2018-11-26T01:36:55.269661Z"
    }
   },
   "outputs": [
    {
     "data": {
      "text/html": [
       "<div>\n",
       "<style scoped>\n",
       "    .dataframe tbody tr th:only-of-type {\n",
       "        vertical-align: middle;\n",
       "    }\n",
       "\n",
       "    .dataframe tbody tr th {\n",
       "        vertical-align: top;\n",
       "    }\n",
       "\n",
       "    .dataframe thead th {\n",
       "        text-align: right;\n",
       "    }\n",
       "</style>\n",
       "<table border=\"1\" class=\"dataframe\">\n",
       "  <thead>\n",
       "    <tr style=\"text-align: right;\">\n",
       "      <th></th>\n",
       "      <th>POSITIVO</th>\n",
       "      <th>NEGATIVO</th>\n",
       "      <th>NEUTRO</th>\n",
       "    </tr>\n",
       "  </thead>\n",
       "  <tbody>\n",
       "    <tr>\n",
       "      <th>0</th>\n",
       "      <td>5858</td>\n",
       "      <td>7777</td>\n",
       "      <td>583</td>\n",
       "    </tr>\n",
       "  </tbody>\n",
       "</table>\n",
       "</div>"
      ],
      "text/plain": [
       "   POSITIVO  NEGATIVO  NEUTRO\n",
       "0      5858      7777     583"
      ]
     },
     "metadata": {},
     "output_type": "display_data"
    },
    {
     "data": {
      "image/png": "[encoded data removed]",
      "text/plain": [
       "<Figure size 576x288 with 1 Axes>"
      ]
     },
     "metadata": {
      "needs_background": "light"
     },
     "output_type": "display_data"
    }
   ],
   "source": [
    "graph_valence_total(rede_social, cores_val2, valencia, positivo, negativo, neutro)"
   ]
  },
  {
   "cell_type": "markdown",
   "metadata": {},
   "source": [
    "##### Contagem total de comentários : Emoções"
   ]
  },
  {
   "cell_type": "code",
   "execution_count": 17,
   "metadata": {
    "ExecuteTime": {
     "end_time": "2018-11-26T01:36:55.675212Z",
     "start_time": "2018-11-26T01:36:55.455220Z"
    }
   },
   "outputs": [
    {
     "data": {
      "text/html": [
       "<div>\n",
       "<style scoped>\n",
       "    .dataframe tbody tr th:only-of-type {\n",
       "        vertical-align: middle;\n",
       "    }\n",
       "\n",
       "    .dataframe tbody tr th {\n",
       "        vertical-align: top;\n",
       "    }\n",
       "\n",
       "    .dataframe thead th {\n",
       "        text-align: right;\n",
       "    }\n",
       "</style>\n",
       "<table border=\"1\" class=\"dataframe\">\n",
       "  <thead>\n",
       "    <tr style=\"text-align: right;\">\n",
       "      <th></th>\n",
       "      <th>ALEGRIA</th>\n",
       "      <th>SURPRESA</th>\n",
       "      <th>TRISTEZA</th>\n",
       "      <th>MEDO</th>\n",
       "      <th>RAIVA</th>\n",
       "      <th>DESGOSTO</th>\n",
       "      <th>NEUTRO</th>\n",
       "    </tr>\n",
       "  </thead>\n",
       "  <tbody>\n",
       "    <tr>\n",
       "      <th>0</th>\n",
       "      <td>5777</td>\n",
       "      <td>81</td>\n",
       "      <td>7243</td>\n",
       "      <td>4</td>\n",
       "      <td>46</td>\n",
       "      <td>484</td>\n",
       "      <td>583</td>\n",
       "    </tr>\n",
       "  </tbody>\n",
       "</table>\n",
       "</div>"
      ],
      "text/plain": [
       "   ALEGRIA  SURPRESA  TRISTEZA  MEDO  RAIVA  DESGOSTO  NEUTRO\n",
       "0     5777        81      7243     4     46       484     583"
      ]
     },
     "metadata": {},
     "output_type": "display_data"
    },
    {
     "data": {
      "image/png": "[encoded data removed]",
      "text/plain": [
       "<Figure size 576x288 with 1 Axes>"
      ]
     },
     "metadata": {
      "needs_background": "light"
     },
     "output_type": "display_data"
    }
   ],
   "source": [
    "graph_sentimentos_total(rede_social, cores, sentimentos, alegria, surpresa, tristeza, medo, raiva, desgosto, neutro)"
   ]
  },
  {
   "cell_type": "markdown",
   "metadata": {},
   "source": [
    "##### Comentários por data : Valência"
   ]
  },
  {
   "cell_type": "code",
   "execution_count": 18,
   "metadata": {
    "ExecuteTime": {
     "end_time": "2018-11-26T01:36:57.866607Z",
     "start_time": "2018-11-26T01:36:55.677394Z"
    }
   },
   "outputs": [
    {
     "data": {
      "text/html": [
       "<div>\n",
       "<style scoped>\n",
       "    .dataframe tbody tr th:only-of-type {\n",
       "        vertical-align: middle;\n",
       "    }\n",
       "\n",
       "    .dataframe tbody tr th {\n",
       "        vertical-align: top;\n",
       "    }\n",
       "\n",
       "    .dataframe thead th {\n",
       "        text-align: right;\n",
       "    }\n",
       "</style>\n",
       "<table border=\"1\" class=\"dataframe\">\n",
       "  <thead>\n",
       "    <tr style=\"text-align: right;\">\n",
       "      <th></th>\n",
       "      <th>21/08/2018</th>\n",
       "      <th>22/08/2018</th>\n",
       "      <th>23/08/2018</th>\n",
       "      <th>24/08/2018</th>\n",
       "      <th>25/08/2018</th>\n",
       "      <th>26/08/2018</th>\n",
       "      <th>27/08/2018</th>\n",
       "      <th>28/08/2018</th>\n",
       "    </tr>\n",
       "  </thead>\n",
       "  <tbody>\n",
       "    <tr>\n",
       "      <th>NEGATIVO</th>\n",
       "      <td>40</td>\n",
       "      <td>182</td>\n",
       "      <td>183</td>\n",
       "      <td>179</td>\n",
       "      <td>93</td>\n",
       "      <td>7</td>\n",
       "      <td>22</td>\n",
       "      <td>64</td>\n",
       "    </tr>\n",
       "    <tr>\n",
       "      <th>NEUTRO</th>\n",
       "      <td>2</td>\n",
       "      <td>5</td>\n",
       "      <td>11</td>\n",
       "      <td>11</td>\n",
       "      <td>3</td>\n",
       "      <td>0</td>\n",
       "      <td>3</td>\n",
       "      <td>9</td>\n",
       "    </tr>\n",
       "    <tr>\n",
       "      <th>POSITIVO</th>\n",
       "      <td>28</td>\n",
       "      <td>140</td>\n",
       "      <td>177</td>\n",
       "      <td>179</td>\n",
       "      <td>90</td>\n",
       "      <td>11</td>\n",
       "      <td>37</td>\n",
       "      <td>46</td>\n",
       "    </tr>\n",
       "  </tbody>\n",
       "</table>\n",
       "</div>"
      ],
      "text/plain": [
       "          21/08/2018  22/08/2018  23/08/2018  24/08/2018  25/08/2018  \\\n",
       "NEGATIVO          40         182         183         179          93   \n",
       "NEUTRO             2           5          11          11           3   \n",
       "POSITIVO          28         140         177         179          90   \n",
       "\n",
       "          26/08/2018  27/08/2018  28/08/2018  \n",
       "NEGATIVO           7          22          64  \n",
       "NEUTRO             0           3           9  \n",
       "POSITIVO          11          37          46  "
      ]
     },
     "metadata": {},
     "output_type": "display_data"
    },
    {
     "data": {
      "image/png": "[encoded data removed]",
      "text/plain": [
       "<Figure size 1224x432 with 1 Axes>"
      ]
     },
     "metadata": {
      "needs_background": "light"
     },
     "output_type": "display_data"
    }
   ],
   "source": [
    "graph_valencia_por_data(rede_social, cores_val, valencia_dict, comentarios)"
   ]
  },
  {
   "cell_type": "markdown",
   "metadata": {},
   "source": [
    "##### Comentários por data : Emoções"
   ]
  },
  {
   "cell_type": "code",
   "execution_count": 19,
   "metadata": {
    "ExecuteTime": {
     "end_time": "2018-11-26T01:36:59.841520Z",
     "start_time": "2018-11-26T01:36:57.868484Z"
    },
    "scrolled": false
   },
   "outputs": [
    {
     "data": {
      "text/html": [
       "<div>\n",
       "<style scoped>\n",
       "    .dataframe tbody tr th:only-of-type {\n",
       "        vertical-align: middle;\n",
       "    }\n",
       "\n",
       "    .dataframe tbody tr th {\n",
       "        vertical-align: top;\n",
       "    }\n",
       "\n",
       "    .dataframe thead th {\n",
       "        text-align: right;\n",
       "    }\n",
       "</style>\n",
       "<table border=\"1\" class=\"dataframe\">\n",
       "  <thead>\n",
       "    <tr style=\"text-align: right;\">\n",
       "      <th></th>\n",
       "      <th>21/08/2018</th>\n",
       "      <th>22/08/2018</th>\n",
       "      <th>23/08/2018</th>\n",
       "      <th>24/08/2018</th>\n",
       "      <th>25/08/2018</th>\n",
       "      <th>26/08/2018</th>\n",
       "      <th>27/08/2018</th>\n",
       "      <th>28/08/2018</th>\n",
       "    </tr>\n",
       "  </thead>\n",
       "  <tbody>\n",
       "    <tr>\n",
       "      <th>ALEGRIA</th>\n",
       "      <td>28</td>\n",
       "      <td>139</td>\n",
       "      <td>177</td>\n",
       "      <td>178</td>\n",
       "      <td>89</td>\n",
       "      <td>11</td>\n",
       "      <td>37</td>\n",
       "      <td>46</td>\n",
       "    </tr>\n",
       "    <tr>\n",
       "      <th>DESGOSTO</th>\n",
       "      <td>7</td>\n",
       "      <td>17</td>\n",
       "      <td>12</td>\n",
       "      <td>9</td>\n",
       "      <td>6</td>\n",
       "      <td>2</td>\n",
       "      <td>2</td>\n",
       "      <td>7</td>\n",
       "    </tr>\n",
       "    <tr>\n",
       "      <th>MEDO</th>\n",
       "      <td>0</td>\n",
       "      <td>0</td>\n",
       "      <td>1</td>\n",
       "      <td>0</td>\n",
       "      <td>0</td>\n",
       "      <td>0</td>\n",
       "      <td>0</td>\n",
       "      <td>0</td>\n",
       "    </tr>\n",
       "    <tr>\n",
       "      <th>NEUTRO</th>\n",
       "      <td>2</td>\n",
       "      <td>5</td>\n",
       "      <td>11</td>\n",
       "      <td>11</td>\n",
       "      <td>3</td>\n",
       "      <td>0</td>\n",
       "      <td>3</td>\n",
       "      <td>9</td>\n",
       "    </tr>\n",
       "    <tr>\n",
       "      <th>RAIVA</th>\n",
       "      <td>1</td>\n",
       "      <td>0</td>\n",
       "      <td>2</td>\n",
       "      <td>1</td>\n",
       "      <td>1</td>\n",
       "      <td>0</td>\n",
       "      <td>0</td>\n",
       "      <td>0</td>\n",
       "    </tr>\n",
       "    <tr>\n",
       "      <th>SURPRESA</th>\n",
       "      <td>0</td>\n",
       "      <td>1</td>\n",
       "      <td>0</td>\n",
       "      <td>1</td>\n",
       "      <td>1</td>\n",
       "      <td>0</td>\n",
       "      <td>0</td>\n",
       "      <td>0</td>\n",
       "    </tr>\n",
       "    <tr>\n",
       "      <th>TRISTEZA</th>\n",
       "      <td>32</td>\n",
       "      <td>165</td>\n",
       "      <td>168</td>\n",
       "      <td>169</td>\n",
       "      <td>86</td>\n",
       "      <td>5</td>\n",
       "      <td>20</td>\n",
       "      <td>57</td>\n",
       "    </tr>\n",
       "  </tbody>\n",
       "</table>\n",
       "</div>"
      ],
      "text/plain": [
       "          21/08/2018  22/08/2018  23/08/2018  24/08/2018  25/08/2018  \\\n",
       "ALEGRIA           28         139         177         178          89   \n",
       "DESGOSTO           7          17          12           9           6   \n",
       "MEDO               0           0           1           0           0   \n",
       "NEUTRO             2           5          11          11           3   \n",
       "RAIVA              1           0           2           1           1   \n",
       "SURPRESA           0           1           0           1           1   \n",
       "TRISTEZA          32         165         168         169          86   \n",
       "\n",
       "          26/08/2018  27/08/2018  28/08/2018  \n",
       "ALEGRIA           11          37          46  \n",
       "DESGOSTO           2           2           7  \n",
       "MEDO               0           0           0  \n",
       "NEUTRO             0           3           9  \n",
       "RAIVA              0           0           0  \n",
       "SURPRESA           0           0           0  \n",
       "TRISTEZA           5          20          57  "
      ]
     },
     "metadata": {},
     "output_type": "display_data"
    },
    {
     "data": {
      "image/png": "[encoded data removed]",
      "text/plain": [
       "<Figure size 1224x432 with 1 Axes>"
      ]
     },
     "metadata": {
      "needs_background": "light"
     },
     "output_type": "display_data"
    }
   ],
   "source": [
    "graph_emocoes_por_data(rede_social, cores2, sentimentos_dict, comentarios)"
   ]
  },
  {
   "cell_type": "markdown",
   "metadata": {},
   "source": [
    "#### Ciro Gomes"
   ]
  },
  {
   "cell_type": "code",
   "execution_count": 20,
   "metadata": {
    "ExecuteTime": {
     "end_time": "2018-11-26T01:37:00.031986Z",
     "start_time": "2018-11-26T01:36:59.843535Z"
    }
   },
   "outputs": [],
   "source": [
    "candidato_c = [modelo.candidate == 'Ciro Gomes']\n",
    "\n",
    "total_comentarios = modelo.select() \\\n",
    "        .where(reduce(operator.and_, default_clause + candidato_c)) \\\n",
    "        .count()\n",
    "\n",
    "comentarios_positivos = modelo.select() \\\n",
    "        .where(reduce(operator.and_, default_clause + positivo_clause + candidato_c)) \\\n",
    "        .order_by(modelo.timestamp)\n",
    "\n",
    "comentarios_negativos = modelo.select() \\\n",
    "        .where(reduce(operator.and_, default_clause + negativo_clause + candidato_c)) \\\n",
    "        .order_by(modelo.timestamp)\n",
    "\n",
    "comentarios_neutros = modelo.select() \\\n",
    "        .where(reduce(operator.and_, default_clause + neutro_clause + candidato_c)) \\\n",
    "        .order_by(modelo.timestamp)\n",
    "\n",
    "comentarios = modelo.select() \\\n",
    "        .where(reduce(operator.and_, general + candidato_c)) \\\n",
    "        .order_by(modelo.timestamp)"
   ]
  },
  {
   "cell_type": "code",
   "execution_count": 21,
   "metadata": {
    "ExecuteTime": {
     "end_time": "2018-11-26T01:37:00.373887Z",
     "start_time": "2018-11-26T01:37:00.034101Z"
    }
   },
   "outputs": [
    {
     "name": "stdout",
     "output_type": "stream",
     "text": [
      "Estatísticas do Twitter:\n",
      "--------------------\n",
      "Total de Comentários  : 17217\n",
      "Comentários Positivos : 3940\n",
      "Comentários Negativos : 3903\n",
      "Comentários Neutros   : 166\n",
      "\n",
      "Porcentagem de comentários:\n",
      "--------------------\n",
      "Comentários Positivos : 22.88%\n",
      "Comentários Negativos : 22.67%\n",
      "Comentários Neutros   : 0.96%\n",
      "Total                 : 46.52%\n"
     ]
    }
   ],
   "source": [
    "alegria, surpresa, tristeza, medo, raiva, desgosto, positivo, negativo, neutro = load_emocoes_comentarios(comentarios_positivos, comentarios_negativos, comentarios_neutros)\n",
    "print_statistics(rede_social, total_comentarios, comentarios_positivos, comentarios_negativos, comentarios_neutros)"
   ]
  },
  {
   "cell_type": "markdown",
   "metadata": {},
   "source": [
    "##### Contagem total de comentários : Valência"
   ]
  },
  {
   "cell_type": "code",
   "execution_count": 22,
   "metadata": {
    "ExecuteTime": {
     "end_time": "2018-11-26T01:37:00.629352Z",
     "start_time": "2018-11-26T01:37:00.376000Z"
    }
   },
   "outputs": [
    {
     "data": {
      "text/html": [
       "<div>\n",
       "<style scoped>\n",
       "    .dataframe tbody tr th:only-of-type {\n",
       "        vertical-align: middle;\n",
       "    }\n",
       "\n",
       "    .dataframe tbody tr th {\n",
       "        vertical-align: top;\n",
       "    }\n",
       "\n",
       "    .dataframe thead th {\n",
       "        text-align: right;\n",
       "    }\n",
       "</style>\n",
       "<table border=\"1\" class=\"dataframe\">\n",
       "  <thead>\n",
       "    <tr style=\"text-align: right;\">\n",
       "      <th></th>\n",
       "      <th>POSITIVO</th>\n",
       "      <th>NEGATIVO</th>\n",
       "      <th>NEUTRO</th>\n",
       "    </tr>\n",
       "  </thead>\n",
       "  <tbody>\n",
       "    <tr>\n",
       "      <th>0</th>\n",
       "      <td>3940</td>\n",
       "      <td>3903</td>\n",
       "      <td>166</td>\n",
       "    </tr>\n",
       "  </tbody>\n",
       "</table>\n",
       "</div>"
      ],
      "text/plain": [
       "   POSITIVO  NEGATIVO  NEUTRO\n",
       "0      3940      3903     166"
      ]
     },
     "metadata": {},
     "output_type": "display_data"
    },
    {
     "data": {
      "image/png": "[encoded data removed]",
      "text/plain": [
       "<Figure size 576x288 with 1 Axes>"
      ]
     },
     "metadata": {
      "needs_background": "light"
     },
     "output_type": "display_data"
    }
   ],
   "source": [
    "graph_valence_total(rede_social, cores_val2, valencia, positivo, negativo, neutro)"
   ]
  },
  {
   "cell_type": "markdown",
   "metadata": {},
   "source": [
    "##### Contagem total de comentários : Emoções"
   ]
  },
  {
   "cell_type": "code",
   "execution_count": 23,
   "metadata": {
    "ExecuteTime": {
     "end_time": "2018-11-26T01:37:00.830141Z",
     "start_time": "2018-11-26T01:37:00.631458Z"
    }
   },
   "outputs": [
    {
     "data": {
      "text/html": [
       "<div>\n",
       "<style scoped>\n",
       "    .dataframe tbody tr th:only-of-type {\n",
       "        vertical-align: middle;\n",
       "    }\n",
       "\n",
       "    .dataframe tbody tr th {\n",
       "        vertical-align: top;\n",
       "    }\n",
       "\n",
       "    .dataframe thead th {\n",
       "        text-align: right;\n",
       "    }\n",
       "</style>\n",
       "<table border=\"1\" class=\"dataframe\">\n",
       "  <thead>\n",
       "    <tr style=\"text-align: right;\">\n",
       "      <th></th>\n",
       "      <th>ALEGRIA</th>\n",
       "      <th>SURPRESA</th>\n",
       "      <th>TRISTEZA</th>\n",
       "      <th>MEDO</th>\n",
       "      <th>RAIVA</th>\n",
       "      <th>DESGOSTO</th>\n",
       "      <th>NEUTRO</th>\n",
       "    </tr>\n",
       "  </thead>\n",
       "  <tbody>\n",
       "    <tr>\n",
       "      <th>0</th>\n",
       "      <td>3914</td>\n",
       "      <td>26</td>\n",
       "      <td>3592</td>\n",
       "      <td>6</td>\n",
       "      <td>23</td>\n",
       "      <td>282</td>\n",
       "      <td>166</td>\n",
       "    </tr>\n",
       "  </tbody>\n",
       "</table>\n",
       "</div>"
      ],
      "text/plain": [
       "   ALEGRIA  SURPRESA  TRISTEZA  MEDO  RAIVA  DESGOSTO  NEUTRO\n",
       "0     3914        26      3592     6     23       282     166"
      ]
     },
     "metadata": {},
     "output_type": "display_data"
    },
    {
     "data": {
      "image/png": "[encoded data removed]",
      "text/plain": [
       "<Figure size 576x288 with 1 Axes>"
      ]
     },
     "metadata": {
      "needs_background": "light"
     },
     "output_type": "display_data"
    }
   ],
   "source": [
    "graph_sentimentos_total(rede_social, cores, sentimentos, alegria, surpresa, tristeza, medo, raiva, desgosto, neutro)"
   ]
  },
  {
   "cell_type": "markdown",
   "metadata": {},
   "source": [
    "##### Comentários por data : Valência"
   ]
  },
  {
   "cell_type": "code",
   "execution_count": 24,
   "metadata": {
    "ExecuteTime": {
     "end_time": "2018-11-26T01:37:02.759072Z",
     "start_time": "2018-11-26T01:37:00.834085Z"
    }
   },
   "outputs": [
    {
     "data": {
      "text/html": [
       "<div>\n",
       "<style scoped>\n",
       "    .dataframe tbody tr th:only-of-type {\n",
       "        vertical-align: middle;\n",
       "    }\n",
       "\n",
       "    .dataframe tbody tr th {\n",
       "        vertical-align: top;\n",
       "    }\n",
       "\n",
       "    .dataframe thead th {\n",
       "        text-align: right;\n",
       "    }\n",
       "</style>\n",
       "<table border=\"1\" class=\"dataframe\">\n",
       "  <thead>\n",
       "    <tr style=\"text-align: right;\">\n",
       "      <th></th>\n",
       "      <th>15/08/2018</th>\n",
       "      <th>16/08/2018</th>\n",
       "      <th>17/08/2018</th>\n",
       "      <th>18/08/2018</th>\n",
       "      <th>19/08/2018</th>\n",
       "      <th>20/08/2018</th>\n",
       "      <th>21/08/2018</th>\n",
       "      <th>22/08/2018</th>\n",
       "    </tr>\n",
       "  </thead>\n",
       "  <tbody>\n",
       "    <tr>\n",
       "      <th>NEGATIVO</th>\n",
       "      <td>3</td>\n",
       "      <td>65</td>\n",
       "      <td>69</td>\n",
       "      <td>63</td>\n",
       "      <td>28</td>\n",
       "      <td>37</td>\n",
       "      <td>37</td>\n",
       "      <td>35</td>\n",
       "    </tr>\n",
       "    <tr>\n",
       "      <th>NEUTRO</th>\n",
       "      <td>0</td>\n",
       "      <td>5</td>\n",
       "      <td>5</td>\n",
       "      <td>0</td>\n",
       "      <td>1</td>\n",
       "      <td>3</td>\n",
       "      <td>1</td>\n",
       "      <td>3</td>\n",
       "    </tr>\n",
       "    <tr>\n",
       "      <th>POSITIVO</th>\n",
       "      <td>4</td>\n",
       "      <td>44</td>\n",
       "      <td>93</td>\n",
       "      <td>68</td>\n",
       "      <td>29</td>\n",
       "      <td>39</td>\n",
       "      <td>62</td>\n",
       "      <td>33</td>\n",
       "    </tr>\n",
       "  </tbody>\n",
       "</table>\n",
       "</div>"
      ],
      "text/plain": [
       "          15/08/2018  16/08/2018  17/08/2018  18/08/2018  19/08/2018  \\\n",
       "NEGATIVO           3          65          69          63          28   \n",
       "NEUTRO             0           5           5           0           1   \n",
       "POSITIVO           4          44          93          68          29   \n",
       "\n",
       "          20/08/2018  21/08/2018  22/08/2018  \n",
       "NEGATIVO          37          37          35  \n",
       "NEUTRO             3           1           3  \n",
       "POSITIVO          39          62          33  "
      ]
     },
     "metadata": {},
     "output_type": "display_data"
    },
    {
     "data": {
      "image/png": "[encoded data removed]",
      "text/plain": [
       "<Figure size 1224x432 with 1 Axes>"
      ]
     },
     "metadata": {
      "needs_background": "light"
     },
     "output_type": "display_data"
    }
   ],
   "source": [
    "graph_valencia_por_data(rede_social, cores_val, valencia_dict, comentarios)"
   ]
  },
  {
   "cell_type": "markdown",
   "metadata": {},
   "source": [
    "##### Comentários por data : Emoções"
   ]
  },
  {
   "cell_type": "code",
   "execution_count": 25,
   "metadata": {
    "ExecuteTime": {
     "end_time": "2018-11-26T01:37:04.923427Z",
     "start_time": "2018-11-26T01:37:02.761760Z"
    },
    "scrolled": false
   },
   "outputs": [
    {
     "data": {
      "text/html": [
       "<div>\n",
       "<style scoped>\n",
       "    .dataframe tbody tr th:only-of-type {\n",
       "        vertical-align: middle;\n",
       "    }\n",
       "\n",
       "    .dataframe tbody tr th {\n",
       "        vertical-align: top;\n",
       "    }\n",
       "\n",
       "    .dataframe thead th {\n",
       "        text-align: right;\n",
       "    }\n",
       "</style>\n",
       "<table border=\"1\" class=\"dataframe\">\n",
       "  <thead>\n",
       "    <tr style=\"text-align: right;\">\n",
       "      <th></th>\n",
       "      <th>15/08/2018</th>\n",
       "      <th>16/08/2018</th>\n",
       "      <th>17/08/2018</th>\n",
       "      <th>18/08/2018</th>\n",
       "      <th>19/08/2018</th>\n",
       "      <th>20/08/2018</th>\n",
       "      <th>21/08/2018</th>\n",
       "      <th>22/08/2018</th>\n",
       "    </tr>\n",
       "  </thead>\n",
       "  <tbody>\n",
       "    <tr>\n",
       "      <th>ALEGRIA</th>\n",
       "      <td>4</td>\n",
       "      <td>44</td>\n",
       "      <td>93</td>\n",
       "      <td>68</td>\n",
       "      <td>29</td>\n",
       "      <td>39</td>\n",
       "      <td>62</td>\n",
       "      <td>33</td>\n",
       "    </tr>\n",
       "    <tr>\n",
       "      <th>DESGOSTO</th>\n",
       "      <td>1</td>\n",
       "      <td>0</td>\n",
       "      <td>5</td>\n",
       "      <td>2</td>\n",
       "      <td>0</td>\n",
       "      <td>3</td>\n",
       "      <td>4</td>\n",
       "      <td>2</td>\n",
       "    </tr>\n",
       "    <tr>\n",
       "      <th>MEDO</th>\n",
       "      <td>0</td>\n",
       "      <td>0</td>\n",
       "      <td>0</td>\n",
       "      <td>0</td>\n",
       "      <td>0</td>\n",
       "      <td>0</td>\n",
       "      <td>1</td>\n",
       "      <td>0</td>\n",
       "    </tr>\n",
       "    <tr>\n",
       "      <th>NEUTRO</th>\n",
       "      <td>0</td>\n",
       "      <td>5</td>\n",
       "      <td>5</td>\n",
       "      <td>0</td>\n",
       "      <td>1</td>\n",
       "      <td>3</td>\n",
       "      <td>1</td>\n",
       "      <td>3</td>\n",
       "    </tr>\n",
       "    <tr>\n",
       "      <th>RAIVA</th>\n",
       "      <td>0</td>\n",
       "      <td>0</td>\n",
       "      <td>0</td>\n",
       "      <td>0</td>\n",
       "      <td>0</td>\n",
       "      <td>0</td>\n",
       "      <td>0</td>\n",
       "      <td>0</td>\n",
       "    </tr>\n",
       "    <tr>\n",
       "      <th>SURPRESA</th>\n",
       "      <td>0</td>\n",
       "      <td>0</td>\n",
       "      <td>0</td>\n",
       "      <td>0</td>\n",
       "      <td>0</td>\n",
       "      <td>0</td>\n",
       "      <td>0</td>\n",
       "      <td>0</td>\n",
       "    </tr>\n",
       "    <tr>\n",
       "      <th>TRISTEZA</th>\n",
       "      <td>2</td>\n",
       "      <td>65</td>\n",
       "      <td>64</td>\n",
       "      <td>61</td>\n",
       "      <td>28</td>\n",
       "      <td>34</td>\n",
       "      <td>32</td>\n",
       "      <td>33</td>\n",
       "    </tr>\n",
       "  </tbody>\n",
       "</table>\n",
       "</div>"
      ],
      "text/plain": [
       "          15/08/2018  16/08/2018  17/08/2018  18/08/2018  19/08/2018  \\\n",
       "ALEGRIA            4          44          93          68          29   \n",
       "DESGOSTO           1           0           5           2           0   \n",
       "MEDO               0           0           0           0           0   \n",
       "NEUTRO             0           5           5           0           1   \n",
       "RAIVA              0           0           0           0           0   \n",
       "SURPRESA           0           0           0           0           0   \n",
       "TRISTEZA           2          65          64          61          28   \n",
       "\n",
       "          20/08/2018  21/08/2018  22/08/2018  \n",
       "ALEGRIA           39          62          33  \n",
       "DESGOSTO           3           4           2  \n",
       "MEDO               0           1           0  \n",
       "NEUTRO             3           1           3  \n",
       "RAIVA              0           0           0  \n",
       "SURPRESA           0           0           0  \n",
       "TRISTEZA          34          32          33  "
      ]
     },
     "metadata": {},
     "output_type": "display_data"
    },
    {
     "data": {
      "image/png": "[encoded data removed]",
      "text/plain": [
       "<Figure size 1224x432 with 1 Axes>"
      ]
     },
     "metadata": {
      "needs_background": "light"
     },
     "output_type": "display_data"
    }
   ],
   "source": [
    "graph_emocoes_por_data(rede_social, cores2, sentimentos_dict, comentarios)"
   ]
  },
  {
   "cell_type": "markdown",
   "metadata": {},
   "source": [
    "#### Geraldo Alckmin"
   ]
  },
  {
   "cell_type": "code",
   "execution_count": 26,
   "metadata": {
    "ExecuteTime": {
     "end_time": "2018-11-26T01:37:05.100849Z",
     "start_time": "2018-11-26T01:37:04.925717Z"
    }
   },
   "outputs": [],
   "source": [
    "candidato_c = [modelo.candidate == 'Geraldo Alckmin']\n",
    "\n",
    "total_comentarios = modelo.select() \\\n",
    "        .where(reduce(operator.and_, default_clause + candidato_c)) \\\n",
    "        .count()\n",
    "\n",
    "comentarios_positivos = modelo.select() \\\n",
    "        .where(reduce(operator.and_, default_clause + positivo_clause + candidato_c)) \\\n",
    "        .order_by(modelo.timestamp)\n",
    "\n",
    "comentarios_negativos = modelo.select() \\\n",
    "        .where(reduce(operator.and_, default_clause + negativo_clause + candidato_c)) \\\n",
    "        .order_by(modelo.timestamp)\n",
    "\n",
    "comentarios_neutros = modelo.select() \\\n",
    "        .where(reduce(operator.and_, default_clause + neutro_clause + candidato_c)) \\\n",
    "        .order_by(modelo.timestamp)\n",
    "\n",
    "comentarios = modelo.select() \\\n",
    "        .where(reduce(operator.and_, general + candidato_c)) \\\n",
    "        .order_by(modelo.timestamp)"
   ]
  },
  {
   "cell_type": "code",
   "execution_count": 27,
   "metadata": {
    "ExecuteTime": {
     "end_time": "2018-11-26T01:37:05.386847Z",
     "start_time": "2018-11-26T01:37:05.104435Z"
    }
   },
   "outputs": [
    {
     "name": "stdout",
     "output_type": "stream",
     "text": [
      "Estatísticas do Twitter:\n",
      "--------------------\n",
      "Total de Comentários  : 16324\n",
      "Comentários Positivos : 2742\n",
      "Comentários Negativos : 4686\n",
      "Comentários Neutros   : 208\n",
      "\n",
      "Porcentagem de comentários:\n",
      "--------------------\n",
      "Comentários Positivos : 16.8%\n",
      "Comentários Negativos : 28.71%\n",
      "Comentários Neutros   : 1.27%\n",
      "Total                 : 46.78%\n"
     ]
    }
   ],
   "source": [
    "alegria, surpresa, tristeza, medo, raiva, desgosto, positivo, negativo, neutro = load_emocoes_comentarios(comentarios_positivos, comentarios_negativos, comentarios_neutros)\n",
    "print_statistics(rede_social, total_comentarios, comentarios_positivos, comentarios_negativos, comentarios_neutros)"
   ]
  },
  {
   "cell_type": "markdown",
   "metadata": {},
   "source": [
    "##### Contagem total de comentários : Valência"
   ]
  },
  {
   "cell_type": "code",
   "execution_count": 28,
   "metadata": {
    "ExecuteTime": {
     "end_time": "2018-11-26T01:37:05.557650Z",
     "start_time": "2018-11-26T01:37:05.390048Z"
    }
   },
   "outputs": [
    {
     "data": {
      "text/html": [
       "<div>\n",
       "<style scoped>\n",
       "    .dataframe tbody tr th:only-of-type {\n",
       "        vertical-align: middle;\n",
       "    }\n",
       "\n",
       "    .dataframe tbody tr th {\n",
       "        vertical-align: top;\n",
       "    }\n",
       "\n",
       "    .dataframe thead th {\n",
       "        text-align: right;\n",
       "    }\n",
       "</style>\n",
       "<table border=\"1\" class=\"dataframe\">\n",
       "  <thead>\n",
       "    <tr style=\"text-align: right;\">\n",
       "      <th></th>\n",
       "      <th>POSITIVO</th>\n",
       "      <th>NEGATIVO</th>\n",
       "      <th>NEUTRO</th>\n",
       "    </tr>\n",
       "  </thead>\n",
       "  <tbody>\n",
       "    <tr>\n",
       "      <th>0</th>\n",
       "      <td>2742</td>\n",
       "      <td>4686</td>\n",
       "      <td>208</td>\n",
       "    </tr>\n",
       "  </tbody>\n",
       "</table>\n",
       "</div>"
      ],
      "text/plain": [
       "   POSITIVO  NEGATIVO  NEUTRO\n",
       "0      2742      4686     208"
      ]
     },
     "metadata": {},
     "output_type": "display_data"
    },
    {
     "data": {
      "image/png": "[encoded data removed]",
      "text/plain": [
       "<Figure size 576x288 with 1 Axes>"
      ]
     },
     "metadata": {
      "needs_background": "light"
     },
     "output_type": "display_data"
    }
   ],
   "source": [
    "graph_valence_total(rede_social, cores_val2, valencia, positivo, negativo, neutro)"
   ]
  },
  {
   "cell_type": "markdown",
   "metadata": {},
   "source": [
    "##### Contagem total de comentários : Emoções"
   ]
  },
  {
   "cell_type": "code",
   "execution_count": 29,
   "metadata": {
    "ExecuteTime": {
     "end_time": "2018-11-26T01:37:05.792820Z",
     "start_time": "2018-11-26T01:37:05.559833Z"
    }
   },
   "outputs": [
    {
     "data": {
      "text/html": [
       "<div>\n",
       "<style scoped>\n",
       "    .dataframe tbody tr th:only-of-type {\n",
       "        vertical-align: middle;\n",
       "    }\n",
       "\n",
       "    .dataframe tbody tr th {\n",
       "        vertical-align: top;\n",
       "    }\n",
       "\n",
       "    .dataframe thead th {\n",
       "        text-align: right;\n",
       "    }\n",
       "</style>\n",
       "<table border=\"1\" class=\"dataframe\">\n",
       "  <thead>\n",
       "    <tr style=\"text-align: right;\">\n",
       "      <th></th>\n",
       "      <th>ALEGRIA</th>\n",
       "      <th>SURPRESA</th>\n",
       "      <th>TRISTEZA</th>\n",
       "      <th>MEDO</th>\n",
       "      <th>RAIVA</th>\n",
       "      <th>DESGOSTO</th>\n",
       "      <th>NEUTRO</th>\n",
       "    </tr>\n",
       "  </thead>\n",
       "  <tbody>\n",
       "    <tr>\n",
       "      <th>0</th>\n",
       "      <td>2699</td>\n",
       "      <td>43</td>\n",
       "      <td>4274</td>\n",
       "      <td>7</td>\n",
       "      <td>27</td>\n",
       "      <td>378</td>\n",
       "      <td>208</td>\n",
       "    </tr>\n",
       "  </tbody>\n",
       "</table>\n",
       "</div>"
      ],
      "text/plain": [
       "   ALEGRIA  SURPRESA  TRISTEZA  MEDO  RAIVA  DESGOSTO  NEUTRO\n",
       "0     2699        43      4274     7     27       378     208"
      ]
     },
     "metadata": {},
     "output_type": "display_data"
    },
    {
     "data": {
      "image/png": "[encoded data removed]",
      "text/plain": [
       "<Figure size 576x288 with 1 Axes>"
      ]
     },
     "metadata": {
      "needs_background": "light"
     },
     "output_type": "display_data"
    }
   ],
   "source": [
    "graph_sentimentos_total(rede_social, cores, sentimentos, alegria, surpresa, tristeza, medo, raiva, desgosto, neutro)"
   ]
  },
  {
   "cell_type": "markdown",
   "metadata": {},
   "source": [
    "##### Comentários por data : Valência"
   ]
  },
  {
   "cell_type": "code",
   "execution_count": 30,
   "metadata": {
    "ExecuteTime": {
     "end_time": "2018-11-26T01:37:07.648019Z",
     "start_time": "2018-11-26T01:37:05.795276Z"
    }
   },
   "outputs": [
    {
     "data": {
      "text/html": [
       "<div>\n",
       "<style scoped>\n",
       "    .dataframe tbody tr th:only-of-type {\n",
       "        vertical-align: middle;\n",
       "    }\n",
       "\n",
       "    .dataframe tbody tr th {\n",
       "        vertical-align: top;\n",
       "    }\n",
       "\n",
       "    .dataframe thead th {\n",
       "        text-align: right;\n",
       "    }\n",
       "</style>\n",
       "<table border=\"1\" class=\"dataframe\">\n",
       "  <thead>\n",
       "    <tr style=\"text-align: right;\">\n",
       "      <th></th>\n",
       "      <th>04/08/2018</th>\n",
       "      <th>05/08/2018</th>\n",
       "      <th>06/08/2018</th>\n",
       "      <th>07/08/2018</th>\n",
       "      <th>08/08/2018</th>\n",
       "      <th>09/08/2018</th>\n",
       "      <th>10/08/2018</th>\n",
       "      <th>11/08/2018</th>\n",
       "    </tr>\n",
       "  </thead>\n",
       "  <tbody>\n",
       "    <tr>\n",
       "      <th>NEGATIVO</th>\n",
       "      <td>50</td>\n",
       "      <td>30</td>\n",
       "      <td>23</td>\n",
       "      <td>27</td>\n",
       "      <td>25</td>\n",
       "      <td>37</td>\n",
       "      <td>90</td>\n",
       "      <td>17</td>\n",
       "    </tr>\n",
       "    <tr>\n",
       "      <th>NEUTRO</th>\n",
       "      <td>1</td>\n",
       "      <td>0</td>\n",
       "      <td>1</td>\n",
       "      <td>1</td>\n",
       "      <td>0</td>\n",
       "      <td>2</td>\n",
       "      <td>6</td>\n",
       "      <td>0</td>\n",
       "    </tr>\n",
       "    <tr>\n",
       "      <th>POSITIVO</th>\n",
       "      <td>24</td>\n",
       "      <td>13</td>\n",
       "      <td>6</td>\n",
       "      <td>16</td>\n",
       "      <td>34</td>\n",
       "      <td>27</td>\n",
       "      <td>61</td>\n",
       "      <td>12</td>\n",
       "    </tr>\n",
       "  </tbody>\n",
       "</table>\n",
       "</div>"
      ],
      "text/plain": [
       "          04/08/2018  05/08/2018  06/08/2018  07/08/2018  08/08/2018  \\\n",
       "NEGATIVO          50          30          23          27          25   \n",
       "NEUTRO             1           0           1           1           0   \n",
       "POSITIVO          24          13           6          16          34   \n",
       "\n",
       "          09/08/2018  10/08/2018  11/08/2018  \n",
       "NEGATIVO          37          90          17  \n",
       "NEUTRO             2           6           0  \n",
       "POSITIVO          27          61          12  "
      ]
     },
     "metadata": {},
     "output_type": "display_data"
    },
    {
     "data": {
      "image/png": "[encoded data removed]",
      "text/plain": [
       "<Figure size 1224x432 with 1 Axes>"
      ]
     },
     "metadata": {
      "needs_background": "light"
     },
     "output_type": "display_data"
    }
   ],
   "source": [
    "graph_valencia_por_data(rede_social, cores_val, valencia_dict, comentarios)"
   ]
  },
  {
   "cell_type": "markdown",
   "metadata": {},
   "source": [
    "##### Comentários por data : Emoções"
   ]
  },
  {
   "cell_type": "code",
   "execution_count": 31,
   "metadata": {
    "ExecuteTime": {
     "end_time": "2018-11-26T01:37:09.824398Z",
     "start_time": "2018-11-26T01:37:07.649677Z"
    },
    "scrolled": false
   },
   "outputs": [
    {
     "data": {
      "text/html": [
       "<div>\n",
       "<style scoped>\n",
       "    .dataframe tbody tr th:only-of-type {\n",
       "        vertical-align: middle;\n",
       "    }\n",
       "\n",
       "    .dataframe tbody tr th {\n",
       "        vertical-align: top;\n",
       "    }\n",
       "\n",
       "    .dataframe thead th {\n",
       "        text-align: right;\n",
       "    }\n",
       "</style>\n",
       "<table border=\"1\" class=\"dataframe\">\n",
       "  <thead>\n",
       "    <tr style=\"text-align: right;\">\n",
       "      <th></th>\n",
       "      <th>04/08/2018</th>\n",
       "      <th>05/08/2018</th>\n",
       "      <th>06/08/2018</th>\n",
       "      <th>07/08/2018</th>\n",
       "      <th>08/08/2018</th>\n",
       "      <th>09/08/2018</th>\n",
       "      <th>10/08/2018</th>\n",
       "      <th>11/08/2018</th>\n",
       "    </tr>\n",
       "  </thead>\n",
       "  <tbody>\n",
       "    <tr>\n",
       "      <th>ALEGRIA</th>\n",
       "      <td>23</td>\n",
       "      <td>13</td>\n",
       "      <td>6</td>\n",
       "      <td>16</td>\n",
       "      <td>34</td>\n",
       "      <td>27</td>\n",
       "      <td>59</td>\n",
       "      <td>12</td>\n",
       "    </tr>\n",
       "    <tr>\n",
       "      <th>DESGOSTO</th>\n",
       "      <td>6</td>\n",
       "      <td>5</td>\n",
       "      <td>2</td>\n",
       "      <td>0</td>\n",
       "      <td>3</td>\n",
       "      <td>1</td>\n",
       "      <td>4</td>\n",
       "      <td>2</td>\n",
       "    </tr>\n",
       "    <tr>\n",
       "      <th>MEDO</th>\n",
       "      <td>0</td>\n",
       "      <td>0</td>\n",
       "      <td>0</td>\n",
       "      <td>0</td>\n",
       "      <td>1</td>\n",
       "      <td>0</td>\n",
       "      <td>2</td>\n",
       "      <td>0</td>\n",
       "    </tr>\n",
       "    <tr>\n",
       "      <th>NEUTRO</th>\n",
       "      <td>1</td>\n",
       "      <td>0</td>\n",
       "      <td>1</td>\n",
       "      <td>1</td>\n",
       "      <td>0</td>\n",
       "      <td>2</td>\n",
       "      <td>6</td>\n",
       "      <td>0</td>\n",
       "    </tr>\n",
       "    <tr>\n",
       "      <th>RAIVA</th>\n",
       "      <td>0</td>\n",
       "      <td>0</td>\n",
       "      <td>0</td>\n",
       "      <td>0</td>\n",
       "      <td>0</td>\n",
       "      <td>0</td>\n",
       "      <td>0</td>\n",
       "      <td>0</td>\n",
       "    </tr>\n",
       "    <tr>\n",
       "      <th>SURPRESA</th>\n",
       "      <td>1</td>\n",
       "      <td>0</td>\n",
       "      <td>0</td>\n",
       "      <td>0</td>\n",
       "      <td>0</td>\n",
       "      <td>0</td>\n",
       "      <td>2</td>\n",
       "      <td>0</td>\n",
       "    </tr>\n",
       "    <tr>\n",
       "      <th>TRISTEZA</th>\n",
       "      <td>44</td>\n",
       "      <td>25</td>\n",
       "      <td>21</td>\n",
       "      <td>27</td>\n",
       "      <td>21</td>\n",
       "      <td>36</td>\n",
       "      <td>84</td>\n",
       "      <td>15</td>\n",
       "    </tr>\n",
       "  </tbody>\n",
       "</table>\n",
       "</div>"
      ],
      "text/plain": [
       "          04/08/2018  05/08/2018  06/08/2018  07/08/2018  08/08/2018  \\\n",
       "ALEGRIA           23          13           6          16          34   \n",
       "DESGOSTO           6           5           2           0           3   \n",
       "MEDO               0           0           0           0           1   \n",
       "NEUTRO             1           0           1           1           0   \n",
       "RAIVA              0           0           0           0           0   \n",
       "SURPRESA           1           0           0           0           0   \n",
       "TRISTEZA          44          25          21          27          21   \n",
       "\n",
       "          09/08/2018  10/08/2018  11/08/2018  \n",
       "ALEGRIA           27          59          12  \n",
       "DESGOSTO           1           4           2  \n",
       "MEDO               0           2           0  \n",
       "NEUTRO             2           6           0  \n",
       "RAIVA              0           0           0  \n",
       "SURPRESA           0           2           0  \n",
       "TRISTEZA          36          84          15  "
      ]
     },
     "metadata": {},
     "output_type": "display_data"
    },
    {
     "data": {
      "image/png": "[encoded data removed]",
      "text/plain": [
       "<Figure size 1224x432 with 1 Axes>"
      ]
     },
     "metadata": {
      "needs_background": "light"
     },
     "output_type": "display_data"
    }
   ],
   "source": [
    "graph_emocoes_por_data(rede_social, cores2, sentimentos_dict, comentarios)"
   ]
  },
  {
   "cell_type": "markdown",
   "metadata": {},
   "source": [
    "#### Marina Silva"
   ]
  },
  {
   "cell_type": "code",
   "execution_count": 32,
   "metadata": {
    "ExecuteTime": {
     "end_time": "2018-11-26T01:37:10.055535Z",
     "start_time": "2018-11-26T01:37:09.826436Z"
    }
   },
   "outputs": [],
   "source": [
    "candidato_c = [modelo.candidate == 'Marina Silva']\n",
    "\n",
    "total_comentarios = modelo.select() \\\n",
    "        .where(reduce(operator.and_, default_clause + candidato_c)) \\\n",
    "        .count()\n",
    "\n",
    "comentarios_positivos = modelo.select() \\\n",
    "        .where(reduce(operator.and_, default_clause + positivo_clause + candidato_c)) \\\n",
    "        .order_by(modelo.timestamp)\n",
    "\n",
    "comentarios_negativos = modelo.select() \\\n",
    "        .where(reduce(operator.and_, default_clause + negativo_clause + candidato_c)) \\\n",
    "        .order_by(modelo.timestamp)\n",
    "\n",
    "comentarios_neutros = modelo.select() \\\n",
    "        .where(reduce(operator.and_, default_clause + neutro_clause + candidato_c)) \\\n",
    "        .order_by(modelo.timestamp)\n",
    "\n",
    "comentarios = modelo.select() \\\n",
    "        .where(reduce(operator.and_, general + candidato_c)) \\\n",
    "        .order_by(modelo.timestamp)"
   ]
  },
  {
   "cell_type": "code",
   "execution_count": 33,
   "metadata": {
    "ExecuteTime": {
     "end_time": "2018-11-26T01:37:10.379259Z",
     "start_time": "2018-11-26T01:37:10.057212Z"
    }
   },
   "outputs": [
    {
     "name": "stdout",
     "output_type": "stream",
     "text": [
      "Estatísticas do Twitter:\n",
      "--------------------\n",
      "Total de Comentários  : 22069\n",
      "Comentários Positivos : 4133\n",
      "Comentários Negativos : 6029\n",
      "Comentários Neutros   : 246\n",
      "\n",
      "Porcentagem de comentários:\n",
      "--------------------\n",
      "Comentários Positivos : 18.73%\n",
      "Comentários Negativos : 27.32%\n",
      "Comentários Neutros   : 1.11%\n",
      "Total                 : 47.16%\n"
     ]
    }
   ],
   "source": [
    "alegria, surpresa, tristeza, medo, raiva, desgosto, positivo, negativo, neutro = load_emocoes_comentarios(comentarios_positivos, comentarios_negativos, comentarios_neutros)\n",
    "print_statistics(rede_social, total_comentarios, comentarios_positivos, comentarios_negativos, comentarios_neutros)"
   ]
  },
  {
   "cell_type": "markdown",
   "metadata": {},
   "source": [
    "##### Contagem total de comentários : Valência"
   ]
  },
  {
   "cell_type": "code",
   "execution_count": 34,
   "metadata": {
    "ExecuteTime": {
     "end_time": "2018-11-26T01:37:10.582330Z",
     "start_time": "2018-11-26T01:37:10.382642Z"
    }
   },
   "outputs": [
    {
     "data": {
      "text/html": [
       "<div>\n",
       "<style scoped>\n",
       "    .dataframe tbody tr th:only-of-type {\n",
       "        vertical-align: middle;\n",
       "    }\n",
       "\n",
       "    .dataframe tbody tr th {\n",
       "        vertical-align: top;\n",
       "    }\n",
       "\n",
       "    .dataframe thead th {\n",
       "        text-align: right;\n",
       "    }\n",
       "</style>\n",
       "<table border=\"1\" class=\"dataframe\">\n",
       "  <thead>\n",
       "    <tr style=\"text-align: right;\">\n",
       "      <th></th>\n",
       "      <th>POSITIVO</th>\n",
       "      <th>NEGATIVO</th>\n",
       "      <th>NEUTRO</th>\n",
       "    </tr>\n",
       "  </thead>\n",
       "  <tbody>\n",
       "    <tr>\n",
       "      <th>0</th>\n",
       "      <td>4133</td>\n",
       "      <td>6029</td>\n",
       "      <td>246</td>\n",
       "    </tr>\n",
       "  </tbody>\n",
       "</table>\n",
       "</div>"
      ],
      "text/plain": [
       "   POSITIVO  NEGATIVO  NEUTRO\n",
       "0      4133      6029     246"
      ]
     },
     "metadata": {},
     "output_type": "display_data"
    },
    {
     "data": {
      "image/png": "[encoded data removed]",
      "text/plain": [
       "<Figure size 576x288 with 1 Axes>"
      ]
     },
     "metadata": {
      "needs_background": "light"
     },
     "output_type": "display_data"
    }
   ],
   "source": [
    "graph_valence_total(rede_social, cores_val2, valencia, positivo, negativo, neutro)"
   ]
  },
  {
   "cell_type": "markdown",
   "metadata": {},
   "source": [
    "##### Contagem total de comentários : Emoções"
   ]
  },
  {
   "cell_type": "code",
   "execution_count": 35,
   "metadata": {
    "ExecuteTime": {
     "end_time": "2018-11-26T01:37:10.769372Z",
     "start_time": "2018-11-26T01:37:10.584396Z"
    }
   },
   "outputs": [
    {
     "data": {
      "text/html": [
       "<div>\n",
       "<style scoped>\n",
       "    .dataframe tbody tr th:only-of-type {\n",
       "        vertical-align: middle;\n",
       "    }\n",
       "\n",
       "    .dataframe tbody tr th {\n",
       "        vertical-align: top;\n",
       "    }\n",
       "\n",
       "    .dataframe thead th {\n",
       "        text-align: right;\n",
       "    }\n",
       "</style>\n",
       "<table border=\"1\" class=\"dataframe\">\n",
       "  <thead>\n",
       "    <tr style=\"text-align: right;\">\n",
       "      <th></th>\n",
       "      <th>ALEGRIA</th>\n",
       "      <th>SURPRESA</th>\n",
       "      <th>TRISTEZA</th>\n",
       "      <th>MEDO</th>\n",
       "      <th>RAIVA</th>\n",
       "      <th>DESGOSTO</th>\n",
       "      <th>NEUTRO</th>\n",
       "    </tr>\n",
       "  </thead>\n",
       "  <tbody>\n",
       "    <tr>\n",
       "      <th>0</th>\n",
       "      <td>4076</td>\n",
       "      <td>57</td>\n",
       "      <td>5554</td>\n",
       "      <td>1</td>\n",
       "      <td>57</td>\n",
       "      <td>417</td>\n",
       "      <td>246</td>\n",
       "    </tr>\n",
       "  </tbody>\n",
       "</table>\n",
       "</div>"
      ],
      "text/plain": [
       "   ALEGRIA  SURPRESA  TRISTEZA  MEDO  RAIVA  DESGOSTO  NEUTRO\n",
       "0     4076        57      5554     1     57       417     246"
      ]
     },
     "metadata": {},
     "output_type": "display_data"
    },
    {
     "data": {
      "image/png": "[encoded data removed]",
      "text/plain": [
       "<Figure size 576x288 with 1 Axes>"
      ]
     },
     "metadata": {
      "needs_background": "light"
     },
     "output_type": "display_data"
    }
   ],
   "source": [
    "graph_sentimentos_total(rede_social, cores, sentimentos, alegria, surpresa, tristeza, medo, raiva, desgosto, neutro)"
   ]
  },
  {
   "cell_type": "markdown",
   "metadata": {},
   "source": [
    "##### Comentários por data : Valência"
   ]
  },
  {
   "cell_type": "code",
   "execution_count": 36,
   "metadata": {
    "ExecuteTime": {
     "end_time": "2018-11-26T01:37:13.275995Z",
     "start_time": "2018-11-26T01:37:10.772509Z"
    }
   },
   "outputs": [
    {
     "data": {
      "text/html": [
       "<div>\n",
       "<style scoped>\n",
       "    .dataframe tbody tr th:only-of-type {\n",
       "        vertical-align: middle;\n",
       "    }\n",
       "\n",
       "    .dataframe tbody tr th {\n",
       "        vertical-align: top;\n",
       "    }\n",
       "\n",
       "    .dataframe thead th {\n",
       "        text-align: right;\n",
       "    }\n",
       "</style>\n",
       "<table border=\"1\" class=\"dataframe\">\n",
       "  <thead>\n",
       "    <tr style=\"text-align: right;\">\n",
       "      <th></th>\n",
       "      <th>06/08/2018</th>\n",
       "      <th>07/08/2018</th>\n",
       "      <th>08/08/2018</th>\n",
       "      <th>09/08/2018</th>\n",
       "      <th>10/08/2018</th>\n",
       "      <th>11/08/2018</th>\n",
       "      <th>12/08/2018</th>\n",
       "      <th>13/08/2018</th>\n",
       "    </tr>\n",
       "  </thead>\n",
       "  <tbody>\n",
       "    <tr>\n",
       "      <th>NEGATIVO</th>\n",
       "      <td>3</td>\n",
       "      <td>30</td>\n",
       "      <td>23</td>\n",
       "      <td>127</td>\n",
       "      <td>72</td>\n",
       "      <td>5</td>\n",
       "      <td>13</td>\n",
       "      <td>39</td>\n",
       "    </tr>\n",
       "    <tr>\n",
       "      <th>NEUTRO</th>\n",
       "      <td>0</td>\n",
       "      <td>2</td>\n",
       "      <td>1</td>\n",
       "      <td>5</td>\n",
       "      <td>6</td>\n",
       "      <td>0</td>\n",
       "      <td>0</td>\n",
       "      <td>4</td>\n",
       "    </tr>\n",
       "    <tr>\n",
       "      <th>POSITIVO</th>\n",
       "      <td>3</td>\n",
       "      <td>30</td>\n",
       "      <td>18</td>\n",
       "      <td>89</td>\n",
       "      <td>64</td>\n",
       "      <td>6</td>\n",
       "      <td>13</td>\n",
       "      <td>61</td>\n",
       "    </tr>\n",
       "  </tbody>\n",
       "</table>\n",
       "</div>"
      ],
      "text/plain": [
       "          06/08/2018  07/08/2018  08/08/2018  09/08/2018  10/08/2018  \\\n",
       "NEGATIVO           3          30          23         127          72   \n",
       "NEUTRO             0           2           1           5           6   \n",
       "POSITIVO           3          30          18          89          64   \n",
       "\n",
       "          11/08/2018  12/08/2018  13/08/2018  \n",
       "NEGATIVO           5          13          39  \n",
       "NEUTRO             0           0           4  \n",
       "POSITIVO           6          13          61  "
      ]
     },
     "metadata": {},
     "output_type": "display_data"
    },
    {
     "data": {
      "image/png": "[encoded data removed]",
      "text/plain": [
       "<Figure size 1224x432 with 1 Axes>"
      ]
     },
     "metadata": {
      "needs_background": "light"
     },
     "output_type": "display_data"
    }
   ],
   "source": [
    "graph_valencia_por_data(rede_social, cores_val, valencia_dict, comentarios)"
   ]
  },
  {
   "cell_type": "markdown",
   "metadata": {},
   "source": [
    "##### Comentários por data : Emoções"
   ]
  },
  {
   "cell_type": "code",
   "execution_count": 37,
   "metadata": {
    "ExecuteTime": {
     "end_time": "2018-11-26T01:37:16.012619Z",
     "start_time": "2018-11-26T01:37:13.278270Z"
    },
    "scrolled": false
   },
   "outputs": [
    {
     "data": {
      "text/html": [
       "<div>\n",
       "<style scoped>\n",
       "    .dataframe tbody tr th:only-of-type {\n",
       "        vertical-align: middle;\n",
       "    }\n",
       "\n",
       "    .dataframe tbody tr th {\n",
       "        vertical-align: top;\n",
       "    }\n",
       "\n",
       "    .dataframe thead th {\n",
       "        text-align: right;\n",
       "    }\n",
       "</style>\n",
       "<table border=\"1\" class=\"dataframe\">\n",
       "  <thead>\n",
       "    <tr style=\"text-align: right;\">\n",
       "      <th></th>\n",
       "      <th>06/08/2018</th>\n",
       "      <th>07/08/2018</th>\n",
       "      <th>08/08/2018</th>\n",
       "      <th>09/08/2018</th>\n",
       "      <th>10/08/2018</th>\n",
       "      <th>11/08/2018</th>\n",
       "      <th>12/08/2018</th>\n",
       "      <th>13/08/2018</th>\n",
       "    </tr>\n",
       "  </thead>\n",
       "  <tbody>\n",
       "    <tr>\n",
       "      <th>ALEGRIA</th>\n",
       "      <td>3</td>\n",
       "      <td>29</td>\n",
       "      <td>18</td>\n",
       "      <td>87</td>\n",
       "      <td>64</td>\n",
       "      <td>6</td>\n",
       "      <td>13</td>\n",
       "      <td>61</td>\n",
       "    </tr>\n",
       "    <tr>\n",
       "      <th>DESGOSTO</th>\n",
       "      <td>1</td>\n",
       "      <td>5</td>\n",
       "      <td>5</td>\n",
       "      <td>12</td>\n",
       "      <td>7</td>\n",
       "      <td>1</td>\n",
       "      <td>1</td>\n",
       "      <td>2</td>\n",
       "    </tr>\n",
       "    <tr>\n",
       "      <th>MEDO</th>\n",
       "      <td>0</td>\n",
       "      <td>0</td>\n",
       "      <td>0</td>\n",
       "      <td>0</td>\n",
       "      <td>0</td>\n",
       "      <td>0</td>\n",
       "      <td>0</td>\n",
       "      <td>0</td>\n",
       "    </tr>\n",
       "    <tr>\n",
       "      <th>NEUTRO</th>\n",
       "      <td>0</td>\n",
       "      <td>2</td>\n",
       "      <td>1</td>\n",
       "      <td>5</td>\n",
       "      <td>6</td>\n",
       "      <td>0</td>\n",
       "      <td>0</td>\n",
       "      <td>4</td>\n",
       "    </tr>\n",
       "    <tr>\n",
       "      <th>RAIVA</th>\n",
       "      <td>0</td>\n",
       "      <td>1</td>\n",
       "      <td>0</td>\n",
       "      <td>1</td>\n",
       "      <td>1</td>\n",
       "      <td>0</td>\n",
       "      <td>0</td>\n",
       "      <td>0</td>\n",
       "    </tr>\n",
       "    <tr>\n",
       "      <th>SURPRESA</th>\n",
       "      <td>0</td>\n",
       "      <td>1</td>\n",
       "      <td>0</td>\n",
       "      <td>2</td>\n",
       "      <td>0</td>\n",
       "      <td>0</td>\n",
       "      <td>0</td>\n",
       "      <td>0</td>\n",
       "    </tr>\n",
       "    <tr>\n",
       "      <th>TRISTEZA</th>\n",
       "      <td>2</td>\n",
       "      <td>24</td>\n",
       "      <td>18</td>\n",
       "      <td>114</td>\n",
       "      <td>64</td>\n",
       "      <td>4</td>\n",
       "      <td>12</td>\n",
       "      <td>37</td>\n",
       "    </tr>\n",
       "  </tbody>\n",
       "</table>\n",
       "</div>"
      ],
      "text/plain": [
       "          06/08/2018  07/08/2018  08/08/2018  09/08/2018  10/08/2018  \\\n",
       "ALEGRIA            3          29          18          87          64   \n",
       "DESGOSTO           1           5           5          12           7   \n",
       "MEDO               0           0           0           0           0   \n",
       "NEUTRO             0           2           1           5           6   \n",
       "RAIVA              0           1           0           1           1   \n",
       "SURPRESA           0           1           0           2           0   \n",
       "TRISTEZA           2          24          18         114          64   \n",
       "\n",
       "          11/08/2018  12/08/2018  13/08/2018  \n",
       "ALEGRIA            6          13          61  \n",
       "DESGOSTO           1           1           2  \n",
       "MEDO               0           0           0  \n",
       "NEUTRO             0           0           4  \n",
       "RAIVA              0           0           0  \n",
       "SURPRESA           0           0           0  \n",
       "TRISTEZA           4          12          37  "
      ]
     },
     "metadata": {},
     "output_type": "display_data"
    },
    {
     "data": {
      "image/png": "[encoded data removed]",
      "text/plain": [
       "<Figure size 1224x432 with 1 Axes>"
      ]
     },
     "metadata": {
      "needs_background": "light"
     },
     "output_type": "display_data"
    }
   ],
   "source": [
    "graph_emocoes_por_data(rede_social, cores2, sentimentos_dict, comentarios)"
   ]
  },
  {
   "cell_type": "code",
   "execution_count": null,
   "metadata": {},
   "outputs": [],
   "source": []
  }
 ],
 "metadata": {
  "hide_input": false,
  "kernelspec": {
   "display_name": "Python 3",
   "language": "python",
   "name": "python3"
  },
  "language_info": {
   "codemirror_mode": {
    "name": "ipython",
    "version": 3
   },
   "file_extension": ".py",
   "mimetype": "text/x-python",
   "name": "python",
   "nbconvert_exporter": "python",
   "pygments_lexer": "ipython3",
   "version": "3.7.1"
  },
  "latex_envs": {
   "LaTeX_envs_menu_present": true,
   "autoclose": false,
   "autocomplete": true,
   "bibliofile": "biblio.bib",
   "cite_by": "apalike",
   "current_citInitial": 1,
   "eqLabelWithNumbers": true,
   "eqNumInitial": 1,
   "hotkeys": {
    "equation": "Ctrl-E",
    "itemize": "Ctrl-I"
   },
   "labels_anchors": false,
   "latex_user_defs": false,
   "report_style_numbering": false,
   "user_envs_cfg": false
  },
  "toc": {
   "base_numbering": 1,
   "nav_menu": {
    "height": "12px",
    "width": "252px"
   },
   "number_sections": true,
   "sideBar": true,
   "skip_h1_title": false,
   "title_cell": "Table of Contents",
   "title_sidebar": "Contents",
   "toc_cell": false,
   "toc_position": {},
   "toc_section_display": "block",
   "toc_window_display": false
  }
 },
 "nbformat": 4,
 "nbformat_minor": 2
}
