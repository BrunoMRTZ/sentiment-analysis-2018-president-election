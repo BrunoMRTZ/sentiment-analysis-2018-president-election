{
 "cells": [
  {
   "cell_type": "code",
   "execution_count": 1,
   "metadata": {
    "ExecuteTime": {
     "end_time": "2018-11-26T01:32:45.104029Z",
     "start_time": "2018-11-26T01:32:43.285292Z"
    }
   },
   "outputs": [],
   "source": [
    "import sys\n",
    "sys.path.append('..')\n",
    "sys.path.append('../..')\n",
    "\n",
    "from stats import *\n",
    "from sentiment_stats import *\n",
    "\n",
    "from peewee import SQL\n",
    "from database.models import RawFacebookComments, RawTwitterComments, RawInstagramComments, RawYouTubeComments, RawHashtagComments\n",
    "\n",
    "rede_social = 'Facebook'\n",
    "modelo = RawFacebookComments\n",
    "\n",
    "cores = ['#FFA726', '#66BB6A', '#42A5F5', '#FFEE58', '#EF5350', '#AB47BC', '#C8C8C8']\n",
    "cores2 = ['#FFA726', '#AB47BC', '#FFEE58', '#C8C8C8', '#EF5350', '#66BB6A', '#42A5F5']\n",
    "cores_val = ['#EF5350', '#C8C8C8', '#66BB6A']\n",
    "cores_val2 = ['#66BB6A', '#EF5350', '#C8C8C8']\n",
    "sentimentos = ['ALEGRIA', 'SURPRESA', 'TRISTEZA', 'MEDO', 'RAIVA', 'DESGOSTO', 'NEUTRO']\n",
    "valencia = ['POSITIVO', 'NEGATIVO', 'NEUTRO']\n",
    "\n",
    "valencia_dict = OrderedDict()\n",
    "for val in valencia:\n",
    "    valencia_dict[val] = 0\n",
    "\n",
    "sentimentos_dict = OrderedDict()\n",
    "for sentimento in sentimentos:\n",
    "    sentimentos_dict[sentimento] = 0\n",
    "    \n",
    "default_clause = [\n",
    "    SQL('length(clean_comment) > 0'),\n",
    "]\n",
    "\n",
    "positivo_clause = [\n",
    "    SQL('length(emotion) > 0 AND length(valence) > 0'),\n",
    "    SQL('emotion in (\"ALEGRIA\", \"SURPRESA\") AND valence = \"POSITIVO\"')\n",
    "]\n",
    "\n",
    "negativo_clause = [\n",
    "    SQL('length(emotion) > 0 AND length(valence) > 0'),\n",
    "    SQL('emotion in (\"TRISTEZA\", \"RAIVA\", \"MEDO\", \"DESGOSTO\") AND valence = \"NEGATIVO\"')\n",
    "]\n",
    "\n",
    "neutro_clause = [\n",
    "    SQL('length(emotion) > 0 AND length(valence) > 0'),\n",
    "    SQL('emotion in (\"NEUTRO\") AND valence = \"NEUTRO\"')\n",
    "]\n",
    "\n",
    "general = default_clause + [\n",
    "    SQL('length(emotion) > 0 AND length(valence) > 0'),\n",
    "    SQL(\"\"\"\n",
    "        (emotion in (\"ALEGRIA\", \"SURPRESA\") AND valence = \"POSITIVO\") \n",
    "        OR \n",
    "        (emotion in (\"TRISTEZA\", \"RAIVA\", \"MEDO\", \"DESGOSTO\") AND valence = \"NEGATIVO\")\n",
    "        OR\n",
    "        (emotion in (\"NEUTRO\") AND valence = \"NEUTRO\")\n",
    "    \"\"\")\n",
    "]"
   ]
  },
  {
   "cell_type": "markdown",
   "metadata": {},
   "source": [
    "### Emoções gerais dos comentários : Facebook"
   ]
  },
  {
   "cell_type": "code",
   "execution_count": 2,
   "metadata": {
    "ExecuteTime": {
     "end_time": "2018-11-26T01:32:45.140211Z",
     "start_time": "2018-11-26T01:32:45.106529Z"
    }
   },
   "outputs": [],
   "source": [
    "total_comentarios = modelo.select() \\\n",
    "        .where(default_clause) \\\n",
    "        .count()\n",
    "\n",
    "comentarios_positivos = modelo.select() \\\n",
    "        .where(reduce(operator.and_, default_clause + positivo_clause)) \\\n",
    "        .order_by(modelo.timestamp)\n",
    "\n",
    "comentarios_negativos = modelo.select() \\\n",
    "        .where(reduce(operator.and_, default_clause + negativo_clause)) \\\n",
    "        .order_by(modelo.timestamp)\n",
    "\n",
    "comentarios_neutros = modelo.select() \\\n",
    "        .where(reduce(operator.and_, default_clause + neutro_clause)) \\\n",
    "        .order_by(modelo.timestamp)\n",
    "\n",
    "comentarios = modelo.select() \\\n",
    "        .where(reduce(operator.and_, general)) \\\n",
    "        .order_by(modelo.timestamp)"
   ]
  },
  {
   "cell_type": "code",
   "execution_count": 3,
   "metadata": {
    "ExecuteTime": {
     "end_time": "2018-11-26T01:32:46.277158Z",
     "start_time": "2018-11-26T01:32:45.144241Z"
    }
   },
   "outputs": [
    {
     "name": "stdout",
     "output_type": "stream",
     "text": [
      "Estatísticas do Facebook:\n",
      "--------------------\n",
      "Total de Comentários  : 67025\n",
      "Comentários Positivos : 15322\n",
      "Comentários Negativos : 13742\n",
      "Comentários Neutros   : 1418\n",
      "\n",
      "Porcentagem de comentários:\n",
      "--------------------\n",
      "Comentários Positivos : 22.86%\n",
      "Comentários Negativos : 20.5%\n",
      "Comentários Neutros   : 2.12%\n",
      "Total                 : 45.48%\n"
     ]
    }
   ],
   "source": [
    "alegria, surpresa, tristeza, medo, raiva, desgosto, positivo, negativo, neutro = load_emocoes_comentarios(comentarios_positivos, comentarios_negativos, comentarios_neutros)\n",
    "print_statistics(rede_social, total_comentarios, comentarios_positivos, comentarios_negativos, comentarios_neutros)"
   ]
  },
  {
   "cell_type": "markdown",
   "metadata": {},
   "source": [
    "#### Contagem total de comentários : Valência"
   ]
  },
  {
   "cell_type": "code",
   "execution_count": 4,
   "metadata": {
    "ExecuteTime": {
     "end_time": "2018-11-26T01:32:46.510240Z",
     "start_time": "2018-11-26T01:32:46.280069Z"
    }
   },
   "outputs": [
    {
     "data": {
      "text/html": [
       "<div>\n",
       "<style scoped>\n",
       "    .dataframe tbody tr th:only-of-type {\n",
       "        vertical-align: middle;\n",
       "    }\n",
       "\n",
       "    .dataframe tbody tr th {\n",
       "        vertical-align: top;\n",
       "    }\n",
       "\n",
       "    .dataframe thead th {\n",
       "        text-align: right;\n",
       "    }\n",
       "</style>\n",
       "<table border=\"1\" class=\"dataframe\">\n",
       "  <thead>\n",
       "    <tr style=\"text-align: right;\">\n",
       "      <th></th>\n",
       "      <th>POSITIVO</th>\n",
       "      <th>NEGATIVO</th>\n",
       "      <th>NEUTRO</th>\n",
       "    </tr>\n",
       "  </thead>\n",
       "  <tbody>\n",
       "    <tr>\n",
       "      <th>0</th>\n",
       "      <td>15322</td>\n",
       "      <td>13742</td>\n",
       "      <td>1418</td>\n",
       "    </tr>\n",
       "  </tbody>\n",
       "</table>\n",
       "</div>"
      ],
      "text/plain": [
       "   POSITIVO  NEGATIVO  NEUTRO\n",
       "0     15322     13742    1418"
      ]
     },
     "metadata": {},
     "output_type": "display_data"
    },
    {
     "data": {
      "image/png": "[encoded data removed]",
      "text/plain": [
       "<Figure size 576x288 with 1 Axes>"
      ]
     },
     "metadata": {
      "needs_background": "light"
     },
     "output_type": "display_data"
    }
   ],
   "source": [
    "graph_valence_total(rede_social, cores_val2, valencia, positivo, negativo, neutro)"
   ]
  },
  {
   "cell_type": "markdown",
   "metadata": {},
   "source": [
    "#### Contagem total de comentários : Emoções"
   ]
  },
  {
   "cell_type": "code",
   "execution_count": 5,
   "metadata": {
    "ExecuteTime": {
     "end_time": "2018-11-26T01:32:46.720418Z",
     "start_time": "2018-11-26T01:32:46.512120Z"
    }
   },
   "outputs": [
    {
     "data": {
      "text/html": [
       "<div>\n",
       "<style scoped>\n",
       "    .dataframe tbody tr th:only-of-type {\n",
       "        vertical-align: middle;\n",
       "    }\n",
       "\n",
       "    .dataframe tbody tr th {\n",
       "        vertical-align: top;\n",
       "    }\n",
       "\n",
       "    .dataframe thead th {\n",
       "        text-align: right;\n",
       "    }\n",
       "</style>\n",
       "<table border=\"1\" class=\"dataframe\">\n",
       "  <thead>\n",
       "    <tr style=\"text-align: right;\">\n",
       "      <th></th>\n",
       "      <th>ALEGRIA</th>\n",
       "      <th>SURPRESA</th>\n",
       "      <th>TRISTEZA</th>\n",
       "      <th>MEDO</th>\n",
       "      <th>RAIVA</th>\n",
       "      <th>DESGOSTO</th>\n",
       "      <th>NEUTRO</th>\n",
       "    </tr>\n",
       "  </thead>\n",
       "  <tbody>\n",
       "    <tr>\n",
       "      <th>0</th>\n",
       "      <td>15203</td>\n",
       "      <td>119</td>\n",
       "      <td>12785</td>\n",
       "      <td>13</td>\n",
       "      <td>62</td>\n",
       "      <td>882</td>\n",
       "      <td>1418</td>\n",
       "    </tr>\n",
       "  </tbody>\n",
       "</table>\n",
       "</div>"
      ],
      "text/plain": [
       "   ALEGRIA  SURPRESA  TRISTEZA  MEDO  RAIVA  DESGOSTO  NEUTRO\n",
       "0    15203       119     12785    13     62       882    1418"
      ]
     },
     "metadata": {},
     "output_type": "display_data"
    },
    {
     "data": {
      "image/png": "[encoded data removed]",
      "text/plain": [
       "<Figure size 576x288 with 1 Axes>"
      ]
     },
     "metadata": {
      "needs_background": "light"
     },
     "output_type": "display_data"
    }
   ],
   "source": [
    "graph_sentimentos_total(rede_social, cores, sentimentos, alegria, surpresa, tristeza, medo, raiva, desgosto, neutro)"
   ]
  },
  {
   "cell_type": "markdown",
   "metadata": {},
   "source": [
    "#### Comentários por data : Valência"
   ]
  },
  {
   "cell_type": "code",
   "execution_count": 6,
   "metadata": {
    "ExecuteTime": {
     "end_time": "2018-11-26T01:32:50.478880Z",
     "start_time": "2018-11-26T01:32:46.722271Z"
    },
    "scrolled": false
   },
   "outputs": [
    {
     "data": {
      "text/html": [
       "<div>\n",
       "<style scoped>\n",
       "    .dataframe tbody tr th:only-of-type {\n",
       "        vertical-align: middle;\n",
       "    }\n",
       "\n",
       "    .dataframe tbody tr th {\n",
       "        vertical-align: top;\n",
       "    }\n",
       "\n",
       "    .dataframe thead th {\n",
       "        text-align: right;\n",
       "    }\n",
       "</style>\n",
       "<table border=\"1\" class=\"dataframe\">\n",
       "  <thead>\n",
       "    <tr style=\"text-align: right;\">\n",
       "      <th></th>\n",
       "      <th>16/08/2018</th>\n",
       "      <th>17/08/2018</th>\n",
       "      <th>18/08/2018</th>\n",
       "      <th>19/08/2018</th>\n",
       "      <th>20/08/2018</th>\n",
       "      <th>21/08/2018</th>\n",
       "      <th>22/08/2018</th>\n",
       "      <th>23/08/2018</th>\n",
       "    </tr>\n",
       "  </thead>\n",
       "  <tbody>\n",
       "    <tr>\n",
       "      <th>NEGATIVO</th>\n",
       "      <td>22</td>\n",
       "      <td>3</td>\n",
       "      <td>1</td>\n",
       "      <td>6</td>\n",
       "      <td>7</td>\n",
       "      <td>11</td>\n",
       "      <td>89</td>\n",
       "      <td>272</td>\n",
       "    </tr>\n",
       "    <tr>\n",
       "      <th>NEUTRO</th>\n",
       "      <td>1</td>\n",
       "      <td>0</td>\n",
       "      <td>1</td>\n",
       "      <td>0</td>\n",
       "      <td>0</td>\n",
       "      <td>1</td>\n",
       "      <td>6</td>\n",
       "      <td>13</td>\n",
       "    </tr>\n",
       "    <tr>\n",
       "      <th>POSITIVO</th>\n",
       "      <td>24</td>\n",
       "      <td>9</td>\n",
       "      <td>2</td>\n",
       "      <td>4</td>\n",
       "      <td>4</td>\n",
       "      <td>11</td>\n",
       "      <td>175</td>\n",
       "      <td>411</td>\n",
       "    </tr>\n",
       "  </tbody>\n",
       "</table>\n",
       "</div>"
      ],
      "text/plain": [
       "          16/08/2018  17/08/2018  18/08/2018  19/08/2018  20/08/2018  \\\n",
       "NEGATIVO          22           3           1           6           7   \n",
       "NEUTRO             1           0           1           0           0   \n",
       "POSITIVO          24           9           2           4           4   \n",
       "\n",
       "          21/08/2018  22/08/2018  23/08/2018  \n",
       "NEGATIVO          11          89         272  \n",
       "NEUTRO             1           6          13  \n",
       "POSITIVO          11         175         411  "
      ]
     },
     "metadata": {},
     "output_type": "display_data"
    },
    {
     "data": {
      "image/png": "[encoded data removed]",
      "text/plain": [
       "<Figure size 1224x432 with 1 Axes>"
      ]
     },
     "metadata": {
      "needs_background": "light"
     },
     "output_type": "display_data"
    }
   ],
   "source": [
    "graph_valencia_por_data(rede_social, cores_val, valencia_dict, comentarios)"
   ]
  },
  {
   "cell_type": "markdown",
   "metadata": {},
   "source": [
    "#### Comentários por data : Emoções"
   ]
  },
  {
   "cell_type": "code",
   "execution_count": 7,
   "metadata": {
    "ExecuteTime": {
     "end_time": "2018-11-26T01:32:53.741912Z",
     "start_time": "2018-11-26T01:32:50.480657Z"
    }
   },
   "outputs": [
    {
     "data": {
      "text/html": [
       "<div>\n",
       "<style scoped>\n",
       "    .dataframe tbody tr th:only-of-type {\n",
       "        vertical-align: middle;\n",
       "    }\n",
       "\n",
       "    .dataframe tbody tr th {\n",
       "        vertical-align: top;\n",
       "    }\n",
       "\n",
       "    .dataframe thead th {\n",
       "        text-align: right;\n",
       "    }\n",
       "</style>\n",
       "<table border=\"1\" class=\"dataframe\">\n",
       "  <thead>\n",
       "    <tr style=\"text-align: right;\">\n",
       "      <th></th>\n",
       "      <th>16/08/2018</th>\n",
       "      <th>17/08/2018</th>\n",
       "      <th>18/08/2018</th>\n",
       "      <th>19/08/2018</th>\n",
       "      <th>20/08/2018</th>\n",
       "      <th>21/08/2018</th>\n",
       "      <th>22/08/2018</th>\n",
       "      <th>23/08/2018</th>\n",
       "    </tr>\n",
       "  </thead>\n",
       "  <tbody>\n",
       "    <tr>\n",
       "      <th>ALEGRIA</th>\n",
       "      <td>24</td>\n",
       "      <td>9</td>\n",
       "      <td>2</td>\n",
       "      <td>4</td>\n",
       "      <td>4</td>\n",
       "      <td>11</td>\n",
       "      <td>174</td>\n",
       "      <td>409</td>\n",
       "    </tr>\n",
       "    <tr>\n",
       "      <th>DESGOSTO</th>\n",
       "      <td>0</td>\n",
       "      <td>0</td>\n",
       "      <td>0</td>\n",
       "      <td>0</td>\n",
       "      <td>1</td>\n",
       "      <td>1</td>\n",
       "      <td>6</td>\n",
       "      <td>22</td>\n",
       "    </tr>\n",
       "    <tr>\n",
       "      <th>MEDO</th>\n",
       "      <td>0</td>\n",
       "      <td>0</td>\n",
       "      <td>0</td>\n",
       "      <td>0</td>\n",
       "      <td>0</td>\n",
       "      <td>0</td>\n",
       "      <td>0</td>\n",
       "      <td>0</td>\n",
       "    </tr>\n",
       "    <tr>\n",
       "      <th>NEUTRO</th>\n",
       "      <td>1</td>\n",
       "      <td>0</td>\n",
       "      <td>1</td>\n",
       "      <td>0</td>\n",
       "      <td>0</td>\n",
       "      <td>1</td>\n",
       "      <td>6</td>\n",
       "      <td>13</td>\n",
       "    </tr>\n",
       "    <tr>\n",
       "      <th>RAIVA</th>\n",
       "      <td>1</td>\n",
       "      <td>0</td>\n",
       "      <td>0</td>\n",
       "      <td>0</td>\n",
       "      <td>0</td>\n",
       "      <td>0</td>\n",
       "      <td>0</td>\n",
       "      <td>2</td>\n",
       "    </tr>\n",
       "    <tr>\n",
       "      <th>SURPRESA</th>\n",
       "      <td>0</td>\n",
       "      <td>0</td>\n",
       "      <td>0</td>\n",
       "      <td>0</td>\n",
       "      <td>0</td>\n",
       "      <td>0</td>\n",
       "      <td>1</td>\n",
       "      <td>2</td>\n",
       "    </tr>\n",
       "    <tr>\n",
       "      <th>TRISTEZA</th>\n",
       "      <td>21</td>\n",
       "      <td>3</td>\n",
       "      <td>1</td>\n",
       "      <td>6</td>\n",
       "      <td>6</td>\n",
       "      <td>10</td>\n",
       "      <td>83</td>\n",
       "      <td>248</td>\n",
       "    </tr>\n",
       "  </tbody>\n",
       "</table>\n",
       "</div>"
      ],
      "text/plain": [
       "          16/08/2018  17/08/2018  18/08/2018  19/08/2018  20/08/2018  \\\n",
       "ALEGRIA           24           9           2           4           4   \n",
       "DESGOSTO           0           0           0           0           1   \n",
       "MEDO               0           0           0           0           0   \n",
       "NEUTRO             1           0           1           0           0   \n",
       "RAIVA              1           0           0           0           0   \n",
       "SURPRESA           0           0           0           0           0   \n",
       "TRISTEZA          21           3           1           6           6   \n",
       "\n",
       "          21/08/2018  22/08/2018  23/08/2018  \n",
       "ALEGRIA           11         174         409  \n",
       "DESGOSTO           1           6          22  \n",
       "MEDO               0           0           0  \n",
       "NEUTRO             1           6          13  \n",
       "RAIVA              0           0           2  \n",
       "SURPRESA           0           1           2  \n",
       "TRISTEZA          10          83         248  "
      ]
     },
     "metadata": {},
     "output_type": "display_data"
    },
    {
     "data": {
      "image/png": "[encoded data removed]",
      "text/plain": [
       "<Figure size 1224x432 with 1 Axes>"
      ]
     },
     "metadata": {
      "needs_background": "light"
     },
     "output_type": "display_data"
    }
   ],
   "source": [
    "graph_emocoes_por_data(rede_social, cores2, sentimentos_dict, comentarios)"
   ]
  },
  {
   "cell_type": "markdown",
   "metadata": {},
   "source": [
    "### Emoções por candidato : Facebook"
   ]
  },
  {
   "cell_type": "markdown",
   "metadata": {},
   "source": [
    "#### Jair Bolsonaro"
   ]
  },
  {
   "cell_type": "code",
   "execution_count": 8,
   "metadata": {
    "ExecuteTime": {
     "end_time": "2018-11-26T01:32:53.791255Z",
     "start_time": "2018-11-26T01:32:53.743637Z"
    }
   },
   "outputs": [],
   "source": [
    "candidato_c = [modelo.candidate == 'Jair Bolsonaro']\n",
    "\n",
    "total_comentarios = modelo.select() \\\n",
    "        .where(reduce(operator.and_, default_clause + candidato_c)) \\\n",
    "        .count()\n",
    "\n",
    "comentarios_positivos = modelo.select() \\\n",
    "        .where(reduce(operator.and_, default_clause + positivo_clause + candidato_c)) \\\n",
    "        .order_by(modelo.timestamp)\n",
    "\n",
    "comentarios_negativos = modelo.select() \\\n",
    "        .where(reduce(operator.and_, default_clause + negativo_clause + candidato_c)) \\\n",
    "        .order_by(modelo.timestamp)\n",
    "\n",
    "comentarios_neutros = modelo.select() \\\n",
    "        .where(reduce(operator.and_, default_clause + neutro_clause + candidato_c)) \\\n",
    "        .order_by(modelo.timestamp)\n",
    "\n",
    "comentarios = modelo.select() \\\n",
    "        .where(reduce(operator.and_, general + candidato_c)) \\\n",
    "        .order_by(modelo.timestamp)"
   ]
  },
  {
   "cell_type": "code",
   "execution_count": 9,
   "metadata": {
    "ExecuteTime": {
     "end_time": "2018-11-26T01:32:54.130539Z",
     "start_time": "2018-11-26T01:32:53.793441Z"
    }
   },
   "outputs": [
    {
     "name": "stdout",
     "output_type": "stream",
     "text": [
      "Estatísticas do Facebook:\n",
      "--------------------\n",
      "Total de Comentários  : 16238\n",
      "Comentários Positivos : 4175\n",
      "Comentários Negativos : 3341\n",
      "Comentários Neutros   : 44\n",
      "\n",
      "Porcentagem de comentários:\n",
      "--------------------\n",
      "Comentários Positivos : 25.71%\n",
      "Comentários Negativos : 20.58%\n",
      "Comentários Neutros   : 0.27%\n",
      "Total                 : 46.56%\n"
     ]
    }
   ],
   "source": [
    "alegria, surpresa, tristeza, medo, raiva, desgosto, positivo, negativo, neutro = load_emocoes_comentarios(comentarios_positivos, comentarios_negativos, comentarios_neutros)\n",
    "print_statistics(rede_social, total_comentarios, comentarios_positivos, comentarios_negativos, comentarios_neutros)"
   ]
  },
  {
   "cell_type": "markdown",
   "metadata": {},
   "source": [
    "##### Contagem total de comentários : Valência"
   ]
  },
  {
   "cell_type": "code",
   "execution_count": 10,
   "metadata": {
    "ExecuteTime": {
     "end_time": "2018-11-26T01:32:54.279810Z",
     "start_time": "2018-11-26T01:32:54.133622Z"
    }
   },
   "outputs": [
    {
     "data": {
      "text/html": [
       "<div>\n",
       "<style scoped>\n",
       "    .dataframe tbody tr th:only-of-type {\n",
       "        vertical-align: middle;\n",
       "    }\n",
       "\n",
       "    .dataframe tbody tr th {\n",
       "        vertical-align: top;\n",
       "    }\n",
       "\n",
       "    .dataframe thead th {\n",
       "        text-align: right;\n",
       "    }\n",
       "</style>\n",
       "<table border=\"1\" class=\"dataframe\">\n",
       "  <thead>\n",
       "    <tr style=\"text-align: right;\">\n",
       "      <th></th>\n",
       "      <th>POSITIVO</th>\n",
       "      <th>NEGATIVO</th>\n",
       "      <th>NEUTRO</th>\n",
       "    </tr>\n",
       "  </thead>\n",
       "  <tbody>\n",
       "    <tr>\n",
       "      <th>0</th>\n",
       "      <td>4175</td>\n",
       "      <td>3341</td>\n",
       "      <td>44</td>\n",
       "    </tr>\n",
       "  </tbody>\n",
       "</table>\n",
       "</div>"
      ],
      "text/plain": [
       "   POSITIVO  NEGATIVO  NEUTRO\n",
       "0      4175      3341      44"
      ]
     },
     "metadata": {},
     "output_type": "display_data"
    },
    {
     "data": {
      "image/png": "[encoded data removed]",
      "text/plain": [
       "<Figure size 576x288 with 1 Axes>"
      ]
     },
     "metadata": {
      "needs_background": "light"
     },
     "output_type": "display_data"
    }
   ],
   "source": [
    "graph_valence_total(rede_social, cores_val2, valencia, positivo, negativo, neutro)"
   ]
  },
  {
   "cell_type": "markdown",
   "metadata": {},
   "source": [
    "##### Contagem total de comentários : Emoções"
   ]
  },
  {
   "cell_type": "code",
   "execution_count": 11,
   "metadata": {
    "ExecuteTime": {
     "end_time": "2018-11-26T01:32:54.516047Z",
     "start_time": "2018-11-26T01:32:54.282214Z"
    }
   },
   "outputs": [
    {
     "data": {
      "text/html": [
       "<div>\n",
       "<style scoped>\n",
       "    .dataframe tbody tr th:only-of-type {\n",
       "        vertical-align: middle;\n",
       "    }\n",
       "\n",
       "    .dataframe tbody tr th {\n",
       "        vertical-align: top;\n",
       "    }\n",
       "\n",
       "    .dataframe thead th {\n",
       "        text-align: right;\n",
       "    }\n",
       "</style>\n",
       "<table border=\"1\" class=\"dataframe\">\n",
       "  <thead>\n",
       "    <tr style=\"text-align: right;\">\n",
       "      <th></th>\n",
       "      <th>ALEGRIA</th>\n",
       "      <th>SURPRESA</th>\n",
       "      <th>TRISTEZA</th>\n",
       "      <th>MEDO</th>\n",
       "      <th>RAIVA</th>\n",
       "      <th>DESGOSTO</th>\n",
       "      <th>NEUTRO</th>\n",
       "    </tr>\n",
       "  </thead>\n",
       "  <tbody>\n",
       "    <tr>\n",
       "      <th>0</th>\n",
       "      <td>4156</td>\n",
       "      <td>19</td>\n",
       "      <td>3120</td>\n",
       "      <td>4</td>\n",
       "      <td>11</td>\n",
       "      <td>206</td>\n",
       "      <td>44</td>\n",
       "    </tr>\n",
       "  </tbody>\n",
       "</table>\n",
       "</div>"
      ],
      "text/plain": [
       "   ALEGRIA  SURPRESA  TRISTEZA  MEDO  RAIVA  DESGOSTO  NEUTRO\n",
       "0     4156        19      3120     4     11       206      44"
      ]
     },
     "metadata": {},
     "output_type": "display_data"
    },
    {
     "data": {
      "image/png": "[encoded data removed]",
      "text/plain": [
       "<Figure size 576x288 with 1 Axes>"
      ]
     },
     "metadata": {
      "needs_background": "light"
     },
     "output_type": "display_data"
    }
   ],
   "source": [
    "graph_sentimentos_total(rede_social, cores, sentimentos, alegria, surpresa, tristeza, medo, raiva, desgosto, neutro)"
   ]
  },
  {
   "cell_type": "markdown",
   "metadata": {},
   "source": [
    "##### Comentários por data : Valência"
   ]
  },
  {
   "cell_type": "code",
   "execution_count": 12,
   "metadata": {
    "ExecuteTime": {
     "end_time": "2018-11-26T01:32:55.913006Z",
     "start_time": "2018-11-26T01:32:54.519009Z"
    },
    "scrolled": false
   },
   "outputs": [
    {
     "data": {
      "text/html": [
       "<div>\n",
       "<style scoped>\n",
       "    .dataframe tbody tr th:only-of-type {\n",
       "        vertical-align: middle;\n",
       "    }\n",
       "\n",
       "    .dataframe tbody tr th {\n",
       "        vertical-align: top;\n",
       "    }\n",
       "\n",
       "    .dataframe thead th {\n",
       "        text-align: right;\n",
       "    }\n",
       "</style>\n",
       "<table border=\"1\" class=\"dataframe\">\n",
       "  <thead>\n",
       "    <tr style=\"text-align: right;\">\n",
       "      <th></th>\n",
       "      <th>22/08/2018</th>\n",
       "      <th>23/08/2018</th>\n",
       "      <th>24/08/2018</th>\n",
       "      <th>25/08/2018</th>\n",
       "      <th>26/08/2018</th>\n",
       "      <th>27/08/2018</th>\n",
       "      <th>28/08/2018</th>\n",
       "      <th>30/08/2018</th>\n",
       "    </tr>\n",
       "  </thead>\n",
       "  <tbody>\n",
       "    <tr>\n",
       "      <th>NEGATIVO</th>\n",
       "      <td>0</td>\n",
       "      <td>72</td>\n",
       "      <td>98</td>\n",
       "      <td>171</td>\n",
       "      <td>20</td>\n",
       "      <td>49</td>\n",
       "      <td>343</td>\n",
       "      <td>57</td>\n",
       "    </tr>\n",
       "    <tr>\n",
       "      <th>NEUTRO</th>\n",
       "      <td>0</td>\n",
       "      <td>1</td>\n",
       "      <td>0</td>\n",
       "      <td>0</td>\n",
       "      <td>1</td>\n",
       "      <td>0</td>\n",
       "      <td>6</td>\n",
       "      <td>0</td>\n",
       "    </tr>\n",
       "    <tr>\n",
       "      <th>POSITIVO</th>\n",
       "      <td>1</td>\n",
       "      <td>61</td>\n",
       "      <td>151</td>\n",
       "      <td>193</td>\n",
       "      <td>15</td>\n",
       "      <td>74</td>\n",
       "      <td>470</td>\n",
       "      <td>57</td>\n",
       "    </tr>\n",
       "  </tbody>\n",
       "</table>\n",
       "</div>"
      ],
      "text/plain": [
       "          22/08/2018  23/08/2018  24/08/2018  25/08/2018  26/08/2018  \\\n",
       "NEGATIVO           0          72          98         171          20   \n",
       "NEUTRO             0           1           0           0           1   \n",
       "POSITIVO           1          61         151         193          15   \n",
       "\n",
       "          27/08/2018  28/08/2018  30/08/2018  \n",
       "NEGATIVO          49         343          57  \n",
       "NEUTRO             0           6           0  \n",
       "POSITIVO          74         470          57  "
      ]
     },
     "metadata": {},
     "output_type": "display_data"
    },
    {
     "data": {
      "image/png": "[encoded data removed]",
      "text/plain": [
       "<Figure size 1224x432 with 1 Axes>"
      ]
     },
     "metadata": {
      "needs_background": "light"
     },
     "output_type": "display_data"
    }
   ],
   "source": [
    "graph_valencia_por_data(rede_social, cores_val, valencia_dict, comentarios)"
   ]
  },
  {
   "cell_type": "markdown",
   "metadata": {},
   "source": [
    "##### Comentários por data : Emoções"
   ]
  },
  {
   "cell_type": "code",
   "execution_count": 13,
   "metadata": {
    "ExecuteTime": {
     "end_time": "2018-11-26T01:32:57.398111Z",
     "start_time": "2018-11-26T01:32:55.914921Z"
    },
    "scrolled": false
   },
   "outputs": [
    {
     "data": {
      "text/html": [
       "<div>\n",
       "<style scoped>\n",
       "    .dataframe tbody tr th:only-of-type {\n",
       "        vertical-align: middle;\n",
       "    }\n",
       "\n",
       "    .dataframe tbody tr th {\n",
       "        vertical-align: top;\n",
       "    }\n",
       "\n",
       "    .dataframe thead th {\n",
       "        text-align: right;\n",
       "    }\n",
       "</style>\n",
       "<table border=\"1\" class=\"dataframe\">\n",
       "  <thead>\n",
       "    <tr style=\"text-align: right;\">\n",
       "      <th></th>\n",
       "      <th>22/08/2018</th>\n",
       "      <th>23/08/2018</th>\n",
       "      <th>24/08/2018</th>\n",
       "      <th>25/08/2018</th>\n",
       "      <th>26/08/2018</th>\n",
       "      <th>27/08/2018</th>\n",
       "      <th>28/08/2018</th>\n",
       "      <th>30/08/2018</th>\n",
       "    </tr>\n",
       "  </thead>\n",
       "  <tbody>\n",
       "    <tr>\n",
       "      <th>ALEGRIA</th>\n",
       "      <td>1</td>\n",
       "      <td>60</td>\n",
       "      <td>151</td>\n",
       "      <td>188</td>\n",
       "      <td>15</td>\n",
       "      <td>74</td>\n",
       "      <td>467</td>\n",
       "      <td>57</td>\n",
       "    </tr>\n",
       "    <tr>\n",
       "      <th>DESGOSTO</th>\n",
       "      <td>0</td>\n",
       "      <td>5</td>\n",
       "      <td>3</td>\n",
       "      <td>12</td>\n",
       "      <td>0</td>\n",
       "      <td>1</td>\n",
       "      <td>23</td>\n",
       "      <td>2</td>\n",
       "    </tr>\n",
       "    <tr>\n",
       "      <th>MEDO</th>\n",
       "      <td>0</td>\n",
       "      <td>0</td>\n",
       "      <td>1</td>\n",
       "      <td>0</td>\n",
       "      <td>0</td>\n",
       "      <td>0</td>\n",
       "      <td>0</td>\n",
       "      <td>0</td>\n",
       "    </tr>\n",
       "    <tr>\n",
       "      <th>NEUTRO</th>\n",
       "      <td>0</td>\n",
       "      <td>1</td>\n",
       "      <td>0</td>\n",
       "      <td>0</td>\n",
       "      <td>1</td>\n",
       "      <td>0</td>\n",
       "      <td>6</td>\n",
       "      <td>0</td>\n",
       "    </tr>\n",
       "    <tr>\n",
       "      <th>RAIVA</th>\n",
       "      <td>0</td>\n",
       "      <td>0</td>\n",
       "      <td>0</td>\n",
       "      <td>0</td>\n",
       "      <td>0</td>\n",
       "      <td>0</td>\n",
       "      <td>3</td>\n",
       "      <td>0</td>\n",
       "    </tr>\n",
       "    <tr>\n",
       "      <th>SURPRESA</th>\n",
       "      <td>0</td>\n",
       "      <td>1</td>\n",
       "      <td>0</td>\n",
       "      <td>5</td>\n",
       "      <td>0</td>\n",
       "      <td>0</td>\n",
       "      <td>3</td>\n",
       "      <td>0</td>\n",
       "    </tr>\n",
       "    <tr>\n",
       "      <th>TRISTEZA</th>\n",
       "      <td>0</td>\n",
       "      <td>67</td>\n",
       "      <td>94</td>\n",
       "      <td>159</td>\n",
       "      <td>20</td>\n",
       "      <td>48</td>\n",
       "      <td>317</td>\n",
       "      <td>55</td>\n",
       "    </tr>\n",
       "  </tbody>\n",
       "</table>\n",
       "</div>"
      ],
      "text/plain": [
       "          22/08/2018  23/08/2018  24/08/2018  25/08/2018  26/08/2018  \\\n",
       "ALEGRIA            1          60         151         188          15   \n",
       "DESGOSTO           0           5           3          12           0   \n",
       "MEDO               0           0           1           0           0   \n",
       "NEUTRO             0           1           0           0           1   \n",
       "RAIVA              0           0           0           0           0   \n",
       "SURPRESA           0           1           0           5           0   \n",
       "TRISTEZA           0          67          94         159          20   \n",
       "\n",
       "          27/08/2018  28/08/2018  30/08/2018  \n",
       "ALEGRIA           74         467          57  \n",
       "DESGOSTO           1          23           2  \n",
       "MEDO               0           0           0  \n",
       "NEUTRO             0           6           0  \n",
       "RAIVA              0           3           0  \n",
       "SURPRESA           0           3           0  \n",
       "TRISTEZA          48         317          55  "
      ]
     },
     "metadata": {},
     "output_type": "display_data"
    },
    {
     "data": {
      "image/png": "[encoded data removed]",
      "text/plain": [
       "<Figure size 1224x432 with 1 Axes>"
      ]
     },
     "metadata": {
      "needs_background": "light"
     },
     "output_type": "display_data"
    }
   ],
   "source": [
    "graph_emocoes_por_data(rede_social, cores2, sentimentos_dict, comentarios)"
   ]
  },
  {
   "cell_type": "markdown",
   "metadata": {},
   "source": [
    "#### Fernando Haddad"
   ]
  },
  {
   "cell_type": "code",
   "execution_count": 14,
   "metadata": {
    "ExecuteTime": {
     "end_time": "2018-11-26T01:32:57.423743Z",
     "start_time": "2018-11-26T01:32:57.399726Z"
    }
   },
   "outputs": [],
   "source": [
    "candidato_c = [modelo.candidate == 'Fernando Haddad']\n",
    "\n",
    "total_comentarios = modelo.select() \\\n",
    "        .where(reduce(operator.and_, default_clause + candidato_c)) \\\n",
    "        .count()\n",
    "\n",
    "comentarios_positivos = modelo.select() \\\n",
    "        .where(reduce(operator.and_, default_clause + positivo_clause + candidato_c)) \\\n",
    "        .order_by(modelo.timestamp)\n",
    "\n",
    "comentarios_negativos = modelo.select() \\\n",
    "        .where(reduce(operator.and_, default_clause + negativo_clause + candidato_c)) \\\n",
    "        .order_by(modelo.timestamp)\n",
    "\n",
    "comentarios_neutros = modelo.select() \\\n",
    "        .where(reduce(operator.and_, default_clause + neutro_clause + candidato_c)) \\\n",
    "        .order_by(modelo.timestamp)\n",
    "\n",
    "comentarios = modelo.select() \\\n",
    "        .where(reduce(operator.and_, general + candidato_c)) \\\n",
    "        .order_by(modelo.timestamp)"
   ]
  },
  {
   "cell_type": "code",
   "execution_count": 15,
   "metadata": {
    "ExecuteTime": {
     "end_time": "2018-11-26T01:32:57.824289Z",
     "start_time": "2018-11-26T01:32:57.426203Z"
    }
   },
   "outputs": [
    {
     "name": "stdout",
     "output_type": "stream",
     "text": [
      "Estatísticas do Facebook:\n",
      "--------------------\n",
      "Total de Comentários  : 13688\n",
      "Comentários Positivos : 2594\n",
      "Comentários Negativos : 2604\n",
      "Comentários Neutros   : 920\n",
      "\n",
      "Porcentagem de comentários:\n",
      "--------------------\n",
      "Comentários Positivos : 18.95%\n",
      "Comentários Negativos : 19.02%\n",
      "Comentários Neutros   : 6.72%\n",
      "Total                 : 44.7%\n"
     ]
    }
   ],
   "source": [
    "alegria, surpresa, tristeza, medo, raiva, desgosto, positivo, negativo, neutro = load_emocoes_comentarios(comentarios_positivos, comentarios_negativos, comentarios_neutros)\n",
    "print_statistics(rede_social, total_comentarios, comentarios_positivos, comentarios_negativos, comentarios_neutros)"
   ]
  },
  {
   "cell_type": "markdown",
   "metadata": {},
   "source": [
    "##### Contagem total de comentários : Valência"
   ]
  },
  {
   "cell_type": "code",
   "execution_count": 16,
   "metadata": {
    "ExecuteTime": {
     "end_time": "2018-11-26T01:32:58.046470Z",
     "start_time": "2018-11-26T01:32:57.830299Z"
    }
   },
   "outputs": [
    {
     "data": {
      "text/html": [
       "<div>\n",
       "<style scoped>\n",
       "    .dataframe tbody tr th:only-of-type {\n",
       "        vertical-align: middle;\n",
       "    }\n",
       "\n",
       "    .dataframe tbody tr th {\n",
       "        vertical-align: top;\n",
       "    }\n",
       "\n",
       "    .dataframe thead th {\n",
       "        text-align: right;\n",
       "    }\n",
       "</style>\n",
       "<table border=\"1\" class=\"dataframe\">\n",
       "  <thead>\n",
       "    <tr style=\"text-align: right;\">\n",
       "      <th></th>\n",
       "      <th>POSITIVO</th>\n",
       "      <th>NEGATIVO</th>\n",
       "      <th>NEUTRO</th>\n",
       "    </tr>\n",
       "  </thead>\n",
       "  <tbody>\n",
       "    <tr>\n",
       "      <th>0</th>\n",
       "      <td>2594</td>\n",
       "      <td>2604</td>\n",
       "      <td>920</td>\n",
       "    </tr>\n",
       "  </tbody>\n",
       "</table>\n",
       "</div>"
      ],
      "text/plain": [
       "   POSITIVO  NEGATIVO  NEUTRO\n",
       "0      2594      2604     920"
      ]
     },
     "metadata": {},
     "output_type": "display_data"
    },
    {
     "data": {
      "image/png": "[encoded data removed]",
      "text/plain": [
       "<Figure size 576x288 with 1 Axes>"
      ]
     },
     "metadata": {
      "needs_background": "light"
     },
     "output_type": "display_data"
    }
   ],
   "source": [
    "graph_valence_total(rede_social, cores_val2, valencia, positivo, negativo, neutro)"
   ]
  },
  {
   "cell_type": "markdown",
   "metadata": {},
   "source": [
    "##### Contagem total de comentários : Emoções"
   ]
  },
  {
   "cell_type": "code",
   "execution_count": 17,
   "metadata": {
    "ExecuteTime": {
     "end_time": "2018-11-26T01:32:58.279441Z",
     "start_time": "2018-11-26T01:32:58.049346Z"
    }
   },
   "outputs": [
    {
     "data": {
      "text/html": [
       "<div>\n",
       "<style scoped>\n",
       "    .dataframe tbody tr th:only-of-type {\n",
       "        vertical-align: middle;\n",
       "    }\n",
       "\n",
       "    .dataframe tbody tr th {\n",
       "        vertical-align: top;\n",
       "    }\n",
       "\n",
       "    .dataframe thead th {\n",
       "        text-align: right;\n",
       "    }\n",
       "</style>\n",
       "<table border=\"1\" class=\"dataframe\">\n",
       "  <thead>\n",
       "    <tr style=\"text-align: right;\">\n",
       "      <th></th>\n",
       "      <th>ALEGRIA</th>\n",
       "      <th>SURPRESA</th>\n",
       "      <th>TRISTEZA</th>\n",
       "      <th>MEDO</th>\n",
       "      <th>RAIVA</th>\n",
       "      <th>DESGOSTO</th>\n",
       "      <th>NEUTRO</th>\n",
       "    </tr>\n",
       "  </thead>\n",
       "  <tbody>\n",
       "    <tr>\n",
       "      <th>0</th>\n",
       "      <td>2561</td>\n",
       "      <td>33</td>\n",
       "      <td>2446</td>\n",
       "      <td>1</td>\n",
       "      <td>9</td>\n",
       "      <td>148</td>\n",
       "      <td>920</td>\n",
       "    </tr>\n",
       "  </tbody>\n",
       "</table>\n",
       "</div>"
      ],
      "text/plain": [
       "   ALEGRIA  SURPRESA  TRISTEZA  MEDO  RAIVA  DESGOSTO  NEUTRO\n",
       "0     2561        33      2446     1      9       148     920"
      ]
     },
     "metadata": {},
     "output_type": "display_data"
    },
    {
     "data": {
      "image/png": "[encoded data removed]",
      "text/plain": [
       "<Figure size 576x288 with 1 Axes>"
      ]
     },
     "metadata": {
      "needs_background": "light"
     },
     "output_type": "display_data"
    }
   ],
   "source": [
    "graph_sentimentos_total(rede_social, cores, sentimentos, alegria, surpresa, tristeza, medo, raiva, desgosto, neutro)"
   ]
  },
  {
   "cell_type": "markdown",
   "metadata": {},
   "source": [
    "##### Comentários por data : Valência"
   ]
  },
  {
   "cell_type": "code",
   "execution_count": 18,
   "metadata": {
    "ExecuteTime": {
     "end_time": "2018-11-26T01:32:59.316334Z",
     "start_time": "2018-11-26T01:32:58.281999Z"
    }
   },
   "outputs": [
    {
     "data": {
      "text/html": [
       "<div>\n",
       "<style scoped>\n",
       "    .dataframe tbody tr th:only-of-type {\n",
       "        vertical-align: middle;\n",
       "    }\n",
       "\n",
       "    .dataframe tbody tr th {\n",
       "        vertical-align: top;\n",
       "    }\n",
       "\n",
       "    .dataframe thead th {\n",
       "        text-align: right;\n",
       "    }\n",
       "</style>\n",
       "<table border=\"1\" class=\"dataframe\">\n",
       "  <thead>\n",
       "    <tr style=\"text-align: right;\">\n",
       "      <th></th>\n",
       "      <th>23/08/2018</th>\n",
       "      <th>24/08/2018</th>\n",
       "      <th>25/08/2018</th>\n",
       "      <th>26/08/2018</th>\n",
       "      <th>27/08/2018</th>\n",
       "      <th>28/08/2018</th>\n",
       "      <th>31/08/2018</th>\n",
       "      <th>01/09/2018</th>\n",
       "    </tr>\n",
       "  </thead>\n",
       "  <tbody>\n",
       "    <tr>\n",
       "      <th>NEGATIVO</th>\n",
       "      <td>2</td>\n",
       "      <td>95</td>\n",
       "      <td>118</td>\n",
       "      <td>13</td>\n",
       "      <td>29</td>\n",
       "      <td>191</td>\n",
       "      <td>37</td>\n",
       "      <td>172</td>\n",
       "    </tr>\n",
       "    <tr>\n",
       "      <th>NEUTRO</th>\n",
       "      <td>1</td>\n",
       "      <td>23</td>\n",
       "      <td>50</td>\n",
       "      <td>1</td>\n",
       "      <td>5</td>\n",
       "      <td>79</td>\n",
       "      <td>16</td>\n",
       "      <td>147</td>\n",
       "    </tr>\n",
       "    <tr>\n",
       "      <th>POSITIVO</th>\n",
       "      <td>1</td>\n",
       "      <td>107</td>\n",
       "      <td>121</td>\n",
       "      <td>13</td>\n",
       "      <td>43</td>\n",
       "      <td>158</td>\n",
       "      <td>41</td>\n",
       "      <td>113</td>\n",
       "    </tr>\n",
       "  </tbody>\n",
       "</table>\n",
       "</div>"
      ],
      "text/plain": [
       "          23/08/2018  24/08/2018  25/08/2018  26/08/2018  27/08/2018  \\\n",
       "NEGATIVO           2          95         118          13          29   \n",
       "NEUTRO             1          23          50           1           5   \n",
       "POSITIVO           1         107         121          13          43   \n",
       "\n",
       "          28/08/2018  31/08/2018  01/09/2018  \n",
       "NEGATIVO         191          37         172  \n",
       "NEUTRO            79          16         147  \n",
       "POSITIVO         158          41         113  "
      ]
     },
     "metadata": {},
     "output_type": "display_data"
    },
    {
     "data": {
      "image/png": "[encoded data removed]",
      "text/plain": [
       "<Figure size 1224x432 with 1 Axes>"
      ]
     },
     "metadata": {
      "needs_background": "light"
     },
     "output_type": "display_data"
    }
   ],
   "source": [
    "graph_valencia_por_data(rede_social, cores_val, valencia_dict, comentarios)"
   ]
  },
  {
   "cell_type": "markdown",
   "metadata": {},
   "source": [
    "##### Comentários por data : Emoções"
   ]
  },
  {
   "cell_type": "code",
   "execution_count": 19,
   "metadata": {
    "ExecuteTime": {
     "end_time": "2018-11-26T01:33:00.252133Z",
     "start_time": "2018-11-26T01:32:59.318603Z"
    },
    "scrolled": false
   },
   "outputs": [
    {
     "data": {
      "text/html": [
       "<div>\n",
       "<style scoped>\n",
       "    .dataframe tbody tr th:only-of-type {\n",
       "        vertical-align: middle;\n",
       "    }\n",
       "\n",
       "    .dataframe tbody tr th {\n",
       "        vertical-align: top;\n",
       "    }\n",
       "\n",
       "    .dataframe thead th {\n",
       "        text-align: right;\n",
       "    }\n",
       "</style>\n",
       "<table border=\"1\" class=\"dataframe\">\n",
       "  <thead>\n",
       "    <tr style=\"text-align: right;\">\n",
       "      <th></th>\n",
       "      <th>23/08/2018</th>\n",
       "      <th>24/08/2018</th>\n",
       "      <th>25/08/2018</th>\n",
       "      <th>26/08/2018</th>\n",
       "      <th>27/08/2018</th>\n",
       "      <th>28/08/2018</th>\n",
       "      <th>31/08/2018</th>\n",
       "      <th>01/09/2018</th>\n",
       "    </tr>\n",
       "  </thead>\n",
       "  <tbody>\n",
       "    <tr>\n",
       "      <th>ALEGRIA</th>\n",
       "      <td>1</td>\n",
       "      <td>107</td>\n",
       "      <td>120</td>\n",
       "      <td>12</td>\n",
       "      <td>43</td>\n",
       "      <td>158</td>\n",
       "      <td>40</td>\n",
       "      <td>112</td>\n",
       "    </tr>\n",
       "    <tr>\n",
       "      <th>DESGOSTO</th>\n",
       "      <td>0</td>\n",
       "      <td>4</td>\n",
       "      <td>13</td>\n",
       "      <td>2</td>\n",
       "      <td>0</td>\n",
       "      <td>23</td>\n",
       "      <td>1</td>\n",
       "      <td>8</td>\n",
       "    </tr>\n",
       "    <tr>\n",
       "      <th>MEDO</th>\n",
       "      <td>0</td>\n",
       "      <td>0</td>\n",
       "      <td>0</td>\n",
       "      <td>0</td>\n",
       "      <td>0</td>\n",
       "      <td>0</td>\n",
       "      <td>0</td>\n",
       "      <td>0</td>\n",
       "    </tr>\n",
       "    <tr>\n",
       "      <th>NEUTRO</th>\n",
       "      <td>1</td>\n",
       "      <td>23</td>\n",
       "      <td>50</td>\n",
       "      <td>1</td>\n",
       "      <td>5</td>\n",
       "      <td>79</td>\n",
       "      <td>16</td>\n",
       "      <td>147</td>\n",
       "    </tr>\n",
       "    <tr>\n",
       "      <th>RAIVA</th>\n",
       "      <td>0</td>\n",
       "      <td>0</td>\n",
       "      <td>0</td>\n",
       "      <td>0</td>\n",
       "      <td>1</td>\n",
       "      <td>0</td>\n",
       "      <td>0</td>\n",
       "      <td>0</td>\n",
       "    </tr>\n",
       "    <tr>\n",
       "      <th>SURPRESA</th>\n",
       "      <td>0</td>\n",
       "      <td>0</td>\n",
       "      <td>1</td>\n",
       "      <td>1</td>\n",
       "      <td>0</td>\n",
       "      <td>0</td>\n",
       "      <td>1</td>\n",
       "      <td>1</td>\n",
       "    </tr>\n",
       "    <tr>\n",
       "      <th>TRISTEZA</th>\n",
       "      <td>2</td>\n",
       "      <td>91</td>\n",
       "      <td>105</td>\n",
       "      <td>11</td>\n",
       "      <td>28</td>\n",
       "      <td>168</td>\n",
       "      <td>36</td>\n",
       "      <td>164</td>\n",
       "    </tr>\n",
       "  </tbody>\n",
       "</table>\n",
       "</div>"
      ],
      "text/plain": [
       "          23/08/2018  24/08/2018  25/08/2018  26/08/2018  27/08/2018  \\\n",
       "ALEGRIA            1         107         120          12          43   \n",
       "DESGOSTO           0           4          13           2           0   \n",
       "MEDO               0           0           0           0           0   \n",
       "NEUTRO             1          23          50           1           5   \n",
       "RAIVA              0           0           0           0           1   \n",
       "SURPRESA           0           0           1           1           0   \n",
       "TRISTEZA           2          91         105          11          28   \n",
       "\n",
       "          28/08/2018  31/08/2018  01/09/2018  \n",
       "ALEGRIA          158          40         112  \n",
       "DESGOSTO          23           1           8  \n",
       "MEDO               0           0           0  \n",
       "NEUTRO            79          16         147  \n",
       "RAIVA              0           0           0  \n",
       "SURPRESA           0           1           1  \n",
       "TRISTEZA         168          36         164  "
      ]
     },
     "metadata": {},
     "output_type": "display_data"
    },
    {
     "data": {
      "image/png": "[encoded data removed]",
      "text/plain": [
       "<Figure size 1224x432 with 1 Axes>"
      ]
     },
     "metadata": {
      "needs_background": "light"
     },
     "output_type": "display_data"
    }
   ],
   "source": [
    "graph_emocoes_por_data(rede_social, cores2, sentimentos_dict, comentarios)"
   ]
  },
  {
   "cell_type": "markdown",
   "metadata": {},
   "source": [
    "#### Ciro Gomes"
   ]
  },
  {
   "cell_type": "code",
   "execution_count": 20,
   "metadata": {
    "ExecuteTime": {
     "end_time": "2018-11-26T01:33:00.375599Z",
     "start_time": "2018-11-26T01:33:00.254031Z"
    }
   },
   "outputs": [],
   "source": [
    "candidato_c = [modelo.candidate == 'Ciro Gomes']\n",
    "\n",
    "total_comentarios = modelo.select() \\\n",
    "        .where(reduce(operator.and_, default_clause + candidato_c)) \\\n",
    "        .count()\n",
    "\n",
    "comentarios_positivos = modelo.select() \\\n",
    "        .where(reduce(operator.and_, default_clause + positivo_clause + candidato_c)) \\\n",
    "        .order_by(modelo.timestamp)\n",
    "\n",
    "comentarios_negativos = modelo.select() \\\n",
    "        .where(reduce(operator.and_, default_clause + negativo_clause + candidato_c)) \\\n",
    "        .order_by(modelo.timestamp)\n",
    "\n",
    "comentarios_neutros = modelo.select() \\\n",
    "        .where(reduce(operator.and_, default_clause + neutro_clause + candidato_c)) \\\n",
    "        .order_by(modelo.timestamp)\n",
    "\n",
    "comentarios = modelo.select() \\\n",
    "        .where(reduce(operator.and_, general + candidato_c)) \\\n",
    "        .order_by(modelo.timestamp)"
   ]
  },
  {
   "cell_type": "code",
   "execution_count": 21,
   "metadata": {
    "ExecuteTime": {
     "end_time": "2018-11-26T01:33:00.762308Z",
     "start_time": "2018-11-26T01:33:00.378835Z"
    }
   },
   "outputs": [
    {
     "name": "stdout",
     "output_type": "stream",
     "text": [
      "Estatísticas do Facebook:\n",
      "--------------------\n",
      "Total de Comentários  : 14206\n",
      "Comentários Positivos : 4204\n",
      "Comentários Negativos : 2768\n",
      "Comentários Neutros   : 128\n",
      "\n",
      "Porcentagem de comentários:\n",
      "--------------------\n",
      "Comentários Positivos : 29.59%\n",
      "Comentários Negativos : 19.48%\n",
      "Comentários Neutros   : 0.9%\n",
      "Total                 : 49.98%\n"
     ]
    }
   ],
   "source": [
    "alegria, surpresa, tristeza, medo, raiva, desgosto, positivo, negativo, neutro = load_emocoes_comentarios(comentarios_positivos, comentarios_negativos, comentarios_neutros)\n",
    "print_statistics(rede_social, total_comentarios, comentarios_positivos, comentarios_negativos, comentarios_neutros)"
   ]
  },
  {
   "cell_type": "markdown",
   "metadata": {},
   "source": [
    "##### Contagem total de comentários : Valência"
   ]
  },
  {
   "cell_type": "code",
   "execution_count": 22,
   "metadata": {
    "ExecuteTime": {
     "end_time": "2018-11-26T01:33:00.945431Z",
     "start_time": "2018-11-26T01:33:00.764804Z"
    }
   },
   "outputs": [
    {
     "data": {
      "text/html": [
       "<div>\n",
       "<style scoped>\n",
       "    .dataframe tbody tr th:only-of-type {\n",
       "        vertical-align: middle;\n",
       "    }\n",
       "\n",
       "    .dataframe tbody tr th {\n",
       "        vertical-align: top;\n",
       "    }\n",
       "\n",
       "    .dataframe thead th {\n",
       "        text-align: right;\n",
       "    }\n",
       "</style>\n",
       "<table border=\"1\" class=\"dataframe\">\n",
       "  <thead>\n",
       "    <tr style=\"text-align: right;\">\n",
       "      <th></th>\n",
       "      <th>POSITIVO</th>\n",
       "      <th>NEGATIVO</th>\n",
       "      <th>NEUTRO</th>\n",
       "    </tr>\n",
       "  </thead>\n",
       "  <tbody>\n",
       "    <tr>\n",
       "      <th>0</th>\n",
       "      <td>4204</td>\n",
       "      <td>2768</td>\n",
       "      <td>128</td>\n",
       "    </tr>\n",
       "  </tbody>\n",
       "</table>\n",
       "</div>"
      ],
      "text/plain": [
       "   POSITIVO  NEGATIVO  NEUTRO\n",
       "0      4204      2768     128"
      ]
     },
     "metadata": {},
     "output_type": "display_data"
    },
    {
     "data": {
      "image/png": "[encoded data removed]",
      "text/plain": [
       "<Figure size 576x288 with 1 Axes>"
      ]
     },
     "metadata": {
      "needs_background": "light"
     },
     "output_type": "display_data"
    }
   ],
   "source": [
    "graph_valence_total(rede_social, cores_val2, valencia, positivo, negativo, neutro)"
   ]
  },
  {
   "cell_type": "markdown",
   "metadata": {},
   "source": [
    "##### Contagem total de comentários : Emoções"
   ]
  },
  {
   "cell_type": "code",
   "execution_count": 23,
   "metadata": {
    "ExecuteTime": {
     "end_time": "2018-11-26T01:33:01.165604Z",
     "start_time": "2018-11-26T01:33:00.947243Z"
    }
   },
   "outputs": [
    {
     "data": {
      "text/html": [
       "<div>\n",
       "<style scoped>\n",
       "    .dataframe tbody tr th:only-of-type {\n",
       "        vertical-align: middle;\n",
       "    }\n",
       "\n",
       "    .dataframe tbody tr th {\n",
       "        vertical-align: top;\n",
       "    }\n",
       "\n",
       "    .dataframe thead th {\n",
       "        text-align: right;\n",
       "    }\n",
       "</style>\n",
       "<table border=\"1\" class=\"dataframe\">\n",
       "  <thead>\n",
       "    <tr style=\"text-align: right;\">\n",
       "      <th></th>\n",
       "      <th>ALEGRIA</th>\n",
       "      <th>SURPRESA</th>\n",
       "      <th>TRISTEZA</th>\n",
       "      <th>MEDO</th>\n",
       "      <th>RAIVA</th>\n",
       "      <th>DESGOSTO</th>\n",
       "      <th>NEUTRO</th>\n",
       "    </tr>\n",
       "  </thead>\n",
       "  <tbody>\n",
       "    <tr>\n",
       "      <th>0</th>\n",
       "      <td>4177</td>\n",
       "      <td>27</td>\n",
       "      <td>2561</td>\n",
       "      <td>2</td>\n",
       "      <td>17</td>\n",
       "      <td>188</td>\n",
       "      <td>128</td>\n",
       "    </tr>\n",
       "  </tbody>\n",
       "</table>\n",
       "</div>"
      ],
      "text/plain": [
       "   ALEGRIA  SURPRESA  TRISTEZA  MEDO  RAIVA  DESGOSTO  NEUTRO\n",
       "0     4177        27      2561     2     17       188     128"
      ]
     },
     "metadata": {},
     "output_type": "display_data"
    },
    {
     "data": {
      "image/png": "[encoded data removed]",
      "text/plain": [
       "<Figure size 576x288 with 1 Axes>"
      ]
     },
     "metadata": {
      "needs_background": "light"
     },
     "output_type": "display_data"
    }
   ],
   "source": [
    "graph_sentimentos_total(rede_social, cores, sentimentos, alegria, surpresa, tristeza, medo, raiva, desgosto, neutro)"
   ]
  },
  {
   "cell_type": "markdown",
   "metadata": {},
   "source": [
    "##### Comentários por data : Valência"
   ]
  },
  {
   "cell_type": "code",
   "execution_count": 24,
   "metadata": {
    "ExecuteTime": {
     "end_time": "2018-11-26T01:33:02.539531Z",
     "start_time": "2018-11-26T01:33:01.167614Z"
    }
   },
   "outputs": [
    {
     "data": {
      "text/html": [
       "<div>\n",
       "<style scoped>\n",
       "    .dataframe tbody tr th:only-of-type {\n",
       "        vertical-align: middle;\n",
       "    }\n",
       "\n",
       "    .dataframe tbody tr th {\n",
       "        vertical-align: top;\n",
       "    }\n",
       "\n",
       "    .dataframe thead th {\n",
       "        text-align: right;\n",
       "    }\n",
       "</style>\n",
       "<table border=\"1\" class=\"dataframe\">\n",
       "  <thead>\n",
       "    <tr style=\"text-align: right;\">\n",
       "      <th></th>\n",
       "      <th>16/08/2018</th>\n",
       "      <th>17/08/2018</th>\n",
       "      <th>18/08/2018</th>\n",
       "      <th>19/08/2018</th>\n",
       "      <th>20/08/2018</th>\n",
       "      <th>21/08/2018</th>\n",
       "      <th>22/08/2018</th>\n",
       "      <th>23/08/2018</th>\n",
       "    </tr>\n",
       "  </thead>\n",
       "  <tbody>\n",
       "    <tr>\n",
       "      <th>NEGATIVO</th>\n",
       "      <td>22</td>\n",
       "      <td>3</td>\n",
       "      <td>1</td>\n",
       "      <td>4</td>\n",
       "      <td>6</td>\n",
       "      <td>3</td>\n",
       "      <td>42</td>\n",
       "      <td>58</td>\n",
       "    </tr>\n",
       "    <tr>\n",
       "      <th>NEUTRO</th>\n",
       "      <td>1</td>\n",
       "      <td>0</td>\n",
       "      <td>1</td>\n",
       "      <td>0</td>\n",
       "      <td>0</td>\n",
       "      <td>0</td>\n",
       "      <td>1</td>\n",
       "      <td>2</td>\n",
       "    </tr>\n",
       "    <tr>\n",
       "      <th>POSITIVO</th>\n",
       "      <td>24</td>\n",
       "      <td>9</td>\n",
       "      <td>2</td>\n",
       "      <td>3</td>\n",
       "      <td>2</td>\n",
       "      <td>2</td>\n",
       "      <td>77</td>\n",
       "      <td>147</td>\n",
       "    </tr>\n",
       "  </tbody>\n",
       "</table>\n",
       "</div>"
      ],
      "text/plain": [
       "          16/08/2018  17/08/2018  18/08/2018  19/08/2018  20/08/2018  \\\n",
       "NEGATIVO          22           3           1           4           6   \n",
       "NEUTRO             1           0           1           0           0   \n",
       "POSITIVO          24           9           2           3           2   \n",
       "\n",
       "          21/08/2018  22/08/2018  23/08/2018  \n",
       "NEGATIVO           3          42          58  \n",
       "NEUTRO             0           1           2  \n",
       "POSITIVO           2          77         147  "
      ]
     },
     "metadata": {},
     "output_type": "display_data"
    },
    {
     "data": {
      "image/png": "[encoded data removed]",
      "text/plain": [
       "<Figure size 1224x432 with 1 Axes>"
      ]
     },
     "metadata": {
      "needs_background": "light"
     },
     "output_type": "display_data"
    }
   ],
   "source": [
    "graph_valencia_por_data(rede_social, cores_val, valencia_dict, comentarios)"
   ]
  },
  {
   "cell_type": "markdown",
   "metadata": {},
   "source": [
    "##### Comentários por data : Emoções"
   ]
  },
  {
   "cell_type": "code",
   "execution_count": 26,
   "metadata": {
    "ExecuteTime": {
     "end_time": "2018-11-26T01:33:49.894824Z",
     "start_time": "2018-11-26T01:33:48.426846Z"
    },
    "scrolled": false
   },
   "outputs": [
    {
     "data": {
      "text/html": [
       "<div>\n",
       "<style scoped>\n",
       "    .dataframe tbody tr th:only-of-type {\n",
       "        vertical-align: middle;\n",
       "    }\n",
       "\n",
       "    .dataframe tbody tr th {\n",
       "        vertical-align: top;\n",
       "    }\n",
       "\n",
       "    .dataframe thead th {\n",
       "        text-align: right;\n",
       "    }\n",
       "</style>\n",
       "<table border=\"1\" class=\"dataframe\">\n",
       "  <thead>\n",
       "    <tr style=\"text-align: right;\">\n",
       "      <th></th>\n",
       "      <th>16/08/2018</th>\n",
       "      <th>17/08/2018</th>\n",
       "      <th>18/08/2018</th>\n",
       "      <th>19/08/2018</th>\n",
       "      <th>20/08/2018</th>\n",
       "      <th>21/08/2018</th>\n",
       "      <th>22/08/2018</th>\n",
       "      <th>23/08/2018</th>\n",
       "    </tr>\n",
       "  </thead>\n",
       "  <tbody>\n",
       "    <tr>\n",
       "      <th>ALEGRIA</th>\n",
       "      <td>24</td>\n",
       "      <td>9</td>\n",
       "      <td>2</td>\n",
       "      <td>3</td>\n",
       "      <td>2</td>\n",
       "      <td>2</td>\n",
       "      <td>76</td>\n",
       "      <td>146</td>\n",
       "    </tr>\n",
       "    <tr>\n",
       "      <th>DESGOSTO</th>\n",
       "      <td>0</td>\n",
       "      <td>0</td>\n",
       "      <td>0</td>\n",
       "      <td>0</td>\n",
       "      <td>0</td>\n",
       "      <td>0</td>\n",
       "      <td>2</td>\n",
       "      <td>5</td>\n",
       "    </tr>\n",
       "    <tr>\n",
       "      <th>MEDO</th>\n",
       "      <td>0</td>\n",
       "      <td>0</td>\n",
       "      <td>0</td>\n",
       "      <td>0</td>\n",
       "      <td>0</td>\n",
       "      <td>0</td>\n",
       "      <td>0</td>\n",
       "      <td>0</td>\n",
       "    </tr>\n",
       "    <tr>\n",
       "      <th>NEUTRO</th>\n",
       "      <td>1</td>\n",
       "      <td>0</td>\n",
       "      <td>1</td>\n",
       "      <td>0</td>\n",
       "      <td>0</td>\n",
       "      <td>0</td>\n",
       "      <td>1</td>\n",
       "      <td>2</td>\n",
       "    </tr>\n",
       "    <tr>\n",
       "      <th>RAIVA</th>\n",
       "      <td>1</td>\n",
       "      <td>0</td>\n",
       "      <td>0</td>\n",
       "      <td>0</td>\n",
       "      <td>0</td>\n",
       "      <td>0</td>\n",
       "      <td>0</td>\n",
       "      <td>0</td>\n",
       "    </tr>\n",
       "    <tr>\n",
       "      <th>SURPRESA</th>\n",
       "      <td>0</td>\n",
       "      <td>0</td>\n",
       "      <td>0</td>\n",
       "      <td>0</td>\n",
       "      <td>0</td>\n",
       "      <td>0</td>\n",
       "      <td>1</td>\n",
       "      <td>1</td>\n",
       "    </tr>\n",
       "    <tr>\n",
       "      <th>TRISTEZA</th>\n",
       "      <td>21</td>\n",
       "      <td>3</td>\n",
       "      <td>1</td>\n",
       "      <td>4</td>\n",
       "      <td>6</td>\n",
       "      <td>3</td>\n",
       "      <td>40</td>\n",
       "      <td>53</td>\n",
       "    </tr>\n",
       "  </tbody>\n",
       "</table>\n",
       "</div>"
      ],
      "text/plain": [
       "          16/08/2018  17/08/2018  18/08/2018  19/08/2018  20/08/2018  \\\n",
       "ALEGRIA           24           9           2           3           2   \n",
       "DESGOSTO           0           0           0           0           0   \n",
       "MEDO               0           0           0           0           0   \n",
       "NEUTRO             1           0           1           0           0   \n",
       "RAIVA              1           0           0           0           0   \n",
       "SURPRESA           0           0           0           0           0   \n",
       "TRISTEZA          21           3           1           4           6   \n",
       "\n",
       "          21/08/2018  22/08/2018  23/08/2018  \n",
       "ALEGRIA            2          76         146  \n",
       "DESGOSTO           0           2           5  \n",
       "MEDO               0           0           0  \n",
       "NEUTRO             0           1           2  \n",
       "RAIVA              0           0           0  \n",
       "SURPRESA           0           1           1  \n",
       "TRISTEZA           3          40          53  "
      ]
     },
     "metadata": {},
     "output_type": "display_data"
    },
    {
     "data": {
      "image/png": "[encoded data removed]",
      "text/plain": [
       "<Figure size 1224x432 with 1 Axes>"
      ]
     },
     "metadata": {
      "needs_background": "light"
     },
     "output_type": "display_data"
    }
   ],
   "source": [
    "graph_emocoes_por_data(rede_social, cores2, sentimentos_dict, comentarios)"
   ]
  },
  {
   "cell_type": "markdown",
   "metadata": {},
   "source": [
    "#### Geraldo Alckmin"
   ]
  },
  {
   "cell_type": "code",
   "execution_count": 27,
   "metadata": {
    "ExecuteTime": {
     "end_time": "2018-11-26T01:34:58.670632Z",
     "start_time": "2018-11-26T01:34:58.378458Z"
    }
   },
   "outputs": [],
   "source": [
    "candidato_c = [modelo.candidate == 'Geraldo Alckmin']\n",
    "\n",
    "total_comentarios = modelo.select() \\\n",
    "        .where(reduce(operator.and_, default_clause + candidato_c)) \\\n",
    "        .count()\n",
    "\n",
    "comentarios_positivos = modelo.select() \\\n",
    "        .where(reduce(operator.and_, default_clause + positivo_clause + candidato_c)) \\\n",
    "        .order_by(modelo.timestamp)\n",
    "\n",
    "comentarios_negativos = modelo.select() \\\n",
    "        .where(reduce(operator.and_, default_clause + negativo_clause + candidato_c)) \\\n",
    "        .order_by(modelo.timestamp)\n",
    "\n",
    "comentarios_neutros = modelo.select() \\\n",
    "        .where(reduce(operator.and_, default_clause + neutro_clause + candidato_c)) \\\n",
    "        .order_by(modelo.timestamp)\n",
    "\n",
    "comentarios = modelo.select() \\\n",
    "        .where(reduce(operator.and_, general + candidato_c)) \\\n",
    "        .order_by(modelo.timestamp)"
   ]
  },
  {
   "cell_type": "code",
   "execution_count": 28,
   "metadata": {
    "ExecuteTime": {
     "end_time": "2018-11-26T01:34:59.191598Z",
     "start_time": "2018-11-26T01:34:59.017651Z"
    }
   },
   "outputs": [
    {
     "name": "stdout",
     "output_type": "stream",
     "text": [
      "Estatísticas do Facebook:\n",
      "--------------------\n",
      "Total de Comentários  : 12204\n",
      "Comentários Positivos : 2349\n",
      "Comentários Negativos : 2538\n",
      "Comentários Neutros   : 190\n",
      "\n",
      "Porcentagem de comentários:\n",
      "--------------------\n",
      "Comentários Positivos : 19.25%\n",
      "Comentários Negativos : 20.8%\n",
      "Comentários Neutros   : 1.56%\n",
      "Total                 : 41.6%\n"
     ]
    }
   ],
   "source": [
    "alegria, surpresa, tristeza, medo, raiva, desgosto, positivo, negativo, neutro = load_emocoes_comentarios(comentarios_positivos, comentarios_negativos, comentarios_neutros)\n",
    "print_statistics(rede_social, total_comentarios, comentarios_positivos, comentarios_negativos, comentarios_neutros)"
   ]
  },
  {
   "cell_type": "markdown",
   "metadata": {},
   "source": [
    "##### Contagem total de comentários : Valência"
   ]
  },
  {
   "cell_type": "code",
   "execution_count": 29,
   "metadata": {
    "ExecuteTime": {
     "end_time": "2018-11-26T01:34:59.652443Z",
     "start_time": "2018-11-26T01:34:59.476258Z"
    }
   },
   "outputs": [
    {
     "data": {
      "text/html": [
       "<div>\n",
       "<style scoped>\n",
       "    .dataframe tbody tr th:only-of-type {\n",
       "        vertical-align: middle;\n",
       "    }\n",
       "\n",
       "    .dataframe tbody tr th {\n",
       "        vertical-align: top;\n",
       "    }\n",
       "\n",
       "    .dataframe thead th {\n",
       "        text-align: right;\n",
       "    }\n",
       "</style>\n",
       "<table border=\"1\" class=\"dataframe\">\n",
       "  <thead>\n",
       "    <tr style=\"text-align: right;\">\n",
       "      <th></th>\n",
       "      <th>POSITIVO</th>\n",
       "      <th>NEGATIVO</th>\n",
       "      <th>NEUTRO</th>\n",
       "    </tr>\n",
       "  </thead>\n",
       "  <tbody>\n",
       "    <tr>\n",
       "      <th>0</th>\n",
       "      <td>2349</td>\n",
       "      <td>2538</td>\n",
       "      <td>190</td>\n",
       "    </tr>\n",
       "  </tbody>\n",
       "</table>\n",
       "</div>"
      ],
      "text/plain": [
       "   POSITIVO  NEGATIVO  NEUTRO\n",
       "0      2349      2538     190"
      ]
     },
     "metadata": {},
     "output_type": "display_data"
    },
    {
     "data": {
      "image/png": "[encoded data removed]",
      "text/plain": [
       "<Figure size 576x288 with 1 Axes>"
      ]
     },
     "metadata": {
      "needs_background": "light"
     },
     "output_type": "display_data"
    }
   ],
   "source": [
    "graph_valence_total(rede_social, cores_val2, valencia, positivo, negativo, neutro)"
   ]
  },
  {
   "cell_type": "markdown",
   "metadata": {},
   "source": [
    "##### Contagem total de comentários : Emoções"
   ]
  },
  {
   "cell_type": "code",
   "execution_count": 30,
   "metadata": {
    "ExecuteTime": {
     "end_time": "2018-11-26T01:35:00.056190Z",
     "start_time": "2018-11-26T01:34:59.869443Z"
    }
   },
   "outputs": [
    {
     "data": {
      "text/html": [
       "<div>\n",
       "<style scoped>\n",
       "    .dataframe tbody tr th:only-of-type {\n",
       "        vertical-align: middle;\n",
       "    }\n",
       "\n",
       "    .dataframe tbody tr th {\n",
       "        vertical-align: top;\n",
       "    }\n",
       "\n",
       "    .dataframe thead th {\n",
       "        text-align: right;\n",
       "    }\n",
       "</style>\n",
       "<table border=\"1\" class=\"dataframe\">\n",
       "  <thead>\n",
       "    <tr style=\"text-align: right;\">\n",
       "      <th></th>\n",
       "      <th>ALEGRIA</th>\n",
       "      <th>SURPRESA</th>\n",
       "      <th>TRISTEZA</th>\n",
       "      <th>MEDO</th>\n",
       "      <th>RAIVA</th>\n",
       "      <th>DESGOSTO</th>\n",
       "      <th>NEUTRO</th>\n",
       "    </tr>\n",
       "  </thead>\n",
       "  <tbody>\n",
       "    <tr>\n",
       "      <th>0</th>\n",
       "      <td>2331</td>\n",
       "      <td>18</td>\n",
       "      <td>2371</td>\n",
       "      <td>3</td>\n",
       "      <td>9</td>\n",
       "      <td>155</td>\n",
       "      <td>190</td>\n",
       "    </tr>\n",
       "  </tbody>\n",
       "</table>\n",
       "</div>"
      ],
      "text/plain": [
       "   ALEGRIA  SURPRESA  TRISTEZA  MEDO  RAIVA  DESGOSTO  NEUTRO\n",
       "0     2331        18      2371     3      9       155     190"
      ]
     },
     "metadata": {},
     "output_type": "display_data"
    },
    {
     "data": {
      "image/png": "[encoded data removed]",
      "text/plain": [
       "<Figure size 576x288 with 1 Axes>"
      ]
     },
     "metadata": {
      "needs_background": "light"
     },
     "output_type": "display_data"
    }
   ],
   "source": [
    "graph_sentimentos_total(rede_social, cores, sentimentos, alegria, surpresa, tristeza, medo, raiva, desgosto, neutro)"
   ]
  },
  {
   "cell_type": "markdown",
   "metadata": {},
   "source": [
    "##### Comentários por data : Valência"
   ]
  },
  {
   "cell_type": "code",
   "execution_count": 31,
   "metadata": {
    "ExecuteTime": {
     "end_time": "2018-11-26T01:35:01.632197Z",
     "start_time": "2018-11-26T01:35:00.355185Z"
    }
   },
   "outputs": [
    {
     "data": {
      "text/html": [
       "<div>\n",
       "<style scoped>\n",
       "    .dataframe tbody tr th:only-of-type {\n",
       "        vertical-align: middle;\n",
       "    }\n",
       "\n",
       "    .dataframe tbody tr th {\n",
       "        vertical-align: top;\n",
       "    }\n",
       "\n",
       "    .dataframe thead th {\n",
       "        text-align: right;\n",
       "    }\n",
       "</style>\n",
       "<table border=\"1\" class=\"dataframe\">\n",
       "  <thead>\n",
       "    <tr style=\"text-align: right;\">\n",
       "      <th></th>\n",
       "      <th>21/08/2018</th>\n",
       "      <th>22/08/2018</th>\n",
       "      <th>23/08/2018</th>\n",
       "      <th>24/08/2018</th>\n",
       "      <th>25/08/2018</th>\n",
       "      <th>26/08/2018</th>\n",
       "      <th>27/08/2018</th>\n",
       "      <th>28/08/2018</th>\n",
       "    </tr>\n",
       "  </thead>\n",
       "  <tbody>\n",
       "    <tr>\n",
       "      <th>NEGATIVO</th>\n",
       "      <td>1</td>\n",
       "      <td>30</td>\n",
       "      <td>50</td>\n",
       "      <td>91</td>\n",
       "      <td>75</td>\n",
       "      <td>31</td>\n",
       "      <td>48</td>\n",
       "      <td>88</td>\n",
       "    </tr>\n",
       "    <tr>\n",
       "      <th>NEUTRO</th>\n",
       "      <td>0</td>\n",
       "      <td>4</td>\n",
       "      <td>2</td>\n",
       "      <td>7</td>\n",
       "      <td>9</td>\n",
       "      <td>8</td>\n",
       "      <td>3</td>\n",
       "      <td>11</td>\n",
       "    </tr>\n",
       "    <tr>\n",
       "      <th>POSITIVO</th>\n",
       "      <td>0</td>\n",
       "      <td>79</td>\n",
       "      <td>120</td>\n",
       "      <td>174</td>\n",
       "      <td>157</td>\n",
       "      <td>85</td>\n",
       "      <td>99</td>\n",
       "      <td>126</td>\n",
       "    </tr>\n",
       "  </tbody>\n",
       "</table>\n",
       "</div>"
      ],
      "text/plain": [
       "          21/08/2018  22/08/2018  23/08/2018  24/08/2018  25/08/2018  \\\n",
       "NEGATIVO           1          30          50          91          75   \n",
       "NEUTRO             0           4           2           7           9   \n",
       "POSITIVO           0          79         120         174         157   \n",
       "\n",
       "          26/08/2018  27/08/2018  28/08/2018  \n",
       "NEGATIVO          31          48          88  \n",
       "NEUTRO             8           3          11  \n",
       "POSITIVO          85          99         126  "
      ]
     },
     "metadata": {},
     "output_type": "display_data"
    },
    {
     "data": {
      "image/png": "[encoded data removed]",
      "text/plain": [
       "<Figure size 1224x432 with 1 Axes>"
      ]
     },
     "metadata": {
      "needs_background": "light"
     },
     "output_type": "display_data"
    }
   ],
   "source": [
    "graph_valencia_por_data(rede_social, cores_val, valencia_dict, comentarios)"
   ]
  },
  {
   "cell_type": "markdown",
   "metadata": {},
   "source": [
    "##### Comentários por data : Emoções"
   ]
  },
  {
   "cell_type": "code",
   "execution_count": 32,
   "metadata": {
    "ExecuteTime": {
     "end_time": "2018-11-26T01:35:03.151241Z",
     "start_time": "2018-11-26T01:35:01.635186Z"
    },
    "scrolled": false
   },
   "outputs": [
    {
     "data": {
      "text/html": [
       "<div>\n",
       "<style scoped>\n",
       "    .dataframe tbody tr th:only-of-type {\n",
       "        vertical-align: middle;\n",
       "    }\n",
       "\n",
       "    .dataframe tbody tr th {\n",
       "        vertical-align: top;\n",
       "    }\n",
       "\n",
       "    .dataframe thead th {\n",
       "        text-align: right;\n",
       "    }\n",
       "</style>\n",
       "<table border=\"1\" class=\"dataframe\">\n",
       "  <thead>\n",
       "    <tr style=\"text-align: right;\">\n",
       "      <th></th>\n",
       "      <th>21/08/2018</th>\n",
       "      <th>22/08/2018</th>\n",
       "      <th>23/08/2018</th>\n",
       "      <th>24/08/2018</th>\n",
       "      <th>25/08/2018</th>\n",
       "      <th>26/08/2018</th>\n",
       "      <th>27/08/2018</th>\n",
       "      <th>28/08/2018</th>\n",
       "    </tr>\n",
       "  </thead>\n",
       "  <tbody>\n",
       "    <tr>\n",
       "      <th>ALEGRIA</th>\n",
       "      <td>0</td>\n",
       "      <td>79</td>\n",
       "      <td>120</td>\n",
       "      <td>173</td>\n",
       "      <td>154</td>\n",
       "      <td>84</td>\n",
       "      <td>98</td>\n",
       "      <td>126</td>\n",
       "    </tr>\n",
       "    <tr>\n",
       "      <th>DESGOSTO</th>\n",
       "      <td>0</td>\n",
       "      <td>2</td>\n",
       "      <td>4</td>\n",
       "      <td>2</td>\n",
       "      <td>6</td>\n",
       "      <td>2</td>\n",
       "      <td>2</td>\n",
       "      <td>10</td>\n",
       "    </tr>\n",
       "    <tr>\n",
       "      <th>MEDO</th>\n",
       "      <td>0</td>\n",
       "      <td>0</td>\n",
       "      <td>0</td>\n",
       "      <td>0</td>\n",
       "      <td>0</td>\n",
       "      <td>0</td>\n",
       "      <td>0</td>\n",
       "      <td>0</td>\n",
       "    </tr>\n",
       "    <tr>\n",
       "      <th>NEUTRO</th>\n",
       "      <td>0</td>\n",
       "      <td>4</td>\n",
       "      <td>2</td>\n",
       "      <td>7</td>\n",
       "      <td>9</td>\n",
       "      <td>8</td>\n",
       "      <td>3</td>\n",
       "      <td>11</td>\n",
       "    </tr>\n",
       "    <tr>\n",
       "      <th>RAIVA</th>\n",
       "      <td>0</td>\n",
       "      <td>0</td>\n",
       "      <td>2</td>\n",
       "      <td>0</td>\n",
       "      <td>0</td>\n",
       "      <td>0</td>\n",
       "      <td>0</td>\n",
       "      <td>0</td>\n",
       "    </tr>\n",
       "    <tr>\n",
       "      <th>SURPRESA</th>\n",
       "      <td>0</td>\n",
       "      <td>0</td>\n",
       "      <td>0</td>\n",
       "      <td>1</td>\n",
       "      <td>3</td>\n",
       "      <td>1</td>\n",
       "      <td>1</td>\n",
       "      <td>0</td>\n",
       "    </tr>\n",
       "    <tr>\n",
       "      <th>TRISTEZA</th>\n",
       "      <td>1</td>\n",
       "      <td>28</td>\n",
       "      <td>44</td>\n",
       "      <td>89</td>\n",
       "      <td>69</td>\n",
       "      <td>29</td>\n",
       "      <td>46</td>\n",
       "      <td>78</td>\n",
       "    </tr>\n",
       "  </tbody>\n",
       "</table>\n",
       "</div>"
      ],
      "text/plain": [
       "          21/08/2018  22/08/2018  23/08/2018  24/08/2018  25/08/2018  \\\n",
       "ALEGRIA            0          79         120         173         154   \n",
       "DESGOSTO           0           2           4           2           6   \n",
       "MEDO               0           0           0           0           0   \n",
       "NEUTRO             0           4           2           7           9   \n",
       "RAIVA              0           0           2           0           0   \n",
       "SURPRESA           0           0           0           1           3   \n",
       "TRISTEZA           1          28          44          89          69   \n",
       "\n",
       "          26/08/2018  27/08/2018  28/08/2018  \n",
       "ALEGRIA           84          98         126  \n",
       "DESGOSTO           2           2          10  \n",
       "MEDO               0           0           0  \n",
       "NEUTRO             8           3          11  \n",
       "RAIVA              0           0           0  \n",
       "SURPRESA           1           1           0  \n",
       "TRISTEZA          29          46          78  "
      ]
     },
     "metadata": {},
     "output_type": "display_data"
    },
    {
     "data": {
      "image/png": "[encoded data removed]",
      "text/plain": [
       "<Figure size 1224x432 with 1 Axes>"
      ]
     },
     "metadata": {
      "needs_background": "light"
     },
     "output_type": "display_data"
    }
   ],
   "source": [
    "graph_emocoes_por_data(rede_social, cores2, sentimentos_dict, comentarios)"
   ]
  },
  {
   "cell_type": "markdown",
   "metadata": {},
   "source": [
    "#### Marina Silva"
   ]
  },
  {
   "cell_type": "code",
   "execution_count": 33,
   "metadata": {
    "ExecuteTime": {
     "end_time": "2018-11-26T01:34:58.670632Z",
     "start_time": "2018-11-26T01:34:58.378458Z"
    }
   },
   "outputs": [],
   "source": [
    "candidato_c = [modelo.candidate == 'Marina Silva']\n",
    "\n",
    "total_comentarios = modelo.select() \\\n",
    "        .where(reduce(operator.and_, default_clause + candidato_c)) \\\n",
    "        .count()\n",
    "\n",
    "comentarios_positivos = modelo.select() \\\n",
    "        .where(reduce(operator.and_, default_clause + positivo_clause + candidato_c)) \\\n",
    "        .order_by(modelo.timestamp)\n",
    "\n",
    "comentarios_negativos = modelo.select() \\\n",
    "        .where(reduce(operator.and_, default_clause + negativo_clause + candidato_c)) \\\n",
    "        .order_by(modelo.timestamp)\n",
    "\n",
    "comentarios_neutros = modelo.select() \\\n",
    "        .where(reduce(operator.and_, default_clause + neutro_clause + candidato_c)) \\\n",
    "        .order_by(modelo.timestamp)\n",
    "\n",
    "comentarios = modelo.select() \\\n",
    "        .where(reduce(operator.and_, general + candidato_c)) \\\n",
    "        .order_by(modelo.timestamp)"
   ]
  },
  {
   "cell_type": "code",
   "execution_count": 34,
   "metadata": {
    "ExecuteTime": {
     "end_time": "2018-11-26T01:34:59.191598Z",
     "start_time": "2018-11-26T01:34:59.017651Z"
    }
   },
   "outputs": [
    {
     "name": "stdout",
     "output_type": "stream",
     "text": [
      "Estatísticas do Facebook:\n",
      "--------------------\n",
      "Total de Comentários  : 10689\n",
      "Comentários Positivos : 2000\n",
      "Comentários Negativos : 2491\n",
      "Comentários Neutros   : 136\n",
      "\n",
      "Porcentagem de comentários:\n",
      "--------------------\n",
      "Comentários Positivos : 18.71%\n",
      "Comentários Negativos : 23.3%\n",
      "Comentários Neutros   : 1.27%\n",
      "Total                 : 43.29%\n"
     ]
    }
   ],
   "source": [
    "alegria, surpresa, tristeza, medo, raiva, desgosto, positivo, negativo, neutro = load_emocoes_comentarios(comentarios_positivos, comentarios_negativos, comentarios_neutros)\n",
    "print_statistics(rede_social, total_comentarios, comentarios_positivos, comentarios_negativos, comentarios_neutros)"
   ]
  },
  {
   "cell_type": "markdown",
   "metadata": {},
   "source": [
    "##### Contagem total de comentários : Valência"
   ]
  },
  {
   "cell_type": "code",
   "execution_count": 35,
   "metadata": {
    "ExecuteTime": {
     "end_time": "2018-11-26T01:34:59.652443Z",
     "start_time": "2018-11-26T01:34:59.476258Z"
    }
   },
   "outputs": [
    {
     "data": {
      "text/html": [
       "<div>\n",
       "<style scoped>\n",
       "    .dataframe tbody tr th:only-of-type {\n",
       "        vertical-align: middle;\n",
       "    }\n",
       "\n",
       "    .dataframe tbody tr th {\n",
       "        vertical-align: top;\n",
       "    }\n",
       "\n",
       "    .dataframe thead th {\n",
       "        text-align: right;\n",
       "    }\n",
       "</style>\n",
       "<table border=\"1\" class=\"dataframe\">\n",
       "  <thead>\n",
       "    <tr style=\"text-align: right;\">\n",
       "      <th></th>\n",
       "      <th>POSITIVO</th>\n",
       "      <th>NEGATIVO</th>\n",
       "      <th>NEUTRO</th>\n",
       "    </tr>\n",
       "  </thead>\n",
       "  <tbody>\n",
       "    <tr>\n",
       "      <th>0</th>\n",
       "      <td>2000</td>\n",
       "      <td>2491</td>\n",
       "      <td>136</td>\n",
       "    </tr>\n",
       "  </tbody>\n",
       "</table>\n",
       "</div>"
      ],
      "text/plain": [
       "   POSITIVO  NEGATIVO  NEUTRO\n",
       "0      2000      2491     136"
      ]
     },
     "metadata": {},
     "output_type": "display_data"
    },
    {
     "data": {
      "image/png": "[encoded data removed]",
      "text/plain": [
       "<Figure size 576x288 with 1 Axes>"
      ]
     },
     "metadata": {
      "needs_background": "light"
     },
     "output_type": "display_data"
    }
   ],
   "source": [
    "graph_valence_total(rede_social, cores_val2, valencia, positivo, negativo, neutro)"
   ]
  },
  {
   "cell_type": "markdown",
   "metadata": {},
   "source": [
    "##### Contagem total de comentários : Emoções"
   ]
  },
  {
   "cell_type": "code",
   "execution_count": 36,
   "metadata": {
    "ExecuteTime": {
     "end_time": "2018-11-26T01:35:00.056190Z",
     "start_time": "2018-11-26T01:34:59.869443Z"
    }
   },
   "outputs": [
    {
     "data": {
      "text/html": [
       "<div>\n",
       "<style scoped>\n",
       "    .dataframe tbody tr th:only-of-type {\n",
       "        vertical-align: middle;\n",
       "    }\n",
       "\n",
       "    .dataframe tbody tr th {\n",
       "        vertical-align: top;\n",
       "    }\n",
       "\n",
       "    .dataframe thead th {\n",
       "        text-align: right;\n",
       "    }\n",
       "</style>\n",
       "<table border=\"1\" class=\"dataframe\">\n",
       "  <thead>\n",
       "    <tr style=\"text-align: right;\">\n",
       "      <th></th>\n",
       "      <th>ALEGRIA</th>\n",
       "      <th>SURPRESA</th>\n",
       "      <th>TRISTEZA</th>\n",
       "      <th>MEDO</th>\n",
       "      <th>RAIVA</th>\n",
       "      <th>DESGOSTO</th>\n",
       "      <th>NEUTRO</th>\n",
       "    </tr>\n",
       "  </thead>\n",
       "  <tbody>\n",
       "    <tr>\n",
       "      <th>0</th>\n",
       "      <td>1978</td>\n",
       "      <td>22</td>\n",
       "      <td>2287</td>\n",
       "      <td>3</td>\n",
       "      <td>16</td>\n",
       "      <td>185</td>\n",
       "      <td>136</td>\n",
       "    </tr>\n",
       "  </tbody>\n",
       "</table>\n",
       "</div>"
      ],
      "text/plain": [
       "   ALEGRIA  SURPRESA  TRISTEZA  MEDO  RAIVA  DESGOSTO  NEUTRO\n",
       "0     1978        22      2287     3     16       185     136"
      ]
     },
     "metadata": {},
     "output_type": "display_data"
    },
    {
     "data": {
      "image/png": "[encoded data removed]",
      "text/plain": [
       "<Figure size 576x288 with 1 Axes>"
      ]
     },
     "metadata": {
      "needs_background": "light"
     },
     "output_type": "display_data"
    }
   ],
   "source": [
    "graph_sentimentos_total(rede_social, cores, sentimentos, alegria, surpresa, tristeza, medo, raiva, desgosto, neutro)"
   ]
  },
  {
   "cell_type": "markdown",
   "metadata": {},
   "source": [
    "##### Comentários por data : Valência"
   ]
  },
  {
   "cell_type": "code",
   "execution_count": 37,
   "metadata": {
    "ExecuteTime": {
     "end_time": "2018-11-26T01:35:01.632197Z",
     "start_time": "2018-11-26T01:35:00.355185Z"
    }
   },
   "outputs": [
    {
     "data": {
      "text/html": [
       "<div>\n",
       "<style scoped>\n",
       "    .dataframe tbody tr th:only-of-type {\n",
       "        vertical-align: middle;\n",
       "    }\n",
       "\n",
       "    .dataframe tbody tr th {\n",
       "        vertical-align: top;\n",
       "    }\n",
       "\n",
       "    .dataframe thead th {\n",
       "        text-align: right;\n",
       "    }\n",
       "</style>\n",
       "<table border=\"1\" class=\"dataframe\">\n",
       "  <thead>\n",
       "    <tr style=\"text-align: right;\">\n",
       "      <th></th>\n",
       "      <th>19/08/2018</th>\n",
       "      <th>20/08/2018</th>\n",
       "      <th>21/08/2018</th>\n",
       "      <th>22/08/2018</th>\n",
       "      <th>23/08/2018</th>\n",
       "      <th>24/08/2018</th>\n",
       "      <th>25/08/2018</th>\n",
       "      <th>26/08/2018</th>\n",
       "    </tr>\n",
       "  </thead>\n",
       "  <tbody>\n",
       "    <tr>\n",
       "      <th>NEGATIVO</th>\n",
       "      <td>2</td>\n",
       "      <td>1</td>\n",
       "      <td>7</td>\n",
       "      <td>17</td>\n",
       "      <td>90</td>\n",
       "      <td>93</td>\n",
       "      <td>96</td>\n",
       "      <td>69</td>\n",
       "    </tr>\n",
       "    <tr>\n",
       "      <th>NEUTRO</th>\n",
       "      <td>0</td>\n",
       "      <td>0</td>\n",
       "      <td>1</td>\n",
       "      <td>1</td>\n",
       "      <td>7</td>\n",
       "      <td>8</td>\n",
       "      <td>2</td>\n",
       "      <td>3</td>\n",
       "    </tr>\n",
       "    <tr>\n",
       "      <th>POSITIVO</th>\n",
       "      <td>1</td>\n",
       "      <td>2</td>\n",
       "      <td>9</td>\n",
       "      <td>18</td>\n",
       "      <td>82</td>\n",
       "      <td>86</td>\n",
       "      <td>68</td>\n",
       "      <td>49</td>\n",
       "    </tr>\n",
       "  </tbody>\n",
       "</table>\n",
       "</div>"
      ],
      "text/plain": [
       "          19/08/2018  20/08/2018  21/08/2018  22/08/2018  23/08/2018  \\\n",
       "NEGATIVO           2           1           7          17          90   \n",
       "NEUTRO             0           0           1           1           7   \n",
       "POSITIVO           1           2           9          18          82   \n",
       "\n",
       "          24/08/2018  25/08/2018  26/08/2018  \n",
       "NEGATIVO          93          96          69  \n",
       "NEUTRO             8           2           3  \n",
       "POSITIVO          86          68          49  "
      ]
     },
     "metadata": {},
     "output_type": "display_data"
    },
    {
     "data": {
      "image/png": "[encoded data removed]",
      "text/plain": [
       "<Figure size 1224x432 with 1 Axes>"
      ]
     },
     "metadata": {
      "needs_background": "light"
     },
     "output_type": "display_data"
    }
   ],
   "source": [
    "graph_valencia_por_data(rede_social, cores_val, valencia_dict, comentarios)"
   ]
  },
  {
   "cell_type": "markdown",
   "metadata": {},
   "source": [
    "##### Comentários por data : Emoções"
   ]
  },
  {
   "cell_type": "code",
   "execution_count": 38,
   "metadata": {
    "ExecuteTime": {
     "end_time": "2018-11-26T01:35:03.151241Z",
     "start_time": "2018-11-26T01:35:01.635186Z"
    },
    "scrolled": false
   },
   "outputs": [
    {
     "data": {
      "text/html": [
       "<div>\n",
       "<style scoped>\n",
       "    .dataframe tbody tr th:only-of-type {\n",
       "        vertical-align: middle;\n",
       "    }\n",
       "\n",
       "    .dataframe tbody tr th {\n",
       "        vertical-align: top;\n",
       "    }\n",
       "\n",
       "    .dataframe thead th {\n",
       "        text-align: right;\n",
       "    }\n",
       "</style>\n",
       "<table border=\"1\" class=\"dataframe\">\n",
       "  <thead>\n",
       "    <tr style=\"text-align: right;\">\n",
       "      <th></th>\n",
       "      <th>19/08/2018</th>\n",
       "      <th>20/08/2018</th>\n",
       "      <th>21/08/2018</th>\n",
       "      <th>22/08/2018</th>\n",
       "      <th>23/08/2018</th>\n",
       "      <th>24/08/2018</th>\n",
       "      <th>25/08/2018</th>\n",
       "      <th>26/08/2018</th>\n",
       "    </tr>\n",
       "  </thead>\n",
       "  <tbody>\n",
       "    <tr>\n",
       "      <th>ALEGRIA</th>\n",
       "      <td>1</td>\n",
       "      <td>2</td>\n",
       "      <td>9</td>\n",
       "      <td>18</td>\n",
       "      <td>82</td>\n",
       "      <td>86</td>\n",
       "      <td>68</td>\n",
       "      <td>48</td>\n",
       "    </tr>\n",
       "    <tr>\n",
       "      <th>DESGOSTO</th>\n",
       "      <td>0</td>\n",
       "      <td>1</td>\n",
       "      <td>1</td>\n",
       "      <td>2</td>\n",
       "      <td>8</td>\n",
       "      <td>8</td>\n",
       "      <td>8</td>\n",
       "      <td>5</td>\n",
       "    </tr>\n",
       "    <tr>\n",
       "      <th>MEDO</th>\n",
       "      <td>0</td>\n",
       "      <td>0</td>\n",
       "      <td>0</td>\n",
       "      <td>0</td>\n",
       "      <td>0</td>\n",
       "      <td>0</td>\n",
       "      <td>0</td>\n",
       "      <td>0</td>\n",
       "    </tr>\n",
       "    <tr>\n",
       "      <th>NEUTRO</th>\n",
       "      <td>0</td>\n",
       "      <td>0</td>\n",
       "      <td>1</td>\n",
       "      <td>1</td>\n",
       "      <td>7</td>\n",
       "      <td>8</td>\n",
       "      <td>2</td>\n",
       "      <td>3</td>\n",
       "    </tr>\n",
       "    <tr>\n",
       "      <th>RAIVA</th>\n",
       "      <td>0</td>\n",
       "      <td>0</td>\n",
       "      <td>0</td>\n",
       "      <td>0</td>\n",
       "      <td>0</td>\n",
       "      <td>0</td>\n",
       "      <td>0</td>\n",
       "      <td>1</td>\n",
       "    </tr>\n",
       "    <tr>\n",
       "      <th>SURPRESA</th>\n",
       "      <td>0</td>\n",
       "      <td>0</td>\n",
       "      <td>0</td>\n",
       "      <td>0</td>\n",
       "      <td>0</td>\n",
       "      <td>0</td>\n",
       "      <td>0</td>\n",
       "      <td>1</td>\n",
       "    </tr>\n",
       "    <tr>\n",
       "      <th>TRISTEZA</th>\n",
       "      <td>2</td>\n",
       "      <td>0</td>\n",
       "      <td>6</td>\n",
       "      <td>15</td>\n",
       "      <td>82</td>\n",
       "      <td>85</td>\n",
       "      <td>88</td>\n",
       "      <td>63</td>\n",
       "    </tr>\n",
       "  </tbody>\n",
       "</table>\n",
       "</div>"
      ],
      "text/plain": [
       "          19/08/2018  20/08/2018  21/08/2018  22/08/2018  23/08/2018  \\\n",
       "ALEGRIA            1           2           9          18          82   \n",
       "DESGOSTO           0           1           1           2           8   \n",
       "MEDO               0           0           0           0           0   \n",
       "NEUTRO             0           0           1           1           7   \n",
       "RAIVA              0           0           0           0           0   \n",
       "SURPRESA           0           0           0           0           0   \n",
       "TRISTEZA           2           0           6          15          82   \n",
       "\n",
       "          24/08/2018  25/08/2018  26/08/2018  \n",
       "ALEGRIA           86          68          48  \n",
       "DESGOSTO           8           8           5  \n",
       "MEDO               0           0           0  \n",
       "NEUTRO             8           2           3  \n",
       "RAIVA              0           0           1  \n",
       "SURPRESA           0           0           1  \n",
       "TRISTEZA          85          88          63  "
      ]
     },
     "metadata": {},
     "output_type": "display_data"
    },
    {
     "data": {
      "image/png": "[encoded data removed]",
      "text/plain": [
       "<Figure size 1224x432 with 1 Axes>"
      ]
     },
     "metadata": {
      "needs_background": "light"
     },
     "output_type": "display_data"
    }
   ],
   "source": [
    "graph_emocoes_por_data(rede_social, cores2, sentimentos_dict, comentarios)"
   ]
  },
  {
   "cell_type": "code",
   "execution_count": null,
   "metadata": {},
   "outputs": [],
   "source": []
  }
 ],
 "metadata": {
  "hide_input": false,
  "kernelspec": {
   "display_name": "Python 3",
   "language": "python",
   "name": "python3"
  },
  "language_info": {
   "codemirror_mode": {
    "name": "ipython",
    "version": 3
   },
   "file_extension": ".py",
   "mimetype": "text/x-python",
   "name": "python",
   "nbconvert_exporter": "python",
   "pygments_lexer": "ipython3",
   "version": "3.7.1"
  },
  "latex_envs": {
   "LaTeX_envs_menu_present": true,
   "autoclose": false,
   "autocomplete": true,
   "bibliofile": "biblio.bib",
   "cite_by": "apalike",
   "current_citInitial": 1,
   "eqLabelWithNumbers": true,
   "eqNumInitial": 1,
   "hotkeys": {
    "equation": "Ctrl-E",
    "itemize": "Ctrl-I"
   },
   "labels_anchors": false,
   "latex_user_defs": false,
   "report_style_numbering": false,
   "user_envs_cfg": false
  },
  "toc": {
   "base_numbering": 1,
   "nav_menu": {
    "height": "12px",
    "width": "252px"
   },
   "number_sections": true,
   "sideBar": true,
   "skip_h1_title": false,
   "title_cell": "Table of Contents",
   "title_sidebar": "Contents",
   "toc_cell": false,
   "toc_position": {},
   "toc_section_display": "block",
   "toc_window_display": false
  }
 },
 "nbformat": 4,
 "nbformat_minor": 2
}
