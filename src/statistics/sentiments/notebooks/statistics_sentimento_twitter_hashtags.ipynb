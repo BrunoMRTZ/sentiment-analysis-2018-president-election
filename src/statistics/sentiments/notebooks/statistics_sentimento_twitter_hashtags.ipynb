{
 "cells": [
  {
   "cell_type": "code",
   "execution_count": 1,
   "metadata": {
    "ExecuteTime": {
     "end_time": "2018-11-26T01:49:53.276067Z",
     "start_time": "2018-11-26T01:49:51.428148Z"
    }
   },
   "outputs": [],
   "source": [
    "import sys\n",
    "sys.path.append('..')\n",
    "sys.path.append('../..')\n",
    "\n",
    "from stats import *\n",
    "from sentiment_stats import *\n",
    "\n",
    "from peewee import SQL\n",
    "from database.models import RawFacebookComments, RawTwitterComments, RawInstagramComments, RawYouTubeComments, RawHashtagComments\n",
    "\n",
    "rede_social = 'Hashtags'\n",
    "modelo = RawHashtagComments\n",
    "\n",
    "cores = ['#FFA726', '#66BB6A', '#42A5F5', '#FFEE58', '#EF5350', '#AB47BC', '#C8C8C8']\n",
    "cores2 = ['#FFA726', '#AB47BC', '#FFEE58', '#C8C8C8', '#EF5350', '#66BB6A', '#42A5F5']\n",
    "cores_val = ['#EF5350', '#C8C8C8', '#66BB6A']\n",
    "cores_val2 = ['#66BB6A', '#EF5350', '#C8C8C8']\n",
    "sentimentos = ['ALEGRIA', 'SURPRESA', 'TRISTEZA', 'MEDO', 'RAIVA', 'DESGOSTO', 'NEUTRO']\n",
    "valencia = ['POSITIVO', 'NEGATIVO', 'NEUTRO']\n",
    "\n",
    "valencia_dict = OrderedDict()\n",
    "for val in valencia:\n",
    "    valencia_dict[val] = 0\n",
    "\n",
    "sentimentos_dict = OrderedDict()\n",
    "for sentimento in sentimentos:\n",
    "    sentimentos_dict[sentimento] = 0\n",
    "    \n",
    "default_clause = [\n",
    "    SQL('length(clean_comment) > 0'),\n",
    "]\n",
    "\n",
    "positivo_clause = [\n",
    "    SQL('length(emotion) > 0 AND length(valence) > 0'),\n",
    "    SQL('emotion in (\"ALEGRIA\", \"SURPRESA\") AND valence = \"POSITIVO\"')\n",
    "]\n",
    "\n",
    "negativo_clause = [\n",
    "    SQL('length(emotion) > 0 AND length(valence) > 0'),\n",
    "    SQL('emotion in (\"TRISTEZA\", \"RAIVA\", \"MEDO\", \"DESGOSTO\") AND valence = \"NEGATIVO\"')\n",
    "]\n",
    "\n",
    "neutro_clause = [\n",
    "    SQL('length(emotion) > 0 AND length(valence) > 0'),\n",
    "    SQL('emotion in (\"NEUTRO\") AND valence = \"NEUTRO\"')\n",
    "]\n",
    "\n",
    "general = default_clause + [\n",
    "    SQL('length(emotion) > 0 AND length(valence) > 0'),\n",
    "    SQL(\"\"\"\n",
    "        (emotion in (\"ALEGRIA\", \"SURPRESA\") AND valence = \"POSITIVO\") \n",
    "        OR \n",
    "        (emotion in (\"TRISTEZA\", \"RAIVA\", \"MEDO\", \"DESGOSTO\") AND valence = \"NEGATIVO\")\n",
    "        OR\n",
    "        (emotion in (\"NEUTRO\") AND valence = \"NEUTRO\")\n",
    "    \"\"\")\n",
    "]"
   ]
  },
  {
   "cell_type": "markdown",
   "metadata": {},
   "source": [
    "### Emoções gerais dos comentários : Twitter Hashtags"
   ]
  },
  {
   "cell_type": "code",
   "execution_count": 2,
   "metadata": {
    "ExecuteTime": {
     "end_time": "2018-11-26T01:49:53.416994Z",
     "start_time": "2018-11-26T01:49:53.279587Z"
    }
   },
   "outputs": [],
   "source": [
    "total_comentarios = modelo.select() \\\n",
    "        .where(default_clause) \\\n",
    "        .count()\n",
    "\n",
    "comentarios_positivos = modelo.select() \\\n",
    "        .where(reduce(operator.and_, default_clause + positivo_clause)) \\\n",
    "        .order_by(modelo.timestamp)\n",
    "\n",
    "comentarios_negativos = modelo.select() \\\n",
    "        .where(reduce(operator.and_, default_clause + negativo_clause)) \\\n",
    "        .order_by(modelo.timestamp)\n",
    "\n",
    "comentarios_neutros = modelo.select() \\\n",
    "        .where(reduce(operator.and_, default_clause + neutro_clause)) \\\n",
    "        .order_by(modelo.timestamp)\n",
    "\n",
    "comentarios = modelo.select() \\\n",
    "        .where(reduce(operator.and_, general)) \\\n",
    "        .order_by(modelo.timestamp)"
   ]
  },
  {
   "cell_type": "code",
   "execution_count": 3,
   "metadata": {
    "ExecuteTime": {
     "end_time": "2018-11-26T01:49:57.644894Z",
     "start_time": "2018-11-26T01:49:53.420102Z"
    }
   },
   "outputs": [
    {
     "name": "stdout",
     "output_type": "stream",
     "text": [
      "Estatísticas do Hashtags:\n",
      "--------------------\n",
      "Total de Comentários  : 282674\n",
      "Comentários Positivos : 50532\n",
      "Comentários Negativos : 62441\n",
      "Comentários Neutros   : 5066\n",
      "\n",
      "Porcentagem de comentários:\n",
      "--------------------\n",
      "Comentários Positivos : 17.88%\n",
      "Comentários Negativos : 22.09%\n",
      "Comentários Neutros   : 1.79%\n",
      "Total                 : 41.76%\n"
     ]
    }
   ],
   "source": [
    "alegria, surpresa, tristeza, medo, raiva, desgosto, positivo, negativo, neutro = load_emocoes_comentarios(comentarios_positivos, comentarios_negativos, comentarios_neutros)\n",
    "print_statistics(rede_social, total_comentarios, comentarios_positivos, comentarios_negativos, comentarios_neutros)"
   ]
  },
  {
   "cell_type": "markdown",
   "metadata": {},
   "source": [
    "#### Contagem total de comentários : Valência"
   ]
  },
  {
   "cell_type": "code",
   "execution_count": 4,
   "metadata": {
    "ExecuteTime": {
     "end_time": "2018-11-26T01:49:57.827924Z",
     "start_time": "2018-11-26T01:49:57.646642Z"
    }
   },
   "outputs": [
    {
     "data": {
      "text/html": [
       "<div>\n",
       "<style scoped>\n",
       "    .dataframe tbody tr th:only-of-type {\n",
       "        vertical-align: middle;\n",
       "    }\n",
       "\n",
       "    .dataframe tbody tr th {\n",
       "        vertical-align: top;\n",
       "    }\n",
       "\n",
       "    .dataframe thead th {\n",
       "        text-align: right;\n",
       "    }\n",
       "</style>\n",
       "<table border=\"1\" class=\"dataframe\">\n",
       "  <thead>\n",
       "    <tr style=\"text-align: right;\">\n",
       "      <th></th>\n",
       "      <th>POSITIVO</th>\n",
       "      <th>NEGATIVO</th>\n",
       "      <th>NEUTRO</th>\n",
       "    </tr>\n",
       "  </thead>\n",
       "  <tbody>\n",
       "    <tr>\n",
       "      <th>0</th>\n",
       "      <td>50532</td>\n",
       "      <td>62441</td>\n",
       "      <td>5066</td>\n",
       "    </tr>\n",
       "  </tbody>\n",
       "</table>\n",
       "</div>"
      ],
      "text/plain": [
       "   POSITIVO  NEGATIVO  NEUTRO\n",
       "0     50532     62441    5066"
      ]
     },
     "metadata": {},
     "output_type": "display_data"
    },
    {
     "data": {
      "image/png": "[encoded data removed]",
      "text/plain": [
       "<Figure size 576x288 with 1 Axes>"
      ]
     },
     "metadata": {
      "needs_background": "light"
     },
     "output_type": "display_data"
    }
   ],
   "source": [
    "graph_valence_total(rede_social, cores_val2, valencia, positivo, negativo, neutro)"
   ]
  },
  {
   "cell_type": "markdown",
   "metadata": {},
   "source": [
    "#### Contagem total de comentários : Emoções"
   ]
  },
  {
   "cell_type": "code",
   "execution_count": 5,
   "metadata": {
    "ExecuteTime": {
     "end_time": "2018-11-26T01:49:57.991640Z",
     "start_time": "2018-11-26T01:49:57.829784Z"
    }
   },
   "outputs": [
    {
     "data": {
      "text/html": [
       "<div>\n",
       "<style scoped>\n",
       "    .dataframe tbody tr th:only-of-type {\n",
       "        vertical-align: middle;\n",
       "    }\n",
       "\n",
       "    .dataframe tbody tr th {\n",
       "        vertical-align: top;\n",
       "    }\n",
       "\n",
       "    .dataframe thead th {\n",
       "        text-align: right;\n",
       "    }\n",
       "</style>\n",
       "<table border=\"1\" class=\"dataframe\">\n",
       "  <thead>\n",
       "    <tr style=\"text-align: right;\">\n",
       "      <th></th>\n",
       "      <th>ALEGRIA</th>\n",
       "      <th>SURPRESA</th>\n",
       "      <th>TRISTEZA</th>\n",
       "      <th>MEDO</th>\n",
       "      <th>RAIVA</th>\n",
       "      <th>DESGOSTO</th>\n",
       "      <th>NEUTRO</th>\n",
       "    </tr>\n",
       "  </thead>\n",
       "  <tbody>\n",
       "    <tr>\n",
       "      <th>0</th>\n",
       "      <td>50062</td>\n",
       "      <td>470</td>\n",
       "      <td>55568</td>\n",
       "      <td>30</td>\n",
       "      <td>545</td>\n",
       "      <td>6298</td>\n",
       "      <td>5066</td>\n",
       "    </tr>\n",
       "  </tbody>\n",
       "</table>\n",
       "</div>"
      ],
      "text/plain": [
       "   ALEGRIA  SURPRESA  TRISTEZA  MEDO  RAIVA  DESGOSTO  NEUTRO\n",
       "0    50062       470     55568    30    545      6298    5066"
      ]
     },
     "metadata": {},
     "output_type": "display_data"
    },
    {
     "data": {
      "image/png": "[encoded data removed]",
      "text/plain": [
       "<Figure size 576x288 with 1 Axes>"
      ]
     },
     "metadata": {
      "needs_background": "light"
     },
     "output_type": "display_data"
    }
   ],
   "source": [
    "graph_sentimentos_total(rede_social, cores, sentimentos, alegria, surpresa, tristeza, medo, raiva, desgosto, neutro)"
   ]
  },
  {
   "cell_type": "markdown",
   "metadata": {},
   "source": [
    "#### Comentários por data : Valência"
   ]
  },
  {
   "cell_type": "code",
   "execution_count": 6,
   "metadata": {
    "ExecuteTime": {
     "end_time": "2018-11-26T01:50:10.348897Z",
     "start_time": "2018-11-26T01:49:57.993772Z"
    },
    "scrolled": false
   },
   "outputs": [
    {
     "data": {
      "text/html": [
       "<div>\n",
       "<style scoped>\n",
       "    .dataframe tbody tr th:only-of-type {\n",
       "        vertical-align: middle;\n",
       "    }\n",
       "\n",
       "    .dataframe tbody tr th {\n",
       "        vertical-align: top;\n",
       "    }\n",
       "\n",
       "    .dataframe thead th {\n",
       "        text-align: right;\n",
       "    }\n",
       "</style>\n",
       "<table border=\"1\" class=\"dataframe\">\n",
       "  <thead>\n",
       "    <tr style=\"text-align: right;\">\n",
       "      <th></th>\n",
       "      <th>11/05/2011</th>\n",
       "      <th>07/10/2012</th>\n",
       "      <th>05/10/2014</th>\n",
       "      <th>06/10/2014</th>\n",
       "      <th>26/10/2014</th>\n",
       "      <th>25/09/2016</th>\n",
       "      <th>28/09/2016</th>\n",
       "      <th>29/09/2016</th>\n",
       "    </tr>\n",
       "  </thead>\n",
       "  <tbody>\n",
       "    <tr>\n",
       "      <th>NEGATIVO</th>\n",
       "      <td>5</td>\n",
       "      <td>3</td>\n",
       "      <td>3</td>\n",
       "      <td>1</td>\n",
       "      <td>1</td>\n",
       "      <td>0</td>\n",
       "      <td>0</td>\n",
       "      <td>0</td>\n",
       "    </tr>\n",
       "    <tr>\n",
       "      <th>NEUTRO</th>\n",
       "      <td>0</td>\n",
       "      <td>0</td>\n",
       "      <td>0</td>\n",
       "      <td>0</td>\n",
       "      <td>0</td>\n",
       "      <td>0</td>\n",
       "      <td>0</td>\n",
       "      <td>0</td>\n",
       "    </tr>\n",
       "    <tr>\n",
       "      <th>POSITIVO</th>\n",
       "      <td>0</td>\n",
       "      <td>1</td>\n",
       "      <td>2</td>\n",
       "      <td>0</td>\n",
       "      <td>1</td>\n",
       "      <td>2</td>\n",
       "      <td>2</td>\n",
       "      <td>1</td>\n",
       "    </tr>\n",
       "  </tbody>\n",
       "</table>\n",
       "</div>"
      ],
      "text/plain": [
       "          11/05/2011  07/10/2012  05/10/2014  06/10/2014  26/10/2014  \\\n",
       "NEGATIVO           5           3           3           1           1   \n",
       "NEUTRO             0           0           0           0           0   \n",
       "POSITIVO           0           1           2           0           1   \n",
       "\n",
       "          25/09/2016  28/09/2016  29/09/2016  \n",
       "NEGATIVO           0           0           0  \n",
       "NEUTRO             0           0           0  \n",
       "POSITIVO           2           2           1  "
      ]
     },
     "metadata": {},
     "output_type": "display_data"
    },
    {
     "data": {
      "image/png": "[encoded data removed]",
      "text/plain": [
       "<Figure size 1224x432 with 1 Axes>"
      ]
     },
     "metadata": {
      "needs_background": "light"
     },
     "output_type": "display_data"
    }
   ],
   "source": [
    "graph_valencia_por_data(rede_social, cores_val, valencia_dict, comentarios)"
   ]
  },
  {
   "cell_type": "markdown",
   "metadata": {},
   "source": [
    "#### Comentários por data : Emoções"
   ]
  },
  {
   "cell_type": "code",
   "execution_count": 7,
   "metadata": {
    "ExecuteTime": {
     "end_time": "2018-11-26T01:50:18.856563Z",
     "start_time": "2018-11-26T01:50:10.350918Z"
    }
   },
   "outputs": [
    {
     "data": {
      "text/html": [
       "<div>\n",
       "<style scoped>\n",
       "    .dataframe tbody tr th:only-of-type {\n",
       "        vertical-align: middle;\n",
       "    }\n",
       "\n",
       "    .dataframe tbody tr th {\n",
       "        vertical-align: top;\n",
       "    }\n",
       "\n",
       "    .dataframe thead th {\n",
       "        text-align: right;\n",
       "    }\n",
       "</style>\n",
       "<table border=\"1\" class=\"dataframe\">\n",
       "  <thead>\n",
       "    <tr style=\"text-align: right;\">\n",
       "      <th></th>\n",
       "      <th>11/05/2011</th>\n",
       "      <th>07/10/2012</th>\n",
       "      <th>05/10/2014</th>\n",
       "      <th>06/10/2014</th>\n",
       "      <th>26/10/2014</th>\n",
       "      <th>25/09/2016</th>\n",
       "      <th>28/09/2016</th>\n",
       "      <th>29/09/2016</th>\n",
       "    </tr>\n",
       "  </thead>\n",
       "  <tbody>\n",
       "    <tr>\n",
       "      <th>ALEGRIA</th>\n",
       "      <td>0</td>\n",
       "      <td>1</td>\n",
       "      <td>2</td>\n",
       "      <td>0</td>\n",
       "      <td>1</td>\n",
       "      <td>2</td>\n",
       "      <td>2</td>\n",
       "      <td>1</td>\n",
       "    </tr>\n",
       "    <tr>\n",
       "      <th>DESGOSTO</th>\n",
       "      <td>0</td>\n",
       "      <td>1</td>\n",
       "      <td>0</td>\n",
       "      <td>0</td>\n",
       "      <td>0</td>\n",
       "      <td>0</td>\n",
       "      <td>0</td>\n",
       "      <td>0</td>\n",
       "    </tr>\n",
       "    <tr>\n",
       "      <th>MEDO</th>\n",
       "      <td>0</td>\n",
       "      <td>0</td>\n",
       "      <td>0</td>\n",
       "      <td>0</td>\n",
       "      <td>0</td>\n",
       "      <td>0</td>\n",
       "      <td>0</td>\n",
       "      <td>0</td>\n",
       "    </tr>\n",
       "    <tr>\n",
       "      <th>NEUTRO</th>\n",
       "      <td>0</td>\n",
       "      <td>0</td>\n",
       "      <td>0</td>\n",
       "      <td>0</td>\n",
       "      <td>0</td>\n",
       "      <td>0</td>\n",
       "      <td>0</td>\n",
       "      <td>0</td>\n",
       "    </tr>\n",
       "    <tr>\n",
       "      <th>RAIVA</th>\n",
       "      <td>0</td>\n",
       "      <td>0</td>\n",
       "      <td>0</td>\n",
       "      <td>0</td>\n",
       "      <td>0</td>\n",
       "      <td>0</td>\n",
       "      <td>0</td>\n",
       "      <td>0</td>\n",
       "    </tr>\n",
       "    <tr>\n",
       "      <th>SURPRESA</th>\n",
       "      <td>0</td>\n",
       "      <td>0</td>\n",
       "      <td>0</td>\n",
       "      <td>0</td>\n",
       "      <td>0</td>\n",
       "      <td>0</td>\n",
       "      <td>0</td>\n",
       "      <td>0</td>\n",
       "    </tr>\n",
       "    <tr>\n",
       "      <th>TRISTEZA</th>\n",
       "      <td>5</td>\n",
       "      <td>2</td>\n",
       "      <td>3</td>\n",
       "      <td>1</td>\n",
       "      <td>1</td>\n",
       "      <td>0</td>\n",
       "      <td>0</td>\n",
       "      <td>0</td>\n",
       "    </tr>\n",
       "  </tbody>\n",
       "</table>\n",
       "</div>"
      ],
      "text/plain": [
       "          11/05/2011  07/10/2012  05/10/2014  06/10/2014  26/10/2014  \\\n",
       "ALEGRIA            0           1           2           0           1   \n",
       "DESGOSTO           0           1           0           0           0   \n",
       "MEDO               0           0           0           0           0   \n",
       "NEUTRO             0           0           0           0           0   \n",
       "RAIVA              0           0           0           0           0   \n",
       "SURPRESA           0           0           0           0           0   \n",
       "TRISTEZA           5           2           3           1           1   \n",
       "\n",
       "          25/09/2016  28/09/2016  29/09/2016  \n",
       "ALEGRIA            2           2           1  \n",
       "DESGOSTO           0           0           0  \n",
       "MEDO               0           0           0  \n",
       "NEUTRO             0           0           0  \n",
       "RAIVA              0           0           0  \n",
       "SURPRESA           0           0           0  \n",
       "TRISTEZA           0           0           0  "
      ]
     },
     "metadata": {},
     "output_type": "display_data"
    },
    {
     "data": {
      "image/png": "[encoded data removed]",
      "text/plain": [
       "<Figure size 1224x432 with 1 Axes>"
      ]
     },
     "metadata": {
      "needs_background": "light"
     },
     "output_type": "display_data"
    }
   ],
   "source": [
    "graph_emocoes_por_data(rede_social, cores2, sentimentos_dict, comentarios)"
   ]
  },
  {
   "cell_type": "markdown",
   "metadata": {},
   "source": [
    "### Emoções por algumas hashtags : Twitter Hashtags"
   ]
  },
  {
   "cell_type": "markdown",
   "metadata": {},
   "source": [
    "#### EleNão"
   ]
  },
  {
   "cell_type": "code",
   "execution_count": 8,
   "metadata": {
    "ExecuteTime": {
     "end_time": "2018-11-26T01:50:18.965265Z",
     "start_time": "2018-11-26T01:50:18.859242Z"
    }
   },
   "outputs": [],
   "source": [
    "hashtag_c = [modelo.hashtag == 'EleNão']\n",
    "\n",
    "total_comentarios = modelo.select() \\\n",
    "        .where(reduce(operator.and_, default_clause + hashtag_c)) \\\n",
    "        .count()\n",
    "\n",
    "comentarios_positivos = modelo.select() \\\n",
    "        .where(reduce(operator.and_, default_clause + positivo_clause + hashtag_c)) \\\n",
    "        .order_by(modelo.timestamp)\n",
    "\n",
    "comentarios_negativos = modelo.select() \\\n",
    "        .where(reduce(operator.and_, default_clause + negativo_clause + hashtag_c)) \\\n",
    "        .order_by(modelo.timestamp)\n",
    "\n",
    "comentarios_neutros = modelo.select() \\\n",
    "        .where(reduce(operator.and_, default_clause + neutro_clause + hashtag_c)) \\\n",
    "        .order_by(modelo.timestamp)\n",
    "\n",
    "comentarios = modelo.select() \\\n",
    "        .where(reduce(operator.and_, general + hashtag_c)) \\\n",
    "        .order_by(modelo.timestamp)"
   ]
  },
  {
   "cell_type": "code",
   "execution_count": 9,
   "metadata": {
    "ExecuteTime": {
     "end_time": "2018-11-26T01:50:19.358060Z",
     "start_time": "2018-11-26T01:50:18.968331Z"
    }
   },
   "outputs": [
    {
     "name": "stdout",
     "output_type": "stream",
     "text": [
      "Estatísticas do Hashtags:\n",
      "--------------------\n",
      "Total de Comentários  : 17372\n",
      "Comentários Positivos : 1638\n",
      "Comentários Negativos : 7305\n",
      "Comentários Neutros   : 223\n",
      "\n",
      "Porcentagem de comentários:\n",
      "--------------------\n",
      "Comentários Positivos : 9.43%\n",
      "Comentários Negativos : 42.05%\n",
      "Comentários Neutros   : 1.28%\n",
      "Total                 : 52.76%\n"
     ]
    }
   ],
   "source": [
    "alegria, surpresa, tristeza, medo, raiva, desgosto, positivo, negativo, neutro = load_emocoes_comentarios(comentarios_positivos, comentarios_negativos, comentarios_neutros)\n",
    "print_statistics(rede_social, total_comentarios, comentarios_positivos, comentarios_negativos, comentarios_neutros)"
   ]
  },
  {
   "cell_type": "markdown",
   "metadata": {},
   "source": [
    "##### Contagem total de comentários : Valência"
   ]
  },
  {
   "cell_type": "code",
   "execution_count": 10,
   "metadata": {
    "ExecuteTime": {
     "end_time": "2018-11-26T01:50:19.529077Z",
     "start_time": "2018-11-26T01:50:19.360930Z"
    }
   },
   "outputs": [
    {
     "data": {
      "text/html": [
       "<div>\n",
       "<style scoped>\n",
       "    .dataframe tbody tr th:only-of-type {\n",
       "        vertical-align: middle;\n",
       "    }\n",
       "\n",
       "    .dataframe tbody tr th {\n",
       "        vertical-align: top;\n",
       "    }\n",
       "\n",
       "    .dataframe thead th {\n",
       "        text-align: right;\n",
       "    }\n",
       "</style>\n",
       "<table border=\"1\" class=\"dataframe\">\n",
       "  <thead>\n",
       "    <tr style=\"text-align: right;\">\n",
       "      <th></th>\n",
       "      <th>POSITIVO</th>\n",
       "      <th>NEGATIVO</th>\n",
       "      <th>NEUTRO</th>\n",
       "    </tr>\n",
       "  </thead>\n",
       "  <tbody>\n",
       "    <tr>\n",
       "      <th>0</th>\n",
       "      <td>1638</td>\n",
       "      <td>7305</td>\n",
       "      <td>223</td>\n",
       "    </tr>\n",
       "  </tbody>\n",
       "</table>\n",
       "</div>"
      ],
      "text/plain": [
       "   POSITIVO  NEGATIVO  NEUTRO\n",
       "0      1638      7305     223"
      ]
     },
     "metadata": {},
     "output_type": "display_data"
    },
    {
     "data": {
      "image/png": "[encoded data removed]",
      "text/plain": [
       "<Figure size 576x288 with 1 Axes>"
      ]
     },
     "metadata": {
      "needs_background": "light"
     },
     "output_type": "display_data"
    }
   ],
   "source": [
    "graph_valence_total(rede_social, cores_val2, valencia, positivo, negativo, neutro)"
   ]
  },
  {
   "cell_type": "markdown",
   "metadata": {},
   "source": [
    "##### Contagem total de comentários : Emoções"
   ]
  },
  {
   "cell_type": "code",
   "execution_count": 11,
   "metadata": {
    "ExecuteTime": {
     "end_time": "2018-11-26T01:50:19.738690Z",
     "start_time": "2018-11-26T01:50:19.531316Z"
    }
   },
   "outputs": [
    {
     "data": {
      "text/html": [
       "<div>\n",
       "<style scoped>\n",
       "    .dataframe tbody tr th:only-of-type {\n",
       "        vertical-align: middle;\n",
       "    }\n",
       "\n",
       "    .dataframe tbody tr th {\n",
       "        vertical-align: top;\n",
       "    }\n",
       "\n",
       "    .dataframe thead th {\n",
       "        text-align: right;\n",
       "    }\n",
       "</style>\n",
       "<table border=\"1\" class=\"dataframe\">\n",
       "  <thead>\n",
       "    <tr style=\"text-align: right;\">\n",
       "      <th></th>\n",
       "      <th>ALEGRIA</th>\n",
       "      <th>SURPRESA</th>\n",
       "      <th>TRISTEZA</th>\n",
       "      <th>MEDO</th>\n",
       "      <th>RAIVA</th>\n",
       "      <th>DESGOSTO</th>\n",
       "      <th>NEUTRO</th>\n",
       "    </tr>\n",
       "  </thead>\n",
       "  <tbody>\n",
       "    <tr>\n",
       "      <th>0</th>\n",
       "      <td>1601</td>\n",
       "      <td>37</td>\n",
       "      <td>6911</td>\n",
       "      <td>1</td>\n",
       "      <td>74</td>\n",
       "      <td>319</td>\n",
       "      <td>223</td>\n",
       "    </tr>\n",
       "  </tbody>\n",
       "</table>\n",
       "</div>"
      ],
      "text/plain": [
       "   ALEGRIA  SURPRESA  TRISTEZA  MEDO  RAIVA  DESGOSTO  NEUTRO\n",
       "0     1601        37      6911     1     74       319     223"
      ]
     },
     "metadata": {},
     "output_type": "display_data"
    },
    {
     "data": {
      "image/png": "[encoded data removed]",
      "text/plain": [
       "<Figure size 576x288 with 1 Axes>"
      ]
     },
     "metadata": {
      "needs_background": "light"
     },
     "output_type": "display_data"
    }
   ],
   "source": [
    "graph_sentimentos_total(rede_social, cores, sentimentos, alegria, surpresa, tristeza, medo, raiva, desgosto, neutro)"
   ]
  },
  {
   "cell_type": "markdown",
   "metadata": {},
   "source": [
    "##### Comentários por data : Valência"
   ]
  },
  {
   "cell_type": "code",
   "execution_count": 12,
   "metadata": {
    "ExecuteTime": {
     "end_time": "2018-11-26T01:50:21.007743Z",
     "start_time": "2018-11-26T01:50:19.740387Z"
    },
    "scrolled": false
   },
   "outputs": [
    {
     "data": {
      "text/html": [
       "<div>\n",
       "<style scoped>\n",
       "    .dataframe tbody tr th:only-of-type {\n",
       "        vertical-align: middle;\n",
       "    }\n",
       "\n",
       "    .dataframe tbody tr th {\n",
       "        vertical-align: top;\n",
       "    }\n",
       "\n",
       "    .dataframe thead th {\n",
       "        text-align: right;\n",
       "    }\n",
       "</style>\n",
       "<table border=\"1\" class=\"dataframe\">\n",
       "  <thead>\n",
       "    <tr style=\"text-align: right;\">\n",
       "      <th></th>\n",
       "      <th>18/09/2018</th>\n",
       "      <th>19/09/2018</th>\n",
       "      <th>29/09/2018</th>\n",
       "      <th>05/10/2018</th>\n",
       "      <th>06/10/2018</th>\n",
       "      <th>07/10/2018</th>\n",
       "      <th>08/10/2018</th>\n",
       "      <th>09/10/2018</th>\n",
       "    </tr>\n",
       "  </thead>\n",
       "  <tbody>\n",
       "    <tr>\n",
       "      <th>NEGATIVO</th>\n",
       "      <td>179</td>\n",
       "      <td>38</td>\n",
       "      <td>232</td>\n",
       "      <td>284</td>\n",
       "      <td>536</td>\n",
       "      <td>660</td>\n",
       "      <td>316</td>\n",
       "      <td>285</td>\n",
       "    </tr>\n",
       "    <tr>\n",
       "      <th>NEUTRO</th>\n",
       "      <td>8</td>\n",
       "      <td>2</td>\n",
       "      <td>2</td>\n",
       "      <td>9</td>\n",
       "      <td>8</td>\n",
       "      <td>14</td>\n",
       "      <td>6</td>\n",
       "      <td>9</td>\n",
       "    </tr>\n",
       "    <tr>\n",
       "      <th>POSITIVO</th>\n",
       "      <td>35</td>\n",
       "      <td>13</td>\n",
       "      <td>44</td>\n",
       "      <td>62</td>\n",
       "      <td>117</td>\n",
       "      <td>124</td>\n",
       "      <td>74</td>\n",
       "      <td>72</td>\n",
       "    </tr>\n",
       "  </tbody>\n",
       "</table>\n",
       "</div>"
      ],
      "text/plain": [
       "          18/09/2018  19/09/2018  29/09/2018  05/10/2018  06/10/2018  \\\n",
       "NEGATIVO         179          38         232         284         536   \n",
       "NEUTRO             8           2           2           9           8   \n",
       "POSITIVO          35          13          44          62         117   \n",
       "\n",
       "          07/10/2018  08/10/2018  09/10/2018  \n",
       "NEGATIVO         660         316         285  \n",
       "NEUTRO            14           6           9  \n",
       "POSITIVO         124          74          72  "
      ]
     },
     "metadata": {},
     "output_type": "display_data"
    },
    {
     "data": {
      "image/png": "[encoded data removed]",
      "text/plain": [
       "<Figure size 1224x432 with 1 Axes>"
      ]
     },
     "metadata": {
      "needs_background": "light"
     },
     "output_type": "display_data"
    }
   ],
   "source": [
    "graph_valencia_por_data(rede_social, cores_val, valencia_dict, comentarios)"
   ]
  },
  {
   "cell_type": "markdown",
   "metadata": {},
   "source": [
    "##### Comentários por data : Emoções"
   ]
  },
  {
   "cell_type": "code",
   "execution_count": 13,
   "metadata": {
    "ExecuteTime": {
     "end_time": "2018-11-26T01:50:22.090724Z",
     "start_time": "2018-11-26T01:50:21.009664Z"
    },
    "scrolled": false
   },
   "outputs": [
    {
     "data": {
      "text/html": [
       "<div>\n",
       "<style scoped>\n",
       "    .dataframe tbody tr th:only-of-type {\n",
       "        vertical-align: middle;\n",
       "    }\n",
       "\n",
       "    .dataframe tbody tr th {\n",
       "        vertical-align: top;\n",
       "    }\n",
       "\n",
       "    .dataframe thead th {\n",
       "        text-align: right;\n",
       "    }\n",
       "</style>\n",
       "<table border=\"1\" class=\"dataframe\">\n",
       "  <thead>\n",
       "    <tr style=\"text-align: right;\">\n",
       "      <th></th>\n",
       "      <th>18/09/2018</th>\n",
       "      <th>19/09/2018</th>\n",
       "      <th>29/09/2018</th>\n",
       "      <th>05/10/2018</th>\n",
       "      <th>06/10/2018</th>\n",
       "      <th>07/10/2018</th>\n",
       "      <th>08/10/2018</th>\n",
       "      <th>09/10/2018</th>\n",
       "    </tr>\n",
       "  </thead>\n",
       "  <tbody>\n",
       "    <tr>\n",
       "      <th>ALEGRIA</th>\n",
       "      <td>32</td>\n",
       "      <td>13</td>\n",
       "      <td>43</td>\n",
       "      <td>62</td>\n",
       "      <td>113</td>\n",
       "      <td>124</td>\n",
       "      <td>72</td>\n",
       "      <td>69</td>\n",
       "    </tr>\n",
       "    <tr>\n",
       "      <th>DESGOSTO</th>\n",
       "      <td>13</td>\n",
       "      <td>0</td>\n",
       "      <td>12</td>\n",
       "      <td>13</td>\n",
       "      <td>19</td>\n",
       "      <td>29</td>\n",
       "      <td>15</td>\n",
       "      <td>25</td>\n",
       "    </tr>\n",
       "    <tr>\n",
       "      <th>MEDO</th>\n",
       "      <td>0</td>\n",
       "      <td>0</td>\n",
       "      <td>0</td>\n",
       "      <td>0</td>\n",
       "      <td>0</td>\n",
       "      <td>0</td>\n",
       "      <td>0</td>\n",
       "      <td>0</td>\n",
       "    </tr>\n",
       "    <tr>\n",
       "      <th>NEUTRO</th>\n",
       "      <td>8</td>\n",
       "      <td>2</td>\n",
       "      <td>2</td>\n",
       "      <td>9</td>\n",
       "      <td>8</td>\n",
       "      <td>14</td>\n",
       "      <td>6</td>\n",
       "      <td>9</td>\n",
       "    </tr>\n",
       "    <tr>\n",
       "      <th>RAIVA</th>\n",
       "      <td>0</td>\n",
       "      <td>0</td>\n",
       "      <td>0</td>\n",
       "      <td>5</td>\n",
       "      <td>11</td>\n",
       "      <td>2</td>\n",
       "      <td>2</td>\n",
       "      <td>5</td>\n",
       "    </tr>\n",
       "    <tr>\n",
       "      <th>SURPRESA</th>\n",
       "      <td>3</td>\n",
       "      <td>0</td>\n",
       "      <td>1</td>\n",
       "      <td>0</td>\n",
       "      <td>4</td>\n",
       "      <td>0</td>\n",
       "      <td>2</td>\n",
       "      <td>3</td>\n",
       "    </tr>\n",
       "    <tr>\n",
       "      <th>TRISTEZA</th>\n",
       "      <td>166</td>\n",
       "      <td>38</td>\n",
       "      <td>220</td>\n",
       "      <td>266</td>\n",
       "      <td>506</td>\n",
       "      <td>629</td>\n",
       "      <td>299</td>\n",
       "      <td>255</td>\n",
       "    </tr>\n",
       "  </tbody>\n",
       "</table>\n",
       "</div>"
      ],
      "text/plain": [
       "          18/09/2018  19/09/2018  29/09/2018  05/10/2018  06/10/2018  \\\n",
       "ALEGRIA           32          13          43          62         113   \n",
       "DESGOSTO          13           0          12          13          19   \n",
       "MEDO               0           0           0           0           0   \n",
       "NEUTRO             8           2           2           9           8   \n",
       "RAIVA              0           0           0           5          11   \n",
       "SURPRESA           3           0           1           0           4   \n",
       "TRISTEZA         166          38         220         266         506   \n",
       "\n",
       "          07/10/2018  08/10/2018  09/10/2018  \n",
       "ALEGRIA          124          72          69  \n",
       "DESGOSTO          29          15          25  \n",
       "MEDO               0           0           0  \n",
       "NEUTRO            14           6           9  \n",
       "RAIVA              2           2           5  \n",
       "SURPRESA           0           2           3  \n",
       "TRISTEZA         629         299         255  "
      ]
     },
     "metadata": {},
     "output_type": "display_data"
    },
    {
     "data": {
      "image/png": "[encoded data removed]",
      "text/plain": [
       "<Figure size 1224x432 with 1 Axes>"
      ]
     },
     "metadata": {
      "needs_background": "light"
     },
     "output_type": "display_data"
    }
   ],
   "source": [
    "graph_emocoes_por_data(rede_social, cores2, sentimentos_dict, comentarios)"
   ]
  },
  {
   "cell_type": "markdown",
   "metadata": {},
   "source": [
    "#### elesimeno1turno"
   ]
  },
  {
   "cell_type": "code",
   "execution_count": 14,
   "metadata": {
    "ExecuteTime": {
     "end_time": "2018-11-26T01:50:22.114684Z",
     "start_time": "2018-11-26T01:50:22.094904Z"
    }
   },
   "outputs": [],
   "source": [
    "hashtag_c = [modelo.hashtag == 'elesimeno1turno']\n",
    "\n",
    "total_comentarios = modelo.select() \\\n",
    "        .where(reduce(operator.and_, default_clause + hashtag_c)) \\\n",
    "        .count()\n",
    "\n",
    "comentarios_positivos = modelo.select() \\\n",
    "        .where(reduce(operator.and_, default_clause + positivo_clause + hashtag_c)) \\\n",
    "        .order_by(modelo.timestamp)\n",
    "\n",
    "comentarios_negativos = modelo.select() \\\n",
    "        .where(reduce(operator.and_, default_clause + negativo_clause + hashtag_c)) \\\n",
    "        .order_by(modelo.timestamp)\n",
    "\n",
    "comentarios_neutros = modelo.select() \\\n",
    "        .where(reduce(operator.and_, default_clause + neutro_clause + hashtag_c)) \\\n",
    "        .order_by(modelo.timestamp)\n",
    "\n",
    "comentarios = modelo.select() \\\n",
    "        .where(reduce(operator.and_, general + hashtag_c)) \\\n",
    "        .order_by(modelo.timestamp)"
   ]
  },
  {
   "cell_type": "code",
   "execution_count": 15,
   "metadata": {
    "ExecuteTime": {
     "end_time": "2018-11-26T01:50:22.323651Z",
     "start_time": "2018-11-26T01:50:22.116699Z"
    }
   },
   "outputs": [
    {
     "name": "stdout",
     "output_type": "stream",
     "text": [
      "Estatísticas do Hashtags:\n",
      "--------------------\n",
      "Total de Comentários  : 2184\n",
      "Comentários Positivos : 316\n",
      "Comentários Negativos : 356\n",
      "Comentários Neutros   : 1\n",
      "\n",
      "Porcentagem de comentários:\n",
      "--------------------\n",
      "Comentários Positivos : 14.47%\n",
      "Comentários Negativos : 16.3%\n",
      "Comentários Neutros   : 0.05%\n",
      "Total                 : 30.82%\n"
     ]
    }
   ],
   "source": [
    "alegria, surpresa, tristeza, medo, raiva, desgosto, positivo, negativo, neutro = load_emocoes_comentarios(comentarios_positivos, comentarios_negativos, comentarios_neutros)\n",
    "print_statistics(rede_social, total_comentarios, comentarios_positivos, comentarios_negativos, comentarios_neutros)"
   ]
  },
  {
   "cell_type": "markdown",
   "metadata": {},
   "source": [
    "##### Contagem total de comentários : Valência"
   ]
  },
  {
   "cell_type": "code",
   "execution_count": 16,
   "metadata": {
    "ExecuteTime": {
     "end_time": "2018-11-26T01:50:22.671934Z",
     "start_time": "2018-11-26T01:50:22.330396Z"
    }
   },
   "outputs": [
    {
     "data": {
      "text/html": [
       "<div>\n",
       "<style scoped>\n",
       "    .dataframe tbody tr th:only-of-type {\n",
       "        vertical-align: middle;\n",
       "    }\n",
       "\n",
       "    .dataframe tbody tr th {\n",
       "        vertical-align: top;\n",
       "    }\n",
       "\n",
       "    .dataframe thead th {\n",
       "        text-align: right;\n",
       "    }\n",
       "</style>\n",
       "<table border=\"1\" class=\"dataframe\">\n",
       "  <thead>\n",
       "    <tr style=\"text-align: right;\">\n",
       "      <th></th>\n",
       "      <th>POSITIVO</th>\n",
       "      <th>NEGATIVO</th>\n",
       "      <th>NEUTRO</th>\n",
       "    </tr>\n",
       "  </thead>\n",
       "  <tbody>\n",
       "    <tr>\n",
       "      <th>0</th>\n",
       "      <td>316</td>\n",
       "      <td>356</td>\n",
       "      <td>1</td>\n",
       "    </tr>\n",
       "  </tbody>\n",
       "</table>\n",
       "</div>"
      ],
      "text/plain": [
       "   POSITIVO  NEGATIVO  NEUTRO\n",
       "0       316       356       1"
      ]
     },
     "metadata": {},
     "output_type": "display_data"
    },
    {
     "data": {
      "image/png": "[encoded data removed]",
      "text/plain": [
       "<Figure size 576x288 with 1 Axes>"
      ]
     },
     "metadata": {
      "needs_background": "light"
     },
     "output_type": "display_data"
    }
   ],
   "source": [
    "graph_valence_total(rede_social, cores_val2, valencia, positivo, negativo, neutro)"
   ]
  },
  {
   "cell_type": "markdown",
   "metadata": {},
   "source": [
    "##### Contagem total de comentários : Emoções"
   ]
  },
  {
   "cell_type": "code",
   "execution_count": 17,
   "metadata": {
    "ExecuteTime": {
     "end_time": "2018-11-26T01:50:22.898477Z",
     "start_time": "2018-11-26T01:50:22.674326Z"
    }
   },
   "outputs": [
    {
     "data": {
      "text/html": [
       "<div>\n",
       "<style scoped>\n",
       "    .dataframe tbody tr th:only-of-type {\n",
       "        vertical-align: middle;\n",
       "    }\n",
       "\n",
       "    .dataframe tbody tr th {\n",
       "        vertical-align: top;\n",
       "    }\n",
       "\n",
       "    .dataframe thead th {\n",
       "        text-align: right;\n",
       "    }\n",
       "</style>\n",
       "<table border=\"1\" class=\"dataframe\">\n",
       "  <thead>\n",
       "    <tr style=\"text-align: right;\">\n",
       "      <th></th>\n",
       "      <th>ALEGRIA</th>\n",
       "      <th>SURPRESA</th>\n",
       "      <th>TRISTEZA</th>\n",
       "      <th>MEDO</th>\n",
       "      <th>RAIVA</th>\n",
       "      <th>DESGOSTO</th>\n",
       "      <th>NEUTRO</th>\n",
       "    </tr>\n",
       "  </thead>\n",
       "  <tbody>\n",
       "    <tr>\n",
       "      <th>0</th>\n",
       "      <td>314</td>\n",
       "      <td>2</td>\n",
       "      <td>342</td>\n",
       "      <td>0</td>\n",
       "      <td>4</td>\n",
       "      <td>10</td>\n",
       "      <td>1</td>\n",
       "    </tr>\n",
       "  </tbody>\n",
       "</table>\n",
       "</div>"
      ],
      "text/plain": [
       "   ALEGRIA  SURPRESA  TRISTEZA  MEDO  RAIVA  DESGOSTO  NEUTRO\n",
       "0      314         2       342     0      4        10       1"
      ]
     },
     "metadata": {},
     "output_type": "display_data"
    },
    {
     "data": {
      "image/png": "[encoded data removed]",
      "text/plain": [
       "<Figure size 576x288 with 1 Axes>"
      ]
     },
     "metadata": {
      "needs_background": "light"
     },
     "output_type": "display_data"
    }
   ],
   "source": [
    "graph_sentimentos_total(rede_social, cores, sentimentos, alegria, surpresa, tristeza, medo, raiva, desgosto, neutro)"
   ]
  },
  {
   "cell_type": "markdown",
   "metadata": {},
   "source": [
    "##### Comentários por data : Valência"
   ]
  },
  {
   "cell_type": "code",
   "execution_count": 18,
   "metadata": {
    "ExecuteTime": {
     "end_time": "2018-11-26T01:50:23.394602Z",
     "start_time": "2018-11-26T01:50:22.900138Z"
    }
   },
   "outputs": [
    {
     "data": {
      "text/html": [
       "<div>\n",
       "<style scoped>\n",
       "    .dataframe tbody tr th:only-of-type {\n",
       "        vertical-align: middle;\n",
       "    }\n",
       "\n",
       "    .dataframe tbody tr th {\n",
       "        vertical-align: top;\n",
       "    }\n",
       "\n",
       "    .dataframe thead th {\n",
       "        text-align: right;\n",
       "    }\n",
       "</style>\n",
       "<table border=\"1\" class=\"dataframe\">\n",
       "  <thead>\n",
       "    <tr style=\"text-align: right;\">\n",
       "      <th></th>\n",
       "      <th>29/09/2018</th>\n",
       "      <th>05/10/2018</th>\n",
       "      <th>06/10/2018</th>\n",
       "      <th>07/10/2018</th>\n",
       "      <th>08/10/2018</th>\n",
       "      <th>09/10/2018</th>\n",
       "      <th>11/10/2018</th>\n",
       "    </tr>\n",
       "  </thead>\n",
       "  <tbody>\n",
       "    <tr>\n",
       "      <th>NEGATIVO</th>\n",
       "      <td>97</td>\n",
       "      <td>105</td>\n",
       "      <td>69</td>\n",
       "      <td>79</td>\n",
       "      <td>2</td>\n",
       "      <td>3</td>\n",
       "      <td>1</td>\n",
       "    </tr>\n",
       "    <tr>\n",
       "      <th>NEUTRO</th>\n",
       "      <td>1</td>\n",
       "      <td>0</td>\n",
       "      <td>0</td>\n",
       "      <td>0</td>\n",
       "      <td>0</td>\n",
       "      <td>0</td>\n",
       "      <td>0</td>\n",
       "    </tr>\n",
       "    <tr>\n",
       "      <th>POSITIVO</th>\n",
       "      <td>58</td>\n",
       "      <td>98</td>\n",
       "      <td>73</td>\n",
       "      <td>75</td>\n",
       "      <td>6</td>\n",
       "      <td>6</td>\n",
       "      <td>0</td>\n",
       "    </tr>\n",
       "  </tbody>\n",
       "</table>\n",
       "</div>"
      ],
      "text/plain": [
       "          29/09/2018  05/10/2018  06/10/2018  07/10/2018  08/10/2018  \\\n",
       "NEGATIVO          97         105          69          79           2   \n",
       "NEUTRO             1           0           0           0           0   \n",
       "POSITIVO          58          98          73          75           6   \n",
       "\n",
       "          09/10/2018  11/10/2018  \n",
       "NEGATIVO           3           1  \n",
       "NEUTRO             0           0  \n",
       "POSITIVO           6           0  "
      ]
     },
     "metadata": {},
     "output_type": "display_data"
    },
    {
     "data": {
      "image/png": "[encoded data removed]",
      "text/plain": [
       "<Figure size 1224x432 with 1 Axes>"
      ]
     },
     "metadata": {
      "needs_background": "light"
     },
     "output_type": "display_data"
    }
   ],
   "source": [
    "graph_valencia_por_data(rede_social, cores_val, valencia_dict, comentarios)"
   ]
  },
  {
   "cell_type": "markdown",
   "metadata": {},
   "source": [
    "##### Comentários por data : Emoções"
   ]
  },
  {
   "cell_type": "code",
   "execution_count": 19,
   "metadata": {
    "ExecuteTime": {
     "end_time": "2018-11-26T01:50:23.898048Z",
     "start_time": "2018-11-26T01:50:23.396747Z"
    },
    "scrolled": false
   },
   "outputs": [
    {
     "data": {
      "text/html": [
       "<div>\n",
       "<style scoped>\n",
       "    .dataframe tbody tr th:only-of-type {\n",
       "        vertical-align: middle;\n",
       "    }\n",
       "\n",
       "    .dataframe tbody tr th {\n",
       "        vertical-align: top;\n",
       "    }\n",
       "\n",
       "    .dataframe thead th {\n",
       "        text-align: right;\n",
       "    }\n",
       "</style>\n",
       "<table border=\"1\" class=\"dataframe\">\n",
       "  <thead>\n",
       "    <tr style=\"text-align: right;\">\n",
       "      <th></th>\n",
       "      <th>29/09/2018</th>\n",
       "      <th>05/10/2018</th>\n",
       "      <th>06/10/2018</th>\n",
       "      <th>07/10/2018</th>\n",
       "      <th>08/10/2018</th>\n",
       "      <th>09/10/2018</th>\n",
       "      <th>11/10/2018</th>\n",
       "    </tr>\n",
       "  </thead>\n",
       "  <tbody>\n",
       "    <tr>\n",
       "      <th>ALEGRIA</th>\n",
       "      <td>57</td>\n",
       "      <td>98</td>\n",
       "      <td>73</td>\n",
       "      <td>74</td>\n",
       "      <td>6</td>\n",
       "      <td>6</td>\n",
       "      <td>0</td>\n",
       "    </tr>\n",
       "    <tr>\n",
       "      <th>DESGOSTO</th>\n",
       "      <td>2</td>\n",
       "      <td>3</td>\n",
       "      <td>1</td>\n",
       "      <td>4</td>\n",
       "      <td>0</td>\n",
       "      <td>0</td>\n",
       "      <td>0</td>\n",
       "    </tr>\n",
       "    <tr>\n",
       "      <th>MEDO</th>\n",
       "      <td>0</td>\n",
       "      <td>0</td>\n",
       "      <td>0</td>\n",
       "      <td>0</td>\n",
       "      <td>0</td>\n",
       "      <td>0</td>\n",
       "      <td>0</td>\n",
       "    </tr>\n",
       "    <tr>\n",
       "      <th>NEUTRO</th>\n",
       "      <td>1</td>\n",
       "      <td>0</td>\n",
       "      <td>0</td>\n",
       "      <td>0</td>\n",
       "      <td>0</td>\n",
       "      <td>0</td>\n",
       "      <td>0</td>\n",
       "    </tr>\n",
       "    <tr>\n",
       "      <th>RAIVA</th>\n",
       "      <td>1</td>\n",
       "      <td>0</td>\n",
       "      <td>2</td>\n",
       "      <td>1</td>\n",
       "      <td>0</td>\n",
       "      <td>0</td>\n",
       "      <td>0</td>\n",
       "    </tr>\n",
       "    <tr>\n",
       "      <th>SURPRESA</th>\n",
       "      <td>1</td>\n",
       "      <td>0</td>\n",
       "      <td>0</td>\n",
       "      <td>1</td>\n",
       "      <td>0</td>\n",
       "      <td>0</td>\n",
       "      <td>0</td>\n",
       "    </tr>\n",
       "    <tr>\n",
       "      <th>TRISTEZA</th>\n",
       "      <td>94</td>\n",
       "      <td>102</td>\n",
       "      <td>66</td>\n",
       "      <td>74</td>\n",
       "      <td>2</td>\n",
       "      <td>3</td>\n",
       "      <td>1</td>\n",
       "    </tr>\n",
       "  </tbody>\n",
       "</table>\n",
       "</div>"
      ],
      "text/plain": [
       "          29/09/2018  05/10/2018  06/10/2018  07/10/2018  08/10/2018  \\\n",
       "ALEGRIA           57          98          73          74           6   \n",
       "DESGOSTO           2           3           1           4           0   \n",
       "MEDO               0           0           0           0           0   \n",
       "NEUTRO             1           0           0           0           0   \n",
       "RAIVA              1           0           2           1           0   \n",
       "SURPRESA           1           0           0           1           0   \n",
       "TRISTEZA          94         102          66          74           2   \n",
       "\n",
       "          09/10/2018  11/10/2018  \n",
       "ALEGRIA            6           0  \n",
       "DESGOSTO           0           0  \n",
       "MEDO               0           0  \n",
       "NEUTRO             0           0  \n",
       "RAIVA              0           0  \n",
       "SURPRESA           0           0  \n",
       "TRISTEZA           3           1  "
      ]
     },
     "metadata": {},
     "output_type": "display_data"
    },
    {
     "data": {
      "image/png": "[encoded data removed]",
      "text/plain": [
       "<Figure size 1224x432 with 1 Axes>"
      ]
     },
     "metadata": {
      "needs_background": "light"
     },
     "output_type": "display_data"
    }
   ],
   "source": [
    "graph_emocoes_por_data(rede_social, cores2, sentimentos_dict, comentarios)"
   ]
  },
  {
   "cell_type": "markdown",
   "metadata": {},
   "source": [
    "#### ViraViraCiro"
   ]
  },
  {
   "cell_type": "code",
   "execution_count": 20,
   "metadata": {
    "ExecuteTime": {
     "end_time": "2018-11-26T01:50:23.909513Z",
     "start_time": "2018-11-26T01:50:23.899966Z"
    }
   },
   "outputs": [],
   "source": [
    "hashtag_c = [modelo.hashtag == 'ViraViraCiro']\n",
    "\n",
    "total_comentarios = modelo.select() \\\n",
    "        .where(reduce(operator.and_, default_clause + hashtag_c)) \\\n",
    "        .count()\n",
    "\n",
    "comentarios_positivos = modelo.select() \\\n",
    "        .where(reduce(operator.and_, default_clause + positivo_clause + hashtag_c)) \\\n",
    "        .order_by(modelo.timestamp)\n",
    "\n",
    "comentarios_negativos = modelo.select() \\\n",
    "        .where(reduce(operator.and_, default_clause + negativo_clause + hashtag_c)) \\\n",
    "        .order_by(modelo.timestamp)\n",
    "\n",
    "comentarios_neutros = modelo.select() \\\n",
    "        .where(reduce(operator.and_, default_clause + neutro_clause + hashtag_c)) \\\n",
    "        .order_by(modelo.timestamp)\n",
    "\n",
    "comentarios = modelo.select() \\\n",
    "        .where(reduce(operator.and_, general + hashtag_c)) \\\n",
    "        .order_by(modelo.timestamp)"
   ]
  },
  {
   "cell_type": "code",
   "execution_count": 21,
   "metadata": {
    "ExecuteTime": {
     "end_time": "2018-11-26T01:50:24.158941Z",
     "start_time": "2018-11-26T01:50:23.911068Z"
    }
   },
   "outputs": [
    {
     "name": "stdout",
     "output_type": "stream",
     "text": [
      "Estatísticas do Hashtags:\n",
      "--------------------\n",
      "Total de Comentários  : 3473\n",
      "Comentários Positivos : 608\n",
      "Comentários Negativos : 361\n",
      "Comentários Neutros   : 4\n",
      "\n",
      "Porcentagem de comentários:\n",
      "--------------------\n",
      "Comentários Positivos : 17.51%\n",
      "Comentários Negativos : 10.39%\n",
      "Comentários Neutros   : 0.12%\n",
      "Total                 : 28.02%\n"
     ]
    }
   ],
   "source": [
    "alegria, surpresa, tristeza, medo, raiva, desgosto, positivo, negativo, neutro = load_emocoes_comentarios(comentarios_positivos, comentarios_negativos, comentarios_neutros)\n",
    "print_statistics(rede_social, total_comentarios, comentarios_positivos, comentarios_negativos, comentarios_neutros)"
   ]
  },
  {
   "cell_type": "markdown",
   "metadata": {},
   "source": [
    "##### Contagem total de comentários : Valência"
   ]
  },
  {
   "cell_type": "code",
   "execution_count": 22,
   "metadata": {
    "ExecuteTime": {
     "end_time": "2018-11-26T01:50:24.329354Z",
     "start_time": "2018-11-26T01:50:24.162150Z"
    }
   },
   "outputs": [
    {
     "data": {
      "text/html": [
       "<div>\n",
       "<style scoped>\n",
       "    .dataframe tbody tr th:only-of-type {\n",
       "        vertical-align: middle;\n",
       "    }\n",
       "\n",
       "    .dataframe tbody tr th {\n",
       "        vertical-align: top;\n",
       "    }\n",
       "\n",
       "    .dataframe thead th {\n",
       "        text-align: right;\n",
       "    }\n",
       "</style>\n",
       "<table border=\"1\" class=\"dataframe\">\n",
       "  <thead>\n",
       "    <tr style=\"text-align: right;\">\n",
       "      <th></th>\n",
       "      <th>POSITIVO</th>\n",
       "      <th>NEGATIVO</th>\n",
       "      <th>NEUTRO</th>\n",
       "    </tr>\n",
       "  </thead>\n",
       "  <tbody>\n",
       "    <tr>\n",
       "      <th>0</th>\n",
       "      <td>608</td>\n",
       "      <td>361</td>\n",
       "      <td>4</td>\n",
       "    </tr>\n",
       "  </tbody>\n",
       "</table>\n",
       "</div>"
      ],
      "text/plain": [
       "   POSITIVO  NEGATIVO  NEUTRO\n",
       "0       608       361       4"
      ]
     },
     "metadata": {},
     "output_type": "display_data"
    },
    {
     "data": {
      "image/png": "[encoded data removed]",
      "text/plain": [
       "<Figure size 576x288 with 1 Axes>"
      ]
     },
     "metadata": {
      "needs_background": "light"
     },
     "output_type": "display_data"
    }
   ],
   "source": [
    "graph_valence_total(rede_social, cores_val2, valencia, positivo, negativo, neutro)"
   ]
  },
  {
   "cell_type": "markdown",
   "metadata": {},
   "source": [
    "##### Contagem total de comentários : Emoções"
   ]
  },
  {
   "cell_type": "code",
   "execution_count": 23,
   "metadata": {
    "ExecuteTime": {
     "end_time": "2018-11-26T01:50:24.538572Z",
     "start_time": "2018-11-26T01:50:24.331146Z"
    }
   },
   "outputs": [
    {
     "data": {
      "text/html": [
       "<div>\n",
       "<style scoped>\n",
       "    .dataframe tbody tr th:only-of-type {\n",
       "        vertical-align: middle;\n",
       "    }\n",
       "\n",
       "    .dataframe tbody tr th {\n",
       "        vertical-align: top;\n",
       "    }\n",
       "\n",
       "    .dataframe thead th {\n",
       "        text-align: right;\n",
       "    }\n",
       "</style>\n",
       "<table border=\"1\" class=\"dataframe\">\n",
       "  <thead>\n",
       "    <tr style=\"text-align: right;\">\n",
       "      <th></th>\n",
       "      <th>ALEGRIA</th>\n",
       "      <th>SURPRESA</th>\n",
       "      <th>TRISTEZA</th>\n",
       "      <th>MEDO</th>\n",
       "      <th>RAIVA</th>\n",
       "      <th>DESGOSTO</th>\n",
       "      <th>NEUTRO</th>\n",
       "    </tr>\n",
       "  </thead>\n",
       "  <tbody>\n",
       "    <tr>\n",
       "      <th>0</th>\n",
       "      <td>605</td>\n",
       "      <td>3</td>\n",
       "      <td>311</td>\n",
       "      <td>0</td>\n",
       "      <td>0</td>\n",
       "      <td>50</td>\n",
       "      <td>4</td>\n",
       "    </tr>\n",
       "  </tbody>\n",
       "</table>\n",
       "</div>"
      ],
      "text/plain": [
       "   ALEGRIA  SURPRESA  TRISTEZA  MEDO  RAIVA  DESGOSTO  NEUTRO\n",
       "0      605         3       311     0      0        50       4"
      ]
     },
     "metadata": {},
     "output_type": "display_data"
    },
    {
     "data": {
      "image/png": "[encoded data removed]",
      "text/plain": [
       "<Figure size 576x288 with 1 Axes>"
      ]
     },
     "metadata": {
      "needs_background": "light"
     },
     "output_type": "display_data"
    }
   ],
   "source": [
    "graph_sentimentos_total(rede_social, cores, sentimentos, alegria, surpresa, tristeza, medo, raiva, desgosto, neutro)"
   ]
  },
  {
   "cell_type": "markdown",
   "metadata": {},
   "source": [
    "##### Comentários por data : Valência"
   ]
  },
  {
   "cell_type": "code",
   "execution_count": 24,
   "metadata": {
    "ExecuteTime": {
     "end_time": "2018-11-26T01:50:24.945892Z",
     "start_time": "2018-11-26T01:50:24.540293Z"
    }
   },
   "outputs": [
    {
     "data": {
      "text/html": [
       "<div>\n",
       "<style scoped>\n",
       "    .dataframe tbody tr th:only-of-type {\n",
       "        vertical-align: middle;\n",
       "    }\n",
       "\n",
       "    .dataframe tbody tr th {\n",
       "        vertical-align: top;\n",
       "    }\n",
       "\n",
       "    .dataframe thead th {\n",
       "        text-align: right;\n",
       "    }\n",
       "</style>\n",
       "<table border=\"1\" class=\"dataframe\">\n",
       "  <thead>\n",
       "    <tr style=\"text-align: right;\">\n",
       "      <th></th>\n",
       "      <th>05/10/2018</th>\n",
       "      <th>06/10/2018</th>\n",
       "      <th>07/10/2018</th>\n",
       "      <th>08/10/2018</th>\n",
       "      <th>12/10/2018</th>\n",
       "    </tr>\n",
       "  </thead>\n",
       "  <tbody>\n",
       "    <tr>\n",
       "      <th>NEGATIVO</th>\n",
       "      <td>49</td>\n",
       "      <td>101</td>\n",
       "      <td>188</td>\n",
       "      <td>23</td>\n",
       "      <td>0</td>\n",
       "    </tr>\n",
       "    <tr>\n",
       "      <th>NEUTRO</th>\n",
       "      <td>0</td>\n",
       "      <td>2</td>\n",
       "      <td>2</td>\n",
       "      <td>0</td>\n",
       "      <td>0</td>\n",
       "    </tr>\n",
       "    <tr>\n",
       "      <th>POSITIVO</th>\n",
       "      <td>129</td>\n",
       "      <td>237</td>\n",
       "      <td>221</td>\n",
       "      <td>19</td>\n",
       "      <td>2</td>\n",
       "    </tr>\n",
       "  </tbody>\n",
       "</table>\n",
       "</div>"
      ],
      "text/plain": [
       "          05/10/2018  06/10/2018  07/10/2018  08/10/2018  12/10/2018\n",
       "NEGATIVO          49         101         188          23           0\n",
       "NEUTRO             0           2           2           0           0\n",
       "POSITIVO         129         237         221          19           2"
      ]
     },
     "metadata": {},
     "output_type": "display_data"
    },
    {
     "data": {
      "image/png": "[encoded data removed]",
      "text/plain": [
       "<Figure size 1224x432 with 1 Axes>"
      ]
     },
     "metadata": {
      "needs_background": "light"
     },
     "output_type": "display_data"
    }
   ],
   "source": [
    "graph_valencia_por_data(rede_social, cores_val, valencia_dict, comentarios)"
   ]
  },
  {
   "cell_type": "markdown",
   "metadata": {},
   "source": [
    "##### Comentários por data : Emoções"
   ]
  },
  {
   "cell_type": "code",
   "execution_count": 25,
   "metadata": {
    "ExecuteTime": {
     "end_time": "2018-11-26T01:50:25.324802Z",
     "start_time": "2018-11-26T01:50:24.947467Z"
    },
    "scrolled": false
   },
   "outputs": [
    {
     "data": {
      "text/html": [
       "<div>\n",
       "<style scoped>\n",
       "    .dataframe tbody tr th:only-of-type {\n",
       "        vertical-align: middle;\n",
       "    }\n",
       "\n",
       "    .dataframe tbody tr th {\n",
       "        vertical-align: top;\n",
       "    }\n",
       "\n",
       "    .dataframe thead th {\n",
       "        text-align: right;\n",
       "    }\n",
       "</style>\n",
       "<table border=\"1\" class=\"dataframe\">\n",
       "  <thead>\n",
       "    <tr style=\"text-align: right;\">\n",
       "      <th></th>\n",
       "      <th>05/10/2018</th>\n",
       "      <th>06/10/2018</th>\n",
       "      <th>07/10/2018</th>\n",
       "      <th>08/10/2018</th>\n",
       "      <th>12/10/2018</th>\n",
       "    </tr>\n",
       "  </thead>\n",
       "  <tbody>\n",
       "    <tr>\n",
       "      <th>ALEGRIA</th>\n",
       "      <td>129</td>\n",
       "      <td>235</td>\n",
       "      <td>221</td>\n",
       "      <td>18</td>\n",
       "      <td>2</td>\n",
       "    </tr>\n",
       "    <tr>\n",
       "      <th>DESGOSTO</th>\n",
       "      <td>6</td>\n",
       "      <td>20</td>\n",
       "      <td>22</td>\n",
       "      <td>2</td>\n",
       "      <td>0</td>\n",
       "    </tr>\n",
       "    <tr>\n",
       "      <th>MEDO</th>\n",
       "      <td>0</td>\n",
       "      <td>0</td>\n",
       "      <td>0</td>\n",
       "      <td>0</td>\n",
       "      <td>0</td>\n",
       "    </tr>\n",
       "    <tr>\n",
       "      <th>NEUTRO</th>\n",
       "      <td>0</td>\n",
       "      <td>2</td>\n",
       "      <td>2</td>\n",
       "      <td>0</td>\n",
       "      <td>0</td>\n",
       "    </tr>\n",
       "    <tr>\n",
       "      <th>RAIVA</th>\n",
       "      <td>0</td>\n",
       "      <td>0</td>\n",
       "      <td>0</td>\n",
       "      <td>0</td>\n",
       "      <td>0</td>\n",
       "    </tr>\n",
       "    <tr>\n",
       "      <th>SURPRESA</th>\n",
       "      <td>0</td>\n",
       "      <td>2</td>\n",
       "      <td>0</td>\n",
       "      <td>1</td>\n",
       "      <td>0</td>\n",
       "    </tr>\n",
       "    <tr>\n",
       "      <th>TRISTEZA</th>\n",
       "      <td>43</td>\n",
       "      <td>81</td>\n",
       "      <td>166</td>\n",
       "      <td>21</td>\n",
       "      <td>0</td>\n",
       "    </tr>\n",
       "  </tbody>\n",
       "</table>\n",
       "</div>"
      ],
      "text/plain": [
       "          05/10/2018  06/10/2018  07/10/2018  08/10/2018  12/10/2018\n",
       "ALEGRIA          129         235         221          18           2\n",
       "DESGOSTO           6          20          22           2           0\n",
       "MEDO               0           0           0           0           0\n",
       "NEUTRO             0           2           2           0           0\n",
       "RAIVA              0           0           0           0           0\n",
       "SURPRESA           0           2           0           1           0\n",
       "TRISTEZA          43          81         166          21           0"
      ]
     },
     "metadata": {},
     "output_type": "display_data"
    },
    {
     "data": {
      "image/png": "[encoded data removed]",
      "text/plain": [
       "<Figure size 1224x432 with 1 Axes>"
      ]
     },
     "metadata": {
      "needs_background": "light"
     },
     "output_type": "display_data"
    }
   ],
   "source": [
    "graph_emocoes_por_data(rede_social, cores2, sentimentos_dict, comentarios)"
   ]
  },
  {
   "cell_type": "markdown",
   "metadata": {},
   "source": [
    "#### FicaTemer"
   ]
  },
  {
   "cell_type": "code",
   "execution_count": 26,
   "metadata": {
    "ExecuteTime": {
     "end_time": "2018-11-26T01:50:25.338652Z",
     "start_time": "2018-11-26T01:50:25.326906Z"
    }
   },
   "outputs": [],
   "source": [
    "hashtag_c = [modelo.hashtag == 'FicaTemer']\n",
    "\n",
    "total_comentarios = modelo.select() \\\n",
    "        .where(reduce(operator.and_, default_clause + hashtag_c)) \\\n",
    "        .count()\n",
    "\n",
    "comentarios_positivos = modelo.select() \\\n",
    "        .where(reduce(operator.and_, default_clause + positivo_clause + hashtag_c)) \\\n",
    "        .order_by(modelo.timestamp)\n",
    "\n",
    "comentarios_negativos = modelo.select() \\\n",
    "        .where(reduce(operator.and_, default_clause + negativo_clause + hashtag_c)) \\\n",
    "        .order_by(modelo.timestamp)\n",
    "\n",
    "comentarios_neutros = modelo.select() \\\n",
    "        .where(reduce(operator.and_, default_clause + neutro_clause + hashtag_c)) \\\n",
    "        .order_by(modelo.timestamp)\n",
    "\n",
    "comentarios = modelo.select() \\\n",
    "        .where(reduce(operator.and_, general + hashtag_c)) \\\n",
    "        .order_by(modelo.timestamp)"
   ]
  },
  {
   "cell_type": "code",
   "execution_count": 27,
   "metadata": {
    "ExecuteTime": {
     "end_time": "2018-11-26T01:50:25.584090Z",
     "start_time": "2018-11-26T01:50:25.340231Z"
    }
   },
   "outputs": [
    {
     "name": "stdout",
     "output_type": "stream",
     "text": [
      "Estatísticas do Hashtags:\n",
      "--------------------\n",
      "Total de Comentários  : 4947\n",
      "Comentários Positivos : 419\n",
      "Comentários Negativos : 3021\n",
      "Comentários Neutros   : 9\n",
      "\n",
      "Porcentagem de comentários:\n",
      "--------------------\n",
      "Comentários Positivos : 8.47%\n",
      "Comentários Negativos : 61.07%\n",
      "Comentários Neutros   : 0.18%\n",
      "Total                 : 69.72%\n"
     ]
    }
   ],
   "source": [
    "alegria, surpresa, tristeza, medo, raiva, desgosto, positivo, negativo, neutro = load_emocoes_comentarios(comentarios_positivos, comentarios_negativos, comentarios_neutros)\n",
    "print_statistics(rede_social, total_comentarios, comentarios_positivos, comentarios_negativos, comentarios_neutros)"
   ]
  },
  {
   "cell_type": "markdown",
   "metadata": {},
   "source": [
    "##### Contagem total de comentários : Valência"
   ]
  },
  {
   "cell_type": "code",
   "execution_count": 28,
   "metadata": {
    "ExecuteTime": {
     "end_time": "2018-11-26T01:50:25.716279Z",
     "start_time": "2018-11-26T01:50:25.585707Z"
    }
   },
   "outputs": [
    {
     "data": {
      "text/html": [
       "<div>\n",
       "<style scoped>\n",
       "    .dataframe tbody tr th:only-of-type {\n",
       "        vertical-align: middle;\n",
       "    }\n",
       "\n",
       "    .dataframe tbody tr th {\n",
       "        vertical-align: top;\n",
       "    }\n",
       "\n",
       "    .dataframe thead th {\n",
       "        text-align: right;\n",
       "    }\n",
       "</style>\n",
       "<table border=\"1\" class=\"dataframe\">\n",
       "  <thead>\n",
       "    <tr style=\"text-align: right;\">\n",
       "      <th></th>\n",
       "      <th>POSITIVO</th>\n",
       "      <th>NEGATIVO</th>\n",
       "      <th>NEUTRO</th>\n",
       "    </tr>\n",
       "  </thead>\n",
       "  <tbody>\n",
       "    <tr>\n",
       "      <th>0</th>\n",
       "      <td>419</td>\n",
       "      <td>3021</td>\n",
       "      <td>9</td>\n",
       "    </tr>\n",
       "  </tbody>\n",
       "</table>\n",
       "</div>"
      ],
      "text/plain": [
       "   POSITIVO  NEGATIVO  NEUTRO\n",
       "0       419      3021       9"
      ]
     },
     "metadata": {},
     "output_type": "display_data"
    },
    {
     "data": {
      "image/png": "[encoded data removed]",
      "text/plain": [
       "<Figure size 576x288 with 1 Axes>"
      ]
     },
     "metadata": {
      "needs_background": "light"
     },
     "output_type": "display_data"
    }
   ],
   "source": [
    "graph_valence_total(rede_social, cores_val2, valencia, positivo, negativo, neutro)"
   ]
  },
  {
   "cell_type": "markdown",
   "metadata": {},
   "source": [
    "##### Contagem total de comentários : Emoções"
   ]
  },
  {
   "cell_type": "code",
   "execution_count": 29,
   "metadata": {
    "ExecuteTime": {
     "end_time": "2018-11-26T01:50:25.875313Z",
     "start_time": "2018-11-26T01:50:25.717978Z"
    }
   },
   "outputs": [
    {
     "data": {
      "text/html": [
       "<div>\n",
       "<style scoped>\n",
       "    .dataframe tbody tr th:only-of-type {\n",
       "        vertical-align: middle;\n",
       "    }\n",
       "\n",
       "    .dataframe tbody tr th {\n",
       "        vertical-align: top;\n",
       "    }\n",
       "\n",
       "    .dataframe thead th {\n",
       "        text-align: right;\n",
       "    }\n",
       "</style>\n",
       "<table border=\"1\" class=\"dataframe\">\n",
       "  <thead>\n",
       "    <tr style=\"text-align: right;\">\n",
       "      <th></th>\n",
       "      <th>ALEGRIA</th>\n",
       "      <th>SURPRESA</th>\n",
       "      <th>TRISTEZA</th>\n",
       "      <th>MEDO</th>\n",
       "      <th>RAIVA</th>\n",
       "      <th>DESGOSTO</th>\n",
       "      <th>NEUTRO</th>\n",
       "    </tr>\n",
       "  </thead>\n",
       "  <tbody>\n",
       "    <tr>\n",
       "      <th>0</th>\n",
       "      <td>407</td>\n",
       "      <td>12</td>\n",
       "      <td>2988</td>\n",
       "      <td>0</td>\n",
       "      <td>1</td>\n",
       "      <td>32</td>\n",
       "      <td>9</td>\n",
       "    </tr>\n",
       "  </tbody>\n",
       "</table>\n",
       "</div>"
      ],
      "text/plain": [
       "   ALEGRIA  SURPRESA  TRISTEZA  MEDO  RAIVA  DESGOSTO  NEUTRO\n",
       "0      407        12      2988     0      1        32       9"
      ]
     },
     "metadata": {},
     "output_type": "display_data"
    },
    {
     "data": {
      "image/png": "[encoded data removed]",
      "text/plain": [
       "<Figure size 576x288 with 1 Axes>"
      ]
     },
     "metadata": {
      "needs_background": "light"
     },
     "output_type": "display_data"
    }
   ],
   "source": [
    "graph_sentimentos_total(rede_social, cores, sentimentos, alegria, surpresa, tristeza, medo, raiva, desgosto, neutro)"
   ]
  },
  {
   "cell_type": "markdown",
   "metadata": {},
   "source": [
    "##### Comentários por data : Valência"
   ]
  },
  {
   "cell_type": "code",
   "execution_count": 30,
   "metadata": {
    "ExecuteTime": {
     "end_time": "2018-11-26T01:50:26.562617Z",
     "start_time": "2018-11-26T01:50:25.876743Z"
    }
   },
   "outputs": [
    {
     "data": {
      "text/html": [
       "<div>\n",
       "<style scoped>\n",
       "    .dataframe tbody tr th:only-of-type {\n",
       "        vertical-align: middle;\n",
       "    }\n",
       "\n",
       "    .dataframe tbody tr th {\n",
       "        vertical-align: top;\n",
       "    }\n",
       "\n",
       "    .dataframe thead th {\n",
       "        text-align: right;\n",
       "    }\n",
       "</style>\n",
       "<table border=\"1\" class=\"dataframe\">\n",
       "  <thead>\n",
       "    <tr style=\"text-align: right;\">\n",
       "      <th></th>\n",
       "      <th>07/10/2018</th>\n",
       "      <th>08/10/2018</th>\n",
       "      <th>09/10/2018</th>\n",
       "      <th>11/10/2018</th>\n",
       "      <th>12/10/2018</th>\n",
       "      <th>13/10/2018</th>\n",
       "      <th>14/10/2018</th>\n",
       "      <th>15/10/2018</th>\n",
       "    </tr>\n",
       "  </thead>\n",
       "  <tbody>\n",
       "    <tr>\n",
       "      <th>NEGATIVO</th>\n",
       "      <td>459</td>\n",
       "      <td>386</td>\n",
       "      <td>457</td>\n",
       "      <td>280</td>\n",
       "      <td>222</td>\n",
       "      <td>135</td>\n",
       "      <td>11</td>\n",
       "      <td>7</td>\n",
       "    </tr>\n",
       "    <tr>\n",
       "      <th>NEUTRO</th>\n",
       "      <td>1</td>\n",
       "      <td>1</td>\n",
       "      <td>3</td>\n",
       "      <td>0</td>\n",
       "      <td>0</td>\n",
       "      <td>0</td>\n",
       "      <td>0</td>\n",
       "      <td>0</td>\n",
       "    </tr>\n",
       "    <tr>\n",
       "      <th>POSITIVO</th>\n",
       "      <td>55</td>\n",
       "      <td>42</td>\n",
       "      <td>50</td>\n",
       "      <td>60</td>\n",
       "      <td>32</td>\n",
       "      <td>21</td>\n",
       "      <td>1</td>\n",
       "      <td>1</td>\n",
       "    </tr>\n",
       "  </tbody>\n",
       "</table>\n",
       "</div>"
      ],
      "text/plain": [
       "          07/10/2018  08/10/2018  09/10/2018  11/10/2018  12/10/2018  \\\n",
       "NEGATIVO         459         386         457         280         222   \n",
       "NEUTRO             1           1           3           0           0   \n",
       "POSITIVO          55          42          50          60          32   \n",
       "\n",
       "          13/10/2018  14/10/2018  15/10/2018  \n",
       "NEGATIVO         135          11           7  \n",
       "NEUTRO             0           0           0  \n",
       "POSITIVO          21           1           1  "
      ]
     },
     "metadata": {},
     "output_type": "display_data"
    },
    {
     "data": {
      "image/png": "[encoded data removed]",
      "text/plain": [
       "<Figure size 1224x432 with 1 Axes>"
      ]
     },
     "metadata": {
      "needs_background": "light"
     },
     "output_type": "display_data"
    }
   ],
   "source": [
    "graph_valencia_por_data(rede_social, cores_val, valencia_dict, comentarios)"
   ]
  },
  {
   "cell_type": "markdown",
   "metadata": {},
   "source": [
    "##### Comentários por data : Emoções"
   ]
  },
  {
   "cell_type": "code",
   "execution_count": 31,
   "metadata": {
    "ExecuteTime": {
     "end_time": "2018-11-26T01:50:27.324872Z",
     "start_time": "2018-11-26T01:50:26.567833Z"
    },
    "scrolled": false
   },
   "outputs": [
    {
     "data": {
      "text/html": [
       "<div>\n",
       "<style scoped>\n",
       "    .dataframe tbody tr th:only-of-type {\n",
       "        vertical-align: middle;\n",
       "    }\n",
       "\n",
       "    .dataframe tbody tr th {\n",
       "        vertical-align: top;\n",
       "    }\n",
       "\n",
       "    .dataframe thead th {\n",
       "        text-align: right;\n",
       "    }\n",
       "</style>\n",
       "<table border=\"1\" class=\"dataframe\">\n",
       "  <thead>\n",
       "    <tr style=\"text-align: right;\">\n",
       "      <th></th>\n",
       "      <th>07/10/2018</th>\n",
       "      <th>08/10/2018</th>\n",
       "      <th>09/10/2018</th>\n",
       "      <th>11/10/2018</th>\n",
       "      <th>12/10/2018</th>\n",
       "      <th>13/10/2018</th>\n",
       "      <th>14/10/2018</th>\n",
       "      <th>15/10/2018</th>\n",
       "    </tr>\n",
       "  </thead>\n",
       "  <tbody>\n",
       "    <tr>\n",
       "      <th>ALEGRIA</th>\n",
       "      <td>55</td>\n",
       "      <td>40</td>\n",
       "      <td>49</td>\n",
       "      <td>56</td>\n",
       "      <td>32</td>\n",
       "      <td>20</td>\n",
       "      <td>1</td>\n",
       "      <td>1</td>\n",
       "    </tr>\n",
       "    <tr>\n",
       "      <th>DESGOSTO</th>\n",
       "      <td>2</td>\n",
       "      <td>6</td>\n",
       "      <td>5</td>\n",
       "      <td>3</td>\n",
       "      <td>2</td>\n",
       "      <td>1</td>\n",
       "      <td>0</td>\n",
       "      <td>0</td>\n",
       "    </tr>\n",
       "    <tr>\n",
       "      <th>MEDO</th>\n",
       "      <td>0</td>\n",
       "      <td>0</td>\n",
       "      <td>0</td>\n",
       "      <td>0</td>\n",
       "      <td>0</td>\n",
       "      <td>0</td>\n",
       "      <td>0</td>\n",
       "      <td>0</td>\n",
       "    </tr>\n",
       "    <tr>\n",
       "      <th>NEUTRO</th>\n",
       "      <td>1</td>\n",
       "      <td>1</td>\n",
       "      <td>3</td>\n",
       "      <td>0</td>\n",
       "      <td>0</td>\n",
       "      <td>0</td>\n",
       "      <td>0</td>\n",
       "      <td>0</td>\n",
       "    </tr>\n",
       "    <tr>\n",
       "      <th>RAIVA</th>\n",
       "      <td>0</td>\n",
       "      <td>0</td>\n",
       "      <td>0</td>\n",
       "      <td>1</td>\n",
       "      <td>0</td>\n",
       "      <td>0</td>\n",
       "      <td>0</td>\n",
       "      <td>0</td>\n",
       "    </tr>\n",
       "    <tr>\n",
       "      <th>SURPRESA</th>\n",
       "      <td>0</td>\n",
       "      <td>2</td>\n",
       "      <td>1</td>\n",
       "      <td>4</td>\n",
       "      <td>0</td>\n",
       "      <td>1</td>\n",
       "      <td>0</td>\n",
       "      <td>0</td>\n",
       "    </tr>\n",
       "    <tr>\n",
       "      <th>TRISTEZA</th>\n",
       "      <td>457</td>\n",
       "      <td>380</td>\n",
       "      <td>452</td>\n",
       "      <td>276</td>\n",
       "      <td>220</td>\n",
       "      <td>134</td>\n",
       "      <td>11</td>\n",
       "      <td>7</td>\n",
       "    </tr>\n",
       "  </tbody>\n",
       "</table>\n",
       "</div>"
      ],
      "text/plain": [
       "          07/10/2018  08/10/2018  09/10/2018  11/10/2018  12/10/2018  \\\n",
       "ALEGRIA           55          40          49          56          32   \n",
       "DESGOSTO           2           6           5           3           2   \n",
       "MEDO               0           0           0           0           0   \n",
       "NEUTRO             1           1           3           0           0   \n",
       "RAIVA              0           0           0           1           0   \n",
       "SURPRESA           0           2           1           4           0   \n",
       "TRISTEZA         457         380         452         276         220   \n",
       "\n",
       "          13/10/2018  14/10/2018  15/10/2018  \n",
       "ALEGRIA           20           1           1  \n",
       "DESGOSTO           1           0           0  \n",
       "MEDO               0           0           0  \n",
       "NEUTRO             0           0           0  \n",
       "RAIVA              0           0           0  \n",
       "SURPRESA           1           0           0  \n",
       "TRISTEZA         134          11           7  "
      ]
     },
     "metadata": {},
     "output_type": "display_data"
    },
    {
     "data": {
      "image/png": "[encoded data removed]",
      "text/plain": [
       "<Figure size 1224x432 with 1 Axes>"
      ]
     },
     "metadata": {
      "needs_background": "light"
     },
     "output_type": "display_data"
    }
   ],
   "source": [
    "graph_emocoes_por_data(rede_social, cores2, sentimentos_dict, comentarios)"
   ]
  },
  {
   "cell_type": "markdown",
   "metadata": {},
   "source": [
    "#### MarketeirosDoJair"
   ]
  },
  {
   "cell_type": "code",
   "execution_count": 32,
   "metadata": {
    "ExecuteTime": {
     "end_time": "2018-11-26T01:50:27.338777Z",
     "start_time": "2018-11-26T01:50:27.326996Z"
    }
   },
   "outputs": [],
   "source": [
    "hashtag_c = [modelo.hashtag == 'MarketeirosDoJair']\n",
    "\n",
    "total_comentarios = modelo.select() \\\n",
    "        .where(reduce(operator.and_, default_clause + hashtag_c)) \\\n",
    "        .count()\n",
    "\n",
    "comentarios_positivos = modelo.select() \\\n",
    "        .where(reduce(operator.and_, default_clause + positivo_clause + hashtag_c)) \\\n",
    "        .order_by(modelo.timestamp)\n",
    "\n",
    "comentarios_negativos = modelo.select() \\\n",
    "        .where(reduce(operator.and_, default_clause + negativo_clause + hashtag_c)) \\\n",
    "        .order_by(modelo.timestamp)\n",
    "\n",
    "comentarios_neutros = modelo.select() \\\n",
    "        .where(reduce(operator.and_, default_clause + neutro_clause + hashtag_c)) \\\n",
    "        .order_by(modelo.timestamp)\n",
    "\n",
    "comentarios = modelo.select() \\\n",
    "        .where(reduce(operator.and_, general + hashtag_c)) \\\n",
    "        .order_by(modelo.timestamp)"
   ]
  },
  {
   "cell_type": "code",
   "execution_count": 33,
   "metadata": {
    "ExecuteTime": {
     "end_time": "2018-11-26T01:50:27.677050Z",
     "start_time": "2018-11-26T01:50:27.340399Z"
    }
   },
   "outputs": [
    {
     "name": "stdout",
     "output_type": "stream",
     "text": [
      "Estatísticas do Hashtags:\n",
      "--------------------\n",
      "Total de Comentários  : 2883\n",
      "Comentários Positivos : 434\n",
      "Comentários Negativos : 564\n",
      "Comentários Neutros   : 41\n",
      "\n",
      "Porcentagem de comentários:\n",
      "--------------------\n",
      "Comentários Positivos : 15.05%\n",
      "Comentários Negativos : 19.56%\n",
      "Comentários Neutros   : 1.42%\n",
      "Total                 : 36.04%\n"
     ]
    }
   ],
   "source": [
    "alegria, surpresa, tristeza, medo, raiva, desgosto, positivo, negativo, neutro = load_emocoes_comentarios(comentarios_positivos, comentarios_negativos, comentarios_neutros)\n",
    "print_statistics(rede_social, total_comentarios, comentarios_positivos, comentarios_negativos, comentarios_neutros)"
   ]
  },
  {
   "cell_type": "markdown",
   "metadata": {},
   "source": [
    "##### Contagem total de comentários : Valência"
   ]
  },
  {
   "cell_type": "code",
   "execution_count": 34,
   "metadata": {
    "ExecuteTime": {
     "end_time": "2018-11-26T01:50:28.026254Z",
     "start_time": "2018-11-26T01:50:27.678968Z"
    }
   },
   "outputs": [
    {
     "data": {
      "text/html": [
       "<div>\n",
       "<style scoped>\n",
       "    .dataframe tbody tr th:only-of-type {\n",
       "        vertical-align: middle;\n",
       "    }\n",
       "\n",
       "    .dataframe tbody tr th {\n",
       "        vertical-align: top;\n",
       "    }\n",
       "\n",
       "    .dataframe thead th {\n",
       "        text-align: right;\n",
       "    }\n",
       "</style>\n",
       "<table border=\"1\" class=\"dataframe\">\n",
       "  <thead>\n",
       "    <tr style=\"text-align: right;\">\n",
       "      <th></th>\n",
       "      <th>POSITIVO</th>\n",
       "      <th>NEGATIVO</th>\n",
       "      <th>NEUTRO</th>\n",
       "    </tr>\n",
       "  </thead>\n",
       "  <tbody>\n",
       "    <tr>\n",
       "      <th>0</th>\n",
       "      <td>434</td>\n",
       "      <td>564</td>\n",
       "      <td>41</td>\n",
       "    </tr>\n",
       "  </tbody>\n",
       "</table>\n",
       "</div>"
      ],
      "text/plain": [
       "   POSITIVO  NEGATIVO  NEUTRO\n",
       "0       434       564      41"
      ]
     },
     "metadata": {},
     "output_type": "display_data"
    },
    {
     "data": {
      "image/png": "[encoded data removed]",
      "text/plain": [
       "<Figure size 576x288 with 1 Axes>"
      ]
     },
     "metadata": {
      "needs_background": "light"
     },
     "output_type": "display_data"
    }
   ],
   "source": [
    "graph_valence_total(rede_social, cores_val2, valencia, positivo, negativo, neutro)"
   ]
  },
  {
   "cell_type": "markdown",
   "metadata": {},
   "source": [
    "##### Contagem total de comentários : Emoções"
   ]
  },
  {
   "cell_type": "code",
   "execution_count": 35,
   "metadata": {
    "ExecuteTime": {
     "end_time": "2018-11-26T01:50:28.236527Z",
     "start_time": "2018-11-26T01:50:28.028573Z"
    }
   },
   "outputs": [
    {
     "data": {
      "text/html": [
       "<div>\n",
       "<style scoped>\n",
       "    .dataframe tbody tr th:only-of-type {\n",
       "        vertical-align: middle;\n",
       "    }\n",
       "\n",
       "    .dataframe tbody tr th {\n",
       "        vertical-align: top;\n",
       "    }\n",
       "\n",
       "    .dataframe thead th {\n",
       "        text-align: right;\n",
       "    }\n",
       "</style>\n",
       "<table border=\"1\" class=\"dataframe\">\n",
       "  <thead>\n",
       "    <tr style=\"text-align: right;\">\n",
       "      <th></th>\n",
       "      <th>ALEGRIA</th>\n",
       "      <th>SURPRESA</th>\n",
       "      <th>TRISTEZA</th>\n",
       "      <th>MEDO</th>\n",
       "      <th>RAIVA</th>\n",
       "      <th>DESGOSTO</th>\n",
       "      <th>NEUTRO</th>\n",
       "    </tr>\n",
       "  </thead>\n",
       "  <tbody>\n",
       "    <tr>\n",
       "      <th>0</th>\n",
       "      <td>432</td>\n",
       "      <td>2</td>\n",
       "      <td>513</td>\n",
       "      <td>0</td>\n",
       "      <td>2</td>\n",
       "      <td>49</td>\n",
       "      <td>41</td>\n",
       "    </tr>\n",
       "  </tbody>\n",
       "</table>\n",
       "</div>"
      ],
      "text/plain": [
       "   ALEGRIA  SURPRESA  TRISTEZA  MEDO  RAIVA  DESGOSTO  NEUTRO\n",
       "0      432         2       513     0      2        49      41"
      ]
     },
     "metadata": {},
     "output_type": "display_data"
    },
    {
     "data": {
      "image/png": "[encoded data removed]",
      "text/plain": [
       "<Figure size 576x288 with 1 Axes>"
      ]
     },
     "metadata": {
      "needs_background": "light"
     },
     "output_type": "display_data"
    }
   ],
   "source": [
    "graph_sentimentos_total(rede_social, cores, sentimentos, alegria, surpresa, tristeza, medo, raiva, desgosto, neutro)"
   ]
  },
  {
   "cell_type": "markdown",
   "metadata": {},
   "source": [
    "##### Comentários por data : Valência"
   ]
  },
  {
   "cell_type": "code",
   "execution_count": 36,
   "metadata": {
    "ExecuteTime": {
     "end_time": "2018-11-26T01:50:28.637385Z",
     "start_time": "2018-11-26T01:50:28.238280Z"
    }
   },
   "outputs": [
    {
     "data": {
      "text/html": [
       "<div>\n",
       "<style scoped>\n",
       "    .dataframe tbody tr th:only-of-type {\n",
       "        vertical-align: middle;\n",
       "    }\n",
       "\n",
       "    .dataframe tbody tr th {\n",
       "        vertical-align: top;\n",
       "    }\n",
       "\n",
       "    .dataframe thead th {\n",
       "        text-align: right;\n",
       "    }\n",
       "</style>\n",
       "<table border=\"1\" class=\"dataframe\">\n",
       "  <thead>\n",
       "    <tr style=\"text-align: right;\">\n",
       "      <th></th>\n",
       "      <th>22/10/2018</th>\n",
       "      <th>23/10/2018</th>\n",
       "      <th>24/10/2018</th>\n",
       "      <th>26/10/2018</th>\n",
       "      <th>27/10/2018</th>\n",
       "      <th>28/10/2018</th>\n",
       "      <th>29/10/2018</th>\n",
       "    </tr>\n",
       "  </thead>\n",
       "  <tbody>\n",
       "    <tr>\n",
       "      <th>NEGATIVO</th>\n",
       "      <td>170</td>\n",
       "      <td>93</td>\n",
       "      <td>79</td>\n",
       "      <td>69</td>\n",
       "      <td>116</td>\n",
       "      <td>35</td>\n",
       "      <td>2</td>\n",
       "    </tr>\n",
       "    <tr>\n",
       "      <th>NEUTRO</th>\n",
       "      <td>5</td>\n",
       "      <td>4</td>\n",
       "      <td>6</td>\n",
       "      <td>7</td>\n",
       "      <td>13</td>\n",
       "      <td>6</td>\n",
       "      <td>0</td>\n",
       "    </tr>\n",
       "    <tr>\n",
       "      <th>POSITIVO</th>\n",
       "      <td>112</td>\n",
       "      <td>35</td>\n",
       "      <td>54</td>\n",
       "      <td>54</td>\n",
       "      <td>102</td>\n",
       "      <td>70</td>\n",
       "      <td>7</td>\n",
       "    </tr>\n",
       "  </tbody>\n",
       "</table>\n",
       "</div>"
      ],
      "text/plain": [
       "          22/10/2018  23/10/2018  24/10/2018  26/10/2018  27/10/2018  \\\n",
       "NEGATIVO         170          93          79          69         116   \n",
       "NEUTRO             5           4           6           7          13   \n",
       "POSITIVO         112          35          54          54         102   \n",
       "\n",
       "          28/10/2018  29/10/2018  \n",
       "NEGATIVO          35           2  \n",
       "NEUTRO             6           0  \n",
       "POSITIVO          70           7  "
      ]
     },
     "metadata": {},
     "output_type": "display_data"
    },
    {
     "data": {
      "image/png": "[encoded data removed]",
      "text/plain": [
       "<Figure size 1224x432 with 1 Axes>"
      ]
     },
     "metadata": {
      "needs_background": "light"
     },
     "output_type": "display_data"
    }
   ],
   "source": [
    "graph_valencia_por_data(rede_social, cores_val, valencia_dict, comentarios)"
   ]
  },
  {
   "cell_type": "markdown",
   "metadata": {},
   "source": [
    "##### Comentários por data : Emoções"
   ]
  },
  {
   "cell_type": "code",
   "execution_count": 37,
   "metadata": {
    "ExecuteTime": {
     "end_time": "2018-11-26T01:50:29.125255Z",
     "start_time": "2018-11-26T01:50:28.639545Z"
    },
    "scrolled": false
   },
   "outputs": [
    {
     "data": {
      "text/html": [
       "<div>\n",
       "<style scoped>\n",
       "    .dataframe tbody tr th:only-of-type {\n",
       "        vertical-align: middle;\n",
       "    }\n",
       "\n",
       "    .dataframe tbody tr th {\n",
       "        vertical-align: top;\n",
       "    }\n",
       "\n",
       "    .dataframe thead th {\n",
       "        text-align: right;\n",
       "    }\n",
       "</style>\n",
       "<table border=\"1\" class=\"dataframe\">\n",
       "  <thead>\n",
       "    <tr style=\"text-align: right;\">\n",
       "      <th></th>\n",
       "      <th>22/10/2018</th>\n",
       "      <th>23/10/2018</th>\n",
       "      <th>24/10/2018</th>\n",
       "      <th>26/10/2018</th>\n",
       "      <th>27/10/2018</th>\n",
       "      <th>28/10/2018</th>\n",
       "      <th>29/10/2018</th>\n",
       "    </tr>\n",
       "  </thead>\n",
       "  <tbody>\n",
       "    <tr>\n",
       "      <th>ALEGRIA</th>\n",
       "      <td>111</td>\n",
       "      <td>34</td>\n",
       "      <td>54</td>\n",
       "      <td>54</td>\n",
       "      <td>102</td>\n",
       "      <td>70</td>\n",
       "      <td>7</td>\n",
       "    </tr>\n",
       "    <tr>\n",
       "      <th>DESGOSTO</th>\n",
       "      <td>27</td>\n",
       "      <td>4</td>\n",
       "      <td>6</td>\n",
       "      <td>4</td>\n",
       "      <td>6</td>\n",
       "      <td>2</td>\n",
       "      <td>0</td>\n",
       "    </tr>\n",
       "    <tr>\n",
       "      <th>MEDO</th>\n",
       "      <td>0</td>\n",
       "      <td>0</td>\n",
       "      <td>0</td>\n",
       "      <td>0</td>\n",
       "      <td>0</td>\n",
       "      <td>0</td>\n",
       "      <td>0</td>\n",
       "    </tr>\n",
       "    <tr>\n",
       "      <th>NEUTRO</th>\n",
       "      <td>5</td>\n",
       "      <td>4</td>\n",
       "      <td>6</td>\n",
       "      <td>7</td>\n",
       "      <td>13</td>\n",
       "      <td>6</td>\n",
       "      <td>0</td>\n",
       "    </tr>\n",
       "    <tr>\n",
       "      <th>RAIVA</th>\n",
       "      <td>1</td>\n",
       "      <td>1</td>\n",
       "      <td>0</td>\n",
       "      <td>0</td>\n",
       "      <td>0</td>\n",
       "      <td>0</td>\n",
       "      <td>0</td>\n",
       "    </tr>\n",
       "    <tr>\n",
       "      <th>SURPRESA</th>\n",
       "      <td>1</td>\n",
       "      <td>1</td>\n",
       "      <td>0</td>\n",
       "      <td>0</td>\n",
       "      <td>0</td>\n",
       "      <td>0</td>\n",
       "      <td>0</td>\n",
       "    </tr>\n",
       "    <tr>\n",
       "      <th>TRISTEZA</th>\n",
       "      <td>142</td>\n",
       "      <td>88</td>\n",
       "      <td>73</td>\n",
       "      <td>65</td>\n",
       "      <td>110</td>\n",
       "      <td>33</td>\n",
       "      <td>2</td>\n",
       "    </tr>\n",
       "  </tbody>\n",
       "</table>\n",
       "</div>"
      ],
      "text/plain": [
       "          22/10/2018  23/10/2018  24/10/2018  26/10/2018  27/10/2018  \\\n",
       "ALEGRIA          111          34          54          54         102   \n",
       "DESGOSTO          27           4           6           4           6   \n",
       "MEDO               0           0           0           0           0   \n",
       "NEUTRO             5           4           6           7          13   \n",
       "RAIVA              1           1           0           0           0   \n",
       "SURPRESA           1           1           0           0           0   \n",
       "TRISTEZA         142          88          73          65         110   \n",
       "\n",
       "          28/10/2018  29/10/2018  \n",
       "ALEGRIA           70           7  \n",
       "DESGOSTO           2           0  \n",
       "MEDO               0           0  \n",
       "NEUTRO             6           0  \n",
       "RAIVA              0           0  \n",
       "SURPRESA           0           0  \n",
       "TRISTEZA          33           2  "
      ]
     },
     "metadata": {},
     "output_type": "display_data"
    },
    {
     "data": {
      "image/png": "[encoded data removed]",
      "text/plain": [
       "<Figure size 1224x432 with 1 Axes>"
      ]
     },
     "metadata": {
      "needs_background": "light"
     },
     "output_type": "display_data"
    }
   ],
   "source": [
    "graph_emocoes_por_data(rede_social, cores2, sentimentos_dict, comentarios)"
   ]
  },
  {
   "cell_type": "markdown",
   "metadata": {},
   "source": [
    "#### ViraVotoHaddad13"
   ]
  },
  {
   "cell_type": "code",
   "execution_count": 38,
   "metadata": {
    "ExecuteTime": {
     "end_time": "2018-11-26T01:50:29.138552Z",
     "start_time": "2018-11-26T01:50:29.127420Z"
    }
   },
   "outputs": [],
   "source": [
    "hashtag_c = [modelo.hashtag == 'ViraVotoHaddad13']\n",
    "\n",
    "total_comentarios = modelo.select() \\\n",
    "        .where(reduce(operator.and_, default_clause + hashtag_c)) \\\n",
    "        .count()\n",
    "\n",
    "comentarios_positivos = modelo.select() \\\n",
    "        .where(reduce(operator.and_, default_clause + positivo_clause + hashtag_c)) \\\n",
    "        .order_by(modelo.timestamp)\n",
    "\n",
    "comentarios_negativos = modelo.select() \\\n",
    "        .where(reduce(operator.and_, default_clause + negativo_clause + hashtag_c)) \\\n",
    "        .order_by(modelo.timestamp)\n",
    "\n",
    "comentarios_neutros = modelo.select() \\\n",
    "        .where(reduce(operator.and_, default_clause + neutro_clause + hashtag_c)) \\\n",
    "        .order_by(modelo.timestamp)\n",
    "\n",
    "comentarios = modelo.select() \\\n",
    "        .where(reduce(operator.and_, general + hashtag_c)) \\\n",
    "        .order_by(modelo.timestamp)"
   ]
  },
  {
   "cell_type": "code",
   "execution_count": 39,
   "metadata": {
    "ExecuteTime": {
     "end_time": "2018-11-26T01:50:29.359186Z",
     "start_time": "2018-11-26T01:50:29.139960Z"
    }
   },
   "outputs": [
    {
     "name": "stdout",
     "output_type": "stream",
     "text": [
      "Estatísticas do Hashtags:\n",
      "--------------------\n",
      "Total de Comentários  : 3859\n",
      "Comentários Positivos : 573\n",
      "Comentários Negativos : 378\n",
      "Comentários Neutros   : 8\n",
      "\n",
      "Porcentagem de comentários:\n",
      "--------------------\n",
      "Comentários Positivos : 14.85%\n",
      "Comentários Negativos : 9.8%\n",
      "Comentários Neutros   : 0.21%\n",
      "Total                 : 24.85%\n"
     ]
    }
   ],
   "source": [
    "alegria, surpresa, tristeza, medo, raiva, desgosto, positivo, negativo, neutro = load_emocoes_comentarios(comentarios_positivos, comentarios_negativos, comentarios_neutros)\n",
    "print_statistics(rede_social, total_comentarios, comentarios_positivos, comentarios_negativos, comentarios_neutros)"
   ]
  },
  {
   "cell_type": "markdown",
   "metadata": {},
   "source": [
    "##### Contagem total de comentários : Valência"
   ]
  },
  {
   "cell_type": "code",
   "execution_count": 40,
   "metadata": {
    "ExecuteTime": {
     "end_time": "2018-11-26T01:50:29.495443Z",
     "start_time": "2018-11-26T01:50:29.361484Z"
    }
   },
   "outputs": [
    {
     "data": {
      "text/html": [
       "<div>\n",
       "<style scoped>\n",
       "    .dataframe tbody tr th:only-of-type {\n",
       "        vertical-align: middle;\n",
       "    }\n",
       "\n",
       "    .dataframe tbody tr th {\n",
       "        vertical-align: top;\n",
       "    }\n",
       "\n",
       "    .dataframe thead th {\n",
       "        text-align: right;\n",
       "    }\n",
       "</style>\n",
       "<table border=\"1\" class=\"dataframe\">\n",
       "  <thead>\n",
       "    <tr style=\"text-align: right;\">\n",
       "      <th></th>\n",
       "      <th>POSITIVO</th>\n",
       "      <th>NEGATIVO</th>\n",
       "      <th>NEUTRO</th>\n",
       "    </tr>\n",
       "  </thead>\n",
       "  <tbody>\n",
       "    <tr>\n",
       "      <th>0</th>\n",
       "      <td>573</td>\n",
       "      <td>378</td>\n",
       "      <td>8</td>\n",
       "    </tr>\n",
       "  </tbody>\n",
       "</table>\n",
       "</div>"
      ],
      "text/plain": [
       "   POSITIVO  NEGATIVO  NEUTRO\n",
       "0       573       378       8"
      ]
     },
     "metadata": {},
     "output_type": "display_data"
    },
    {
     "data": {
      "image/png": "[encoded data removed]",
      "text/plain": [
       "<Figure size 576x288 with 1 Axes>"
      ]
     },
     "metadata": {
      "needs_background": "light"
     },
     "output_type": "display_data"
    }
   ],
   "source": [
    "graph_valence_total(rede_social, cores_val2, valencia, positivo, negativo, neutro)"
   ]
  },
  {
   "cell_type": "markdown",
   "metadata": {},
   "source": [
    "##### Contagem total de comentários : Emoções"
   ]
  },
  {
   "cell_type": "code",
   "execution_count": 41,
   "metadata": {
    "ExecuteTime": {
     "end_time": "2018-11-26T01:50:29.680369Z",
     "start_time": "2018-11-26T01:50:29.502439Z"
    }
   },
   "outputs": [
    {
     "data": {
      "text/html": [
       "<div>\n",
       "<style scoped>\n",
       "    .dataframe tbody tr th:only-of-type {\n",
       "        vertical-align: middle;\n",
       "    }\n",
       "\n",
       "    .dataframe tbody tr th {\n",
       "        vertical-align: top;\n",
       "    }\n",
       "\n",
       "    .dataframe thead th {\n",
       "        text-align: right;\n",
       "    }\n",
       "</style>\n",
       "<table border=\"1\" class=\"dataframe\">\n",
       "  <thead>\n",
       "    <tr style=\"text-align: right;\">\n",
       "      <th></th>\n",
       "      <th>ALEGRIA</th>\n",
       "      <th>SURPRESA</th>\n",
       "      <th>TRISTEZA</th>\n",
       "      <th>MEDO</th>\n",
       "      <th>RAIVA</th>\n",
       "      <th>DESGOSTO</th>\n",
       "      <th>NEUTRO</th>\n",
       "    </tr>\n",
       "  </thead>\n",
       "  <tbody>\n",
       "    <tr>\n",
       "      <th>0</th>\n",
       "      <td>568</td>\n",
       "      <td>5</td>\n",
       "      <td>330</td>\n",
       "      <td>0</td>\n",
       "      <td>0</td>\n",
       "      <td>48</td>\n",
       "      <td>8</td>\n",
       "    </tr>\n",
       "  </tbody>\n",
       "</table>\n",
       "</div>"
      ],
      "text/plain": [
       "   ALEGRIA  SURPRESA  TRISTEZA  MEDO  RAIVA  DESGOSTO  NEUTRO\n",
       "0      568         5       330     0      0        48       8"
      ]
     },
     "metadata": {},
     "output_type": "display_data"
    },
    {
     "data": {
      "image/png": "[encoded data removed]",
      "text/plain": [
       "<Figure size 576x288 with 1 Axes>"
      ]
     },
     "metadata": {
      "needs_background": "light"
     },
     "output_type": "display_data"
    }
   ],
   "source": [
    "graph_sentimentos_total(rede_social, cores, sentimentos, alegria, surpresa, tristeza, medo, raiva, desgosto, neutro)"
   ]
  },
  {
   "cell_type": "markdown",
   "metadata": {},
   "source": [
    "##### Comentários por data : Valência"
   ]
  },
  {
   "cell_type": "code",
   "execution_count": 42,
   "metadata": {
    "ExecuteTime": {
     "end_time": "2018-11-26T01:50:30.023499Z",
     "start_time": "2018-11-26T01:50:29.683096Z"
    }
   },
   "outputs": [
    {
     "data": {
      "text/html": [
       "<div>\n",
       "<style scoped>\n",
       "    .dataframe tbody tr th:only-of-type {\n",
       "        vertical-align: middle;\n",
       "    }\n",
       "\n",
       "    .dataframe tbody tr th {\n",
       "        vertical-align: top;\n",
       "    }\n",
       "\n",
       "    .dataframe thead th {\n",
       "        text-align: right;\n",
       "    }\n",
       "</style>\n",
       "<table border=\"1\" class=\"dataframe\">\n",
       "  <thead>\n",
       "    <tr style=\"text-align: right;\">\n",
       "      <th></th>\n",
       "      <th>27/10/2018</th>\n",
       "      <th>28/10/2018</th>\n",
       "    </tr>\n",
       "  </thead>\n",
       "  <tbody>\n",
       "    <tr>\n",
       "      <th>NEGATIVO</th>\n",
       "      <td>72</td>\n",
       "      <td>306</td>\n",
       "    </tr>\n",
       "    <tr>\n",
       "      <th>NEUTRO</th>\n",
       "      <td>1</td>\n",
       "      <td>7</td>\n",
       "    </tr>\n",
       "    <tr>\n",
       "      <th>POSITIVO</th>\n",
       "      <td>117</td>\n",
       "      <td>456</td>\n",
       "    </tr>\n",
       "  </tbody>\n",
       "</table>\n",
       "</div>"
      ],
      "text/plain": [
       "          27/10/2018  28/10/2018\n",
       "NEGATIVO          72         306\n",
       "NEUTRO             1           7\n",
       "POSITIVO         117         456"
      ]
     },
     "metadata": {},
     "output_type": "display_data"
    },
    {
     "data": {
      "image/png": "[encoded data removed]",
      "text/plain": [
       "<Figure size 1224x432 with 1 Axes>"
      ]
     },
     "metadata": {
      "needs_background": "light"
     },
     "output_type": "display_data"
    }
   ],
   "source": [
    "graph_valencia_por_data(rede_social, cores_val, valencia_dict, comentarios)"
   ]
  },
  {
   "cell_type": "markdown",
   "metadata": {},
   "source": [
    "##### Comentários por data : Emoções"
   ]
  },
  {
   "cell_type": "code",
   "execution_count": 43,
   "metadata": {
    "ExecuteTime": {
     "end_time": "2018-11-26T01:50:30.574210Z",
     "start_time": "2018-11-26T01:50:30.026746Z"
    },
    "scrolled": false
   },
   "outputs": [
    {
     "data": {
      "text/html": [
       "<div>\n",
       "<style scoped>\n",
       "    .dataframe tbody tr th:only-of-type {\n",
       "        vertical-align: middle;\n",
       "    }\n",
       "\n",
       "    .dataframe tbody tr th {\n",
       "        vertical-align: top;\n",
       "    }\n",
       "\n",
       "    .dataframe thead th {\n",
       "        text-align: right;\n",
       "    }\n",
       "</style>\n",
       "<table border=\"1\" class=\"dataframe\">\n",
       "  <thead>\n",
       "    <tr style=\"text-align: right;\">\n",
       "      <th></th>\n",
       "      <th>27/10/2018</th>\n",
       "      <th>28/10/2018</th>\n",
       "    </tr>\n",
       "  </thead>\n",
       "  <tbody>\n",
       "    <tr>\n",
       "      <th>ALEGRIA</th>\n",
       "      <td>117</td>\n",
       "      <td>451</td>\n",
       "    </tr>\n",
       "    <tr>\n",
       "      <th>DESGOSTO</th>\n",
       "      <td>7</td>\n",
       "      <td>41</td>\n",
       "    </tr>\n",
       "    <tr>\n",
       "      <th>MEDO</th>\n",
       "      <td>0</td>\n",
       "      <td>0</td>\n",
       "    </tr>\n",
       "    <tr>\n",
       "      <th>NEUTRO</th>\n",
       "      <td>1</td>\n",
       "      <td>7</td>\n",
       "    </tr>\n",
       "    <tr>\n",
       "      <th>RAIVA</th>\n",
       "      <td>0</td>\n",
       "      <td>0</td>\n",
       "    </tr>\n",
       "    <tr>\n",
       "      <th>SURPRESA</th>\n",
       "      <td>0</td>\n",
       "      <td>5</td>\n",
       "    </tr>\n",
       "    <tr>\n",
       "      <th>TRISTEZA</th>\n",
       "      <td>65</td>\n",
       "      <td>265</td>\n",
       "    </tr>\n",
       "  </tbody>\n",
       "</table>\n",
       "</div>"
      ],
      "text/plain": [
       "          27/10/2018  28/10/2018\n",
       "ALEGRIA          117         451\n",
       "DESGOSTO           7          41\n",
       "MEDO               0           0\n",
       "NEUTRO             1           7\n",
       "RAIVA              0           0\n",
       "SURPRESA           0           5\n",
       "TRISTEZA          65         265"
      ]
     },
     "metadata": {},
     "output_type": "display_data"
    },
    {
     "data": {
      "image/png": "[encoded data removed]",
      "text/plain": [
       "<Figure size 1224x432 with 1 Axes>"
      ]
     },
     "metadata": {
      "needs_background": "light"
     },
     "output_type": "display_data"
    }
   ],
   "source": [
    "graph_emocoes_por_data(rede_social, cores2, sentimentos_dict, comentarios)"
   ]
  },
  {
   "cell_type": "code",
   "execution_count": null,
   "metadata": {},
   "outputs": [],
   "source": []
  }
 ],
 "metadata": {
  "hide_input": false,
  "kernelspec": {
   "display_name": "Python 3",
   "language": "python",
   "name": "python3"
  },
  "language_info": {
   "codemirror_mode": {
    "name": "ipython",
    "version": 3
   },
   "file_extension": ".py",
   "mimetype": "text/x-python",
   "name": "python",
   "nbconvert_exporter": "python",
   "pygments_lexer": "ipython3",
   "version": "3.7.1"
  },
  "latex_envs": {
   "LaTeX_envs_menu_present": true,
   "autoclose": false,
   "autocomplete": true,
   "bibliofile": "biblio.bib",
   "cite_by": "apalike",
   "current_citInitial": 1,
   "eqLabelWithNumbers": true,
   "eqNumInitial": 1,
   "hotkeys": {
    "equation": "Ctrl-E",
    "itemize": "Ctrl-I"
   },
   "labels_anchors": false,
   "latex_user_defs": false,
   "report_style_numbering": false,
   "user_envs_cfg": false
  },
  "toc": {
   "base_numbering": 1,
   "nav_menu": {
    "height": "12px",
    "width": "252px"
   },
   "number_sections": true,
   "sideBar": true,
   "skip_h1_title": false,
   "title_cell": "Table of Contents",
   "title_sidebar": "Contents",
   "toc_cell": false,
   "toc_position": {},
   "toc_section_display": "block",
   "toc_window_display": false
  }
 },
 "nbformat": 4,
 "nbformat_minor": 2
}
