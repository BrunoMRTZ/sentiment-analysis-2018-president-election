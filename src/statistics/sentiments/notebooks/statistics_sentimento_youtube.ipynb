{
 "cells": [
  {
   "cell_type": "code",
   "execution_count": 1,
   "metadata": {
    "ExecuteTime": {
     "end_time": "2018-11-26T01:51:36.417908Z",
     "start_time": "2018-11-26T01:51:34.792441Z"
    }
   },
   "outputs": [],
   "source": [
    "import sys\n",
    "sys.path.append('..')\n",
    "sys.path.append('../..')\n",
    "\n",
    "from stats import *\n",
    "from sentiment_stats import *\n",
    "\n",
    "from peewee import SQL\n",
    "from database.models import RawFacebookComments, RawTwitterComments, RawInstagramComments, RawYouTubeComments, RawHashtagComments\n",
    "\n",
    "rede_social = 'YouTube'\n",
    "modelo = RawYouTubeComments\n",
    "\n",
    "cores = ['#FFA726', '#66BB6A', '#42A5F5', '#FFEE58', '#EF5350', '#AB47BC', '#C8C8C8']\n",
    "cores2 = ['#FFA726', '#AB47BC', '#FFEE58', '#C8C8C8', '#EF5350', '#66BB6A', '#42A5F5']\n",
    "cores_val = ['#EF5350', '#C8C8C8', '#66BB6A']\n",
    "cores_val2 = ['#66BB6A', '#EF5350', '#C8C8C8']\n",
    "sentimentos = ['ALEGRIA', 'SURPRESA', 'TRISTEZA', 'MEDO', 'RAIVA', 'DESGOSTO', 'NEUTRO']\n",
    "valencia = ['POSITIVO', 'NEGATIVO', 'NEUTRO']\n",
    "\n",
    "valencia_dict = OrderedDict()\n",
    "for val in valencia:\n",
    "    valencia_dict[val] = 0\n",
    "\n",
    "sentimentos_dict = OrderedDict()\n",
    "for sentimento in sentimentos:\n",
    "    sentimentos_dict[sentimento] = 0\n",
    "    \n",
    "default_clause = [\n",
    "    SQL('length(clean_comment) > 0'),\n",
    "]\n",
    "\n",
    "positivo_clause = [\n",
    "    SQL('length(emotion) > 0 AND length(valence) > 0'),\n",
    "    SQL('emotion in (\"ALEGRIA\", \"SURPRESA\") AND valence = \"POSITIVO\"')\n",
    "]\n",
    "\n",
    "negativo_clause = [\n",
    "    SQL('length(emotion) > 0 AND length(valence) > 0'),\n",
    "    SQL('emotion in (\"TRISTEZA\", \"RAIVA\", \"MEDO\", \"DESGOSTO\") AND valence = \"NEGATIVO\"')\n",
    "]\n",
    "\n",
    "neutro_clause = [\n",
    "    SQL('length(emotion) > 0 AND length(valence) > 0'),\n",
    "    SQL('emotion in (\"NEUTRO\") AND valence = \"NEUTRO\"')\n",
    "]\n",
    "\n",
    "general = default_clause + [\n",
    "    SQL('length(emotion) > 0 AND length(valence) > 0'),\n",
    "    SQL(\"\"\"\n",
    "        (emotion in (\"ALEGRIA\", \"SURPRESA\") AND valence = \"POSITIVO\") \n",
    "        OR \n",
    "        (emotion in (\"TRISTEZA\", \"RAIVA\", \"MEDO\", \"DESGOSTO\") AND valence = \"NEGATIVO\")\n",
    "        OR\n",
    "        (emotion in (\"NEUTRO\") AND valence = \"NEUTRO\")\n",
    "    \"\"\")\n",
    "]"
   ]
  },
  {
   "cell_type": "markdown",
   "metadata": {},
   "source": [
    "### Emoções gerais dos comentários : YouTube"
   ]
  },
  {
   "cell_type": "code",
   "execution_count": 2,
   "metadata": {
    "ExecuteTime": {
     "end_time": "2018-11-26T01:51:46.890835Z",
     "start_time": "2018-11-26T01:51:44.815372Z"
    }
   },
   "outputs": [],
   "source": [
    "total_comentarios = modelo.select() \\\n",
    "        .where(default_clause) \\\n",
    "        .count()\n",
    "\n",
    "comentarios_positivos = modelo.select() \\\n",
    "        .where(reduce(operator.and_, default_clause + positivo_clause)) \\\n",
    "        .order_by(modelo.hash)\n",
    "\n",
    "comentarios_negativos = modelo.select() \\\n",
    "        .where(reduce(operator.and_, default_clause + negativo_clause)) \\\n",
    "        .order_by(modelo.hash)\n",
    "\n",
    "comentarios_neutros = modelo.select() \\\n",
    "        .where(reduce(operator.and_, default_clause + neutro_clause)) \\\n",
    "        .order_by(modelo.hash)\n",
    "\n",
    "comentarios = modelo.select() \\\n",
    "        .where(reduce(operator.and_, general)) \\\n",
    "        .order_by(modelo.hash)"
   ]
  },
  {
   "cell_type": "code",
   "execution_count": 3,
   "metadata": {
    "ExecuteTime": {
     "end_time": "2018-11-26T01:51:47.290865Z",
     "start_time": "2018-11-26T01:51:46.902295Z"
    }
   },
   "outputs": [
    {
     "name": "stdout",
     "output_type": "stream",
     "text": [
      "Estatísticas do YouTube:\n",
      "--------------------\n",
      "Total de Comentários  : 8487\n",
      "Comentários Positivos : 1844\n",
      "Comentários Negativos : 1841\n",
      "Comentários Neutros   : 77\n",
      "\n",
      "Porcentagem de comentários:\n",
      "--------------------\n",
      "Comentários Positivos : 21.73%\n",
      "Comentários Negativos : 21.69%\n",
      "Comentários Neutros   : 0.91%\n",
      "Total                 : 44.33%\n"
     ]
    }
   ],
   "source": [
    "alegria, surpresa, tristeza, medo, raiva, desgosto, positivo, negativo, neutro = load_emocoes_comentarios(comentarios_positivos, comentarios_negativos, comentarios_neutros)\n",
    "print_statistics(rede_social, total_comentarios, comentarios_positivos, comentarios_negativos, comentarios_neutros)"
   ]
  },
  {
   "cell_type": "markdown",
   "metadata": {},
   "source": [
    "#### Contagem total de comentários : Valência"
   ]
  },
  {
   "cell_type": "code",
   "execution_count": 4,
   "metadata": {
    "ExecuteTime": {
     "end_time": "2018-11-26T01:51:48.313435Z",
     "start_time": "2018-11-26T01:51:48.050521Z"
    }
   },
   "outputs": [
    {
     "data": {
      "text/html": [
       "<div>\n",
       "<style scoped>\n",
       "    .dataframe tbody tr th:only-of-type {\n",
       "        vertical-align: middle;\n",
       "    }\n",
       "\n",
       "    .dataframe tbody tr th {\n",
       "        vertical-align: top;\n",
       "    }\n",
       "\n",
       "    .dataframe thead th {\n",
       "        text-align: right;\n",
       "    }\n",
       "</style>\n",
       "<table border=\"1\" class=\"dataframe\">\n",
       "  <thead>\n",
       "    <tr style=\"text-align: right;\">\n",
       "      <th></th>\n",
       "      <th>POSITIVO</th>\n",
       "      <th>NEGATIVO</th>\n",
       "      <th>NEUTRO</th>\n",
       "    </tr>\n",
       "  </thead>\n",
       "  <tbody>\n",
       "    <tr>\n",
       "      <th>0</th>\n",
       "      <td>1844</td>\n",
       "      <td>1841</td>\n",
       "      <td>77</td>\n",
       "    </tr>\n",
       "  </tbody>\n",
       "</table>\n",
       "</div>"
      ],
      "text/plain": [
       "   POSITIVO  NEGATIVO  NEUTRO\n",
       "0      1844      1841      77"
      ]
     },
     "metadata": {},
     "output_type": "display_data"
    },
    {
     "data": {
      "image/png": "[encoded data removed]",
      "text/plain": [
       "<Figure size 576x288 with 1 Axes>"
      ]
     },
     "metadata": {
      "needs_background": "light"
     },
     "output_type": "display_data"
    }
   ],
   "source": [
    "graph_valence_total(rede_social, cores_val2, valencia, positivo, negativo, neutro)"
   ]
  },
  {
   "cell_type": "markdown",
   "metadata": {},
   "source": [
    "#### Contagem total de comentários : Emoções"
   ]
  },
  {
   "cell_type": "code",
   "execution_count": 5,
   "metadata": {
    "ExecuteTime": {
     "end_time": "2018-11-26T01:51:49.919055Z",
     "start_time": "2018-11-26T01:51:49.726471Z"
    }
   },
   "outputs": [
    {
     "data": {
      "text/html": [
       "<div>\n",
       "<style scoped>\n",
       "    .dataframe tbody tr th:only-of-type {\n",
       "        vertical-align: middle;\n",
       "    }\n",
       "\n",
       "    .dataframe tbody tr th {\n",
       "        vertical-align: top;\n",
       "    }\n",
       "\n",
       "    .dataframe thead th {\n",
       "        text-align: right;\n",
       "    }\n",
       "</style>\n",
       "<table border=\"1\" class=\"dataframe\">\n",
       "  <thead>\n",
       "    <tr style=\"text-align: right;\">\n",
       "      <th></th>\n",
       "      <th>ALEGRIA</th>\n",
       "      <th>SURPRESA</th>\n",
       "      <th>TRISTEZA</th>\n",
       "      <th>MEDO</th>\n",
       "      <th>RAIVA</th>\n",
       "      <th>DESGOSTO</th>\n",
       "      <th>NEUTRO</th>\n",
       "    </tr>\n",
       "  </thead>\n",
       "  <tbody>\n",
       "    <tr>\n",
       "      <th>0</th>\n",
       "      <td>1834</td>\n",
       "      <td>10</td>\n",
       "      <td>1666</td>\n",
       "      <td>2</td>\n",
       "      <td>7</td>\n",
       "      <td>166</td>\n",
       "      <td>77</td>\n",
       "    </tr>\n",
       "  </tbody>\n",
       "</table>\n",
       "</div>"
      ],
      "text/plain": [
       "   ALEGRIA  SURPRESA  TRISTEZA  MEDO  RAIVA  DESGOSTO  NEUTRO\n",
       "0     1834        10      1666     2      7       166      77"
      ]
     },
     "metadata": {},
     "output_type": "display_data"
    },
    {
     "data": {
      "image/png": "[encoded data removed]",
      "text/plain": [
       "<Figure size 576x288 with 1 Axes>"
      ]
     },
     "metadata": {
      "needs_background": "light"
     },
     "output_type": "display_data"
    }
   ],
   "source": [
    "graph_sentimentos_total(rede_social, cores, sentimentos, alegria, surpresa, tristeza, medo, raiva, desgosto, neutro)"
   ]
  },
  {
   "cell_type": "markdown",
   "metadata": {},
   "source": [
    "### Emoções por candidato : YouTube"
   ]
  },
  {
   "cell_type": "markdown",
   "metadata": {},
   "source": [
    "#### Jair Bolsonaro"
   ]
  },
  {
   "cell_type": "code",
   "execution_count": 12,
   "metadata": {
    "ExecuteTime": {
     "end_time": "2018-11-26T01:52:30.236918Z",
     "start_time": "2018-11-26T01:52:30.223982Z"
    }
   },
   "outputs": [],
   "source": [
    "candidato_c = [modelo.candidate == 'Jair Bolsonaro']\n",
    "\n",
    "total_comentarios = modelo.select() \\\n",
    "        .where(reduce(operator.and_, default_clause + candidato_c)) \\\n",
    "        .count()\n",
    "\n",
    "comentarios_positivos = modelo.select() \\\n",
    "        .where(reduce(operator.and_, default_clause + positivo_clause + candidato_c)) \\\n",
    "        .order_by(modelo.hash)\n",
    "\n",
    "comentarios_negativos = modelo.select() \\\n",
    "        .where(reduce(operator.and_, default_clause + negativo_clause + candidato_c)) \\\n",
    "        .order_by(modelo.hash)\n",
    "\n",
    "comentarios_neutros = modelo.select() \\\n",
    "        .where(reduce(operator.and_, default_clause + neutro_clause + candidato_c)) \\\n",
    "        .order_by(modelo.hash)\n",
    "\n",
    "comentarios = modelo.select() \\\n",
    "        .where(reduce(operator.and_, general + candidato_c)) \\\n",
    "        .order_by(modelo.hash)"
   ]
  },
  {
   "cell_type": "code",
   "execution_count": 13,
   "metadata": {
    "ExecuteTime": {
     "end_time": "2018-11-26T01:52:30.609876Z",
     "start_time": "2018-11-26T01:52:30.438756Z"
    }
   },
   "outputs": [
    {
     "name": "stdout",
     "output_type": "stream",
     "text": [
      "Estatísticas do YouTube:\n",
      "--------------------\n",
      "Total de Comentários  : 3929\n",
      "Comentários Positivos : 926\n",
      "Comentários Negativos : 951\n",
      "Comentários Neutros   : 18\n",
      "\n",
      "Porcentagem de comentários:\n",
      "--------------------\n",
      "Comentários Positivos : 23.57%\n",
      "Comentários Negativos : 24.2%\n",
      "Comentários Neutros   : 0.46%\n",
      "Total                 : 48.23%\n"
     ]
    }
   ],
   "source": [
    "alegria, surpresa, tristeza, medo, raiva, desgosto, positivo, negativo, neutro = load_emocoes_comentarios(comentarios_positivos, comentarios_negativos, comentarios_neutros)\n",
    "print_statistics(rede_social, total_comentarios, comentarios_positivos, comentarios_negativos, comentarios_neutros)"
   ]
  },
  {
   "cell_type": "markdown",
   "metadata": {},
   "source": [
    "##### Contagem total de comentários : Valência"
   ]
  },
  {
   "cell_type": "code",
   "execution_count": 14,
   "metadata": {
    "ExecuteTime": {
     "end_time": "2018-11-26T01:52:31.615339Z",
     "start_time": "2018-11-26T01:52:31.439463Z"
    }
   },
   "outputs": [
    {
     "data": {
      "text/html": [
       "<div>\n",
       "<style scoped>\n",
       "    .dataframe tbody tr th:only-of-type {\n",
       "        vertical-align: middle;\n",
       "    }\n",
       "\n",
       "    .dataframe tbody tr th {\n",
       "        vertical-align: top;\n",
       "    }\n",
       "\n",
       "    .dataframe thead th {\n",
       "        text-align: right;\n",
       "    }\n",
       "</style>\n",
       "<table border=\"1\" class=\"dataframe\">\n",
       "  <thead>\n",
       "    <tr style=\"text-align: right;\">\n",
       "      <th></th>\n",
       "      <th>POSITIVO</th>\n",
       "      <th>NEGATIVO</th>\n",
       "      <th>NEUTRO</th>\n",
       "    </tr>\n",
       "  </thead>\n",
       "  <tbody>\n",
       "    <tr>\n",
       "      <th>0</th>\n",
       "      <td>926</td>\n",
       "      <td>951</td>\n",
       "      <td>18</td>\n",
       "    </tr>\n",
       "  </tbody>\n",
       "</table>\n",
       "</div>"
      ],
      "text/plain": [
       "   POSITIVO  NEGATIVO  NEUTRO\n",
       "0       926       951      18"
      ]
     },
     "metadata": {},
     "output_type": "display_data"
    },
    {
     "data": {
      "image/png": "[encoded data removed]",
      "text/plain": [
       "<Figure size 576x288 with 1 Axes>"
      ]
     },
     "metadata": {
      "needs_background": "light"
     },
     "output_type": "display_data"
    }
   ],
   "source": [
    "graph_valence_total(rede_social, cores_val2, valencia, positivo, negativo, neutro)"
   ]
  },
  {
   "cell_type": "markdown",
   "metadata": {},
   "source": [
    "##### Contagem total de comentários : Emoções"
   ]
  },
  {
   "cell_type": "code",
   "execution_count": 15,
   "metadata": {
    "ExecuteTime": {
     "end_time": "2018-11-26T01:52:32.541387Z",
     "start_time": "2018-11-26T01:52:32.288286Z"
    }
   },
   "outputs": [
    {
     "data": {
      "text/html": [
       "<div>\n",
       "<style scoped>\n",
       "    .dataframe tbody tr th:only-of-type {\n",
       "        vertical-align: middle;\n",
       "    }\n",
       "\n",
       "    .dataframe tbody tr th {\n",
       "        vertical-align: top;\n",
       "    }\n",
       "\n",
       "    .dataframe thead th {\n",
       "        text-align: right;\n",
       "    }\n",
       "</style>\n",
       "<table border=\"1\" class=\"dataframe\">\n",
       "  <thead>\n",
       "    <tr style=\"text-align: right;\">\n",
       "      <th></th>\n",
       "      <th>ALEGRIA</th>\n",
       "      <th>SURPRESA</th>\n",
       "      <th>TRISTEZA</th>\n",
       "      <th>MEDO</th>\n",
       "      <th>RAIVA</th>\n",
       "      <th>DESGOSTO</th>\n",
       "      <th>NEUTRO</th>\n",
       "    </tr>\n",
       "  </thead>\n",
       "  <tbody>\n",
       "    <tr>\n",
       "      <th>0</th>\n",
       "      <td>919</td>\n",
       "      <td>7</td>\n",
       "      <td>857</td>\n",
       "      <td>2</td>\n",
       "      <td>5</td>\n",
       "      <td>87</td>\n",
       "      <td>18</td>\n",
       "    </tr>\n",
       "  </tbody>\n",
       "</table>\n",
       "</div>"
      ],
      "text/plain": [
       "   ALEGRIA  SURPRESA  TRISTEZA  MEDO  RAIVA  DESGOSTO  NEUTRO\n",
       "0      919         7       857     2      5        87      18"
      ]
     },
     "metadata": {},
     "output_type": "display_data"
    },
    {
     "data": {
      "image/png": "[encoded data removed]",
      "text/plain": [
       "<Figure size 576x288 with 1 Axes>"
      ]
     },
     "metadata": {
      "needs_background": "light"
     },
     "output_type": "display_data"
    }
   ],
   "source": [
    "graph_sentimentos_total(rede_social, cores, sentimentos, alegria, surpresa, tristeza, medo, raiva, desgosto, neutro)"
   ]
  },
  {
   "cell_type": "markdown",
   "metadata": {},
   "source": [
    "#### Ciro Gomes"
   ]
  },
  {
   "cell_type": "code",
   "execution_count": 16,
   "metadata": {
    "ExecuteTime": {
     "end_time": "2018-11-26T01:52:33.761091Z",
     "start_time": "2018-11-26T01:52:33.736523Z"
    }
   },
   "outputs": [],
   "source": [
    "candidato_c = [modelo.candidate == 'Ciro Gomes']\n",
    "\n",
    "total_comentarios = modelo.select() \\\n",
    "        .where(reduce(operator.and_, default_clause + candidato_c)) \\\n",
    "        .count()\n",
    "\n",
    "comentarios_positivos = modelo.select() \\\n",
    "        .where(reduce(operator.and_, default_clause + positivo_clause + candidato_c)) \\\n",
    "        .order_by(modelo.hash)\n",
    "\n",
    "comentarios_negativos = modelo.select() \\\n",
    "        .where(reduce(operator.and_, default_clause + negativo_clause + candidato_c)) \\\n",
    "        .order_by(modelo.hash)\n",
    "\n",
    "comentarios_neutros = modelo.select() \\\n",
    "        .where(reduce(operator.and_, default_clause + neutro_clause + candidato_c)) \\\n",
    "        .order_by(modelo.hash)\n",
    "\n",
    "comentarios = modelo.select() \\\n",
    "        .where(reduce(operator.and_, general + candidato_c)) \\\n",
    "        .order_by(modelo.hash)"
   ]
  },
  {
   "cell_type": "code",
   "execution_count": 17,
   "metadata": {
    "ExecuteTime": {
     "end_time": "2018-11-26T01:52:34.473761Z",
     "start_time": "2018-11-26T01:52:34.418430Z"
    }
   },
   "outputs": [
    {
     "name": "stdout",
     "output_type": "stream",
     "text": [
      "Estatísticas do YouTube:\n",
      "--------------------\n",
      "Total de Comentários  : 1884\n",
      "Comentários Positivos : 485\n",
      "Comentários Negativos : 323\n",
      "Comentários Neutros   : 20\n",
      "\n",
      "Porcentagem de comentários:\n",
      "--------------------\n",
      "Comentários Positivos : 25.74%\n",
      "Comentários Negativos : 17.14%\n",
      "Comentários Neutros   : 1.06%\n",
      "Total                 : 43.95%\n"
     ]
    }
   ],
   "source": [
    "alegria, surpresa, tristeza, medo, raiva, desgosto, positivo, negativo, neutro = load_emocoes_comentarios(comentarios_positivos, comentarios_negativos, comentarios_neutros)\n",
    "print_statistics(rede_social, total_comentarios, comentarios_positivos, comentarios_negativos, comentarios_neutros)"
   ]
  },
  {
   "cell_type": "markdown",
   "metadata": {},
   "source": [
    "##### Contagem total de comentários : Valência"
   ]
  },
  {
   "cell_type": "code",
   "execution_count": 18,
   "metadata": {
    "ExecuteTime": {
     "end_time": "2018-11-26T01:52:35.754291Z",
     "start_time": "2018-11-26T01:52:35.569293Z"
    }
   },
   "outputs": [
    {
     "data": {
      "text/html": [
       "<div>\n",
       "<style scoped>\n",
       "    .dataframe tbody tr th:only-of-type {\n",
       "        vertical-align: middle;\n",
       "    }\n",
       "\n",
       "    .dataframe tbody tr th {\n",
       "        vertical-align: top;\n",
       "    }\n",
       "\n",
       "    .dataframe thead th {\n",
       "        text-align: right;\n",
       "    }\n",
       "</style>\n",
       "<table border=\"1\" class=\"dataframe\">\n",
       "  <thead>\n",
       "    <tr style=\"text-align: right;\">\n",
       "      <th></th>\n",
       "      <th>POSITIVO</th>\n",
       "      <th>NEGATIVO</th>\n",
       "      <th>NEUTRO</th>\n",
       "    </tr>\n",
       "  </thead>\n",
       "  <tbody>\n",
       "    <tr>\n",
       "      <th>0</th>\n",
       "      <td>485</td>\n",
       "      <td>323</td>\n",
       "      <td>20</td>\n",
       "    </tr>\n",
       "  </tbody>\n",
       "</table>\n",
       "</div>"
      ],
      "text/plain": [
       "   POSITIVO  NEGATIVO  NEUTRO\n",
       "0       485       323      20"
      ]
     },
     "metadata": {},
     "output_type": "display_data"
    },
    {
     "data": {
      "image/png": "[encoded data removed]",
      "text/plain": [
       "<Figure size 576x288 with 1 Axes>"
      ]
     },
     "metadata": {
      "needs_background": "light"
     },
     "output_type": "display_data"
    }
   ],
   "source": [
    "graph_valence_total(rede_social, cores_val2, valencia, positivo, negativo, neutro)"
   ]
  },
  {
   "cell_type": "markdown",
   "metadata": {},
   "source": [
    "##### Contagem total de comentários : Emoções"
   ]
  },
  {
   "cell_type": "code",
   "execution_count": 19,
   "metadata": {
    "ExecuteTime": {
     "end_time": "2018-11-26T01:52:36.785443Z",
     "start_time": "2018-11-26T01:52:36.578043Z"
    }
   },
   "outputs": [
    {
     "data": {
      "text/html": [
       "<div>\n",
       "<style scoped>\n",
       "    .dataframe tbody tr th:only-of-type {\n",
       "        vertical-align: middle;\n",
       "    }\n",
       "\n",
       "    .dataframe tbody tr th {\n",
       "        vertical-align: top;\n",
       "    }\n",
       "\n",
       "    .dataframe thead th {\n",
       "        text-align: right;\n",
       "    }\n",
       "</style>\n",
       "<table border=\"1\" class=\"dataframe\">\n",
       "  <thead>\n",
       "    <tr style=\"text-align: right;\">\n",
       "      <th></th>\n",
       "      <th>ALEGRIA</th>\n",
       "      <th>SURPRESA</th>\n",
       "      <th>TRISTEZA</th>\n",
       "      <th>MEDO</th>\n",
       "      <th>RAIVA</th>\n",
       "      <th>DESGOSTO</th>\n",
       "      <th>NEUTRO</th>\n",
       "    </tr>\n",
       "  </thead>\n",
       "  <tbody>\n",
       "    <tr>\n",
       "      <th>0</th>\n",
       "      <td>484</td>\n",
       "      <td>1</td>\n",
       "      <td>301</td>\n",
       "      <td>0</td>\n",
       "      <td>2</td>\n",
       "      <td>20</td>\n",
       "      <td>20</td>\n",
       "    </tr>\n",
       "  </tbody>\n",
       "</table>\n",
       "</div>"
      ],
      "text/plain": [
       "   ALEGRIA  SURPRESA  TRISTEZA  MEDO  RAIVA  DESGOSTO  NEUTRO\n",
       "0      484         1       301     0      2        20      20"
      ]
     },
     "metadata": {},
     "output_type": "display_data"
    },
    {
     "data": {
      "image/png": "[encoded data removed]",
      "text/plain": [
       "<Figure size 576x288 with 1 Axes>"
      ]
     },
     "metadata": {
      "needs_background": "light"
     },
     "output_type": "display_data"
    }
   ],
   "source": [
    "graph_sentimentos_total(rede_social, cores, sentimentos, alegria, surpresa, tristeza, medo, raiva, desgosto, neutro)"
   ]
  },
  {
   "cell_type": "markdown",
   "metadata": {},
   "source": [
    "#### Geraldo Alckmin"
   ]
  },
  {
   "cell_type": "code",
   "execution_count": 20,
   "metadata": {
    "ExecuteTime": {
     "end_time": "2018-11-26T01:52:37.635903Z",
     "start_time": "2018-11-26T01:52:37.574930Z"
    }
   },
   "outputs": [],
   "source": [
    "candidato_c = [modelo.candidate == 'Geraldo Alckmin']\n",
    "\n",
    "total_comentarios = modelo.select() \\\n",
    "        .where(reduce(operator.and_, default_clause + candidato_c)) \\\n",
    "        .count()\n",
    "\n",
    "comentarios_positivos = modelo.select() \\\n",
    "        .where(reduce(operator.and_, default_clause + positivo_clause + candidato_c)) \\\n",
    "        .order_by(modelo.hash)\n",
    "\n",
    "comentarios_negativos = modelo.select() \\\n",
    "        .where(reduce(operator.and_, default_clause + negativo_clause + candidato_c)) \\\n",
    "        .order_by(modelo.hash)\n",
    "\n",
    "comentarios_neutros = modelo.select() \\\n",
    "        .where(reduce(operator.and_, default_clause + neutro_clause + candidato_c)) \\\n",
    "        .order_by(modelo.hash)\n",
    "\n",
    "comentarios = modelo.select() \\\n",
    "        .where(reduce(operator.and_, general + candidato_c)) \\\n",
    "        .order_by(modelo.hash)"
   ]
  },
  {
   "cell_type": "code",
   "execution_count": 21,
   "metadata": {
    "ExecuteTime": {
     "end_time": "2018-11-26T01:52:38.097590Z",
     "start_time": "2018-11-26T01:52:38.066042Z"
    }
   },
   "outputs": [
    {
     "name": "stdout",
     "output_type": "stream",
     "text": [
      "Estatísticas do YouTube:\n",
      "--------------------\n",
      "Total de Comentários  : 908\n",
      "Comentários Positivos : 166\n",
      "Comentários Negativos : 218\n",
      "Comentários Neutros   : 17\n",
      "\n",
      "Porcentagem de comentários:\n",
      "--------------------\n",
      "Comentários Positivos : 18.28%\n",
      "Comentários Negativos : 24.01%\n",
      "Comentários Neutros   : 1.87%\n",
      "Total                 : 44.16%\n"
     ]
    }
   ],
   "source": [
    "alegria, surpresa, tristeza, medo, raiva, desgosto, positivo, negativo, neutro = load_emocoes_comentarios(comentarios_positivos, comentarios_negativos, comentarios_neutros)\n",
    "print_statistics(rede_social, total_comentarios, comentarios_positivos, comentarios_negativos, comentarios_neutros)"
   ]
  },
  {
   "cell_type": "markdown",
   "metadata": {},
   "source": [
    "##### Contagem total de comentários : Valência"
   ]
  },
  {
   "cell_type": "code",
   "execution_count": 22,
   "metadata": {
    "ExecuteTime": {
     "end_time": "2018-11-26T01:52:39.397393Z",
     "start_time": "2018-11-26T01:52:39.225420Z"
    }
   },
   "outputs": [
    {
     "data": {
      "text/html": [
       "<div>\n",
       "<style scoped>\n",
       "    .dataframe tbody tr th:only-of-type {\n",
       "        vertical-align: middle;\n",
       "    }\n",
       "\n",
       "    .dataframe tbody tr th {\n",
       "        vertical-align: top;\n",
       "    }\n",
       "\n",
       "    .dataframe thead th {\n",
       "        text-align: right;\n",
       "    }\n",
       "</style>\n",
       "<table border=\"1\" class=\"dataframe\">\n",
       "  <thead>\n",
       "    <tr style=\"text-align: right;\">\n",
       "      <th></th>\n",
       "      <th>POSITIVO</th>\n",
       "      <th>NEGATIVO</th>\n",
       "      <th>NEUTRO</th>\n",
       "    </tr>\n",
       "  </thead>\n",
       "  <tbody>\n",
       "    <tr>\n",
       "      <th>0</th>\n",
       "      <td>166</td>\n",
       "      <td>218</td>\n",
       "      <td>17</td>\n",
       "    </tr>\n",
       "  </tbody>\n",
       "</table>\n",
       "</div>"
      ],
      "text/plain": [
       "   POSITIVO  NEGATIVO  NEUTRO\n",
       "0       166       218      17"
      ]
     },
     "metadata": {},
     "output_type": "display_data"
    },
    {
     "data": {
      "image/png": "[encoded data removed]",
      "text/plain": [
       "<Figure size 576x288 with 1 Axes>"
      ]
     },
     "metadata": {
      "needs_background": "light"
     },
     "output_type": "display_data"
    }
   ],
   "source": [
    "graph_valence_total(rede_social, cores_val2, valencia, positivo, negativo, neutro)"
   ]
  },
  {
   "cell_type": "markdown",
   "metadata": {},
   "source": [
    "##### Contagem total de comentários : Emoções"
   ]
  },
  {
   "cell_type": "code",
   "execution_count": 23,
   "metadata": {
    "ExecuteTime": {
     "end_time": "2018-11-26T01:52:40.483472Z",
     "start_time": "2018-11-26T01:52:40.266309Z"
    }
   },
   "outputs": [
    {
     "data": {
      "text/html": [
       "<div>\n",
       "<style scoped>\n",
       "    .dataframe tbody tr th:only-of-type {\n",
       "        vertical-align: middle;\n",
       "    }\n",
       "\n",
       "    .dataframe tbody tr th {\n",
       "        vertical-align: top;\n",
       "    }\n",
       "\n",
       "    .dataframe thead th {\n",
       "        text-align: right;\n",
       "    }\n",
       "</style>\n",
       "<table border=\"1\" class=\"dataframe\">\n",
       "  <thead>\n",
       "    <tr style=\"text-align: right;\">\n",
       "      <th></th>\n",
       "      <th>ALEGRIA</th>\n",
       "      <th>SURPRESA</th>\n",
       "      <th>TRISTEZA</th>\n",
       "      <th>MEDO</th>\n",
       "      <th>RAIVA</th>\n",
       "      <th>DESGOSTO</th>\n",
       "      <th>NEUTRO</th>\n",
       "    </tr>\n",
       "  </thead>\n",
       "  <tbody>\n",
       "    <tr>\n",
       "      <th>0</th>\n",
       "      <td>166</td>\n",
       "      <td>0</td>\n",
       "      <td>198</td>\n",
       "      <td>0</td>\n",
       "      <td>0</td>\n",
       "      <td>20</td>\n",
       "      <td>17</td>\n",
       "    </tr>\n",
       "  </tbody>\n",
       "</table>\n",
       "</div>"
      ],
      "text/plain": [
       "   ALEGRIA  SURPRESA  TRISTEZA  MEDO  RAIVA  DESGOSTO  NEUTRO\n",
       "0      166         0       198     0      0        20      17"
      ]
     },
     "metadata": {},
     "output_type": "display_data"
    },
    {
     "data": {
      "image/png": "[encoded data removed]",
      "text/plain": [
       "<Figure size 576x288 with 1 Axes>"
      ]
     },
     "metadata": {
      "needs_background": "light"
     },
     "output_type": "display_data"
    }
   ],
   "source": [
    "graph_sentimentos_total(rede_social, cores, sentimentos, alegria, surpresa, tristeza, medo, raiva, desgosto, neutro)"
   ]
  },
  {
   "cell_type": "markdown",
   "metadata": {},
   "source": [
    "#### Marina Silva"
   ]
  },
  {
   "cell_type": "code",
   "execution_count": 24,
   "metadata": {
    "ExecuteTime": {
     "end_time": "2018-11-26T01:52:41.373144Z",
     "start_time": "2018-11-26T01:52:41.349329Z"
    }
   },
   "outputs": [],
   "source": [
    "candidato_c = [modelo.candidate == 'Marina Silva']\n",
    "\n",
    "total_comentarios = modelo.select() \\\n",
    "        .where(reduce(operator.and_, default_clause + candidato_c)) \\\n",
    "        .count()\n",
    "\n",
    "comentarios_positivos = modelo.select() \\\n",
    "        .where(reduce(operator.and_, default_clause + positivo_clause + candidato_c)) \\\n",
    "        .order_by(modelo.hash)\n",
    "\n",
    "comentarios_negativos = modelo.select() \\\n",
    "        .where(reduce(operator.and_, default_clause + negativo_clause + candidato_c)) \\\n",
    "        .order_by(modelo.hash)\n",
    "\n",
    "comentarios_neutros = modelo.select() \\\n",
    "        .where(reduce(operator.and_, default_clause + neutro_clause + candidato_c)) \\\n",
    "        .order_by(modelo.hash)\n",
    "\n",
    "comentarios = modelo.select() \\\n",
    "        .where(reduce(operator.and_, general + candidato_c)) \\\n",
    "        .order_by(modelo.hash)"
   ]
  },
  {
   "cell_type": "code",
   "execution_count": 25,
   "metadata": {
    "ExecuteTime": {
     "end_time": "2018-11-26T01:52:42.074437Z",
     "start_time": "2018-11-26T01:52:42.038187Z"
    }
   },
   "outputs": [
    {
     "name": "stdout",
     "output_type": "stream",
     "text": [
      "Estatísticas do YouTube:\n",
      "--------------------\n",
      "Total de Comentários  : 1766\n",
      "Comentários Positivos : 267\n",
      "Comentários Negativos : 349\n",
      "Comentários Neutros   : 22\n",
      "\n",
      "Porcentagem de comentários:\n",
      "--------------------\n",
      "Comentários Positivos : 15.12%\n",
      "Comentários Negativos : 19.76%\n",
      "Comentários Neutros   : 1.25%\n",
      "Total                 : 36.13%\n"
     ]
    }
   ],
   "source": [
    "alegria, surpresa, tristeza, medo, raiva, desgosto, positivo, negativo, neutro = load_emocoes_comentarios(comentarios_positivos, comentarios_negativos, comentarios_neutros)\n",
    "print_statistics(rede_social, total_comentarios, comentarios_positivos, comentarios_negativos, comentarios_neutros)"
   ]
  },
  {
   "cell_type": "markdown",
   "metadata": {},
   "source": [
    "##### Contagem total de comentários : Valência"
   ]
  },
  {
   "cell_type": "code",
   "execution_count": 26,
   "metadata": {
    "ExecuteTime": {
     "end_time": "2018-11-26T01:52:43.327315Z",
     "start_time": "2018-11-26T01:52:43.138293Z"
    }
   },
   "outputs": [
    {
     "data": {
      "text/html": [
       "<div>\n",
       "<style scoped>\n",
       "    .dataframe tbody tr th:only-of-type {\n",
       "        vertical-align: middle;\n",
       "    }\n",
       "\n",
       "    .dataframe tbody tr th {\n",
       "        vertical-align: top;\n",
       "    }\n",
       "\n",
       "    .dataframe thead th {\n",
       "        text-align: right;\n",
       "    }\n",
       "</style>\n",
       "<table border=\"1\" class=\"dataframe\">\n",
       "  <thead>\n",
       "    <tr style=\"text-align: right;\">\n",
       "      <th></th>\n",
       "      <th>POSITIVO</th>\n",
       "      <th>NEGATIVO</th>\n",
       "      <th>NEUTRO</th>\n",
       "    </tr>\n",
       "  </thead>\n",
       "  <tbody>\n",
       "    <tr>\n",
       "      <th>0</th>\n",
       "      <td>267</td>\n",
       "      <td>349</td>\n",
       "      <td>22</td>\n",
       "    </tr>\n",
       "  </tbody>\n",
       "</table>\n",
       "</div>"
      ],
      "text/plain": [
       "   POSITIVO  NEGATIVO  NEUTRO\n",
       "0       267       349      22"
      ]
     },
     "metadata": {},
     "output_type": "display_data"
    },
    {
     "data": {
      "image/png": "[encoded data removed]",
      "text/plain": [
       "<Figure size 576x288 with 1 Axes>"
      ]
     },
     "metadata": {
      "needs_background": "light"
     },
     "output_type": "display_data"
    }
   ],
   "source": [
    "graph_valence_total(rede_social, cores_val2, valencia, positivo, negativo, neutro)"
   ]
  },
  {
   "cell_type": "markdown",
   "metadata": {},
   "source": [
    "##### Contagem total de comentários : Emoções"
   ]
  },
  {
   "cell_type": "code",
   "execution_count": 27,
   "metadata": {
    "ExecuteTime": {
     "end_time": "2018-11-26T01:52:44.648333Z",
     "start_time": "2018-11-26T01:52:44.447572Z"
    }
   },
   "outputs": [
    {
     "data": {
      "text/html": [
       "<div>\n",
       "<style scoped>\n",
       "    .dataframe tbody tr th:only-of-type {\n",
       "        vertical-align: middle;\n",
       "    }\n",
       "\n",
       "    .dataframe tbody tr th {\n",
       "        vertical-align: top;\n",
       "    }\n",
       "\n",
       "    .dataframe thead th {\n",
       "        text-align: right;\n",
       "    }\n",
       "</style>\n",
       "<table border=\"1\" class=\"dataframe\">\n",
       "  <thead>\n",
       "    <tr style=\"text-align: right;\">\n",
       "      <th></th>\n",
       "      <th>ALEGRIA</th>\n",
       "      <th>SURPRESA</th>\n",
       "      <th>TRISTEZA</th>\n",
       "      <th>MEDO</th>\n",
       "      <th>RAIVA</th>\n",
       "      <th>DESGOSTO</th>\n",
       "      <th>NEUTRO</th>\n",
       "    </tr>\n",
       "  </thead>\n",
       "  <tbody>\n",
       "    <tr>\n",
       "      <th>0</th>\n",
       "      <td>265</td>\n",
       "      <td>2</td>\n",
       "      <td>310</td>\n",
       "      <td>0</td>\n",
       "      <td>0</td>\n",
       "      <td>39</td>\n",
       "      <td>22</td>\n",
       "    </tr>\n",
       "  </tbody>\n",
       "</table>\n",
       "</div>"
      ],
      "text/plain": [
       "   ALEGRIA  SURPRESA  TRISTEZA  MEDO  RAIVA  DESGOSTO  NEUTRO\n",
       "0      265         2       310     0      0        39      22"
      ]
     },
     "metadata": {},
     "output_type": "display_data"
    },
    {
     "data": {
      "image/png": "[encoded data removed]",
      "text/plain": [
       "<Figure size 576x288 with 1 Axes>"
      ]
     },
     "metadata": {
      "needs_background": "light"
     },
     "output_type": "display_data"
    }
   ],
   "source": [
    "graph_sentimentos_total(rede_social, cores, sentimentos, alegria, surpresa, tristeza, medo, raiva, desgosto, neutro)"
   ]
  },
  {
   "cell_type": "code",
   "execution_count": null,
   "metadata": {},
   "outputs": [],
   "source": []
  }
 ],
 "metadata": {
  "hide_input": false,
  "kernelspec": {
   "display_name": "Python 3",
   "language": "python",
   "name": "python3"
  },
  "language_info": {
   "codemirror_mode": {
    "name": "ipython",
    "version": 3
   },
   "file_extension": ".py",
   "mimetype": "text/x-python",
   "name": "python",
   "nbconvert_exporter": "python",
   "pygments_lexer": "ipython3",
   "version": "3.7.1"
  },
  "latex_envs": {
   "LaTeX_envs_menu_present": true,
   "autoclose": false,
   "autocomplete": true,
   "bibliofile": "biblio.bib",
   "cite_by": "apalike",
   "current_citInitial": 1,
   "eqLabelWithNumbers": true,
   "eqNumInitial": 1,
   "hotkeys": {
    "equation": "Ctrl-E",
    "itemize": "Ctrl-I"
   },
   "labels_anchors": false,
   "latex_user_defs": false,
   "report_style_numbering": false,
   "user_envs_cfg": false
  },
  "toc": {
   "base_numbering": 1,
   "nav_menu": {
    "height": "12px",
    "width": "252px"
   },
   "number_sections": true,
   "sideBar": true,
   "skip_h1_title": false,
   "title_cell": "Table of Contents",
   "title_sidebar": "Contents",
   "toc_cell": false,
   "toc_position": {},
   "toc_section_display": "block",
   "toc_window_display": false
  }
 },
 "nbformat": 4,
 "nbformat_minor": 2
}
