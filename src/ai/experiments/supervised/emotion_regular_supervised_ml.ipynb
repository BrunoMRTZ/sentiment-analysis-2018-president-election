{
 "cells": [
  {
   "cell_type": "code",
   "execution_count": 1,
   "metadata": {
    "ExecuteTime": {
     "end_time": "2018-11-25T12:44:14.876026Z",
     "start_time": "2018-11-25T12:44:10.799235Z"
    }
   },
   "outputs": [],
   "source": [
    "import sys\n",
    "sys.path.append('../..')\n",
    "\n",
    "import csv\n",
    "import codecs\n",
    "import copy\n",
    "import re\n",
    "from random import shuffle\n",
    "\n",
    "import numpy as np\n",
    "import matplotlib.pyplot as plt\n",
    "import pandas as pd\n",
    "from nltk import word_tokenize\n",
    "import gensim\n",
    "\n",
    "from sklearn.feature_extraction.text import CountVectorizer, TfidfVectorizer\n",
    "from sklearn.pipeline import make_pipeline\n",
    "from sklearn.preprocessing import Normalizer, MinMaxScaler\n",
    "from sklearn.calibration import CalibratedClassifierCV\n",
    "from sklearn.decomposition import TruncatedSVD, LatentDirichletAllocation\n",
    "from sklearn.model_selection import train_test_split\n",
    "from sklearn.naive_bayes import MultinomialNB, GaussianNB, ComplementNB\n",
    "from sklearn.linear_model import LogisticRegression\n",
    "from sklearn.ensemble import RandomForestClassifier\n",
    "from sklearn.svm import SVC, LinearSVC\n",
    "from sklearn.neighbors import KNeighborsClassifier\n",
    "from sklearn.neural_network import MLPClassifier\n",
    "from sklearn.metrics import mean_squared_error, r2_score, accuracy_score, confusion_matrix\n",
    "from sklearn.externals import joblib\n",
    "\n",
    "from utils import tokenizer, load_six_emotions, load_3_emotions\n",
    "\n",
    "%matplotlib inline\n",
    "\n",
    "np.warnings.filterwarnings('ignore')\n",
    "np.random.seed(12345)\n",
    "\n",
    "def highlight_max(data, color='green'):\n",
    "    attr = f'background-color: {color}; color: white; font-weight: bold;'\n",
    "    #remove % and cast to float\n",
    "    data = data.replace('%','', regex=True).astype(float)\n",
    "    if data.ndim == 1:  # Series from .apply(axis=0) or axis=1\n",
    "        is_max = data == data.max()\n",
    "        return [attr if v else '' for v in is_max]\n",
    "    else:  # from .apply(axis=None)\n",
    "        is_max = data == data.max().max()\n",
    "        return pd.DataFrame(np.where(is_max, attr, ''),\n",
    "                            index=data.index, columns=data.columns)"
   ]
  },
  {
   "cell_type": "markdown",
   "metadata": {},
   "source": [
    "### Matriz de resultados"
   ]
  },
  {
   "cell_type": "code",
   "execution_count": 2,
   "metadata": {
    "ExecuteTime": {
     "end_time": "2018-11-25T12:44:14.889359Z",
     "start_time": "2018-11-25T12:44:14.878466Z"
    }
   },
   "outputs": [],
   "source": [
    "classf = {\n",
    "    'MultinomialNB': 0,\n",
    "    'ComplementNB': 0,\n",
    "    'LogisticRegression': 0,\n",
    "    'RandomForestClassifier': 0,\n",
    "    'KNeighborsClassifier': 0,\n",
    "    'MLPClassifier': 0,\n",
    "    'LinearSVC': 0,\n",
    "    'SVC': 0\n",
    "}\n",
    "\n",
    "matriz_resultados = {\n",
    "    'tfidf': copy.deepcopy(classf),\n",
    "    'tfidf+lsa': copy.deepcopy(classf),\n",
    "    'tfidf+lda': copy.deepcopy(classf),\n",
    "    'count': copy.deepcopy(classf),\n",
    "    'count+lsa': copy.deepcopy(classf),\n",
    "    'count+lda': copy.deepcopy(classf),\n",
    "    'tfidf+count+w2c': copy.deepcopy(classf),\n",
    "}"
   ]
  },
  {
   "cell_type": "markdown",
   "metadata": {},
   "source": [
    "### Dataset\n",
    "\n",
    "Fornecido pela equipe da PUC-PR através do site [EMOÇÕES.BR](http://www.ppgia.pucpr.br/~paraiso/mineracaodeemocoes/index.php), contém cerca de 1000 frases, categorizadas usando as 6 emoções de Ekman (alegria, surpresa, tristeza, medo, raiva, desgosto).\n",
    "Alem disso, foi acrescido em torno de 700 novas frases rotuladas, totalizando 1720 frases."
   ]
  },
  {
   "cell_type": "code",
   "execution_count": 3,
   "metadata": {
    "ExecuteTime": {
     "end_time": "2018-11-25T12:44:20.624112Z",
     "start_time": "2018-11-25T12:44:14.892826Z"
    }
   },
   "outputs": [
    {
     "name": "stdout",
     "output_type": "stream",
     "text": [
      "[('SURPRESA', 'visã torn clar soment pod olhar própri coraçã olhar sonh olhar dentr despert'), ('MEDO', 'fim corredor nad além mim escuridã'), ('TRISTEZA', 'perdo tant doer tant final doer machuc'), ('SURPRESA', 'sab escut pod ter certez silênci produz muit vez efeit ciênc'), ('ALEGRIA', 'comprend pod só nã pod proteg direit faz quer')]\n"
     ]
    }
   ],
   "source": [
    "def carregar(filename):\n",
    "    frases = []\n",
    "    with open(filename, 'r') as h:\n",
    "        reader = csv.reader(h, delimiter='|')\n",
    "        for row in reader:\n",
    "            frase = tokenizer(row[0]).strip()\n",
    "            sentimento = row[1].upper()\n",
    "            if len(frase) > 5:\n",
    "                frases.append((sentimento, frase))\n",
    "    return frases\n",
    "\n",
    "frases = carregar('/home/rdenadai/vagrant/python-dev/sentiment-analysis-2018-president-election/dataset/frases/frases_todas.txt')\n",
    "\n",
    "shuffle(frases)\n",
    "print(frases[:5])"
   ]
  },
  {
   "cell_type": "code",
   "execution_count": 4,
   "metadata": {
    "ExecuteTime": {
     "end_time": "2018-11-25T12:44:20.635388Z",
     "start_time": "2018-11-25T12:44:20.628802Z"
    }
   },
   "outputs": [],
   "source": [
    "afrases = []\n",
    "asentimentos =[]\n",
    "for sentimento, frase in frases:\n",
    "    afrases.append(frase)\n",
    "    asentimentos.append(sentimento)"
   ]
  },
  {
   "cell_type": "markdown",
   "metadata": {},
   "source": [
    "### Funções de Apoio"
   ]
  },
  {
   "cell_type": "code",
   "execution_count": 5,
   "metadata": {
    "ExecuteTime": {
     "end_time": "2018-11-25T12:44:20.751600Z",
     "start_time": "2018-11-25T12:44:20.637749Z"
    }
   },
   "outputs": [],
   "source": [
    "def run_ml_model(model, X_train, y_train, X_test, y_test):\n",
    "    model.fit(X_train, y_train)\n",
    "    accuracy = np.round(model.score(X_test, y_test) * 100, 2)\n",
    "    print(f'Modelo   : {model.__class__.__name__}')\n",
    "    print(f'Acurácia : {accuracy}%')\n",
    "    print('-' * 20)\n",
    "    return accuracy\n",
    "\n",
    "def split_data(X, y):\n",
    "    test_size = .33\n",
    "    random_state = 0\n",
    "    X_train, X_test, y_train, y_test = train_test_split(X, y, test_size=test_size, random_state=random_state)\n",
    "    return {\n",
    "        'X_train': X_train,\n",
    "        'y_train': y_train,\n",
    "        'X_test': X_test,\n",
    "        'y_test': y_test\n",
    "    }"
   ]
  },
  {
   "cell_type": "markdown",
   "metadata": {},
   "source": [
    "### Classificadores"
   ]
  },
  {
   "cell_type": "code",
   "execution_count": 6,
   "metadata": {
    "ExecuteTime": {
     "end_time": "2018-11-25T12:44:20.892002Z",
     "start_time": "2018-11-25T12:44:20.753841Z"
    }
   },
   "outputs": [],
   "source": [
    "classifiers = (\n",
    "    MultinomialNB(),\n",
    "    ComplementNB(),\n",
    "    LogisticRegression(multi_class='auto', solver='lbfgs'),\n",
    "    RandomForestClassifier(n_estimators=50, min_samples_split=8, random_state=0),\n",
    "    KNeighborsClassifier(n_neighbors=8, algorithm='auto'),\n",
    "    MLPClassifier(hidden_layer_sizes=(100, 25), max_iter=500, random_state=0),\n",
    "    LinearSVC(max_iter=500),\n",
    "    SVC(gamma='auto', max_iter=500),\n",
    ")"
   ]
  },
  {
   "cell_type": "markdown",
   "metadata": {},
   "source": [
    "### TF-IDF"
   ]
  },
  {
   "cell_type": "code",
   "execution_count": 7,
   "metadata": {
    "ExecuteTime": {
     "end_time": "2018-11-25T12:44:21.213044Z",
     "start_time": "2018-11-25T12:44:20.896427Z"
    }
   },
   "outputs": [],
   "source": [
    "vec_tfidf = TfidfVectorizer(ngram_range=(1, 2))\n",
    "X_tfidf = vec_tfidf.fit_transform(afrases)"
   ]
  },
  {
   "cell_type": "code",
   "execution_count": 8,
   "metadata": {
    "ExecuteTime": {
     "end_time": "2018-11-25T12:45:33.222111Z",
     "start_time": "2018-11-25T12:44:21.214490Z"
    }
   },
   "outputs": [
    {
     "name": "stdout",
     "output_type": "stream",
     "text": [
      "Modelo   : MultinomialNB\n",
      "Acurácia : 46.22%\n",
      "--------------------\n",
      "Modelo   : ComplementNB\n",
      "Acurácia : 53.66%\n",
      "--------------------\n",
      "Modelo   : LogisticRegression\n",
      "Acurácia : 51.8%\n",
      "--------------------\n",
      "Modelo   : RandomForestClassifier\n",
      "Acurácia : 51.18%\n",
      "--------------------\n",
      "Modelo   : KNeighborsClassifier\n",
      "Acurácia : 48.82%\n",
      "--------------------\n",
      "Modelo   : MLPClassifier\n",
      "Acurácia : 53.78%\n",
      "--------------------\n",
      "Modelo   : LinearSVC\n",
      "Acurácia : 56.51%\n",
      "--------------------\n",
      "Modelo   : SVC\n",
      "Acurácia : 26.39%\n",
      "--------------------\n"
     ]
    }
   ],
   "source": [
    "for classifier in classifiers:\n",
    "    try:\n",
    "        acc = run_ml_model(classifier, **split_data(X_tfidf, asentimentos))\n",
    "        matriz_resultados['tfidf'][classifier.__class__.__name__] = acc\n",
    "    except:\n",
    "        pass"
   ]
  },
  {
   "cell_type": "markdown",
   "metadata": {},
   "source": [
    "### LSA (usando TF-IDF)"
   ]
  },
  {
   "cell_type": "code",
   "execution_count": 9,
   "metadata": {
    "ExecuteTime": {
     "end_time": "2018-11-25T12:45:45.386634Z",
     "start_time": "2018-11-25T12:45:33.223966Z"
    },
    "scrolled": false
   },
   "outputs": [
    {
     "name": "stdout",
     "output_type": "stream",
     "text": [
      "Modelo   : MultinomialNB\n",
      "Acurácia : 26.39%\n",
      "--------------------\n",
      "Modelo   : ComplementNB\n",
      "Acurácia : 45.35%\n",
      "--------------------\n",
      "Modelo   : LogisticRegression\n",
      "Acurácia : 54.77%\n",
      "--------------------\n",
      "Modelo   : RandomForestClassifier\n",
      "Acurácia : 53.66%\n",
      "--------------------\n",
      "Modelo   : KNeighborsClassifier\n",
      "Acurácia : 47.58%\n",
      "--------------------\n",
      "Modelo   : MLPClassifier\n",
      "Acurácia : 56.01%\n",
      "--------------------\n",
      "Modelo   : LinearSVC\n",
      "Acurácia : 54.77%\n",
      "--------------------\n",
      "Modelo   : SVC\n",
      "Acurácia : 26.39%\n",
      "--------------------\n"
     ]
    }
   ],
   "source": [
    "svd = TruncatedSVD(n_components=70, n_iter=50, random_state=0)\n",
    "normalizer = MinMaxScaler(copy=False)\n",
    "lsa = make_pipeline(svd, normalizer)\n",
    "X_svd = lsa.fit_transform(X_tfidf)\n",
    "\n",
    "for classifier in classifiers:\n",
    "    try:\n",
    "        acc = run_ml_model(classifier, **split_data(X_svd, asentimentos))\n",
    "        matriz_resultados['tfidf+lsa'][classifier.__class__.__name__] = acc\n",
    "    except Exception as e:\n",
    "        print(e)"
   ]
  },
  {
   "cell_type": "markdown",
   "metadata": {},
   "source": [
    "### LDA (usando TF-IDF)"
   ]
  },
  {
   "cell_type": "code",
   "execution_count": 10,
   "metadata": {
    "ExecuteTime": {
     "end_time": "2018-11-25T12:46:22.184020Z",
     "start_time": "2018-11-25T12:45:45.388327Z"
    }
   },
   "outputs": [
    {
     "name": "stdout",
     "output_type": "stream",
     "text": [
      "Modelo   : MultinomialNB\n",
      "Acurácia : 27.14%\n",
      "--------------------\n",
      "Modelo   : ComplementNB\n",
      "Acurácia : 21.31%\n",
      "--------------------\n",
      "Modelo   : LogisticRegression\n",
      "Acurácia : 26.52%\n",
      "--------------------\n",
      "Modelo   : RandomForestClassifier\n",
      "Acurácia : 33.83%\n",
      "--------------------\n",
      "Modelo   : KNeighborsClassifier\n",
      "Acurácia : 26.39%\n",
      "--------------------\n",
      "Modelo   : MLPClassifier\n",
      "Acurácia : 28.13%\n",
      "--------------------\n",
      "Modelo   : LinearSVC\n",
      "Acurácia : 25.77%\n",
      "--------------------\n",
      "Modelo   : SVC\n",
      "Acurácia : 26.39%\n",
      "--------------------\n"
     ]
    }
   ],
   "source": [
    "lda = LatentDirichletAllocation(n_components=70, max_iter=50, random_state=0, n_jobs=5)\n",
    "normalizer = MinMaxScaler(copy=False)\n",
    "lda = make_pipeline(lda, normalizer)\n",
    "X_lda = lda.fit_transform(X_tfidf)\n",
    "\n",
    "for classifier in classifiers:\n",
    "    try:\n",
    "        acc = run_ml_model(classifier, **split_data(X_lda, asentimentos))\n",
    "        matriz_resultados['tfidf+lda'][classifier.__class__.__name__] = acc\n",
    "    except:\n",
    "        pass"
   ]
  },
  {
   "cell_type": "markdown",
   "metadata": {},
   "source": [
    "### Count"
   ]
  },
  {
   "cell_type": "code",
   "execution_count": 11,
   "metadata": {
    "ExecuteTime": {
     "end_time": "2018-11-25T12:46:22.413382Z",
     "start_time": "2018-11-25T12:46:22.186656Z"
    }
   },
   "outputs": [],
   "source": [
    "vec_count = CountVectorizer(ngram_range=(1, 2))\n",
    "X_count = vec_count.fit_transform(afrases)"
   ]
  },
  {
   "cell_type": "code",
   "execution_count": 12,
   "metadata": {
    "ExecuteTime": {
     "end_time": "2018-11-25T12:47:12.066870Z",
     "start_time": "2018-11-25T12:46:22.416041Z"
    },
    "scrolled": false
   },
   "outputs": [
    {
     "name": "stdout",
     "output_type": "stream",
     "text": [
      "Modelo   : MultinomialNB\n",
      "Acurácia : 53.9%\n",
      "--------------------\n",
      "Modelo   : ComplementNB\n",
      "Acurácia : 46.96%\n",
      "--------------------\n",
      "Modelo   : LogisticRegression\n",
      "Acurácia : 55.64%\n",
      "--------------------\n",
      "Modelo   : RandomForestClassifier\n",
      "Acurácia : 52.29%\n",
      "--------------------\n",
      "Modelo   : KNeighborsClassifier\n",
      "Acurácia : 26.64%\n",
      "--------------------\n",
      "Modelo   : MLPClassifier\n",
      "Acurácia : 53.16%\n",
      "--------------------\n",
      "Modelo   : LinearSVC\n",
      "Acurácia : 53.41%\n",
      "--------------------\n",
      "Modelo   : SVC\n",
      "Acurácia : 26.39%\n",
      "--------------------\n"
     ]
    }
   ],
   "source": [
    "for classifier in classifiers:\n",
    "    try:\n",
    "        acc = run_ml_model(classifier, **split_data(X_count, asentimentos))\n",
    "        matriz_resultados['count'][classifier.__class__.__name__] = acc\n",
    "    except:\n",
    "        pass"
   ]
  },
  {
   "cell_type": "markdown",
   "metadata": {},
   "source": [
    "### LSA (usando Count)"
   ]
  },
  {
   "cell_type": "code",
   "execution_count": 13,
   "metadata": {
    "ExecuteTime": {
     "end_time": "2018-11-25T12:47:19.942413Z",
     "start_time": "2018-11-25T12:47:12.068664Z"
    }
   },
   "outputs": [
    {
     "name": "stdout",
     "output_type": "stream",
     "text": [
      "Modelo   : MultinomialNB\n",
      "Acurácia : 26.39%\n",
      "--------------------\n",
      "Modelo   : ComplementNB\n",
      "Acurácia : 39.16%\n",
      "--------------------\n",
      "Modelo   : LogisticRegression\n",
      "Acurácia : 50.56%\n",
      "--------------------\n",
      "Modelo   : RandomForestClassifier\n",
      "Acurácia : 48.08%\n",
      "--------------------\n",
      "Modelo   : KNeighborsClassifier\n",
      "Acurácia : 41.26%\n",
      "--------------------\n",
      "Modelo   : MLPClassifier\n",
      "Acurácia : 47.34%\n",
      "--------------------\n",
      "Modelo   : LinearSVC\n",
      "Acurácia : 50.93%\n",
      "--------------------\n",
      "Modelo   : SVC\n",
      "Acurácia : 26.39%\n",
      "--------------------\n"
     ]
    }
   ],
   "source": [
    "svd = TruncatedSVD(n_components=70, n_iter=50, random_state=0)\n",
    "normalizer = MinMaxScaler(copy=False)\n",
    "lda = make_pipeline(svd, normalizer)\n",
    "X_svd = lda.fit_transform(X_count)\n",
    "\n",
    "for classifier in classifiers:\n",
    "    try:\n",
    "        acc = run_ml_model(classifier, **split_data(X_svd, asentimentos))\n",
    "        matriz_resultados['count+lsa'][classifier.__class__.__name__] = acc\n",
    "    except:\n",
    "        pass"
   ]
  },
  {
   "cell_type": "markdown",
   "metadata": {},
   "source": [
    "### LDA (usando Count)"
   ]
  },
  {
   "cell_type": "code",
   "execution_count": 14,
   "metadata": {
    "ExecuteTime": {
     "end_time": "2018-11-25T12:47:53.551478Z",
     "start_time": "2018-11-25T12:47:19.944117Z"
    },
    "scrolled": false
   },
   "outputs": [
    {
     "name": "stdout",
     "output_type": "stream",
     "text": [
      "Modelo   : MultinomialNB\n",
      "Acurácia : 28.38%\n",
      "--------------------\n",
      "Modelo   : ComplementNB\n",
      "Acurácia : 19.95%\n",
      "--------------------\n",
      "Modelo   : LogisticRegression\n",
      "Acurácia : 27.63%\n",
      "--------------------\n",
      "Modelo   : RandomForestClassifier\n",
      "Acurácia : 29.99%\n",
      "--------------------\n",
      "Modelo   : KNeighborsClassifier\n",
      "Acurácia : 29.74%\n",
      "--------------------\n",
      "Modelo   : MLPClassifier\n",
      "Acurácia : 29.99%\n",
      "--------------------\n",
      "Modelo   : LinearSVC\n",
      "Acurácia : 26.89%\n",
      "--------------------\n",
      "Modelo   : SVC\n",
      "Acurácia : 26.39%\n",
      "--------------------\n"
     ]
    }
   ],
   "source": [
    "lda = LatentDirichletAllocation(n_components=70, max_iter=50, random_state=0, n_jobs=5)\n",
    "normalizer = MinMaxScaler(copy=False)\n",
    "lda = make_pipeline(lda, normalizer)\n",
    "X_lda = lda.fit_transform(X_count)\n",
    "\n",
    "for classifier in classifiers:\n",
    "    try:\n",
    "        acc = run_ml_model(classifier, **split_data(X_lda, asentimentos))\n",
    "        matriz_resultados['count+lda'][classifier.__class__.__name__] = acc\n",
    "    except:\n",
    "        pass"
   ]
  },
  {
   "cell_type": "markdown",
   "metadata": {},
   "source": [
    "### Count + TF-IDF + Word2Vec"
   ]
  },
  {
   "cell_type": "code",
   "execution_count": 15,
   "metadata": {
    "ExecuteTime": {
     "end_time": "2018-11-25T12:51:01.528886Z",
     "start_time": "2018-11-25T12:47:53.553321Z"
    }
   },
   "outputs": [
    {
     "data": {
      "text/plain": [
       "(29456811, 31096000)"
      ]
     },
     "execution_count": 15,
     "metadata": {},
     "output_type": "execute_result"
    }
   ],
   "source": [
    "# Count\n",
    "vec_count = CountVectorizer()\n",
    "X_count = vec_count.fit_transform(afrases)\n",
    "weights_count = pd.DataFrame(np.round(X_count.toarray().T, 8), index=vec_count.get_feature_names())\n",
    "\n",
    "# TF-IDF\n",
    "vec_tfidf = TfidfVectorizer()\n",
    "X_tfidf = vec_tfidf.fit_transform(afrases)\n",
    "weights_tfidf = pd.DataFrame(np.round(X_tfidf.toarray().T, 8), index=vec_tfidf.get_feature_names())\n",
    "\n",
    "# Word2Vec preprocessing\n",
    "frases_w2v = []\n",
    "for frase in afrases:\n",
    "    bigram = []\n",
    "    p_frase = word_tokenize(frase)\n",
    "    for m, palavra in enumerate(p_frase):\n",
    "        next_p = None\n",
    "        try:\n",
    "            next_p = p_frase[m+1]\n",
    "        except:\n",
    "            pass\n",
    "        bigram += [f'{palavra}']\n",
    "#         if next_p:\n",
    "#             bigram += [f'{palavra} {next_p}']\n",
    "    frases_w2v += [bigram]\n",
    "\n",
    "# Word2Vec\n",
    "model = gensim.models.Word2Vec(\n",
    "    sentences=frases_w2v,\n",
    "    sg=1,\n",
    "    hs=1,\n",
    "    size=1,\n",
    "    window=25,\n",
    "    min_count=1,\n",
    "    seed=0,\n",
    "    workers=10)\n",
    "model.train(frases_w2v, total_examples=len(frases_w2v), epochs=1000)"
   ]
  },
  {
   "cell_type": "code",
   "execution_count": 16,
   "metadata": {
    "ExecuteTime": {
     "end_time": "2018-11-25T12:51:02.959506Z",
     "start_time": "2018-11-25T12:51:01.533263Z"
    }
   },
   "outputs": [],
   "source": [
    "r_words = {}\n",
    "for word in vec_count.get_feature_names():\n",
    "    idx = weights_count.index.get_loc(word)\n",
    "    w2c_val = .1\n",
    "    try:\n",
    "        w2c_val = model.wv[word]\n",
    "    except:\n",
    "        pass\n",
    "    r_words[word] = (weights_tfidf.iloc[idx].values + weights_count.iloc[idx].values) * w2c_val\n",
    "lwor = list(r_words.keys())\n",
    "X = np.asarray(list(r_words.values()))\n",
    "weights = pd.DataFrame(X, index=lwor)\n",
    "X = X.T\n",
    "\n",
    "normalizer = Normalizer(copy=False)\n",
    "X = normalizer.fit_transform(X)"
   ]
  },
  {
   "cell_type": "code",
   "execution_count": 17,
   "metadata": {
    "ExecuteTime": {
     "end_time": "2018-11-25T12:52:27.129673Z",
     "start_time": "2018-11-25T12:51:02.962826Z"
    },
    "scrolled": false
   },
   "outputs": [
    {
     "name": "stdout",
     "output_type": "stream",
     "text": [
      "Modelo   : LogisticRegression\n",
      "Acurácia : 54.28%\n",
      "--------------------\n",
      "Modelo   : RandomForestClassifier\n",
      "Acurácia : 52.54%\n",
      "--------------------\n",
      "Modelo   : KNeighborsClassifier\n",
      "Acurácia : 46.72%\n",
      "--------------------\n",
      "Modelo   : MLPClassifier\n",
      "Acurácia : 49.07%\n",
      "--------------------\n",
      "Modelo   : LinearSVC\n",
      "Acurácia : 55.14%\n",
      "--------------------\n",
      "Modelo   : SVC\n",
      "Acurácia : 26.39%\n",
      "--------------------\n"
     ]
    }
   ],
   "source": [
    "for classifier in classifiers:\n",
    "    try:\n",
    "        acc = run_ml_model(classifier, **split_data(X, asentimentos))\n",
    "        matriz_resultados['tfidf+count+w2c'][classifier.__class__.__name__] = acc\n",
    "    except:\n",
    "        pass"
   ]
  },
  {
   "cell_type": "markdown",
   "metadata": {},
   "source": [
    "### Resultado dos Classificadores"
   ]
  },
  {
   "cell_type": "code",
   "execution_count": 18,
   "metadata": {
    "ExecuteTime": {
     "end_time": "2018-11-25T12:52:27.354405Z",
     "start_time": "2018-11-25T12:52:27.131366Z"
    }
   },
   "outputs": [
    {
     "data": {
      "text/html": [
       "<style  type=\"text/css\" >\n",
       "    #T_f6634b74_f0b0_11e8_af9c_5cc9d364484drow2_col0 {\n",
       "            background-color:  green;\n",
       "             color:  white;\n",
       "             font-weight:  bold;\n",
       "        }    #T_f6634b74_f0b0_11e8_af9c_5cc9d364484drow2_col4 {\n",
       "            background-color:  green;\n",
       "             color:  white;\n",
       "             font-weight:  bold;\n",
       "        }    #T_f6634b74_f0b0_11e8_af9c_5cc9d364484drow2_col6 {\n",
       "            background-color:  green;\n",
       "             color:  white;\n",
       "             font-weight:  bold;\n",
       "        }    #T_f6634b74_f0b0_11e8_af9c_5cc9d364484drow3_col3 {\n",
       "            background-color:  green;\n",
       "             color:  white;\n",
       "             font-weight:  bold;\n",
       "        }    #T_f6634b74_f0b0_11e8_af9c_5cc9d364484drow4_col1 {\n",
       "            background-color:  green;\n",
       "             color:  white;\n",
       "             font-weight:  bold;\n",
       "        }    #T_f6634b74_f0b0_11e8_af9c_5cc9d364484drow4_col5 {\n",
       "            background-color:  green;\n",
       "             color:  white;\n",
       "             font-weight:  bold;\n",
       "        }    #T_f6634b74_f0b0_11e8_af9c_5cc9d364484drow6_col2 {\n",
       "            background-color:  green;\n",
       "             color:  white;\n",
       "             font-weight:  bold;\n",
       "        }    #T_f6634b74_f0b0_11e8_af9c_5cc9d364484drow6_col5 {\n",
       "            background-color:  green;\n",
       "             color:  white;\n",
       "             font-weight:  bold;\n",
       "        }</style>  \n",
       "<table id=\"T_f6634b74_f0b0_11e8_af9c_5cc9d364484d\" > \n",
       "<thead>    <tr> \n",
       "        <th class=\"blank level0\" ></th> \n",
       "        <th class=\"col_heading level0 col0\" >tfidf</th> \n",
       "        <th class=\"col_heading level0 col1\" >tfidf+lsa</th> \n",
       "        <th class=\"col_heading level0 col2\" >tfidf+lda</th> \n",
       "        <th class=\"col_heading level0 col3\" >count</th> \n",
       "        <th class=\"col_heading level0 col4\" >count+lsa</th> \n",
       "        <th class=\"col_heading level0 col5\" >count+lda</th> \n",
       "        <th class=\"col_heading level0 col6\" >tfidf+count+w2c</th> \n",
       "    </tr></thead> \n",
       "<tbody>    <tr> \n",
       "        <th id=\"T_f6634b74_f0b0_11e8_af9c_5cc9d364484dlevel0_row0\" class=\"row_heading level0 row0\" >ComplementNB</th> \n",
       "        <td id=\"T_f6634b74_f0b0_11e8_af9c_5cc9d364484drow0_col0\" class=\"data row0 col0\" >53.66%</td> \n",
       "        <td id=\"T_f6634b74_f0b0_11e8_af9c_5cc9d364484drow0_col1\" class=\"data row0 col1\" >45.35%</td> \n",
       "        <td id=\"T_f6634b74_f0b0_11e8_af9c_5cc9d364484drow0_col2\" class=\"data row0 col2\" >21.31%</td> \n",
       "        <td id=\"T_f6634b74_f0b0_11e8_af9c_5cc9d364484drow0_col3\" class=\"data row0 col3\" >46.96%</td> \n",
       "        <td id=\"T_f6634b74_f0b0_11e8_af9c_5cc9d364484drow0_col4\" class=\"data row0 col4\" >39.16%</td> \n",
       "        <td id=\"T_f6634b74_f0b0_11e8_af9c_5cc9d364484drow0_col5\" class=\"data row0 col5\" >19.95%</td> \n",
       "        <td id=\"T_f6634b74_f0b0_11e8_af9c_5cc9d364484drow0_col6\" class=\"data row0 col6\" >0.00%</td> \n",
       "    </tr>    <tr> \n",
       "        <th id=\"T_f6634b74_f0b0_11e8_af9c_5cc9d364484dlevel0_row1\" class=\"row_heading level0 row1\" >KNeighborsClassifier</th> \n",
       "        <td id=\"T_f6634b74_f0b0_11e8_af9c_5cc9d364484drow1_col0\" class=\"data row1 col0\" >48.82%</td> \n",
       "        <td id=\"T_f6634b74_f0b0_11e8_af9c_5cc9d364484drow1_col1\" class=\"data row1 col1\" >47.58%</td> \n",
       "        <td id=\"T_f6634b74_f0b0_11e8_af9c_5cc9d364484drow1_col2\" class=\"data row1 col2\" >26.39%</td> \n",
       "        <td id=\"T_f6634b74_f0b0_11e8_af9c_5cc9d364484drow1_col3\" class=\"data row1 col3\" >26.64%</td> \n",
       "        <td id=\"T_f6634b74_f0b0_11e8_af9c_5cc9d364484drow1_col4\" class=\"data row1 col4\" >41.26%</td> \n",
       "        <td id=\"T_f6634b74_f0b0_11e8_af9c_5cc9d364484drow1_col5\" class=\"data row1 col5\" >29.74%</td> \n",
       "        <td id=\"T_f6634b74_f0b0_11e8_af9c_5cc9d364484drow1_col6\" class=\"data row1 col6\" >46.72%</td> \n",
       "    </tr>    <tr> \n",
       "        <th id=\"T_f6634b74_f0b0_11e8_af9c_5cc9d364484dlevel0_row2\" class=\"row_heading level0 row2\" >LinearSVC</th> \n",
       "        <td id=\"T_f6634b74_f0b0_11e8_af9c_5cc9d364484drow2_col0\" class=\"data row2 col0\" >56.51%</td> \n",
       "        <td id=\"T_f6634b74_f0b0_11e8_af9c_5cc9d364484drow2_col1\" class=\"data row2 col1\" >54.77%</td> \n",
       "        <td id=\"T_f6634b74_f0b0_11e8_af9c_5cc9d364484drow2_col2\" class=\"data row2 col2\" >25.77%</td> \n",
       "        <td id=\"T_f6634b74_f0b0_11e8_af9c_5cc9d364484drow2_col3\" class=\"data row2 col3\" >53.41%</td> \n",
       "        <td id=\"T_f6634b74_f0b0_11e8_af9c_5cc9d364484drow2_col4\" class=\"data row2 col4\" >50.93%</td> \n",
       "        <td id=\"T_f6634b74_f0b0_11e8_af9c_5cc9d364484drow2_col5\" class=\"data row2 col5\" >26.89%</td> \n",
       "        <td id=\"T_f6634b74_f0b0_11e8_af9c_5cc9d364484drow2_col6\" class=\"data row2 col6\" >55.14%</td> \n",
       "    </tr>    <tr> \n",
       "        <th id=\"T_f6634b74_f0b0_11e8_af9c_5cc9d364484dlevel0_row3\" class=\"row_heading level0 row3\" >LogisticRegression</th> \n",
       "        <td id=\"T_f6634b74_f0b0_11e8_af9c_5cc9d364484drow3_col0\" class=\"data row3 col0\" >51.80%</td> \n",
       "        <td id=\"T_f6634b74_f0b0_11e8_af9c_5cc9d364484drow3_col1\" class=\"data row3 col1\" >54.77%</td> \n",
       "        <td id=\"T_f6634b74_f0b0_11e8_af9c_5cc9d364484drow3_col2\" class=\"data row3 col2\" >26.52%</td> \n",
       "        <td id=\"T_f6634b74_f0b0_11e8_af9c_5cc9d364484drow3_col3\" class=\"data row3 col3\" >55.64%</td> \n",
       "        <td id=\"T_f6634b74_f0b0_11e8_af9c_5cc9d364484drow3_col4\" class=\"data row3 col4\" >50.56%</td> \n",
       "        <td id=\"T_f6634b74_f0b0_11e8_af9c_5cc9d364484drow3_col5\" class=\"data row3 col5\" >27.63%</td> \n",
       "        <td id=\"T_f6634b74_f0b0_11e8_af9c_5cc9d364484drow3_col6\" class=\"data row3 col6\" >54.28%</td> \n",
       "    </tr>    <tr> \n",
       "        <th id=\"T_f6634b74_f0b0_11e8_af9c_5cc9d364484dlevel0_row4\" class=\"row_heading level0 row4\" >MLPClassifier</th> \n",
       "        <td id=\"T_f6634b74_f0b0_11e8_af9c_5cc9d364484drow4_col0\" class=\"data row4 col0\" >53.78%</td> \n",
       "        <td id=\"T_f6634b74_f0b0_11e8_af9c_5cc9d364484drow4_col1\" class=\"data row4 col1\" >56.01%</td> \n",
       "        <td id=\"T_f6634b74_f0b0_11e8_af9c_5cc9d364484drow4_col2\" class=\"data row4 col2\" >28.13%</td> \n",
       "        <td id=\"T_f6634b74_f0b0_11e8_af9c_5cc9d364484drow4_col3\" class=\"data row4 col3\" >53.16%</td> \n",
       "        <td id=\"T_f6634b74_f0b0_11e8_af9c_5cc9d364484drow4_col4\" class=\"data row4 col4\" >47.34%</td> \n",
       "        <td id=\"T_f6634b74_f0b0_11e8_af9c_5cc9d364484drow4_col5\" class=\"data row4 col5\" >29.99%</td> \n",
       "        <td id=\"T_f6634b74_f0b0_11e8_af9c_5cc9d364484drow4_col6\" class=\"data row4 col6\" >49.07%</td> \n",
       "    </tr>    <tr> \n",
       "        <th id=\"T_f6634b74_f0b0_11e8_af9c_5cc9d364484dlevel0_row5\" class=\"row_heading level0 row5\" >MultinomialNB</th> \n",
       "        <td id=\"T_f6634b74_f0b0_11e8_af9c_5cc9d364484drow5_col0\" class=\"data row5 col0\" >46.22%</td> \n",
       "        <td id=\"T_f6634b74_f0b0_11e8_af9c_5cc9d364484drow5_col1\" class=\"data row5 col1\" >26.39%</td> \n",
       "        <td id=\"T_f6634b74_f0b0_11e8_af9c_5cc9d364484drow5_col2\" class=\"data row5 col2\" >27.14%</td> \n",
       "        <td id=\"T_f6634b74_f0b0_11e8_af9c_5cc9d364484drow5_col3\" class=\"data row5 col3\" >53.90%</td> \n",
       "        <td id=\"T_f6634b74_f0b0_11e8_af9c_5cc9d364484drow5_col4\" class=\"data row5 col4\" >26.39%</td> \n",
       "        <td id=\"T_f6634b74_f0b0_11e8_af9c_5cc9d364484drow5_col5\" class=\"data row5 col5\" >28.38%</td> \n",
       "        <td id=\"T_f6634b74_f0b0_11e8_af9c_5cc9d364484drow5_col6\" class=\"data row5 col6\" >0.00%</td> \n",
       "    </tr>    <tr> \n",
       "        <th id=\"T_f6634b74_f0b0_11e8_af9c_5cc9d364484dlevel0_row6\" class=\"row_heading level0 row6\" >RandomForestClassifier</th> \n",
       "        <td id=\"T_f6634b74_f0b0_11e8_af9c_5cc9d364484drow6_col0\" class=\"data row6 col0\" >51.18%</td> \n",
       "        <td id=\"T_f6634b74_f0b0_11e8_af9c_5cc9d364484drow6_col1\" class=\"data row6 col1\" >53.66%</td> \n",
       "        <td id=\"T_f6634b74_f0b0_11e8_af9c_5cc9d364484drow6_col2\" class=\"data row6 col2\" >33.83%</td> \n",
       "        <td id=\"T_f6634b74_f0b0_11e8_af9c_5cc9d364484drow6_col3\" class=\"data row6 col3\" >52.29%</td> \n",
       "        <td id=\"T_f6634b74_f0b0_11e8_af9c_5cc9d364484drow6_col4\" class=\"data row6 col4\" >48.08%</td> \n",
       "        <td id=\"T_f6634b74_f0b0_11e8_af9c_5cc9d364484drow6_col5\" class=\"data row6 col5\" >29.99%</td> \n",
       "        <td id=\"T_f6634b74_f0b0_11e8_af9c_5cc9d364484drow6_col6\" class=\"data row6 col6\" >52.54%</td> \n",
       "    </tr>    <tr> \n",
       "        <th id=\"T_f6634b74_f0b0_11e8_af9c_5cc9d364484dlevel0_row7\" class=\"row_heading level0 row7\" >SVC</th> \n",
       "        <td id=\"T_f6634b74_f0b0_11e8_af9c_5cc9d364484drow7_col0\" class=\"data row7 col0\" >26.39%</td> \n",
       "        <td id=\"T_f6634b74_f0b0_11e8_af9c_5cc9d364484drow7_col1\" class=\"data row7 col1\" >26.39%</td> \n",
       "        <td id=\"T_f6634b74_f0b0_11e8_af9c_5cc9d364484drow7_col2\" class=\"data row7 col2\" >26.39%</td> \n",
       "        <td id=\"T_f6634b74_f0b0_11e8_af9c_5cc9d364484drow7_col3\" class=\"data row7 col3\" >26.39%</td> \n",
       "        <td id=\"T_f6634b74_f0b0_11e8_af9c_5cc9d364484drow7_col4\" class=\"data row7 col4\" >26.39%</td> \n",
       "        <td id=\"T_f6634b74_f0b0_11e8_af9c_5cc9d364484drow7_col5\" class=\"data row7 col5\" >26.39%</td> \n",
       "        <td id=\"T_f6634b74_f0b0_11e8_af9c_5cc9d364484drow7_col6\" class=\"data row7 col6\" >26.39%</td> \n",
       "    </tr></tbody> \n",
       "</table> "
      ],
      "text/plain": [
       "<pandas.io.formats.style.Styler at 0x7f2f6d5d3f60>"
      ]
     },
     "execution_count": 18,
     "metadata": {},
     "output_type": "execute_result"
    }
   ],
   "source": [
    "df = pd.DataFrame.from_dict(matriz_resultados)\n",
    "df.style.apply(highlight_max).format({\n",
    "    'tfidf': '{:,.2f}%'.format,\n",
    "    'tfidf+lsa': '{:,.2f}%'.format,\n",
    "    'tfidf+lda': '{:,.2f}%'.format,\n",
    "    'count': '{:,.2f}%'.format,\n",
    "    'count+lsa': '{:,.2f}%'.format,\n",
    "    'count+lda': '{:,.2f}%'.format,\n",
    "    'tfidf+count+w2c': '{:,.2f}%'.format,\n",
    "})"
   ]
  },
  {
   "cell_type": "markdown",
   "metadata": {},
   "source": [
    "### Modelo escolhido e salvo"
   ]
  },
  {
   "cell_type": "code",
   "execution_count": 19,
   "metadata": {
    "ExecuteTime": {
     "end_time": "2018-11-25T12:52:32.754779Z",
     "start_time": "2018-11-25T12:52:27.360398Z"
    }
   },
   "outputs": [
    {
     "name": "stdout",
     "output_type": "stream",
     "text": [
      "Modelo   : CalibratedClassifierCV\n",
      "Acurácia : 57.61%\n"
     ]
    },
    {
     "data": {
      "text/plain": [
       "['model_emotions.sav']"
      ]
     },
     "execution_count": 19,
     "metadata": {},
     "output_type": "execute_result"
    }
   ],
   "source": [
    "vec_tfidf = TfidfVectorizer(ngram_range=(1, 2))\n",
    "X_tfidf = vec_tfidf.fit_transform(afrases)\n",
    "\n",
    "svd = TruncatedSVD(n_components=70, n_iter=50, random_state=0)\n",
    "normalizer = Normalizer(copy=False)\n",
    "lsa = make_pipeline(svd, normalizer)\n",
    "X_svd = lsa.fit_transform(X_tfidf)\n",
    "\n",
    "svm = LinearSVC(max_iter=1200)\n",
    "model = CalibratedClassifierCV(svm) \n",
    "model.fit(X_svd, asentimentos)\n",
    "\n",
    "accuracy = np.round(model.score(X_svd, asentimentos) * 100, 2)\n",
    "print(f'Modelo   : {model.__class__.__name__}')\n",
    "print(f'Acurácia : {accuracy}%')\n",
    "\n",
    "filename = 'tfidf_emotions.sav'\n",
    "joblib.dump(vec_tfidf, filename)\n",
    "\n",
    "filename = 'lsa_emotions.sav'\n",
    "joblib.dump(lsa, filename)\n",
    "\n",
    "filename = 'model_emotions.sav'\n",
    "joblib.dump(model, filename)"
   ]
  },
  {
   "cell_type": "code",
   "execution_count": 20,
   "metadata": {
    "ExecuteTime": {
     "end_time": "2018-11-25T12:52:32.761190Z",
     "start_time": "2018-11-25T12:52:32.756640Z"
    }
   },
   "outputs": [
    {
     "data": {
      "text/plain": [
       "array(['ALEGRIA', 'DESGOSTO', 'MEDO', 'NEUTRO', 'RAIVA', 'SURPRESA',\n",
       "       'TRISTEZA'], dtype='<U8')"
      ]
     },
     "execution_count": 20,
     "metadata": {},
     "output_type": "execute_result"
    }
   ],
   "source": [
    "model.classes_"
   ]
  },
  {
   "cell_type": "code",
   "execution_count": 21,
   "metadata": {
    "ExecuteTime": {
     "end_time": "2018-11-25T12:52:33.091741Z",
     "start_time": "2018-11-25T12:52:32.763582Z"
    }
   },
   "outputs": [
    {
     "data": {
      "text/plain": [
       "[22.49, 7.79, 11.42, 1.23, 8.77, 10.27, 38.04]"
      ]
     },
     "execution_count": 21,
     "metadata": {},
     "output_type": "execute_result"
    }
   ],
   "source": [
    "y = model.predict_proba(X_svd)\n",
    "list(np.round(y[0] * 100, 2))"
   ]
  },
  {
   "cell_type": "code",
   "execution_count": null,
   "metadata": {},
   "outputs": [],
   "source": []
  }
 ],
 "metadata": {
  "hide_input": false,
  "kernelspec": {
   "display_name": "Python 3",
   "language": "python",
   "name": "python3"
  },
  "language_info": {
   "codemirror_mode": {
    "name": "ipython",
    "version": 3
   },
   "file_extension": ".py",
   "mimetype": "text/x-python",
   "name": "python",
   "nbconvert_exporter": "python",
   "pygments_lexer": "ipython3",
   "version": "3.7.1"
  },
  "latex_envs": {
   "LaTeX_envs_menu_present": true,
   "autocomplete": true,
   "bibliofile": "biblio.bib",
   "cite_by": "apalike",
   "current_citInitial": 1,
   "eqLabelWithNumbers": true,
   "eqNumInitial": 1,
   "hotkeys": {
    "equation": "Ctrl-E",
    "itemize": "Ctrl-I"
   },
   "labels_anchors": false,
   "latex_user_defs": false,
   "report_style_numbering": false,
   "user_envs_cfg": false
  },
  "toc": {
   "colors": {
    "hover_highlight": "#DAA520",
    "navigate_num": "#000000",
    "navigate_text": "#333333",
    "running_highlight": "#FF0000",
    "selected_highlight": "#FFD700",
    "sidebar_border": "#EEEEEE",
    "wrapper_background": "#FFFFFF"
   },
   "moveMenuLeft": true,
   "nav_menu": {
    "height": "31px",
    "width": "252px"
   },
   "navigate_menu": true,
   "number_sections": true,
   "sideBar": true,
   "threshold": 4,
   "toc_cell": false,
   "toc_section_display": "block",
   "toc_window_display": false,
   "widenNotebook": false
  }
 },
 "nbformat": 4,
 "nbformat_minor": 2
}
