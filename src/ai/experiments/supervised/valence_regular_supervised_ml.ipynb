{
 "cells": [
  {
   "cell_type": "markdown",
   "metadata": {
    "colab_type": "text",
    "id": "TAyZCtgcISFO"
   },
   "source": [
    "## Testes de valência para o projeto final de IA369Y 2 Semestre 2018\n",
    "\n",
    "Passos para tratar os dados com valência, testar e escolher um classificador para utilizar no projeto final de IA369Y.\n",
    "\n",
    "1) Remover espaços duplos, quebras de linha, números e links do dataset e das frases a serem testadas.\n",
    "\n",
    "2) Remover stopwords e aplicar o stemmer.\n",
    "\n",
    "3) Treinar os classificadores.\n",
    "\n",
    "4) Realizar as predições com os classificadores.\n",
    "\n",
    "5) Avaliar as medidas obtidas com os classificadores."
   ]
  },
  {
   "cell_type": "code",
   "execution_count": 23,
   "metadata": {
    "ExecuteTime": {
     "end_time": "2018-11-25T12:52:39.795891Z",
     "start_time": "2018-11-25T12:52:39.779172Z"
    },
    "colab": {
     "base_uri": "https://localhost:8080/",
     "height": 632
    },
    "colab_type": "code",
    "id": "r2Wwyp_VHu32",
    "outputId": "3aef9901-ce0a-44de-df61-b6eeb50e676b"
   },
   "outputs": [],
   "source": [
    "import sys\n",
    "sys.path.append('../..')\n",
    "\n",
    "import csv\n",
    "import codecs\n",
    "import copy\n",
    "import re\n",
    "from random import shuffle\n",
    "\n",
    "import numpy as np\n",
    "import matplotlib.pyplot as plt\n",
    "import pandas as pd\n",
    "from nltk import word_tokenize\n",
    "import gensim\n",
    "\n",
    "from sklearn.feature_extraction.text import CountVectorizer, TfidfVectorizer\n",
    "from sklearn.pipeline import make_pipeline\n",
    "from sklearn.calibration import CalibratedClassifierCV\n",
    "from sklearn.preprocessing import Normalizer, MinMaxScaler\n",
    "from sklearn.decomposition import TruncatedSVD, LatentDirichletAllocation\n",
    "from sklearn.model_selection import train_test_split\n",
    "from sklearn.naive_bayes import MultinomialNB, GaussianNB, ComplementNB\n",
    "from sklearn.linear_model import LogisticRegression\n",
    "from sklearn.ensemble import RandomForestClassifier\n",
    "from sklearn.svm import SVC, LinearSVC\n",
    "from sklearn.neighbors import KNeighborsClassifier\n",
    "from sklearn.neural_network import MLPClassifier\n",
    "from sklearn.metrics import mean_squared_error, r2_score, accuracy_score, confusion_matrix\n",
    "from sklearn.externals import joblib\n",
    "\n",
    "from utils import tokenizer, load_six_emotions, load_3_emotions\n",
    "\n",
    "%matplotlib inline\n",
    "\n",
    "np.warnings.filterwarnings('ignore')\n",
    "np.random.seed(12345)\n",
    "\n",
    "def highlight_max(data, color='green'):\n",
    "    attr = f'background-color: {color}; color: white; font-weight: bold;'\n",
    "    #remove % and cast to float\n",
    "    data = data.replace('%','', regex=True).astype(float)\n",
    "    if data.ndim == 1:  # Series from .apply(axis=0) or axis=1\n",
    "        is_max = data == data.max()\n",
    "        return [attr if v else '' for v in is_max]\n",
    "    else:  # from .apply(axis=None)\n",
    "        is_max = data == data.max().max()\n",
    "        return pd.DataFrame(np.where(is_max, attr, ''),\n",
    "                            index=data.index, columns=data.columns)"
   ]
  },
  {
   "cell_type": "markdown",
   "metadata": {},
   "source": [
    "### Matriz de Resultados"
   ]
  },
  {
   "cell_type": "code",
   "execution_count": 24,
   "metadata": {
    "ExecuteTime": {
     "end_time": "2018-11-25T12:52:40.430142Z",
     "start_time": "2018-11-25T12:52:40.409171Z"
    }
   },
   "outputs": [],
   "source": [
    "classf = {\n",
    "    'MultinomialNB': 0,\n",
    "    'ComplementNB': 0,\n",
    "    'LogisticRegression': 0,\n",
    "    'RandomForestClassifier': 0,\n",
    "    'KNeighborsClassifier': 0,\n",
    "    'MLPClassifier': 0,\n",
    "    'LinearSVC': 0,\n",
    "    'SVC': 0\n",
    "}\n",
    "\n",
    "matriz_resultados = {\n",
    "    'all': {\n",
    "        'tfidf': copy.deepcopy(classf),\n",
    "        'tfidf+lsa': copy.deepcopy(classf),\n",
    "        'tfidf+lda': copy.deepcopy(classf),\n",
    "        'count': copy.deepcopy(classf),\n",
    "        'count+lsa': copy.deepcopy(classf),\n",
    "        'count+lda': copy.deepcopy(classf),\n",
    "        'tfidf+count+w2c': copy.deepcopy(classf),\n",
    "    },\n",
    "    'tweets': {\n",
    "        'tfidf': copy.deepcopy(classf),\n",
    "        'tfidf+lsa': copy.deepcopy(classf),\n",
    "        'tfidf+lda': copy.deepcopy(classf),\n",
    "        'count': copy.deepcopy(classf),\n",
    "        'count+lsa': copy.deepcopy(classf),\n",
    "        'count+lda': copy.deepcopy(classf),\n",
    "        'tfidf+count+w2c': copy.deepcopy(classf),       \n",
    "    },\n",
    "    'titulo_noticias': {\n",
    "        'tfidf': copy.deepcopy(classf),\n",
    "        'tfidf+lsa': copy.deepcopy(classf),\n",
    "        'tfidf+lda': copy.deepcopy(classf),\n",
    "        'count': copy.deepcopy(classf),\n",
    "        'count+lsa': copy.deepcopy(classf),\n",
    "        'count+lda': copy.deepcopy(classf),\n",
    "        'tfidf+count+w2c': copy.deepcopy(classf),\n",
    "    }\n",
    "}"
   ]
  },
  {
   "cell_type": "markdown",
   "metadata": {
    "colab_type": "text",
    "id": "thdVOHWmKxaF"
   },
   "source": [
    "## Datasets\n",
    "\n",
    "Para validar, serão utilizados dois datasets.\n",
    "\n",
    "Os dos datasets foram obtidos do site minerando dados.\n",
    "\n",
    "O primeiro deles tem tweets de política de Minas Gerais com rótulos de valência: positivo, negativo e neutro. Foi feito um tratamento para eliminar tweets repetidos e dessa forma sobraram 3016 tweets.\n",
    "\n",
    "O segundo contém 2123 títulos de notícias com rótulos de valência: positivo, negativo e neutro."
   ]
  },
  {
   "cell_type": "code",
   "execution_count": 25,
   "metadata": {
    "ExecuteTime": {
     "end_time": "2018-11-25T12:52:41.211876Z",
     "start_time": "2018-11-25T12:52:41.197419Z"
    },
    "colab": {
     "base_uri": "https://localhost:8080/",
     "height": 54
    },
    "colab_type": "code",
    "id": "tJiBeMzSTKlB",
    "outputId": "56408718-b65c-42be-dbc7-703dc96ea551"
   },
   "outputs": [],
   "source": [
    "path = '/home/rdenadai/vagrant/python-dev/sentiment-analysis-2018-president-election/dataset/valencia/'\n",
    "\n",
    "#Carregando os datasets\n",
    "def carregar(filename):\n",
    "    frases = []\n",
    "    with open(filename, 'r', encoding='utf-8') as h:\n",
    "        reader = csv.reader(h, delimiter='|')\n",
    "        for row in reader:\n",
    "            frase = tokenizer(row[0]).strip()\n",
    "            valencia = row[1].upper()\n",
    "            if len(frase) > 5:\n",
    "                frases.append((valencia, frase))\n",
    "    return frases"
   ]
  },
  {
   "cell_type": "code",
   "execution_count": 26,
   "metadata": {
    "ExecuteTime": {
     "end_time": "2018-11-25T12:52:53.303694Z",
     "start_time": "2018-11-25T12:52:41.903643Z"
    },
    "colab": {
     "base_uri": "https://localhost:8080/",
     "height": 71
    },
    "colab_type": "code",
    "id": "zD3gV2f0tsNL",
    "outputId": "5560031f-54b1-44a9-81e7-9e17f3f5417c"
   },
   "outputs": [
    {
     "name": "stdout",
     "output_type": "stream",
     "text": [
      "[('POSITIVO', 'bovesp dispar ultrapass mil pont após datafolh valor econôm'), ('POSITIVO', 'amor human men egoíst mais pur desinteress amor amizad'), ('POSITIVO', 'pmg autor roub pres veícul produt crim recuper'), ('POSITIVO', 'govern min entreg veícul transport escol municípi'), ('NEGATIVO', 'após mort menin dois escol interdit exam indic garot hepatit suspeit águ contamin')]\n",
      "--------------------\n",
      "[('NEUTRO', 'josleitepereir tem alter program social lul dilm politic estar min'), ('POSITIVO', 'govern min entreg veícul transport escol municípi'), ('POSITIVO', 'pmg veícul produt roub localiz'), ('POSITIVO', 'detran realiz açõ educ trânsit mês carnaval'), ('NEGATIVO', 'capit govern pôr sigil dar sobr vos pimentel')]\n",
      "--------------------\n",
      "[('POSITIVO', 'macei faz campanh contr aids joã secretari municipal distribu cartilh preserv durant fest exam ser realiz capital alagoan'), ('NEGATIVO', 'sistem cantareir registr nov qued águ reservatóri notíc paul'), ('NEGATIVO', 'cad rejeit recurs interpor anhangu mult mil'), ('NEUTRO', 'reaçã merc dilm defend contrat petrobr merc folh paul'), ('POSITIVO', 'impression professor univers exterior')]\n"
     ]
    }
   ],
   "source": [
    "#Carrega os datasets em separado\n",
    "tweets_mg = carregar(f'{path}tweets_mg_tratados.csv')\n",
    "shuffle(tweets_mg)\n",
    "titulo_noticias = carregar(f'{path}titulo_noticias.txt')\n",
    "shuffle(titulo_noticias)\n",
    "\n",
    "frases = tweets_mg + titulo_noticias\n",
    "shuffle(frases)\n",
    "\n",
    "print(frases[:5])\n",
    "print('-' * 20)\n",
    "print(tweets_mg[:5])\n",
    "print('-' * 20)\n",
    "print(titulo_noticias[:5])"
   ]
  },
  {
   "cell_type": "code",
   "execution_count": 27,
   "metadata": {
    "ExecuteTime": {
     "end_time": "2018-11-25T12:52:53.334294Z",
     "start_time": "2018-11-25T12:52:53.306616Z"
    }
   },
   "outputs": [],
   "source": [
    "def carregar(filename):\n",
    "    frases = []\n",
    "    with open(filename, 'r', encoding='utf-8') as h:\n",
    "        reader = csv.reader(h, delimiter='|')\n",
    "        for row in reader:\n",
    "            frase = ' '.join(row[0].strip().splitlines())\n",
    "            valencia = row[1].upper()\n",
    "            if len(frase) > 5:\n",
    "                frases.append((valencia, frase))\n",
    "    return frases\n",
    "\n",
    "titulo_noticias2 = carregar(f'{path}titulo_noticias.txt')\n",
    "only_neutro = []\n",
    "for sent, new in titulo_noticias2:\n",
    "    if sent == 'NEUTRO':\n",
    "        only_neutro.append(new)\n",
    "with open(f'{path}titulo_noticias_neutro.txt', 'w') as h:\n",
    "    for k in only_neutro:\n",
    "        h.write(f'{k}|NEUTRO\\n')"
   ]
  },
  {
   "cell_type": "code",
   "execution_count": 28,
   "metadata": {
    "ExecuteTime": {
     "end_time": "2018-11-25T12:52:53.488197Z",
     "start_time": "2018-11-25T12:52:53.336968Z"
    },
    "colab": {
     "base_uri": "https://localhost:8080/",
     "height": 139
    },
    "colab_type": "code",
    "id": "yJbG_ck5i8rI",
    "outputId": "8d2f6682-e474-43bc-8da5-2c1a6db52619"
   },
   "outputs": [
    {
     "name": "stdout",
     "output_type": "stream",
     "text": [
      "['bovesp dispar ultrapass mil pont após datafolh valor econôm', 'amor human men egoíst mais pur desinteress amor amizad', 'pmg autor roub pres veícul produt crim recuper', 'govern min entreg veícul transport escol municípi', 'após mort menin dois escol interdit exam indic garot hepatit suspeit águ contamin']\n",
      "['POSITIVO', 'POSITIVO', 'POSITIVO', 'POSITIVO', 'NEGATIVO']\n",
      "--------------------\n",
      "['josleitepereir tem alter program social lul dilm politic estar min', 'govern min entreg veícul transport escol municípi', 'pmg veícul produt roub localiz', 'detran realiz açõ educ trânsit mês carnaval', 'capit govern pôr sigil dar sobr vos pimentel']\n",
      "['NEUTRO', 'POSITIVO', 'POSITIVO', 'POSITIVO', 'NEGATIVO']\n",
      "--------------------\n",
      "['macei faz campanh contr aids joã secretari municipal distribu cartilh preserv durant fest exam ser realiz capital alagoan', 'sistem cantareir registr nov qued águ reservatóri notíc paul', 'cad rejeit recurs interpor anhangu mult mil', 'reaçã merc dilm defend contrat petrobr merc folh paul', 'impression professor univers exterior']\n",
      "['POSITIVO', 'NEGATIVO', 'NEGATIVO', 'NEUTRO', 'POSITIVO']\n"
     ]
    }
   ],
   "source": [
    "#all_datasets\n",
    "afrases = []\n",
    "avalencias = []\n",
    "for valencia, frase in frases:\n",
    "    afrases.append(frase)\n",
    "    avalencias.append(valencia)\n",
    "    \n",
    "print(afrases[:5])\n",
    "print(avalencias[:5])\n",
    "print('-' * 20)\n",
    "\n",
    "#tweets_mg\n",
    "atweets_mg = []\n",
    "aval_tweets_mg = []\n",
    "for valencia, frase in tweets_mg:\n",
    "    atweets_mg.append(frase)\n",
    "    aval_tweets_mg.append(valencia)\n",
    "\n",
    "print(atweets_mg[:5])\n",
    "print(aval_tweets_mg[:5])\n",
    "print('-' * 20)\n",
    "\n",
    "#titulo_noticias\n",
    "atitulo_noticias = []\n",
    "aval_titulo_noticias = []\n",
    "for valencia, frase in titulo_noticias:\n",
    "    atitulo_noticias.append(frase)\n",
    "    aval_titulo_noticias.append(valencia)\n",
    "\n",
    "print(atitulo_noticias[:5])\n",
    "print(aval_titulo_noticias[:5])"
   ]
  },
  {
   "cell_type": "code",
   "execution_count": 29,
   "metadata": {
    "ExecuteTime": {
     "end_time": "2018-11-25T12:52:53.595012Z",
     "start_time": "2018-11-25T12:52:53.490879Z"
    },
    "colab": {},
    "colab_type": "code",
    "id": "UicV1eOVjX2Q"
   },
   "outputs": [],
   "source": [
    "def run_ml_model(model, X_train, y_train, X_test, y_test):\n",
    "    model.fit(X_train, y_train)\n",
    "    accuracy = np.round(model.score(X_test, y_test) * 100, 2)\n",
    "    print(f'Modelo   : {model.__class__.__name__}')\n",
    "    print(f'Acurácia : {accuracy}%')\n",
    "    print('-' * 20)\n",
    "    return accuracy\n",
    "\n",
    "def split_data(X, y):\n",
    "    test_size = .33\n",
    "    random_state = 0\n",
    "    X_train, X_test, y_train, y_test = train_test_split(X, y, test_size=test_size, random_state=random_state)\n",
    "    return {\n",
    "        'X_train': X_train,\n",
    "        'y_train': y_train,\n",
    "        'X_test': X_test,\n",
    "        'y_test': y_test\n",
    "    }"
   ]
  },
  {
   "cell_type": "markdown",
   "metadata": {
    "colab_type": "text",
    "id": "k94TjXIfjjF6"
   },
   "source": [
    "## Classificadores"
   ]
  },
  {
   "cell_type": "code",
   "execution_count": 30,
   "metadata": {
    "ExecuteTime": {
     "end_time": "2018-11-25T12:52:53.683219Z",
     "start_time": "2018-11-25T12:52:53.602721Z"
    },
    "colab": {},
    "colab_type": "code",
    "id": "D-xa0I3PjexY"
   },
   "outputs": [],
   "source": [
    "classifiers = (\n",
    "    MultinomialNB(),\n",
    "    ComplementNB(),\n",
    "    LogisticRegression(multi_class='auto', solver='lbfgs'),\n",
    "    RandomForestClassifier(n_estimators=50, min_samples_split=5, random_state=0),\n",
    "    KNeighborsClassifier(n_neighbors=8, algorithm='auto'),\n",
    "    MLPClassifier(hidden_layer_sizes=(100, 25), max_iter=500, random_state=0),\n",
    "    LinearSVC(max_iter=500),\n",
    "    SVC(gamma='auto', max_iter=500),\n",
    ")"
   ]
  },
  {
   "cell_type": "markdown",
   "metadata": {
    "colab_type": "text",
    "id": "8T0sft8Ujwki"
   },
   "source": [
    "## TF-IDF"
   ]
  },
  {
   "cell_type": "code",
   "execution_count": 31,
   "metadata": {
    "ExecuteTime": {
     "end_time": "2018-11-25T12:52:54.294129Z",
     "start_time": "2018-11-25T12:52:53.684964Z"
    },
    "colab": {},
    "colab_type": "code",
    "id": "g9TiaAoGjvPj"
   },
   "outputs": [],
   "source": [
    "vec_tfidf = TfidfVectorizer(ngram_range=(1, 2))\n",
    "X_tfidf = vec_tfidf.fit_transform(afrases)\n",
    "\n",
    "vec_tfidf_tmg = TfidfVectorizer(ngram_range=(1, 2))\n",
    "X_tfidf_tmg = vec_tfidf_tmg.fit_transform(atweets_mg)\n",
    "\n",
    "vec_tfidf_tn = TfidfVectorizer(ngram_range=(1, 2))\n",
    "X_tfidf_tn = vec_tfidf_tn.fit_transform(atitulo_noticias)"
   ]
  },
  {
   "cell_type": "code",
   "execution_count": 32,
   "metadata": {
    "ExecuteTime": {
     "end_time": "2018-11-25T13:02:01.082547Z",
     "start_time": "2018-11-25T12:52:54.295937Z"
    },
    "colab": {
     "base_uri": "https://localhost:8080/",
     "height": 1037
    },
    "colab_type": "code",
    "id": "1keF94erj8UT",
    "outputId": "2c5c1870-cf5f-4f72-8f2d-c0b48bf05bcb"
   },
   "outputs": [
    {
     "name": "stdout",
     "output_type": "stream",
     "text": [
      "\n",
      "all_datasets\n",
      "Modelo   : MultinomialNB\n",
      "Acurácia : 58.3%\n",
      "--------------------\n",
      "Modelo   : ComplementNB\n",
      "Acurácia : 63.19%\n",
      "--------------------\n",
      "Modelo   : LogisticRegression\n",
      "Acurácia : 62.68%\n",
      "--------------------\n",
      "Modelo   : RandomForestClassifier\n",
      "Acurácia : 62.38%\n",
      "--------------------\n",
      "Modelo   : KNeighborsClassifier\n",
      "Acurácia : 58.9%\n",
      "--------------------\n",
      "Modelo   : MLPClassifier\n",
      "Acurácia : 62.33%\n",
      "--------------------\n",
      "Modelo   : LinearSVC\n",
      "Acurácia : 64.65%\n",
      "--------------------\n",
      "Modelo   : SVC\n",
      "Acurácia : 54.01%\n",
      "--------------------\n",
      "\n",
      "tweets_mg\n",
      "Modelo   : MultinomialNB\n",
      "Acurácia : 64.71%\n",
      "--------------------\n",
      "Modelo   : ComplementNB\n",
      "Acurácia : 62.08%\n",
      "--------------------\n",
      "Modelo   : LogisticRegression\n",
      "Acurácia : 66.73%\n",
      "--------------------\n",
      "Modelo   : RandomForestClassifier\n",
      "Acurácia : 65.93%\n",
      "--------------------\n",
      "Modelo   : KNeighborsClassifier\n",
      "Acurácia : 63.8%\n",
      "--------------------\n",
      "Modelo   : MLPClassifier\n",
      "Acurácia : 65.02%\n",
      "--------------------\n",
      "Modelo   : LinearSVC\n",
      "Acurácia : 66.13%\n",
      "--------------------\n",
      "Modelo   : SVC\n",
      "Acurácia : 62.89%\n",
      "--------------------\n",
      "\n",
      "titulo_noticias\n",
      "Modelo   : MultinomialNB\n",
      "Acurácia : 65.28%\n",
      "--------------------\n",
      "Modelo   : ComplementNB\n",
      "Acurácia : 66.47%\n",
      "--------------------\n",
      "Modelo   : LogisticRegression\n",
      "Acurácia : 66.77%\n",
      "--------------------\n",
      "Modelo   : RandomForestClassifier\n",
      "Acurácia : 63.56%\n",
      "--------------------\n",
      "Modelo   : KNeighborsClassifier\n",
      "Acurácia : 62.74%\n",
      "--------------------\n",
      "Modelo   : MLPClassifier\n",
      "Acurácia : 66.32%\n",
      "--------------------\n",
      "Modelo   : LinearSVC\n",
      "Acurácia : 69.0%\n",
      "--------------------\n",
      "Modelo   : SVC\n",
      "Acurácia : 52.76%\n",
      "--------------------\n"
     ]
    }
   ],
   "source": [
    "print(\"\\nall_datasets\")\n",
    "for classifier in classifiers:\n",
    "    try:\n",
    "        acc = run_ml_model(classifier, **split_data(X_tfidf, avalencias))\n",
    "        matriz_resultados['all']['tfidf'][classifier.__class__.__name__] = acc\n",
    "    except:\n",
    "        pass\n",
    "\n",
    "print(\"\\ntweets_mg\")\n",
    "for classifier in classifiers:\n",
    "    try:\n",
    "        acc = run_ml_model(classifier, **split_data(X_tfidf_tmg, aval_tweets_mg))\n",
    "        matriz_resultados['tweets']['tfidf'][classifier.__class__.__name__] = acc\n",
    "    except:\n",
    "        pass\n",
    "\n",
    "print(\"\\ntitulo_noticias\")\n",
    "for classifier in classifiers:\n",
    "    try:\n",
    "        acc = run_ml_model(classifier, **split_data(X_tfidf_tn, aval_titulo_noticias))\n",
    "        matriz_resultados['titulo_noticias']['tfidf'][classifier.__class__.__name__] = acc\n",
    "    except:\n",
    "        pass      "
   ]
  },
  {
   "cell_type": "markdown",
   "metadata": {
    "colab_type": "text",
    "id": "Ny241RlukicC"
   },
   "source": [
    "## LSA (usando TF-IDF)"
   ]
  },
  {
   "cell_type": "code",
   "execution_count": 33,
   "metadata": {
    "ExecuteTime": {
     "end_time": "2018-11-25T13:02:46.545710Z",
     "start_time": "2018-11-25T13:02:01.084555Z"
    },
    "colab": {
     "base_uri": "https://localhost:8080/",
     "height": 1054
    },
    "colab_type": "code",
    "id": "C2B7FluMklZB",
    "outputId": "b867c791-ef17-4df6-9f27-6fb0870dacd1"
   },
   "outputs": [
    {
     "name": "stdout",
     "output_type": "stream",
     "text": [
      "\n",
      "all_datasets\n",
      "Modelo   : MultinomialNB\n",
      "Acurácia : 41.57%\n",
      "--------------------\n",
      "Modelo   : ComplementNB\n",
      "Acurácia : 52.51%\n",
      "--------------------\n",
      "Modelo   : LogisticRegression\n",
      "Acurácia : 56.33%\n",
      "--------------------\n",
      "Modelo   : RandomForestClassifier\n",
      "Acurácia : 59.42%\n",
      "--------------------\n",
      "Modelo   : KNeighborsClassifier\n",
      "Acurácia : 56.41%\n",
      "--------------------\n",
      "Modelo   : MLPClassifier\n",
      "Acurácia : 58.13%\n",
      "--------------------\n",
      "Modelo   : LinearSVC\n",
      "Acurácia : 57.4%\n",
      "--------------------\n",
      "Modelo   : SVC\n",
      "Acurácia : 41.4%\n",
      "--------------------\n",
      "\n",
      "tweets_mg\n",
      "Modelo   : MultinomialNB\n",
      "Acurácia : 46.31%\n",
      "--------------------\n",
      "Modelo   : ComplementNB\n",
      "Acurácia : 53.89%\n",
      "--------------------\n",
      "Modelo   : LogisticRegression\n",
      "Acurácia : 67.24%\n",
      "--------------------\n",
      "Modelo   : RandomForestClassifier\n",
      "Acurácia : 64.11%\n",
      "--------------------\n",
      "Modelo   : KNeighborsClassifier\n",
      "Acurácia : 62.18%\n",
      "--------------------\n",
      "Modelo   : MLPClassifier\n",
      "Acurácia : 66.33%\n",
      "--------------------\n",
      "Modelo   : LinearSVC\n",
      "Acurácia : 67.54%\n",
      "--------------------\n",
      "Modelo   : SVC\n",
      "Acurácia : 47.22%\n",
      "--------------------\n",
      "\n",
      "titulo_noticias\n",
      "Modelo   : MultinomialNB\n",
      "Acurácia : 47.09%\n",
      "--------------------\n",
      "Modelo   : ComplementNB\n",
      "Acurácia : 57.75%\n",
      "--------------------\n",
      "Modelo   : LogisticRegression\n",
      "Acurácia : 64.61%\n",
      "--------------------\n",
      "Modelo   : RandomForestClassifier\n",
      "Acurácia : 62.37%\n",
      "--------------------\n",
      "Modelo   : KNeighborsClassifier\n",
      "Acurácia : 55.66%\n",
      "--------------------\n",
      "Modelo   : MLPClassifier\n",
      "Acurácia : 62.44%\n",
      "--------------------\n",
      "Modelo   : LinearSVC\n",
      "Acurácia : 64.61%\n",
      "--------------------\n",
      "Modelo   : SVC\n",
      "Acurácia : 44.49%\n",
      "--------------------\n"
     ]
    }
   ],
   "source": [
    "#all_datasets\n",
    "svd = TruncatedSVD(n_components=70, n_iter=50, random_state=0)\n",
    "normalizer = MinMaxScaler(copy=False)\n",
    "lsa = make_pipeline(svd, normalizer)\n",
    "X_svd = lsa.fit_transform(X_tfidf)\n",
    "\n",
    "print(\"\\nall_datasets\")\n",
    "for classifier in classifiers:\n",
    "    try:\n",
    "        acc = run_ml_model(classifier, **split_data(X_svd, avalencias))\n",
    "        matriz_resultados['all']['tfidf+lsa'][classifier.__class__.__name__] = acc\n",
    "    except Exception as e:\n",
    "        print(e)\n",
    "\n",
    "#tweets_mg\n",
    "X_svd = lsa.fit_transform(X_tfidf_tmg)\n",
    "\n",
    "print(\"\\ntweets_mg\")\n",
    "for classifier in classifiers:\n",
    "    try:\n",
    "        acc = run_ml_model(classifier, **split_data(X_svd, aval_tweets_mg))\n",
    "        matriz_resultados['tweets']['tfidf+lsa'][classifier.__class__.__name__] = acc\n",
    "    except:\n",
    "        pass\n",
    "\n",
    "\n",
    "#titulo_noticias\n",
    "X_svd = lsa.fit_transform(X_tfidf_tn)\n",
    "\n",
    "print(\"\\ntitulo_noticias\")\n",
    "for classifier in classifiers:\n",
    "    try:\n",
    "        acc = run_ml_model(classifier, **split_data(X_svd, aval_titulo_noticias))\n",
    "        matriz_resultados['titulo_noticias']['tfidf+lsa'][classifier.__class__.__name__] = acc\n",
    "    except:\n",
    "        pass"
   ]
  },
  {
   "cell_type": "markdown",
   "metadata": {
    "colab_type": "text",
    "id": "6gV9r8SSlNUd"
   },
   "source": [
    "## LDA (usando TF-IDF)"
   ]
  },
  {
   "cell_type": "code",
   "execution_count": 34,
   "metadata": {
    "ExecuteTime": {
     "end_time": "2018-11-25T13:05:31.169608Z",
     "start_time": "2018-11-25T13:02:46.548507Z"
    },
    "colab": {
     "base_uri": "https://localhost:8080/",
     "height": 1037
    },
    "colab_type": "code",
    "id": "hYzcOnavlS6o",
    "outputId": "c3065879-7b29-48ea-ca7a-001316da7f0a"
   },
   "outputs": [
    {
     "name": "stdout",
     "output_type": "stream",
     "text": [
      "\n",
      "all_datasets\n",
      "Modelo   : MultinomialNB\n",
      "Acurácia : 43.03%\n",
      "--------------------\n",
      "Modelo   : ComplementNB\n",
      "Acurácia : 43.37%\n",
      "--------------------\n",
      "Modelo   : LogisticRegression\n",
      "Acurácia : 44.36%\n",
      "--------------------\n",
      "Modelo   : RandomForestClassifier\n",
      "Acurácia : 45.35%\n",
      "--------------------\n",
      "Modelo   : KNeighborsClassifier\n",
      "Acurácia : 41.61%\n",
      "--------------------\n",
      "Modelo   : MLPClassifier\n",
      "Acurácia : 43.97%\n",
      "--------------------\n",
      "Modelo   : LinearSVC\n",
      "Acurácia : 44.1%\n",
      "--------------------\n",
      "Modelo   : SVC\n",
      "Acurácia : 42.43%\n",
      "--------------------\n",
      "\n",
      "tweets_mg\n",
      "Modelo   : MultinomialNB\n",
      "Acurácia : 53.49%\n",
      "--------------------\n",
      "Modelo   : ComplementNB\n",
      "Acurácia : 49.95%\n",
      "--------------------\n",
      "Modelo   : LogisticRegression\n",
      "Acurácia : 53.29%\n",
      "--------------------\n",
      "Modelo   : RandomForestClassifier\n",
      "Acurácia : 51.77%\n",
      "--------------------\n",
      "Modelo   : KNeighborsClassifier\n",
      "Acurácia : 49.24%\n",
      "--------------------\n",
      "Modelo   : MLPClassifier\n",
      "Acurácia : 49.44%\n",
      "--------------------\n",
      "Modelo   : LinearSVC\n",
      "Acurácia : 52.88%\n",
      "--------------------\n",
      "Modelo   : SVC\n",
      "Acurácia : 46.41%\n",
      "--------------------\n",
      "\n",
      "titulo_noticias\n",
      "Modelo   : MultinomialNB\n",
      "Acurácia : 46.5%\n",
      "--------------------\n",
      "Modelo   : ComplementNB\n",
      "Acurácia : 41.43%\n",
      "--------------------\n",
      "Modelo   : LogisticRegression\n",
      "Acurácia : 46.5%\n",
      "--------------------\n",
      "Modelo   : RandomForestClassifier\n",
      "Acurácia : 48.44%\n",
      "--------------------\n",
      "Modelo   : KNeighborsClassifier\n",
      "Acurácia : 43.89%\n",
      "--------------------\n",
      "Modelo   : MLPClassifier\n",
      "Acurácia : 46.42%\n",
      "--------------------\n",
      "Modelo   : LinearSVC\n",
      "Acurácia : 46.72%\n",
      "--------------------\n",
      "Modelo   : SVC\n",
      "Acurácia : 43.0%\n",
      "--------------------\n"
     ]
    }
   ],
   "source": [
    "#all_datasets\n",
    "lda = LatentDirichletAllocation(n_components=70, max_iter=50, random_state=0, n_jobs=5)\n",
    "normalizer = MinMaxScaler(copy=False)\n",
    "lda = make_pipeline(lda, normalizer)\n",
    "X_lda = lda.fit_transform(X_tfidf)\n",
    "\n",
    "print(\"\\nall_datasets\")\n",
    "for classifier in classifiers:\n",
    "    try:\n",
    "        acc = run_ml_model(classifier, **split_data(X_lda, avalencias))\n",
    "        matriz_resultados['all']['tfidf+lda'][classifier.__class__.__name__] = acc\n",
    "    except:\n",
    "        pass\n",
    "\n",
    "\n",
    "#tweets_mg\n",
    "X_lda = lda.fit_transform(X_tfidf_tmg)\n",
    "\n",
    "print(\"\\ntweets_mg\")\n",
    "for classifier in classifiers:\n",
    "    try:\n",
    "        acc = run_ml_model(classifier, **split_data(X_lda, aval_tweets_mg))\n",
    "        matriz_resultados['tweets']['tfidf+lda'][classifier.__class__.__name__] = acc\n",
    "    except:\n",
    "        pass\n",
    "\n",
    "\n",
    "#titulo_noticias\n",
    "X_lda = lda.fit_transform(X_tfidf_tn)\n",
    "\n",
    "print(\"\\ntitulo_noticias\")\n",
    "for classifier in classifiers:\n",
    "    try:\n",
    "        acc = run_ml_model(classifier, **split_data(X_lda, aval_titulo_noticias))\n",
    "        matriz_resultados['titulo_noticias']['tfidf+lda'][classifier.__class__.__name__] = acc\n",
    "    except:\n",
    "        pass"
   ]
  },
  {
   "cell_type": "markdown",
   "metadata": {
    "colab_type": "text",
    "id": "xyJKv6JUlhox"
   },
   "source": [
    "## Count"
   ]
  },
  {
   "cell_type": "code",
   "execution_count": 35,
   "metadata": {
    "ExecuteTime": {
     "end_time": "2018-11-25T13:09:55.595217Z",
     "start_time": "2018-11-25T13:05:31.172039Z"
    },
    "colab": {
     "base_uri": "https://localhost:8080/",
     "height": 1037
    },
    "colab_type": "code",
    "id": "bohbg-sHlgop",
    "outputId": "336629b8-a138-423d-9fd2-39e6aa3dae24"
   },
   "outputs": [
    {
     "name": "stdout",
     "output_type": "stream",
     "text": [
      "\n",
      "all_datasets\n",
      "Modelo   : MultinomialNB\n",
      "Acurácia : 62.98%\n",
      "--------------------\n",
      "Modelo   : ComplementNB\n",
      "Acurácia : 63.06%\n",
      "--------------------\n",
      "Modelo   : LogisticRegression\n",
      "Acurácia : 64.39%\n",
      "--------------------\n",
      "Modelo   : RandomForestClassifier\n",
      "Acurácia : 63.23%\n",
      "--------------------\n",
      "Modelo   : KNeighborsClassifier\n",
      "Acurácia : 32.52%\n",
      "--------------------\n",
      "Modelo   : MLPClassifier\n",
      "Acurácia : 62.68%\n",
      "--------------------\n",
      "Modelo   : LinearSVC\n",
      "Acurácia : 63.19%\n",
      "--------------------\n",
      "Modelo   : SVC\n",
      "Acurácia : 43.8%\n",
      "--------------------\n",
      "\n",
      "tweets_mg\n",
      "Modelo   : MultinomialNB\n",
      "Acurácia : 61.98%\n",
      "--------------------\n",
      "Modelo   : ComplementNB\n",
      "Acurácia : 60.57%\n",
      "--------------------\n",
      "Modelo   : LogisticRegression\n",
      "Acurácia : 65.62%\n",
      "--------------------\n",
      "Modelo   : RandomForestClassifier\n",
      "Acurácia : 66.63%\n",
      "--------------------\n",
      "Modelo   : KNeighborsClassifier\n",
      "Acurácia : 53.89%\n",
      "--------------------\n",
      "Modelo   : MLPClassifier\n",
      "Acurácia : 65.12%\n",
      "--------------------\n",
      "Modelo   : LinearSVC\n",
      "Acurácia : 65.52%\n",
      "--------------------\n",
      "Modelo   : SVC\n",
      "Acurácia : 46.11%\n",
      "--------------------\n",
      "\n",
      "titulo_noticias\n",
      "Modelo   : MultinomialNB\n",
      "Acurácia : 65.87%\n",
      "--------------------\n",
      "Modelo   : ComplementNB\n",
      "Acurácia : 60.88%\n",
      "--------------------\n",
      "Modelo   : LogisticRegression\n",
      "Acurácia : 68.55%\n",
      "--------------------\n",
      "Modelo   : RandomForestClassifier\n",
      "Acurácia : 63.34%\n",
      "--------------------\n",
      "Modelo   : KNeighborsClassifier\n",
      "Acurácia : 49.7%\n",
      "--------------------\n",
      "Modelo   : MLPClassifier\n",
      "Acurácia : 66.24%\n",
      "--------------------\n",
      "Modelo   : LinearSVC\n",
      "Acurácia : 67.36%\n",
      "--------------------\n",
      "Modelo   : SVC\n",
      "Acurácia : 45.6%\n",
      "--------------------\n"
     ]
    }
   ],
   "source": [
    "#all_datasets\n",
    "vec_count = CountVectorizer(ngram_range=(1, 2))\n",
    "X_count = vec_count.fit_transform(afrases)\n",
    "\n",
    "print(\"\\nall_datasets\")\n",
    "for classifier in classifiers:\n",
    "    try:\n",
    "        acc = run_ml_model(classifier, **split_data(X_count, avalencias))\n",
    "        matriz_resultados['all']['count'][classifier.__class__.__name__] = acc\n",
    "    except:\n",
    "        pass\n",
    "\n",
    "      \n",
    "#tweets_mg\n",
    "vec_count = CountVectorizer(ngram_range=(1, 2))\n",
    "X_count_tmg = vec_count.fit_transform(atweets_mg)\n",
    "\n",
    "print(\"\\ntweets_mg\")\n",
    "for classifier in classifiers:\n",
    "    try:\n",
    "        acc = run_ml_model(classifier, **split_data(X_count_tmg, aval_tweets_mg))\n",
    "        matriz_resultados['tweets']['count'][classifier.__class__.__name__] = acc\n",
    "    except:\n",
    "        pass\n",
    "      \n",
    "      \n",
    "#titulo_noticias\n",
    "vec_count = CountVectorizer(ngram_range=(1, 2))\n",
    "X_count_tn = vec_count.fit_transform(atitulo_noticias)\n",
    "\n",
    "print(\"\\ntitulo_noticias\")\n",
    "for classifier in classifiers:\n",
    "    try:\n",
    "        acc = run_ml_model(classifier, **split_data(X_count_tn, aval_titulo_noticias))\n",
    "        matriz_resultados['titulo_noticias']['count'][classifier.__class__.__name__] = acc\n",
    "    except:\n",
    "        pass"
   ]
  },
  {
   "cell_type": "markdown",
   "metadata": {
    "colab_type": "text",
    "id": "fyGZBGpklwRd"
   },
   "source": [
    "## LSA (usando Count)"
   ]
  },
  {
   "cell_type": "code",
   "execution_count": 36,
   "metadata": {
    "ExecuteTime": {
     "end_time": "2018-11-25T13:10:43.299887Z",
     "start_time": "2018-11-25T13:09:55.596854Z"
    },
    "colab": {
     "base_uri": "https://localhost:8080/",
     "height": 1037
    },
    "colab_type": "code",
    "id": "uUzc5Dr9lx9S",
    "outputId": "e40ec931-ab0c-474b-b065-2c543c487ada"
   },
   "outputs": [
    {
     "name": "stdout",
     "output_type": "stream",
     "text": [
      "\n",
      "all_datasets\n",
      "Modelo   : MultinomialNB\n",
      "Acurácia : 41.53%\n",
      "--------------------\n",
      "Modelo   : ComplementNB\n",
      "Acurácia : 47.58%\n",
      "--------------------\n",
      "Modelo   : LogisticRegression\n",
      "Acurácia : 58.04%\n",
      "--------------------\n",
      "Modelo   : RandomForestClassifier\n",
      "Acurácia : 58.43%\n",
      "--------------------\n",
      "Modelo   : KNeighborsClassifier\n",
      "Acurácia : 53.67%\n",
      "--------------------\n",
      "Modelo   : MLPClassifier\n",
      "Acurácia : 58.9%\n",
      "--------------------\n",
      "Modelo   : LinearSVC\n",
      "Acurácia : 57.79%\n",
      "--------------------\n",
      "Modelo   : SVC\n",
      "Acurácia : 43.63%\n",
      "--------------------\n",
      "\n",
      "tweets_mg\n",
      "Modelo   : MultinomialNB\n",
      "Acurácia : 53.59%\n",
      "--------------------\n",
      "Modelo   : ComplementNB\n",
      "Acurácia : 57.94%\n",
      "--------------------\n",
      "Modelo   : LogisticRegression\n",
      "Acurácia : 64.0%\n",
      "--------------------\n",
      "Modelo   : RandomForestClassifier\n",
      "Acurácia : 65.32%\n",
      "--------------------\n",
      "Modelo   : KNeighborsClassifier\n",
      "Acurácia : 64.21%\n",
      "--------------------\n",
      "Modelo   : MLPClassifier\n",
      "Acurácia : 66.33%\n",
      "--------------------\n",
      "Modelo   : LinearSVC\n",
      "Acurácia : 66.23%\n",
      "--------------------\n",
      "Modelo   : SVC\n",
      "Acurácia : 54.8%\n",
      "--------------------\n",
      "\n",
      "titulos_noticias\n",
      "Modelo   : MultinomialNB\n",
      "Acurácia : 46.65%\n",
      "--------------------\n",
      "Modelo   : ComplementNB\n",
      "Acurácia : 47.09%\n",
      "--------------------\n",
      "Modelo   : LogisticRegression\n",
      "Acurácia : 63.19%\n",
      "--------------------\n",
      "Modelo   : RandomForestClassifier\n",
      "Acurácia : 60.58%\n",
      "--------------------\n",
      "Modelo   : KNeighborsClassifier\n",
      "Acurácia : 56.04%\n",
      "--------------------\n",
      "Modelo   : MLPClassifier\n",
      "Acurácia : 62.3%\n",
      "--------------------\n",
      "Modelo   : LinearSVC\n",
      "Acurácia : 63.04%\n",
      "--------------------\n",
      "Modelo   : SVC\n",
      "Acurácia : 44.04%\n",
      "--------------------\n"
     ]
    }
   ],
   "source": [
    "#all_datasets\n",
    "svd = TruncatedSVD(n_components=70, n_iter=50, random_state=0)\n",
    "normalizer = MinMaxScaler(copy=False)\n",
    "lda = make_pipeline(svd, normalizer)\n",
    "X_svd = lda.fit_transform(X_count)\n",
    "\n",
    "print(\"\\nall_datasets\")\n",
    "for classifier in classifiers:\n",
    "    try:\n",
    "        acc = run_ml_model(classifier, **split_data(X_svd, avalencias))\n",
    "        matriz_resultados['all']['count+lsa'][classifier.__class__.__name__] = acc\n",
    "    except:\n",
    "        pass\n",
    "      \n",
    "\n",
    "#tweets_mg\n",
    "X_svd = lda.fit_transform(X_count_tmg)\n",
    "\n",
    "print(\"\\ntweets_mg\")\n",
    "for classifier in classifiers:\n",
    "    try:\n",
    "        acc = run_ml_model(classifier, **split_data(X_svd, aval_tweets_mg))\n",
    "        matriz_resultados['tweets']['count+lsa'][classifier.__class__.__name__] = acc\n",
    "    except:\n",
    "        pass\n",
    "      \n",
    "      \n",
    "#titulos_noticias\n",
    "X_svd = lda.fit_transform(X_count_tn)\n",
    "\n",
    "print(\"\\ntitulos_noticias\")\n",
    "for classifier in classifiers:\n",
    "    try:\n",
    "        acc = run_ml_model(classifier, **split_data(X_svd, aval_titulo_noticias))\n",
    "        matriz_resultados['titulo_noticias']['count+lsa'][classifier.__class__.__name__] = acc\n",
    "    except:\n",
    "        pass"
   ]
  },
  {
   "cell_type": "markdown",
   "metadata": {
    "colab_type": "text",
    "id": "fIN0NwXTmFva"
   },
   "source": [
    "## LDA (usando Count)"
   ]
  },
  {
   "cell_type": "code",
   "execution_count": 37,
   "metadata": {
    "ExecuteTime": {
     "end_time": "2018-11-25T13:13:27.987550Z",
     "start_time": "2018-11-25T13:10:43.301823Z"
    },
    "colab": {
     "base_uri": "https://localhost:8080/",
     "height": 1037
    },
    "colab_type": "code",
    "id": "MoMB5nY4mJwM",
    "outputId": "5eaf4044-4f8d-46a9-f699-71840fcd854d"
   },
   "outputs": [
    {
     "name": "stdout",
     "output_type": "stream",
     "text": [
      "\n",
      "all_datasets\n",
      "Modelo   : MultinomialNB\n",
      "Acurácia : 45.13%\n",
      "--------------------\n",
      "Modelo   : ComplementNB\n",
      "Acurácia : 43.41%\n",
      "--------------------\n",
      "Modelo   : LogisticRegression\n",
      "Acurácia : 46.16%\n",
      "--------------------\n",
      "Modelo   : RandomForestClassifier\n",
      "Acurácia : 48.22%\n",
      "--------------------\n",
      "Modelo   : KNeighborsClassifier\n",
      "Acurácia : 43.11%\n",
      "--------------------\n",
      "Modelo   : MLPClassifier\n",
      "Acurácia : 45.05%\n",
      "--------------------\n",
      "Modelo   : LinearSVC\n",
      "Acurácia : 46.29%\n",
      "--------------------\n",
      "Modelo   : SVC\n",
      "Acurácia : 43.33%\n",
      "--------------------\n",
      "\n",
      "tweets_mg\n",
      "Modelo   : MultinomialNB\n",
      "Acurácia : 57.63%\n",
      "--------------------\n",
      "Modelo   : ComplementNB\n",
      "Acurácia : 55.11%\n",
      "--------------------\n",
      "Modelo   : LogisticRegression\n",
      "Acurácia : 59.56%\n",
      "--------------------\n",
      "Modelo   : RandomForestClassifier\n",
      "Acurácia : 56.93%\n",
      "--------------------\n",
      "Modelo   : KNeighborsClassifier\n",
      "Acurácia : 52.78%\n",
      "--------------------\n",
      "Modelo   : MLPClassifier\n",
      "Acurácia : 56.52%\n",
      "--------------------\n",
      "Modelo   : LinearSVC\n",
      "Acurácia : 58.85%\n",
      "--------------------\n",
      "Modelo   : SVC\n",
      "Acurácia : 45.4%\n",
      "--------------------\n",
      "\n",
      "titulo_noticias\n",
      "Modelo   : MultinomialNB\n",
      "Acurácia : 46.05%\n",
      "--------------------\n",
      "Modelo   : ComplementNB\n",
      "Acurácia : 43.07%\n",
      "--------------------\n",
      "Modelo   : LogisticRegression\n",
      "Acurácia : 47.84%\n",
      "--------------------\n",
      "Modelo   : RandomForestClassifier\n",
      "Acurácia : 46.57%\n",
      "--------------------\n",
      "Modelo   : KNeighborsClassifier\n",
      "Acurácia : 46.35%\n",
      "--------------------\n",
      "Modelo   : MLPClassifier\n",
      "Acurácia : 45.6%\n",
      "--------------------\n",
      "Modelo   : LinearSVC\n",
      "Acurácia : 47.62%\n",
      "--------------------\n",
      "Modelo   : SVC\n",
      "Acurácia : 44.93%\n",
      "--------------------\n"
     ]
    }
   ],
   "source": [
    "#all_datasets\n",
    "lda = LatentDirichletAllocation(n_components=70, max_iter=50, random_state=0, n_jobs=5)\n",
    "normalizer = MinMaxScaler(copy=False)\n",
    "lda = make_pipeline(lda, normalizer)\n",
    "X_lda = lda.fit_transform(X_count)\n",
    "\n",
    "print(\"\\nall_datasets\")\n",
    "for classifier in classifiers:\n",
    "    try:\n",
    "        acc = run_ml_model(classifier, **split_data(X_lda, avalencias))\n",
    "        matriz_resultados['all']['count+lda'][classifier.__class__.__name__] = acc\n",
    "    except:\n",
    "        pass\n",
    "\n",
    "\n",
    "#tweets_mg\n",
    "X_lda = lda.fit_transform(X_count_tmg)\n",
    "\n",
    "print(\"\\ntweets_mg\")\n",
    "for classifier in classifiers:\n",
    "    try:\n",
    "        acc = run_ml_model(classifier, **split_data(X_lda, aval_tweets_mg))\n",
    "        matriz_resultados['tweets']['count+lda'][classifier.__class__.__name__] = acc\n",
    "    except:\n",
    "        pass\n",
    "      \n",
    "      \n",
    "#titulo_noticias\n",
    "X_lda = lda.fit_transform(X_count_tn)\n",
    "\n",
    "print(\"\\ntitulo_noticias\")\n",
    "for classifier in classifiers:\n",
    "    try:\n",
    "        acc = run_ml_model(classifier, **split_data(X_lda, aval_titulo_noticias))\n",
    "        matriz_resultados['titulo_noticias']['count+lda'][classifier.__class__.__name__] = acc\n",
    "    except:\n",
    "        pass"
   ]
  },
  {
   "cell_type": "markdown",
   "metadata": {
    "colab_type": "text",
    "id": "qRkHm_VjdG36"
   },
   "source": [
    "## Count + TF-IDF + Word2Vec"
   ]
  },
  {
   "cell_type": "code",
   "execution_count": 38,
   "metadata": {
    "ExecuteTime": {
     "end_time": "2018-11-25T13:19:20.950093Z",
     "start_time": "2018-11-25T13:13:27.989838Z"
    },
    "colab": {
     "base_uri": "https://localhost:8080/",
     "height": 34
    },
    "colab_type": "code",
    "id": "xgvYhs55dLsM",
    "outputId": "2c9cd2ce-e399-4381-ae30-ecfca12bc0ef"
   },
   "outputs": [
    {
     "data": {
      "text/plain": [
       "(65076275, 70428000)"
      ]
     },
     "execution_count": 38,
     "metadata": {},
     "output_type": "execute_result"
    }
   ],
   "source": [
    "#all_datasets\n",
    "# Count\n",
    "vec_count = CountVectorizer()\n",
    "X_count = vec_count.fit_transform(afrases)\n",
    "weights_count = pd.DataFrame(np.round(X_count.toarray().T, 8), index=vec_count.get_feature_names())\n",
    "\n",
    "# TF-IDF\n",
    "vec_tfidf = TfidfVectorizer()\n",
    "X_tfidf = vec_tfidf.fit_transform(afrases)\n",
    "weights_tfidf = pd.DataFrame(np.round(X_tfidf.toarray().T, 8), index=vec_tfidf.get_feature_names())\n",
    "\n",
    "# Word2Vec preprocessing\n",
    "frases_w2v = []\n",
    "for frase in afrases:\n",
    "    bigram = []\n",
    "    p_frase = word_tokenize(frase)\n",
    "    for m, palavra in enumerate(p_frase):\n",
    "        next_p = None\n",
    "        try:\n",
    "            next_p = p_frase[m+1]\n",
    "        except:\n",
    "            pass\n",
    "        bigram += [f'{palavra}']\n",
    "#         if next_p:\n",
    "#             bigram += [f'{palavra} {next_p}']\n",
    "    frases_w2v += [bigram]\n",
    "\n",
    "# Word2Vec\n",
    "model = gensim.models.Word2Vec(\n",
    "    sentences=frases_w2v,\n",
    "    sg=1,\n",
    "    hs=1,\n",
    "    size=1,\n",
    "    window=25,\n",
    "    min_count=1,\n",
    "    seed=0,\n",
    "    workers=10)\n",
    "model.train(frases_w2v, total_examples=len(frases_w2v), epochs=1000)"
   ]
  },
  {
   "cell_type": "code",
   "execution_count": 39,
   "metadata": {
    "ExecuteTime": {
     "end_time": "2018-11-25T13:28:31.275887Z",
     "start_time": "2018-11-25T13:19:20.952148Z"
    },
    "colab": {
     "base_uri": "https://localhost:8080/",
     "height": 306
    },
    "colab_type": "code",
    "id": "07BlXxa5h1_c",
    "outputId": "061a7282-3c97-4685-dbb1-9aa8162bc34f"
   },
   "outputs": [
    {
     "name": "stdout",
     "output_type": "stream",
     "text": [
      "\n",
      "all_datasets\n",
      "Modelo   : LogisticRegression\n",
      "Acurácia : 62.81%\n",
      "--------------------\n",
      "Modelo   : RandomForestClassifier\n",
      "Acurácia : 63.15%\n",
      "--------------------\n",
      "Modelo   : KNeighborsClassifier\n",
      "Acurácia : 60.23%\n",
      "--------------------\n",
      "Modelo   : MLPClassifier\n",
      "Acurácia : 59.16%\n",
      "--------------------\n",
      "Modelo   : LinearSVC\n",
      "Acurácia : 62.98%\n",
      "--------------------\n",
      "Modelo   : SVC\n",
      "Acurácia : 51.05%\n",
      "--------------------\n"
     ]
    }
   ],
   "source": [
    "#all_datasets\n",
    "r_words = {}\n",
    "for word in vec_count.get_feature_names():\n",
    "    idx = weights_count.index.get_loc(word)\n",
    "    w2c_val = .1\n",
    "    try:\n",
    "        w2c_val = model.wv[word]\n",
    "    except:\n",
    "        pass\n",
    "    r_words[word] = (weights_tfidf.iloc[idx].values + weights_count.iloc[idx].values) * w2c_val\n",
    "lwor = list(r_words.keys())\n",
    "X = np.asarray(list(r_words.values()))\n",
    "weights = pd.DataFrame(X, index=lwor)\n",
    "X = X.T\n",
    "\n",
    "normalizer = Normalizer(copy=False)\n",
    "X = normalizer.fit_transform(X)\n",
    "\n",
    "print(\"\\nall_datasets\")\n",
    "for classifier in classifiers:\n",
    "    try:\n",
    "        acc = run_ml_model(classifier, **split_data(X, avalencias))\n",
    "        matriz_resultados['all']['tfidf+count+w2c'][classifier.__class__.__name__] = acc\n",
    "    except:\n",
    "        pass"
   ]
  },
  {
   "cell_type": "code",
   "execution_count": 40,
   "metadata": {
    "ExecuteTime": {
     "end_time": "2018-11-25T13:30:18.292515Z",
     "start_time": "2018-11-25T13:28:31.278491Z"
    },
    "colab": {
     "base_uri": "https://localhost:8080/",
     "height": 34
    },
    "colab_type": "code",
    "id": "wPAWw7qtgY3g",
    "outputId": "decaf607-0583-4d80-dad1-e71abac53af4"
   },
   "outputs": [
    {
     "data": {
      "text/plain": [
       "(21303325, 26219000)"
      ]
     },
     "execution_count": 40,
     "metadata": {},
     "output_type": "execute_result"
    }
   ],
   "source": [
    "#tweets_mg\n",
    "# Count\n",
    "vec_count = CountVectorizer()\n",
    "X_count = vec_count.fit_transform(atweets_mg)\n",
    "weights_count = pd.DataFrame(np.round(X_count.toarray().T, 8), index=vec_count.get_feature_names())\n",
    "\n",
    "# TF-IDF\n",
    "vec_tfidf = TfidfVectorizer()\n",
    "X_tfidf = vec_tfidf.fit_transform(atweets_mg)\n",
    "weights_tfidf = pd.DataFrame(np.round(X_tfidf.toarray().T, 8), index=vec_tfidf.get_feature_names())\n",
    "\n",
    "# Word2Vec preprocessing\n",
    "frases_w2v = []\n",
    "for frase in atweets_mg:\n",
    "    bigram = []\n",
    "    p_frase = word_tokenize(frase)\n",
    "    for m, palavra in enumerate(p_frase):\n",
    "        next_p = None\n",
    "        try:\n",
    "            next_p = p_frase[m+1]\n",
    "        except:\n",
    "            pass\n",
    "        bigram += [f'{palavra}']\n",
    "#         if next_p:\n",
    "#             bigram += [f'{palavra} {next_p}']\n",
    "    frases_w2v += [bigram]\n",
    "\n",
    "# Word2Vec\n",
    "model = gensim.models.Word2Vec(\n",
    "    sentences=frases_w2v,\n",
    "    sg=1,\n",
    "    hs=1,\n",
    "    size=1,\n",
    "    window=25,\n",
    "    min_count=1,\n",
    "    seed=0,\n",
    "    workers=10)\n",
    "model.train(frases_w2v, total_examples=len(frases_w2v), epochs=1000)"
   ]
  },
  {
   "cell_type": "code",
   "execution_count": 41,
   "metadata": {
    "ExecuteTime": {
     "end_time": "2018-11-25T13:31:47.656766Z",
     "start_time": "2018-11-25T13:30:18.294305Z"
    },
    "colab": {
     "base_uri": "https://localhost:8080/",
     "height": 326
    },
    "colab_type": "code",
    "id": "HAytLOTZiRkF",
    "outputId": "79f1600e-0c4b-4bbd-f939-b616fd138470"
   },
   "outputs": [
    {
     "name": "stdout",
     "output_type": "stream",
     "text": [
      "\n",
      "tweets_mg\n",
      "Modelo   : LogisticRegression\n",
      "Acurácia : 66.23%\n",
      "--------------------\n",
      "Modelo   : RandomForestClassifier\n",
      "Acurácia : 66.23%\n",
      "--------------------\n",
      "Modelo   : KNeighborsClassifier\n",
      "Acurácia : 62.59%\n",
      "--------------------\n",
      "Modelo   : MLPClassifier\n",
      "Acurácia : 61.27%\n",
      "--------------------\n",
      "Modelo   : LinearSVC\n",
      "Acurácia : 65.22%\n",
      "--------------------\n",
      "Modelo   : SVC\n",
      "Acurácia : 64.31%\n",
      "--------------------\n"
     ]
    }
   ],
   "source": [
    "#tweets_mg\n",
    "r_words = {}\n",
    "for word in vec_count.get_feature_names():\n",
    "    idx = weights_count.index.get_loc(word)\n",
    "    w2c_val = .1\n",
    "    try:\n",
    "        w2c_val = model.wv[word]\n",
    "    except:\n",
    "        pass\n",
    "    r_words[word] = (weights_tfidf.iloc[idx].values + weights_count.iloc[idx].values) * w2c_val\n",
    "lwor = list(r_words.keys())\n",
    "X = np.asarray(list(r_words.values()))\n",
    "weights = pd.DataFrame(X, index=lwor)\n",
    "X = X.T\n",
    "\n",
    "normalizer = Normalizer(copy=False)\n",
    "X = normalizer.fit_transform(X)\n",
    "\n",
    "print(\"\\ntweets_mg\")\n",
    "for classifier in classifiers:\n",
    "    try:\n",
    "        acc = run_ml_model(classifier, **split_data(X, aval_tweets_mg))\n",
    "        matriz_resultados['tweets']['tfidf+count+w2c'][classifier.__class__.__name__] = acc\n",
    "    except:\n",
    "        pass"
   ]
  },
  {
   "cell_type": "code",
   "execution_count": 42,
   "metadata": {
    "ExecuteTime": {
     "end_time": "2018-11-25T13:36:03.980446Z",
     "start_time": "2018-11-25T13:31:47.659434Z"
    },
    "colab": {
     "base_uri": "https://localhost:8080/",
     "height": 34
    },
    "colab_type": "code",
    "id": "LGu8X9bxgZGI",
    "outputId": "5779fd2b-7993-4c12-eef9-9de872ec32f1"
   },
   "outputs": [
    {
     "data": {
      "text/plain": [
       "(41547220, 44209000)"
      ]
     },
     "execution_count": 42,
     "metadata": {},
     "output_type": "execute_result"
    }
   ],
   "source": [
    "#titulo_noticias\n",
    "# Count\n",
    "vec_count = CountVectorizer()\n",
    "X_count = vec_count.fit_transform(atitulo_noticias)\n",
    "weights_count = pd.DataFrame(np.round(X_count.toarray().T, 8), index=vec_count.get_feature_names())\n",
    "\n",
    "# TF-IDF\n",
    "vec_tfidf = TfidfVectorizer()\n",
    "X_tfidf = vec_tfidf.fit_transform(atitulo_noticias)\n",
    "weights_tfidf = pd.DataFrame(np.round(X_tfidf.toarray().T, 8), index=vec_tfidf.get_feature_names())\n",
    "\n",
    "# Word2Vec preprocessing\n",
    "frases_w2v = []\n",
    "for frase in atitulo_noticias:\n",
    "    bigram = []\n",
    "    p_frase = word_tokenize(frase)\n",
    "    for m, palavra in enumerate(p_frase):\n",
    "        next_p = None\n",
    "        try:\n",
    "            next_p = p_frase[m+1]\n",
    "        except:\n",
    "            pass\n",
    "        bigram += [f'{palavra}']\n",
    "#         if next_p:\n",
    "#             bigram += [f'{palavra} {next_p}']\n",
    "    frases_w2v += [bigram]\n",
    "\n",
    "# Word2Vec\n",
    "model = gensim.models.Word2Vec(\n",
    "    sentences=frases_w2v,\n",
    "    sg=1,\n",
    "    hs=1,\n",
    "    size=1,\n",
    "    window=25,\n",
    "    min_count=1,\n",
    "    seed=0,\n",
    "    workers=10)\n",
    "model.train(frases_w2v, total_examples=len(frases_w2v), epochs=1000)"
   ]
  },
  {
   "cell_type": "code",
   "execution_count": 43,
   "metadata": {
    "ExecuteTime": {
     "end_time": "2018-11-25T13:38:45.507108Z",
     "start_time": "2018-11-25T13:36:03.985049Z"
    },
    "colab": {
     "base_uri": "https://localhost:8080/",
     "height": 377
    },
    "colab_type": "code",
    "id": "vvKIhKXQif9K",
    "outputId": "76418614-74e3-4e4c-fae7-d5bff5cedc28"
   },
   "outputs": [
    {
     "name": "stdout",
     "output_type": "stream",
     "text": [
      "\n",
      "titulo_noticias\n",
      "Modelo   : MultinomialNB\n",
      "Acurácia : 65.57%\n",
      "--------------------\n",
      "Modelo   : ComplementNB\n",
      "Acurácia : 65.2%\n",
      "--------------------\n",
      "Modelo   : LogisticRegression\n",
      "Acurácia : 67.36%\n",
      "--------------------\n",
      "Modelo   : RandomForestClassifier\n",
      "Acurácia : 64.46%\n",
      "--------------------\n",
      "Modelo   : KNeighborsClassifier\n",
      "Acurácia : 61.4%\n",
      "--------------------\n",
      "Modelo   : MLPClassifier\n",
      "Acurácia : 65.42%\n",
      "--------------------\n",
      "Modelo   : LinearSVC\n",
      "Acurácia : 65.87%\n",
      "--------------------\n",
      "Modelo   : SVC\n",
      "Acurácia : 48.44%\n",
      "--------------------\n"
     ]
    }
   ],
   "source": [
    "#titulo_noticias\n",
    "r_words = {}\n",
    "for word in vec_count.get_feature_names():\n",
    "    idx = weights_count.index.get_loc(word)\n",
    "    w2c_val = .1\n",
    "    try:\n",
    "        w2c_val = model.wjv[word]\n",
    "    except:\n",
    "        pass\n",
    "    r_words[word] = (weights_tfidf.iloc[idx].values + weights_count.iloc[idx].values) * w2c_val\n",
    "lwor = list(r_words.keys())\n",
    "X = np.asarray(list(r_words.values()))\n",
    "weights = pd.DataFrame(X, index=lwor)\n",
    "X = X.T\n",
    "\n",
    "normalizer = Normalizer(copy=False)\n",
    "X = normalizer.fit_transform(X)\n",
    "\n",
    "print(\"\\ntitulo_noticias\")\n",
    "for classifier in classifiers:\n",
    "    try:\n",
    "        acc = run_ml_model(classifier, **split_data(X, aval_titulo_noticias))\n",
    "        matriz_resultados['titulo_noticias']['tfidf+count+w2c'][classifier.__class__.__name__] = acc\n",
    "    except:\n",
    "        pass"
   ]
  },
  {
   "cell_type": "markdown",
   "metadata": {},
   "source": [
    "### Resultado dos Classificadores"
   ]
  },
  {
   "cell_type": "markdown",
   "metadata": {},
   "source": [
    "#### Resultado dos Classificadores para todas as frases"
   ]
  },
  {
   "cell_type": "code",
   "execution_count": 44,
   "metadata": {
    "ExecuteTime": {
     "end_time": "2018-11-25T13:38:45.699843Z",
     "start_time": "2018-11-25T13:38:45.509518Z"
    }
   },
   "outputs": [
    {
     "data": {
      "text/html": [
       "<style  type=\"text/css\" >\n",
       "    #T_6e6a3f5a_f0b7_11e8_af9c_5cc9d364484drow2_col0 {\n",
       "            background-color:  green;\n",
       "             color:  white;\n",
       "             font-weight:  bold;\n",
       "        }    #T_6e6a3f5a_f0b7_11e8_af9c_5cc9d364484drow3_col3 {\n",
       "            background-color:  green;\n",
       "             color:  white;\n",
       "             font-weight:  bold;\n",
       "        }    #T_6e6a3f5a_f0b7_11e8_af9c_5cc9d364484drow4_col4 {\n",
       "            background-color:  green;\n",
       "             color:  white;\n",
       "             font-weight:  bold;\n",
       "        }    #T_6e6a3f5a_f0b7_11e8_af9c_5cc9d364484drow6_col1 {\n",
       "            background-color:  green;\n",
       "             color:  white;\n",
       "             font-weight:  bold;\n",
       "        }    #T_6e6a3f5a_f0b7_11e8_af9c_5cc9d364484drow6_col2 {\n",
       "            background-color:  green;\n",
       "             color:  white;\n",
       "             font-weight:  bold;\n",
       "        }    #T_6e6a3f5a_f0b7_11e8_af9c_5cc9d364484drow6_col5 {\n",
       "            background-color:  green;\n",
       "             color:  white;\n",
       "             font-weight:  bold;\n",
       "        }    #T_6e6a3f5a_f0b7_11e8_af9c_5cc9d364484drow6_col6 {\n",
       "            background-color:  green;\n",
       "             color:  white;\n",
       "             font-weight:  bold;\n",
       "        }</style>  \n",
       "<table id=\"T_6e6a3f5a_f0b7_11e8_af9c_5cc9d364484d\" > \n",
       "<thead>    <tr> \n",
       "        <th class=\"blank level0\" ></th> \n",
       "        <th class=\"col_heading level0 col0\" >tfidf</th> \n",
       "        <th class=\"col_heading level0 col1\" >tfidf+lsa</th> \n",
       "        <th class=\"col_heading level0 col2\" >tfidf+lda</th> \n",
       "        <th class=\"col_heading level0 col3\" >count</th> \n",
       "        <th class=\"col_heading level0 col4\" >count+lsa</th> \n",
       "        <th class=\"col_heading level0 col5\" >count+lda</th> \n",
       "        <th class=\"col_heading level0 col6\" >tfidf+count+w2c</th> \n",
       "    </tr></thead> \n",
       "<tbody>    <tr> \n",
       "        <th id=\"T_6e6a3f5a_f0b7_11e8_af9c_5cc9d364484dlevel0_row0\" class=\"row_heading level0 row0\" >ComplementNB</th> \n",
       "        <td id=\"T_6e6a3f5a_f0b7_11e8_af9c_5cc9d364484drow0_col0\" class=\"data row0 col0\" >63.19%</td> \n",
       "        <td id=\"T_6e6a3f5a_f0b7_11e8_af9c_5cc9d364484drow0_col1\" class=\"data row0 col1\" >52.51%</td> \n",
       "        <td id=\"T_6e6a3f5a_f0b7_11e8_af9c_5cc9d364484drow0_col2\" class=\"data row0 col2\" >43.37%</td> \n",
       "        <td id=\"T_6e6a3f5a_f0b7_11e8_af9c_5cc9d364484drow0_col3\" class=\"data row0 col3\" >63.06%</td> \n",
       "        <td id=\"T_6e6a3f5a_f0b7_11e8_af9c_5cc9d364484drow0_col4\" class=\"data row0 col4\" >47.58%</td> \n",
       "        <td id=\"T_6e6a3f5a_f0b7_11e8_af9c_5cc9d364484drow0_col5\" class=\"data row0 col5\" >43.41%</td> \n",
       "        <td id=\"T_6e6a3f5a_f0b7_11e8_af9c_5cc9d364484drow0_col6\" class=\"data row0 col6\" >0.00%</td> \n",
       "    </tr>    <tr> \n",
       "        <th id=\"T_6e6a3f5a_f0b7_11e8_af9c_5cc9d364484dlevel0_row1\" class=\"row_heading level0 row1\" >KNeighborsClassifier</th> \n",
       "        <td id=\"T_6e6a3f5a_f0b7_11e8_af9c_5cc9d364484drow1_col0\" class=\"data row1 col0\" >58.90%</td> \n",
       "        <td id=\"T_6e6a3f5a_f0b7_11e8_af9c_5cc9d364484drow1_col1\" class=\"data row1 col1\" >56.41%</td> \n",
       "        <td id=\"T_6e6a3f5a_f0b7_11e8_af9c_5cc9d364484drow1_col2\" class=\"data row1 col2\" >41.61%</td> \n",
       "        <td id=\"T_6e6a3f5a_f0b7_11e8_af9c_5cc9d364484drow1_col3\" class=\"data row1 col3\" >32.52%</td> \n",
       "        <td id=\"T_6e6a3f5a_f0b7_11e8_af9c_5cc9d364484drow1_col4\" class=\"data row1 col4\" >53.67%</td> \n",
       "        <td id=\"T_6e6a3f5a_f0b7_11e8_af9c_5cc9d364484drow1_col5\" class=\"data row1 col5\" >43.11%</td> \n",
       "        <td id=\"T_6e6a3f5a_f0b7_11e8_af9c_5cc9d364484drow1_col6\" class=\"data row1 col6\" >60.23%</td> \n",
       "    </tr>    <tr> \n",
       "        <th id=\"T_6e6a3f5a_f0b7_11e8_af9c_5cc9d364484dlevel0_row2\" class=\"row_heading level0 row2\" >LinearSVC</th> \n",
       "        <td id=\"T_6e6a3f5a_f0b7_11e8_af9c_5cc9d364484drow2_col0\" class=\"data row2 col0\" >64.65%</td> \n",
       "        <td id=\"T_6e6a3f5a_f0b7_11e8_af9c_5cc9d364484drow2_col1\" class=\"data row2 col1\" >57.40%</td> \n",
       "        <td id=\"T_6e6a3f5a_f0b7_11e8_af9c_5cc9d364484drow2_col2\" class=\"data row2 col2\" >44.10%</td> \n",
       "        <td id=\"T_6e6a3f5a_f0b7_11e8_af9c_5cc9d364484drow2_col3\" class=\"data row2 col3\" >63.19%</td> \n",
       "        <td id=\"T_6e6a3f5a_f0b7_11e8_af9c_5cc9d364484drow2_col4\" class=\"data row2 col4\" >57.79%</td> \n",
       "        <td id=\"T_6e6a3f5a_f0b7_11e8_af9c_5cc9d364484drow2_col5\" class=\"data row2 col5\" >46.29%</td> \n",
       "        <td id=\"T_6e6a3f5a_f0b7_11e8_af9c_5cc9d364484drow2_col6\" class=\"data row2 col6\" >62.98%</td> \n",
       "    </tr>    <tr> \n",
       "        <th id=\"T_6e6a3f5a_f0b7_11e8_af9c_5cc9d364484dlevel0_row3\" class=\"row_heading level0 row3\" >LogisticRegression</th> \n",
       "        <td id=\"T_6e6a3f5a_f0b7_11e8_af9c_5cc9d364484drow3_col0\" class=\"data row3 col0\" >62.68%</td> \n",
       "        <td id=\"T_6e6a3f5a_f0b7_11e8_af9c_5cc9d364484drow3_col1\" class=\"data row3 col1\" >56.33%</td> \n",
       "        <td id=\"T_6e6a3f5a_f0b7_11e8_af9c_5cc9d364484drow3_col2\" class=\"data row3 col2\" >44.36%</td> \n",
       "        <td id=\"T_6e6a3f5a_f0b7_11e8_af9c_5cc9d364484drow3_col3\" class=\"data row3 col3\" >64.39%</td> \n",
       "        <td id=\"T_6e6a3f5a_f0b7_11e8_af9c_5cc9d364484drow3_col4\" class=\"data row3 col4\" >58.04%</td> \n",
       "        <td id=\"T_6e6a3f5a_f0b7_11e8_af9c_5cc9d364484drow3_col5\" class=\"data row3 col5\" >46.16%</td> \n",
       "        <td id=\"T_6e6a3f5a_f0b7_11e8_af9c_5cc9d364484drow3_col6\" class=\"data row3 col6\" >62.81%</td> \n",
       "    </tr>    <tr> \n",
       "        <th id=\"T_6e6a3f5a_f0b7_11e8_af9c_5cc9d364484dlevel0_row4\" class=\"row_heading level0 row4\" >MLPClassifier</th> \n",
       "        <td id=\"T_6e6a3f5a_f0b7_11e8_af9c_5cc9d364484drow4_col0\" class=\"data row4 col0\" >62.33%</td> \n",
       "        <td id=\"T_6e6a3f5a_f0b7_11e8_af9c_5cc9d364484drow4_col1\" class=\"data row4 col1\" >58.13%</td> \n",
       "        <td id=\"T_6e6a3f5a_f0b7_11e8_af9c_5cc9d364484drow4_col2\" class=\"data row4 col2\" >43.97%</td> \n",
       "        <td id=\"T_6e6a3f5a_f0b7_11e8_af9c_5cc9d364484drow4_col3\" class=\"data row4 col3\" >62.68%</td> \n",
       "        <td id=\"T_6e6a3f5a_f0b7_11e8_af9c_5cc9d364484drow4_col4\" class=\"data row4 col4\" >58.90%</td> \n",
       "        <td id=\"T_6e6a3f5a_f0b7_11e8_af9c_5cc9d364484drow4_col5\" class=\"data row4 col5\" >45.05%</td> \n",
       "        <td id=\"T_6e6a3f5a_f0b7_11e8_af9c_5cc9d364484drow4_col6\" class=\"data row4 col6\" >59.16%</td> \n",
       "    </tr>    <tr> \n",
       "        <th id=\"T_6e6a3f5a_f0b7_11e8_af9c_5cc9d364484dlevel0_row5\" class=\"row_heading level0 row5\" >MultinomialNB</th> \n",
       "        <td id=\"T_6e6a3f5a_f0b7_11e8_af9c_5cc9d364484drow5_col0\" class=\"data row5 col0\" >58.30%</td> \n",
       "        <td id=\"T_6e6a3f5a_f0b7_11e8_af9c_5cc9d364484drow5_col1\" class=\"data row5 col1\" >41.57%</td> \n",
       "        <td id=\"T_6e6a3f5a_f0b7_11e8_af9c_5cc9d364484drow5_col2\" class=\"data row5 col2\" >43.03%</td> \n",
       "        <td id=\"T_6e6a3f5a_f0b7_11e8_af9c_5cc9d364484drow5_col3\" class=\"data row5 col3\" >62.98%</td> \n",
       "        <td id=\"T_6e6a3f5a_f0b7_11e8_af9c_5cc9d364484drow5_col4\" class=\"data row5 col4\" >41.53%</td> \n",
       "        <td id=\"T_6e6a3f5a_f0b7_11e8_af9c_5cc9d364484drow5_col5\" class=\"data row5 col5\" >45.13%</td> \n",
       "        <td id=\"T_6e6a3f5a_f0b7_11e8_af9c_5cc9d364484drow5_col6\" class=\"data row5 col6\" >0.00%</td> \n",
       "    </tr>    <tr> \n",
       "        <th id=\"T_6e6a3f5a_f0b7_11e8_af9c_5cc9d364484dlevel0_row6\" class=\"row_heading level0 row6\" >RandomForestClassifier</th> \n",
       "        <td id=\"T_6e6a3f5a_f0b7_11e8_af9c_5cc9d364484drow6_col0\" class=\"data row6 col0\" >62.38%</td> \n",
       "        <td id=\"T_6e6a3f5a_f0b7_11e8_af9c_5cc9d364484drow6_col1\" class=\"data row6 col1\" >59.42%</td> \n",
       "        <td id=\"T_6e6a3f5a_f0b7_11e8_af9c_5cc9d364484drow6_col2\" class=\"data row6 col2\" >45.35%</td> \n",
       "        <td id=\"T_6e6a3f5a_f0b7_11e8_af9c_5cc9d364484drow6_col3\" class=\"data row6 col3\" >63.23%</td> \n",
       "        <td id=\"T_6e6a3f5a_f0b7_11e8_af9c_5cc9d364484drow6_col4\" class=\"data row6 col4\" >58.43%</td> \n",
       "        <td id=\"T_6e6a3f5a_f0b7_11e8_af9c_5cc9d364484drow6_col5\" class=\"data row6 col5\" >48.22%</td> \n",
       "        <td id=\"T_6e6a3f5a_f0b7_11e8_af9c_5cc9d364484drow6_col6\" class=\"data row6 col6\" >63.15%</td> \n",
       "    </tr>    <tr> \n",
       "        <th id=\"T_6e6a3f5a_f0b7_11e8_af9c_5cc9d364484dlevel0_row7\" class=\"row_heading level0 row7\" >SVC</th> \n",
       "        <td id=\"T_6e6a3f5a_f0b7_11e8_af9c_5cc9d364484drow7_col0\" class=\"data row7 col0\" >54.01%</td> \n",
       "        <td id=\"T_6e6a3f5a_f0b7_11e8_af9c_5cc9d364484drow7_col1\" class=\"data row7 col1\" >41.40%</td> \n",
       "        <td id=\"T_6e6a3f5a_f0b7_11e8_af9c_5cc9d364484drow7_col2\" class=\"data row7 col2\" >42.43%</td> \n",
       "        <td id=\"T_6e6a3f5a_f0b7_11e8_af9c_5cc9d364484drow7_col3\" class=\"data row7 col3\" >43.80%</td> \n",
       "        <td id=\"T_6e6a3f5a_f0b7_11e8_af9c_5cc9d364484drow7_col4\" class=\"data row7 col4\" >43.63%</td> \n",
       "        <td id=\"T_6e6a3f5a_f0b7_11e8_af9c_5cc9d364484drow7_col5\" class=\"data row7 col5\" >43.33%</td> \n",
       "        <td id=\"T_6e6a3f5a_f0b7_11e8_af9c_5cc9d364484drow7_col6\" class=\"data row7 col6\" >51.05%</td> \n",
       "    </tr></tbody> \n",
       "</table> "
      ],
      "text/plain": [
       "<pandas.io.formats.style.Styler at 0x7ff125ea2860>"
      ]
     },
     "execution_count": 44,
     "metadata": {},
     "output_type": "execute_result"
    }
   ],
   "source": [
    "df = pd.DataFrame.from_dict(matriz_resultados['all'])\n",
    "df.style.apply(highlight_max).format({\n",
    "    'tfidf': '{:,.2f}%'.format,\n",
    "    'tfidf+lsa': '{:,.2f}%'.format,\n",
    "    'tfidf+lda': '{:,.2f}%'.format,\n",
    "    'count': '{:,.2f}%'.format,\n",
    "    'count+lsa': '{:,.2f}%'.format,\n",
    "    'count+lda': '{:,.2f}%'.format,\n",
    "    'tfidf+count+w2c': '{:,.2f}%'.format,\n",
    "})"
   ]
  },
  {
   "cell_type": "markdown",
   "metadata": {},
   "source": [
    "#### Resultado dos Classificadores para os Tweets MG"
   ]
  },
  {
   "cell_type": "code",
   "execution_count": 45,
   "metadata": {
    "ExecuteTime": {
     "end_time": "2018-11-25T13:38:45.823029Z",
     "start_time": "2018-11-25T13:38:45.701982Z"
    }
   },
   "outputs": [
    {
     "data": {
      "text/html": [
       "<style  type=\"text/css\" >\n",
       "    #T_6e6a3f5b_f0b7_11e8_af9c_5cc9d364484drow2_col1 {\n",
       "            background-color:  green;\n",
       "             color:  white;\n",
       "             font-weight:  bold;\n",
       "        }    #T_6e6a3f5b_f0b7_11e8_af9c_5cc9d364484drow3_col0 {\n",
       "            background-color:  green;\n",
       "             color:  white;\n",
       "             font-weight:  bold;\n",
       "        }    #T_6e6a3f5b_f0b7_11e8_af9c_5cc9d364484drow3_col5 {\n",
       "            background-color:  green;\n",
       "             color:  white;\n",
       "             font-weight:  bold;\n",
       "        }    #T_6e6a3f5b_f0b7_11e8_af9c_5cc9d364484drow3_col6 {\n",
       "            background-color:  green;\n",
       "             color:  white;\n",
       "             font-weight:  bold;\n",
       "        }    #T_6e6a3f5b_f0b7_11e8_af9c_5cc9d364484drow4_col4 {\n",
       "            background-color:  green;\n",
       "             color:  white;\n",
       "             font-weight:  bold;\n",
       "        }    #T_6e6a3f5b_f0b7_11e8_af9c_5cc9d364484drow5_col2 {\n",
       "            background-color:  green;\n",
       "             color:  white;\n",
       "             font-weight:  bold;\n",
       "        }    #T_6e6a3f5b_f0b7_11e8_af9c_5cc9d364484drow6_col3 {\n",
       "            background-color:  green;\n",
       "             color:  white;\n",
       "             font-weight:  bold;\n",
       "        }    #T_6e6a3f5b_f0b7_11e8_af9c_5cc9d364484drow6_col6 {\n",
       "            background-color:  green;\n",
       "             color:  white;\n",
       "             font-weight:  bold;\n",
       "        }</style>  \n",
       "<table id=\"T_6e6a3f5b_f0b7_11e8_af9c_5cc9d364484d\" > \n",
       "<thead>    <tr> \n",
       "        <th class=\"blank level0\" ></th> \n",
       "        <th class=\"col_heading level0 col0\" >tfidf</th> \n",
       "        <th class=\"col_heading level0 col1\" >tfidf+lsa</th> \n",
       "        <th class=\"col_heading level0 col2\" >tfidf+lda</th> \n",
       "        <th class=\"col_heading level0 col3\" >count</th> \n",
       "        <th class=\"col_heading level0 col4\" >count+lsa</th> \n",
       "        <th class=\"col_heading level0 col5\" >count+lda</th> \n",
       "        <th class=\"col_heading level0 col6\" >tfidf+count+w2c</th> \n",
       "    </tr></thead> \n",
       "<tbody>    <tr> \n",
       "        <th id=\"T_6e6a3f5b_f0b7_11e8_af9c_5cc9d364484dlevel0_row0\" class=\"row_heading level0 row0\" >ComplementNB</th> \n",
       "        <td id=\"T_6e6a3f5b_f0b7_11e8_af9c_5cc9d364484drow0_col0\" class=\"data row0 col0\" >62.08%</td> \n",
       "        <td id=\"T_6e6a3f5b_f0b7_11e8_af9c_5cc9d364484drow0_col1\" class=\"data row0 col1\" >53.89%</td> \n",
       "        <td id=\"T_6e6a3f5b_f0b7_11e8_af9c_5cc9d364484drow0_col2\" class=\"data row0 col2\" >49.95%</td> \n",
       "        <td id=\"T_6e6a3f5b_f0b7_11e8_af9c_5cc9d364484drow0_col3\" class=\"data row0 col3\" >60.57%</td> \n",
       "        <td id=\"T_6e6a3f5b_f0b7_11e8_af9c_5cc9d364484drow0_col4\" class=\"data row0 col4\" >57.94%</td> \n",
       "        <td id=\"T_6e6a3f5b_f0b7_11e8_af9c_5cc9d364484drow0_col5\" class=\"data row0 col5\" >55.11%</td> \n",
       "        <td id=\"T_6e6a3f5b_f0b7_11e8_af9c_5cc9d364484drow0_col6\" class=\"data row0 col6\" >0.00%</td> \n",
       "    </tr>    <tr> \n",
       "        <th id=\"T_6e6a3f5b_f0b7_11e8_af9c_5cc9d364484dlevel0_row1\" class=\"row_heading level0 row1\" >KNeighborsClassifier</th> \n",
       "        <td id=\"T_6e6a3f5b_f0b7_11e8_af9c_5cc9d364484drow1_col0\" class=\"data row1 col0\" >63.80%</td> \n",
       "        <td id=\"T_6e6a3f5b_f0b7_11e8_af9c_5cc9d364484drow1_col1\" class=\"data row1 col1\" >62.18%</td> \n",
       "        <td id=\"T_6e6a3f5b_f0b7_11e8_af9c_5cc9d364484drow1_col2\" class=\"data row1 col2\" >49.24%</td> \n",
       "        <td id=\"T_6e6a3f5b_f0b7_11e8_af9c_5cc9d364484drow1_col3\" class=\"data row1 col3\" >53.89%</td> \n",
       "        <td id=\"T_6e6a3f5b_f0b7_11e8_af9c_5cc9d364484drow1_col4\" class=\"data row1 col4\" >64.21%</td> \n",
       "        <td id=\"T_6e6a3f5b_f0b7_11e8_af9c_5cc9d364484drow1_col5\" class=\"data row1 col5\" >52.78%</td> \n",
       "        <td id=\"T_6e6a3f5b_f0b7_11e8_af9c_5cc9d364484drow1_col6\" class=\"data row1 col6\" >62.59%</td> \n",
       "    </tr>    <tr> \n",
       "        <th id=\"T_6e6a3f5b_f0b7_11e8_af9c_5cc9d364484dlevel0_row2\" class=\"row_heading level0 row2\" >LinearSVC</th> \n",
       "        <td id=\"T_6e6a3f5b_f0b7_11e8_af9c_5cc9d364484drow2_col0\" class=\"data row2 col0\" >66.13%</td> \n",
       "        <td id=\"T_6e6a3f5b_f0b7_11e8_af9c_5cc9d364484drow2_col1\" class=\"data row2 col1\" >67.54%</td> \n",
       "        <td id=\"T_6e6a3f5b_f0b7_11e8_af9c_5cc9d364484drow2_col2\" class=\"data row2 col2\" >52.88%</td> \n",
       "        <td id=\"T_6e6a3f5b_f0b7_11e8_af9c_5cc9d364484drow2_col3\" class=\"data row2 col3\" >65.52%</td> \n",
       "        <td id=\"T_6e6a3f5b_f0b7_11e8_af9c_5cc9d364484drow2_col4\" class=\"data row2 col4\" >66.23%</td> \n",
       "        <td id=\"T_6e6a3f5b_f0b7_11e8_af9c_5cc9d364484drow2_col5\" class=\"data row2 col5\" >58.85%</td> \n",
       "        <td id=\"T_6e6a3f5b_f0b7_11e8_af9c_5cc9d364484drow2_col6\" class=\"data row2 col6\" >65.22%</td> \n",
       "    </tr>    <tr> \n",
       "        <th id=\"T_6e6a3f5b_f0b7_11e8_af9c_5cc9d364484dlevel0_row3\" class=\"row_heading level0 row3\" >LogisticRegression</th> \n",
       "        <td id=\"T_6e6a3f5b_f0b7_11e8_af9c_5cc9d364484drow3_col0\" class=\"data row3 col0\" >66.73%</td> \n",
       "        <td id=\"T_6e6a3f5b_f0b7_11e8_af9c_5cc9d364484drow3_col1\" class=\"data row3 col1\" >67.24%</td> \n",
       "        <td id=\"T_6e6a3f5b_f0b7_11e8_af9c_5cc9d364484drow3_col2\" class=\"data row3 col2\" >53.29%</td> \n",
       "        <td id=\"T_6e6a3f5b_f0b7_11e8_af9c_5cc9d364484drow3_col3\" class=\"data row3 col3\" >65.62%</td> \n",
       "        <td id=\"T_6e6a3f5b_f0b7_11e8_af9c_5cc9d364484drow3_col4\" class=\"data row3 col4\" >64.00%</td> \n",
       "        <td id=\"T_6e6a3f5b_f0b7_11e8_af9c_5cc9d364484drow3_col5\" class=\"data row3 col5\" >59.56%</td> \n",
       "        <td id=\"T_6e6a3f5b_f0b7_11e8_af9c_5cc9d364484drow3_col6\" class=\"data row3 col6\" >66.23%</td> \n",
       "    </tr>    <tr> \n",
       "        <th id=\"T_6e6a3f5b_f0b7_11e8_af9c_5cc9d364484dlevel0_row4\" class=\"row_heading level0 row4\" >MLPClassifier</th> \n",
       "        <td id=\"T_6e6a3f5b_f0b7_11e8_af9c_5cc9d364484drow4_col0\" class=\"data row4 col0\" >65.02%</td> \n",
       "        <td id=\"T_6e6a3f5b_f0b7_11e8_af9c_5cc9d364484drow4_col1\" class=\"data row4 col1\" >66.33%</td> \n",
       "        <td id=\"T_6e6a3f5b_f0b7_11e8_af9c_5cc9d364484drow4_col2\" class=\"data row4 col2\" >49.44%</td> \n",
       "        <td id=\"T_6e6a3f5b_f0b7_11e8_af9c_5cc9d364484drow4_col3\" class=\"data row4 col3\" >65.12%</td> \n",
       "        <td id=\"T_6e6a3f5b_f0b7_11e8_af9c_5cc9d364484drow4_col4\" class=\"data row4 col4\" >66.33%</td> \n",
       "        <td id=\"T_6e6a3f5b_f0b7_11e8_af9c_5cc9d364484drow4_col5\" class=\"data row4 col5\" >56.52%</td> \n",
       "        <td id=\"T_6e6a3f5b_f0b7_11e8_af9c_5cc9d364484drow4_col6\" class=\"data row4 col6\" >61.27%</td> \n",
       "    </tr>    <tr> \n",
       "        <th id=\"T_6e6a3f5b_f0b7_11e8_af9c_5cc9d364484dlevel0_row5\" class=\"row_heading level0 row5\" >MultinomialNB</th> \n",
       "        <td id=\"T_6e6a3f5b_f0b7_11e8_af9c_5cc9d364484drow5_col0\" class=\"data row5 col0\" >64.71%</td> \n",
       "        <td id=\"T_6e6a3f5b_f0b7_11e8_af9c_5cc9d364484drow5_col1\" class=\"data row5 col1\" >46.31%</td> \n",
       "        <td id=\"T_6e6a3f5b_f0b7_11e8_af9c_5cc9d364484drow5_col2\" class=\"data row5 col2\" >53.49%</td> \n",
       "        <td id=\"T_6e6a3f5b_f0b7_11e8_af9c_5cc9d364484drow5_col3\" class=\"data row5 col3\" >61.98%</td> \n",
       "        <td id=\"T_6e6a3f5b_f0b7_11e8_af9c_5cc9d364484drow5_col4\" class=\"data row5 col4\" >53.59%</td> \n",
       "        <td id=\"T_6e6a3f5b_f0b7_11e8_af9c_5cc9d364484drow5_col5\" class=\"data row5 col5\" >57.63%</td> \n",
       "        <td id=\"T_6e6a3f5b_f0b7_11e8_af9c_5cc9d364484drow5_col6\" class=\"data row5 col6\" >0.00%</td> \n",
       "    </tr>    <tr> \n",
       "        <th id=\"T_6e6a3f5b_f0b7_11e8_af9c_5cc9d364484dlevel0_row6\" class=\"row_heading level0 row6\" >RandomForestClassifier</th> \n",
       "        <td id=\"T_6e6a3f5b_f0b7_11e8_af9c_5cc9d364484drow6_col0\" class=\"data row6 col0\" >65.93%</td> \n",
       "        <td id=\"T_6e6a3f5b_f0b7_11e8_af9c_5cc9d364484drow6_col1\" class=\"data row6 col1\" >64.11%</td> \n",
       "        <td id=\"T_6e6a3f5b_f0b7_11e8_af9c_5cc9d364484drow6_col2\" class=\"data row6 col2\" >51.77%</td> \n",
       "        <td id=\"T_6e6a3f5b_f0b7_11e8_af9c_5cc9d364484drow6_col3\" class=\"data row6 col3\" >66.63%</td> \n",
       "        <td id=\"T_6e6a3f5b_f0b7_11e8_af9c_5cc9d364484drow6_col4\" class=\"data row6 col4\" >65.32%</td> \n",
       "        <td id=\"T_6e6a3f5b_f0b7_11e8_af9c_5cc9d364484drow6_col5\" class=\"data row6 col5\" >56.93%</td> \n",
       "        <td id=\"T_6e6a3f5b_f0b7_11e8_af9c_5cc9d364484drow6_col6\" class=\"data row6 col6\" >66.23%</td> \n",
       "    </tr>    <tr> \n",
       "        <th id=\"T_6e6a3f5b_f0b7_11e8_af9c_5cc9d364484dlevel0_row7\" class=\"row_heading level0 row7\" >SVC</th> \n",
       "        <td id=\"T_6e6a3f5b_f0b7_11e8_af9c_5cc9d364484drow7_col0\" class=\"data row7 col0\" >62.89%</td> \n",
       "        <td id=\"T_6e6a3f5b_f0b7_11e8_af9c_5cc9d364484drow7_col1\" class=\"data row7 col1\" >47.22%</td> \n",
       "        <td id=\"T_6e6a3f5b_f0b7_11e8_af9c_5cc9d364484drow7_col2\" class=\"data row7 col2\" >46.41%</td> \n",
       "        <td id=\"T_6e6a3f5b_f0b7_11e8_af9c_5cc9d364484drow7_col3\" class=\"data row7 col3\" >46.11%</td> \n",
       "        <td id=\"T_6e6a3f5b_f0b7_11e8_af9c_5cc9d364484drow7_col4\" class=\"data row7 col4\" >54.80%</td> \n",
       "        <td id=\"T_6e6a3f5b_f0b7_11e8_af9c_5cc9d364484drow7_col5\" class=\"data row7 col5\" >45.40%</td> \n",
       "        <td id=\"T_6e6a3f5b_f0b7_11e8_af9c_5cc9d364484drow7_col6\" class=\"data row7 col6\" >64.31%</td> \n",
       "    </tr></tbody> \n",
       "</table> "
      ],
      "text/plain": [
       "<pandas.io.formats.style.Styler at 0x7ff125a97668>"
      ]
     },
     "execution_count": 45,
     "metadata": {},
     "output_type": "execute_result"
    }
   ],
   "source": [
    "df = pd.DataFrame.from_dict(matriz_resultados['tweets'])\n",
    "df.style.apply(highlight_max).format({\n",
    "    'tfidf': '{:,.2f}%'.format,\n",
    "    'tfidf+lsa': '{:,.2f}%'.format,\n",
    "    'tfidf+lda': '{:,.2f}%'.format,\n",
    "    'count': '{:,.2f}%'.format,\n",
    "    'count+lsa': '{:,.2f}%'.format,\n",
    "    'count+lda': '{:,.2f}%'.format,\n",
    "    'tfidf+count+w2c': '{:,.2f}%'.format,\n",
    "})"
   ]
  },
  {
   "cell_type": "markdown",
   "metadata": {},
   "source": [
    "#### Resultados dos Classificadores para os Títulos de Notícias"
   ]
  },
  {
   "cell_type": "code",
   "execution_count": 46,
   "metadata": {
    "ExecuteTime": {
     "end_time": "2018-11-25T13:38:45.991358Z",
     "start_time": "2018-11-25T13:38:45.825060Z"
    }
   },
   "outputs": [
    {
     "data": {
      "text/html": [
       "<style  type=\"text/css\" >\n",
       "    #T_6e6a3f5c_f0b7_11e8_af9c_5cc9d364484drow2_col0 {\n",
       "            background-color:  green;\n",
       "             color:  white;\n",
       "             font-weight:  bold;\n",
       "        }    #T_6e6a3f5c_f0b7_11e8_af9c_5cc9d364484drow2_col1 {\n",
       "            background-color:  green;\n",
       "             color:  white;\n",
       "             font-weight:  bold;\n",
       "        }    #T_6e6a3f5c_f0b7_11e8_af9c_5cc9d364484drow3_col1 {\n",
       "            background-color:  green;\n",
       "             color:  white;\n",
       "             font-weight:  bold;\n",
       "        }    #T_6e6a3f5c_f0b7_11e8_af9c_5cc9d364484drow3_col3 {\n",
       "            background-color:  green;\n",
       "             color:  white;\n",
       "             font-weight:  bold;\n",
       "        }    #T_6e6a3f5c_f0b7_11e8_af9c_5cc9d364484drow3_col4 {\n",
       "            background-color:  green;\n",
       "             color:  white;\n",
       "             font-weight:  bold;\n",
       "        }    #T_6e6a3f5c_f0b7_11e8_af9c_5cc9d364484drow3_col5 {\n",
       "            background-color:  green;\n",
       "             color:  white;\n",
       "             font-weight:  bold;\n",
       "        }    #T_6e6a3f5c_f0b7_11e8_af9c_5cc9d364484drow3_col6 {\n",
       "            background-color:  green;\n",
       "             color:  white;\n",
       "             font-weight:  bold;\n",
       "        }    #T_6e6a3f5c_f0b7_11e8_af9c_5cc9d364484drow6_col2 {\n",
       "            background-color:  green;\n",
       "             color:  white;\n",
       "             font-weight:  bold;\n",
       "        }</style>  \n",
       "<table id=\"T_6e6a3f5c_f0b7_11e8_af9c_5cc9d364484d\" > \n",
       "<thead>    <tr> \n",
       "        <th class=\"blank level0\" ></th> \n",
       "        <th class=\"col_heading level0 col0\" >tfidf</th> \n",
       "        <th class=\"col_heading level0 col1\" >tfidf+lsa</th> \n",
       "        <th class=\"col_heading level0 col2\" >tfidf+lda</th> \n",
       "        <th class=\"col_heading level0 col3\" >count</th> \n",
       "        <th class=\"col_heading level0 col4\" >count+lsa</th> \n",
       "        <th class=\"col_heading level0 col5\" >count+lda</th> \n",
       "        <th class=\"col_heading level0 col6\" >tfidf+count+w2c</th> \n",
       "    </tr></thead> \n",
       "<tbody>    <tr> \n",
       "        <th id=\"T_6e6a3f5c_f0b7_11e8_af9c_5cc9d364484dlevel0_row0\" class=\"row_heading level0 row0\" >ComplementNB</th> \n",
       "        <td id=\"T_6e6a3f5c_f0b7_11e8_af9c_5cc9d364484drow0_col0\" class=\"data row0 col0\" >66.47%</td> \n",
       "        <td id=\"T_6e6a3f5c_f0b7_11e8_af9c_5cc9d364484drow0_col1\" class=\"data row0 col1\" >57.75%</td> \n",
       "        <td id=\"T_6e6a3f5c_f0b7_11e8_af9c_5cc9d364484drow0_col2\" class=\"data row0 col2\" >41.43%</td> \n",
       "        <td id=\"T_6e6a3f5c_f0b7_11e8_af9c_5cc9d364484drow0_col3\" class=\"data row0 col3\" >60.88%</td> \n",
       "        <td id=\"T_6e6a3f5c_f0b7_11e8_af9c_5cc9d364484drow0_col4\" class=\"data row0 col4\" >47.09%</td> \n",
       "        <td id=\"T_6e6a3f5c_f0b7_11e8_af9c_5cc9d364484drow0_col5\" class=\"data row0 col5\" >43.07%</td> \n",
       "        <td id=\"T_6e6a3f5c_f0b7_11e8_af9c_5cc9d364484drow0_col6\" class=\"data row0 col6\" >65.20%</td> \n",
       "    </tr>    <tr> \n",
       "        <th id=\"T_6e6a3f5c_f0b7_11e8_af9c_5cc9d364484dlevel0_row1\" class=\"row_heading level0 row1\" >KNeighborsClassifier</th> \n",
       "        <td id=\"T_6e6a3f5c_f0b7_11e8_af9c_5cc9d364484drow1_col0\" class=\"data row1 col0\" >62.74%</td> \n",
       "        <td id=\"T_6e6a3f5c_f0b7_11e8_af9c_5cc9d364484drow1_col1\" class=\"data row1 col1\" >55.66%</td> \n",
       "        <td id=\"T_6e6a3f5c_f0b7_11e8_af9c_5cc9d364484drow1_col2\" class=\"data row1 col2\" >43.89%</td> \n",
       "        <td id=\"T_6e6a3f5c_f0b7_11e8_af9c_5cc9d364484drow1_col3\" class=\"data row1 col3\" >49.70%</td> \n",
       "        <td id=\"T_6e6a3f5c_f0b7_11e8_af9c_5cc9d364484drow1_col4\" class=\"data row1 col4\" >56.04%</td> \n",
       "        <td id=\"T_6e6a3f5c_f0b7_11e8_af9c_5cc9d364484drow1_col5\" class=\"data row1 col5\" >46.35%</td> \n",
       "        <td id=\"T_6e6a3f5c_f0b7_11e8_af9c_5cc9d364484drow1_col6\" class=\"data row1 col6\" >61.40%</td> \n",
       "    </tr>    <tr> \n",
       "        <th id=\"T_6e6a3f5c_f0b7_11e8_af9c_5cc9d364484dlevel0_row2\" class=\"row_heading level0 row2\" >LinearSVC</th> \n",
       "        <td id=\"T_6e6a3f5c_f0b7_11e8_af9c_5cc9d364484drow2_col0\" class=\"data row2 col0\" >69.00%</td> \n",
       "        <td id=\"T_6e6a3f5c_f0b7_11e8_af9c_5cc9d364484drow2_col1\" class=\"data row2 col1\" >64.61%</td> \n",
       "        <td id=\"T_6e6a3f5c_f0b7_11e8_af9c_5cc9d364484drow2_col2\" class=\"data row2 col2\" >46.72%</td> \n",
       "        <td id=\"T_6e6a3f5c_f0b7_11e8_af9c_5cc9d364484drow2_col3\" class=\"data row2 col3\" >67.36%</td> \n",
       "        <td id=\"T_6e6a3f5c_f0b7_11e8_af9c_5cc9d364484drow2_col4\" class=\"data row2 col4\" >63.04%</td> \n",
       "        <td id=\"T_6e6a3f5c_f0b7_11e8_af9c_5cc9d364484drow2_col5\" class=\"data row2 col5\" >47.62%</td> \n",
       "        <td id=\"T_6e6a3f5c_f0b7_11e8_af9c_5cc9d364484drow2_col6\" class=\"data row2 col6\" >65.87%</td> \n",
       "    </tr>    <tr> \n",
       "        <th id=\"T_6e6a3f5c_f0b7_11e8_af9c_5cc9d364484dlevel0_row3\" class=\"row_heading level0 row3\" >LogisticRegression</th> \n",
       "        <td id=\"T_6e6a3f5c_f0b7_11e8_af9c_5cc9d364484drow3_col0\" class=\"data row3 col0\" >66.77%</td> \n",
       "        <td id=\"T_6e6a3f5c_f0b7_11e8_af9c_5cc9d364484drow3_col1\" class=\"data row3 col1\" >64.61%</td> \n",
       "        <td id=\"T_6e6a3f5c_f0b7_11e8_af9c_5cc9d364484drow3_col2\" class=\"data row3 col2\" >46.50%</td> \n",
       "        <td id=\"T_6e6a3f5c_f0b7_11e8_af9c_5cc9d364484drow3_col3\" class=\"data row3 col3\" >68.55%</td> \n",
       "        <td id=\"T_6e6a3f5c_f0b7_11e8_af9c_5cc9d364484drow3_col4\" class=\"data row3 col4\" >63.19%</td> \n",
       "        <td id=\"T_6e6a3f5c_f0b7_11e8_af9c_5cc9d364484drow3_col5\" class=\"data row3 col5\" >47.84%</td> \n",
       "        <td id=\"T_6e6a3f5c_f0b7_11e8_af9c_5cc9d364484drow3_col6\" class=\"data row3 col6\" >67.36%</td> \n",
       "    </tr>    <tr> \n",
       "        <th id=\"T_6e6a3f5c_f0b7_11e8_af9c_5cc9d364484dlevel0_row4\" class=\"row_heading level0 row4\" >MLPClassifier</th> \n",
       "        <td id=\"T_6e6a3f5c_f0b7_11e8_af9c_5cc9d364484drow4_col0\" class=\"data row4 col0\" >66.32%</td> \n",
       "        <td id=\"T_6e6a3f5c_f0b7_11e8_af9c_5cc9d364484drow4_col1\" class=\"data row4 col1\" >62.44%</td> \n",
       "        <td id=\"T_6e6a3f5c_f0b7_11e8_af9c_5cc9d364484drow4_col2\" class=\"data row4 col2\" >46.42%</td> \n",
       "        <td id=\"T_6e6a3f5c_f0b7_11e8_af9c_5cc9d364484drow4_col3\" class=\"data row4 col3\" >66.24%</td> \n",
       "        <td id=\"T_6e6a3f5c_f0b7_11e8_af9c_5cc9d364484drow4_col4\" class=\"data row4 col4\" >62.30%</td> \n",
       "        <td id=\"T_6e6a3f5c_f0b7_11e8_af9c_5cc9d364484drow4_col5\" class=\"data row4 col5\" >45.60%</td> \n",
       "        <td id=\"T_6e6a3f5c_f0b7_11e8_af9c_5cc9d364484drow4_col6\" class=\"data row4 col6\" >65.42%</td> \n",
       "    </tr>    <tr> \n",
       "        <th id=\"T_6e6a3f5c_f0b7_11e8_af9c_5cc9d364484dlevel0_row5\" class=\"row_heading level0 row5\" >MultinomialNB</th> \n",
       "        <td id=\"T_6e6a3f5c_f0b7_11e8_af9c_5cc9d364484drow5_col0\" class=\"data row5 col0\" >65.28%</td> \n",
       "        <td id=\"T_6e6a3f5c_f0b7_11e8_af9c_5cc9d364484drow5_col1\" class=\"data row5 col1\" >47.09%</td> \n",
       "        <td id=\"T_6e6a3f5c_f0b7_11e8_af9c_5cc9d364484drow5_col2\" class=\"data row5 col2\" >46.50%</td> \n",
       "        <td id=\"T_6e6a3f5c_f0b7_11e8_af9c_5cc9d364484drow5_col3\" class=\"data row5 col3\" >65.87%</td> \n",
       "        <td id=\"T_6e6a3f5c_f0b7_11e8_af9c_5cc9d364484drow5_col4\" class=\"data row5 col4\" >46.65%</td> \n",
       "        <td id=\"T_6e6a3f5c_f0b7_11e8_af9c_5cc9d364484drow5_col5\" class=\"data row5 col5\" >46.05%</td> \n",
       "        <td id=\"T_6e6a3f5c_f0b7_11e8_af9c_5cc9d364484drow5_col6\" class=\"data row5 col6\" >65.57%</td> \n",
       "    </tr>    <tr> \n",
       "        <th id=\"T_6e6a3f5c_f0b7_11e8_af9c_5cc9d364484dlevel0_row6\" class=\"row_heading level0 row6\" >RandomForestClassifier</th> \n",
       "        <td id=\"T_6e6a3f5c_f0b7_11e8_af9c_5cc9d364484drow6_col0\" class=\"data row6 col0\" >63.56%</td> \n",
       "        <td id=\"T_6e6a3f5c_f0b7_11e8_af9c_5cc9d364484drow6_col1\" class=\"data row6 col1\" >62.37%</td> \n",
       "        <td id=\"T_6e6a3f5c_f0b7_11e8_af9c_5cc9d364484drow6_col2\" class=\"data row6 col2\" >48.44%</td> \n",
       "        <td id=\"T_6e6a3f5c_f0b7_11e8_af9c_5cc9d364484drow6_col3\" class=\"data row6 col3\" >63.34%</td> \n",
       "        <td id=\"T_6e6a3f5c_f0b7_11e8_af9c_5cc9d364484drow6_col4\" class=\"data row6 col4\" >60.58%</td> \n",
       "        <td id=\"T_6e6a3f5c_f0b7_11e8_af9c_5cc9d364484drow6_col5\" class=\"data row6 col5\" >46.57%</td> \n",
       "        <td id=\"T_6e6a3f5c_f0b7_11e8_af9c_5cc9d364484drow6_col6\" class=\"data row6 col6\" >64.46%</td> \n",
       "    </tr>    <tr> \n",
       "        <th id=\"T_6e6a3f5c_f0b7_11e8_af9c_5cc9d364484dlevel0_row7\" class=\"row_heading level0 row7\" >SVC</th> \n",
       "        <td id=\"T_6e6a3f5c_f0b7_11e8_af9c_5cc9d364484drow7_col0\" class=\"data row7 col0\" >52.76%</td> \n",
       "        <td id=\"T_6e6a3f5c_f0b7_11e8_af9c_5cc9d364484drow7_col1\" class=\"data row7 col1\" >44.49%</td> \n",
       "        <td id=\"T_6e6a3f5c_f0b7_11e8_af9c_5cc9d364484drow7_col2\" class=\"data row7 col2\" >43.00%</td> \n",
       "        <td id=\"T_6e6a3f5c_f0b7_11e8_af9c_5cc9d364484drow7_col3\" class=\"data row7 col3\" >45.60%</td> \n",
       "        <td id=\"T_6e6a3f5c_f0b7_11e8_af9c_5cc9d364484drow7_col4\" class=\"data row7 col4\" >44.04%</td> \n",
       "        <td id=\"T_6e6a3f5c_f0b7_11e8_af9c_5cc9d364484drow7_col5\" class=\"data row7 col5\" >44.93%</td> \n",
       "        <td id=\"T_6e6a3f5c_f0b7_11e8_af9c_5cc9d364484drow7_col6\" class=\"data row7 col6\" >48.44%</td> \n",
       "    </tr></tbody> \n",
       "</table> "
      ],
      "text/plain": [
       "<pandas.io.formats.style.Styler at 0x7ff125a9ba58>"
      ]
     },
     "execution_count": 46,
     "metadata": {},
     "output_type": "execute_result"
    }
   ],
   "source": [
    "df = pd.DataFrame.from_dict(matriz_resultados['titulo_noticias'])\n",
    "df.style.apply(highlight_max).format({\n",
    "    'tfidf': '{:,.2f}%'.format,\n",
    "    'tfidf+lsa': '{:,.2f}%'.format,\n",
    "    'tfidf+lda': '{:,.2f}%'.format,\n",
    "    'count': '{:,.2f}%'.format,\n",
    "    'count+lsa': '{:,.2f}%'.format,\n",
    "    'count+lda': '{:,.2f}%'.format,\n",
    "    'tfidf+count+w2c': '{:,.2f}%'.format,\n",
    "})"
   ]
  },
  {
   "cell_type": "markdown",
   "metadata": {},
   "source": [
    "### Modelo escolhido e salvo"
   ]
  },
  {
   "cell_type": "code",
   "execution_count": 47,
   "metadata": {
    "ExecuteTime": {
     "end_time": "2018-11-25T13:38:56.811088Z",
     "start_time": "2018-11-25T13:38:45.994005Z"
    }
   },
   "outputs": [
    {
     "name": "stdout",
     "output_type": "stream",
     "text": [
      "Modelo   : CalibratedClassifierCV\n",
      "Acurácia : 60.03%\n"
     ]
    },
    {
     "data": {
      "text/plain": [
       "['model_valence.sav']"
      ]
     },
     "execution_count": 47,
     "metadata": {},
     "output_type": "execute_result"
    }
   ],
   "source": [
    "vec_tfidf = TfidfVectorizer(ngram_range=(1, 2))\n",
    "X_tfidf = vec_tfidf.fit_transform(afrases)\n",
    "\n",
    "svd = TruncatedSVD(n_components=70, n_iter=50, random_state=0)\n",
    "normalizer = Normalizer(copy=False)\n",
    "lsa = make_pipeline(svd, normalizer)\n",
    "X_svd = lsa.fit_transform(X_tfidf)\n",
    "\n",
    "svm = LinearSVC(max_iter=1200)\n",
    "model = CalibratedClassifierCV(svm) \n",
    "model.fit(X_svd, avalencias)\n",
    "\n",
    "accuracy = np.round(model.score(X_svd, avalencias) * 100, 2)\n",
    "print(f'Modelo   : {model.__class__.__name__}')\n",
    "print(f'Acurácia : {accuracy}%')\n",
    "\n",
    "\n",
    "filename = 'tfidf_valence.sav'\n",
    "joblib.dump(vec_tfidf, filename)\n",
    "\n",
    "filename = 'lsa_valence.sav'\n",
    "joblib.dump(lsa, filename)\n",
    "\n",
    "filename = 'model_valence.sav'\n",
    "joblib.dump(model, filename)"
   ]
  },
  {
   "cell_type": "code",
   "execution_count": 48,
   "metadata": {
    "ExecuteTime": {
     "end_time": "2018-11-25T13:38:56.823811Z",
     "start_time": "2018-11-25T13:38:56.813840Z"
    }
   },
   "outputs": [
    {
     "data": {
      "text/plain": [
       "array(['NEGATIVO', 'NEUTRO', 'POSITIVO'], dtype='<U8')"
      ]
     },
     "execution_count": 48,
     "metadata": {},
     "output_type": "execute_result"
    }
   ],
   "source": [
    "model.classes_"
   ]
  },
  {
   "cell_type": "code",
   "execution_count": 49,
   "metadata": {
    "ExecuteTime": {
     "end_time": "2018-11-25T13:38:57.254378Z",
     "start_time": "2018-11-25T13:38:56.826035Z"
    }
   },
   "outputs": [
    {
     "data": {
      "text/plain": [
       "[29.88, 8.4, 61.72]"
      ]
     },
     "execution_count": 49,
     "metadata": {},
     "output_type": "execute_result"
    }
   ],
   "source": [
    "y = model.predict_proba(X_svd)\n",
    "list(np.round(y[0] * 100, 2))"
   ]
  },
  {
   "cell_type": "code",
   "execution_count": null,
   "metadata": {},
   "outputs": [],
   "source": []
  }
 ],
 "metadata": {
  "colab": {
   "collapsed_sections": [],
   "include_colab_link": true,
   "name": "testes-valencia-projeto-final-ia369y-2sem-2018.ipynb",
   "provenance": [],
   "version": "0.3.2"
  },
  "hide_input": false,
  "kernelspec": {
   "display_name": "Python 3",
   "language": "python",
   "name": "python3"
  },
  "language_info": {
   "codemirror_mode": {
    "name": "ipython",
    "version": 3
   },
   "file_extension": ".py",
   "mimetype": "text/x-python",
   "name": "python",
   "nbconvert_exporter": "python",
   "pygments_lexer": "ipython3",
   "version": "3.7.1"
  },
  "latex_envs": {
   "LaTeX_envs_menu_present": true,
   "autocomplete": true,
   "bibliofile": "biblio.bib",
   "cite_by": "apalike",
   "current_citInitial": 1,
   "eqLabelWithNumbers": true,
   "eqNumInitial": 1,
   "hotkeys": {
    "equation": "Ctrl-E",
    "itemize": "Ctrl-I"
   },
   "labels_anchors": false,
   "latex_user_defs": false,
   "report_style_numbering": false,
   "user_envs_cfg": false
  },
  "toc": {
   "colors": {
    "hover_highlight": "#DAA520",
    "navigate_num": "#000000",
    "navigate_text": "#333333",
    "running_highlight": "#FF0000",
    "selected_highlight": "#FFD700",
    "sidebar_border": "#EEEEEE",
    "wrapper_background": "#FFFFFF"
   },
   "moveMenuLeft": true,
   "nav_menu": {
    "height": "211px",
    "width": "252px"
   },
   "navigate_menu": true,
   "number_sections": true,
   "sideBar": true,
   "threshold": 4,
   "toc_cell": false,
   "toc_section_display": "block",
   "toc_window_display": false,
   "widenNotebook": false
  }
 },
 "nbformat": 4,
 "nbformat_minor": 1
}
