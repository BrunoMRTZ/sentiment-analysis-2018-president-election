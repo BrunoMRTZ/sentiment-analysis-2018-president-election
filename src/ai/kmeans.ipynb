{
 "cells": [
  {
   "cell_type": "markdown",
   "metadata": {},
   "source": [
    "### Functions\n",
    " - [TF-IDF](http://scikit-learn.org/stable/modules/generated/sklearn.feature_extraction.text.TfidfVectorizer.html#sklearn.feature_extraction.text.TfidfVectorizer.fit)\n",
    " - [SVD](http://scikit-learn.org/stable/modules/generated/sklearn.decomposition.TruncatedSVD.html)\n",
    " - [LDA](http://scikit-learn.org/stable/modules/generated/sklearn.decomposition.LatentDirichletAllocation.html)\n",
    " - [KMeans](http://scikit-learn.org/stable/modules/generated/sklearn.cluster.KMeans.html)\n",
    "\n",
    "### Tutorial\n",
    "- [In Depth: k-Means Clustering](https://jakevdp.github.io/PythonDataScienceHandbook/05.11-k-means.html)\n",
    "- [Clustering US Laws using TF-IDF and K-Means](https://beckernick.github.io/law-clustering/)\n",
    "- [The 5 Clustering Algorithms Data Scientists Need to Know](https://towardsdatascience.com/the-5-clustering-algorithms-data-scientists-need-to-know-a36d136ef68)"
   ]
  },
  {
   "cell_type": "code",
   "execution_count": 697,
   "metadata": {
    "ExecuteTime": {
     "end_time": "2018-10-21T14:12:53.577919Z",
     "start_time": "2018-10-21T14:12:53.116223Z"
    }
   },
   "outputs": [],
   "source": [
    "import re\n",
    "from string import punctuation\n",
    "\n",
    "import numpy as np\n",
    "import matplotlib.pyplot as plt\n",
    "import pandas as pd\n",
    "from sklearn.feature_extraction.text import CountVectorizer, TfidfVectorizer\n",
    "from sklearn.manifold import TSNE\n",
    "from sklearn.decomposition import TruncatedSVD, LatentDirichletAllocation\n",
    "from sklearn.cluster import KMeans, MeanShift, DBSCAN, estimate_bandwidth\n",
    "import nltk\n",
    "import spacy\n",
    "import gensim\n",
    "from gensim.models.phrases import Phrases, Phraser\n",
    "from nltk import word_tokenize\n",
    "from nltk.corpus import stopwords\n",
    "\n",
    "\n",
    "def softmax(x):\n",
    "    \"\"\"Compute softmax values for each sets of scores in x.\"\"\"\n",
    "    return np.exp(x) / np.sum(np.exp(x), axis=0)\n",
    "\n",
    "def is_number(s):\n",
    "    try:\n",
    "        complex(s) # for int, long, float and complex\n",
    "    except ValueError:\n",
    "        return False\n",
    "    return True\n",
    "\n",
    "def _get_stopwords():\n",
    "    stpwords = stopwords.words('portuguese') + list(punctuation)\n",
    "    rms = ['um', 'não', 'mais', 'muito']\n",
    "    for rm in rms:\n",
    "        del stpwords[stpwords.index(rm)]\n",
    "    return stpwords\n",
    "\n",
    "def tokenizer(phrase):\n",
    "    phrase = phrase.lower()\n",
    "    for o, r in RM:\n",
    "        phrase = re.sub(o, r, phrase, flags=re.MULTILINE)\n",
    "    phrase = NLP(re.sub(r'[\"\\'@#%\\(\\)]', '', phrase), disable=['parser'])\n",
    "    clean_frase = []\n",
    "    for palavra in phrase:\n",
    "        if palavra.pos_ != 'PUNCT':\n",
    "            word = palavra.text.strip()\n",
    "            if not is_number(word) and word not in STOPWORDS and len(word) > 1:\n",
    "                if palavra.pos_ in ['NOUN', 'ADJ', 'ADV']:\n",
    "                    # clean_frase += [STEMMER.stem(palavra.text)]\n",
    "                    clean_frase += [palavra.text]\n",
    "                else:\n",
    "                    clean_frase += [palavra.lemma_]\n",
    "    return ' '.join(clean_frase)\n",
    "\n",
    "# GLOBALS\n",
    "NLP = spacy.load('pt')\n",
    "STEMMER = nltk.stem.RSLPStemmer()\n",
    "STOPWORDS = _get_stopwords()\n",
    "RM = [\n",
    "    ('\\n', '. '), ('\"', ''), ('@', ''),\n",
    "    ('#', ''), ('RT', ''), (r'(http[s]*?:\\/\\/)+.*[\\r\\n]*', '')\n",
    "]\n",
    "\n",
    "np.random.seed(12345)\n",
    "\n",
    "%matplotlib inline"
   ]
  },
  {
   "cell_type": "code",
   "execution_count": 698,
   "metadata": {
    "ExecuteTime": {
     "end_time": "2018-10-21T14:12:53.617687Z",
     "start_time": "2018-10-21T14:12:53.579987Z"
    }
   },
   "outputs": [
    {
     "name": "stdout",
     "output_type": "stream",
     "text": [
      "[('perfeito', 'NOUN', 'perfazer')]\n"
     ]
    }
   ],
   "source": [
    "dc = NLP('perfeito', disable=['parser'])\n",
    "print([(w.text, w.pos_, w.lemma_) for w in dc])"
   ]
  },
  {
   "cell_type": "code",
   "execution_count": 795,
   "metadata": {
    "ExecuteTime": {
     "end_time": "2018-10-21T14:23:59.865474Z",
     "start_time": "2018-10-21T14:23:59.835724Z"
    }
   },
   "outputs": [],
   "source": [
    "frases_felicidade = [\n",
    "#     ('Quando a tristeza bater na sua porta, abra um belo sorriso e diga: Desculpa, mas hoje a felicidade chegou primeiro!', 'FELICIDADE'),\n",
    "#     ('Minha meta é ser feliz, não perfeito.', 'FELICIDADE'),\n",
    "#     ('Que a felicidade vire rotina.', 'FELICIDADE'),\n",
    "#     ('Felicidade é saber aproveitar todos os momentos como se fossem os últimos.', 'FELICIDADE'),\n",
    "#     ('Eu não quero esperar até o final para ser feliz. Eu quero é ser feliz agora.', 'FELICIDADE'),\n",
    "    ('Hoje estou muito feliz!', 'FELICIDADE'),\n",
    "    ('O dia esta excelente, estou muito feliz.', 'FELICIDADE'),\n",
    "    ('Abra um sorriso, que a felicidade chegou.', 'FELICIDADE')\n",
    "]\n",
    "\n",
    "frases_tristeza = [\n",
    "#     ('O maior problema em acreditar nas pessoas erradas, é que um dia você acaba não acreditando em mais ninguém.', 'TRISTEZA'),\n",
    "#     ('Não me deixe ir, posso nunca mais voltar.', 'TRISTEZA'),\n",
    "#     ('Prefiro que enxerguem em mim erros com arrependimento do que uma falsa perfeição.', 'TRISTEZA'),\n",
    "#     ('A morte é uma pétala que se solta da flor e deixa uma eterna saudade no coração.', 'TRISTEZA'),\n",
    "#     ('Partiu para não mais voltar, e meu coração se partiu para não mais se recompor. Saudades de quem a morte levou para sempre.', 'TRISTEZA'),\n",
    "#     ('Luto é o tempo necessário para a mente entender o sentimento de perda que o coração já sente.', 'TRISTEZA'),\n",
    "#     ('Suas memórias são meu maior tesouro. Saudades suas, meu pai!', 'TRISTEZA'),\n",
    "#     ('Meu amigo se foi para sempre. No seu lugar ficaram estas saudades eternas, que eternamente serão sentidas com muita tristeza.', 'TRISTEZA'),\n",
    "#     ('Hoje o sol não brilhou, os pássaros não cantaram, os risos se calaram e as lágrimas rolaram em meu rosto. Meu coração sofre em silêncio.', 'TRISTEZA'),\n",
    "    ('Lágrimas não doem, o que dói é o motivo que as fazem cair.', 'TRISTEZA')\n",
    "]\n",
    "\n",
    "frases_amor = [\n",
    "#     ('Duvide do brilho das estrelas. Duvide do perfume de uma flor. Duvide de todas as verdades. Mas nunca duvide do meu amor.', 'AMOR'),\n",
    "#     ('Amar é cuidar um do outro mesmo quando estamos zangados.', 'AMOR'),\n",
    "#     ('O amor só é lindo, quando encontramos alguém que nos transforme no melhor que podemos ser.', 'AMOR'),\n",
    "#     ('Quando o amor é verdadeiro, a distância vira mero detalhe.', 'AMOR'),\n",
    "#     ('Não escolha a pessoa mais bonita do mundo. Escolha a pessoa que faz do seu mundo o mais bonito.', 'AMOR'),\n",
    "    ('Pensando em você, me torno um poeta, olhando você, me torno um artista, imaginando nosso amor, me torno um sonhador', 'AMOR')\n",
    "]"
   ]
  },
  {
   "cell_type": "code",
   "execution_count": 796,
   "metadata": {
    "ExecuteTime": {
     "end_time": "2018-10-21T14:24:03.027555Z",
     "start_time": "2018-10-21T14:24:02.941009Z"
    }
   },
   "outputs": [
    {
     "name": "stdout",
     "output_type": "stream",
     "text": [
      "['hoje muito feliz', 'dia excelente muito feliz', 'abrir um sorriso felicidade chegar']\n",
      "['lágrimas não doer dói motivo fazer cair']\n",
      "['pensar tornar um poeta olhar tornar um artista imaginar amor tornar um sonhador']\n"
     ]
    }
   ],
   "source": [
    "frases_felicidade_parsed = []\n",
    "frases_tristeza_parsed = []\n",
    "frases_amor_parsed = []\n",
    "frases_felicidade_sentimento = []\n",
    "frases_tristeza_sentimento = []\n",
    "frases_amor_sentimento = []\n",
    "\n",
    "# dc = NLP('é que um dia você acaba não acreditando em mais ninguém', disable=['parser'])\n",
    "# print([(w.text, w.pos_, w.lemma_) for w in dc])\n",
    "\n",
    "for frase, sentimento in frases_felicidade:\n",
    "    frases_felicidade_parsed.append(tokenizer(frase))\n",
    "    frases_felicidade_sentimento.append(sentimento)\n",
    "\n",
    "for frase, sentimento in frases_tristeza:\n",
    "    frases_tristeza_parsed.append(tokenizer(frase))\n",
    "    frases_tristeza_sentimento.append(sentimento)\n",
    "\n",
    "for frase, sentimento in frases_amor:\n",
    "    frases_amor_parsed.append(tokenizer(frase))\n",
    "    frases_amor_sentimento.append(sentimento)\n",
    "\n",
    "print(frases_felicidade_parsed)\n",
    "print(frases_tristeza_parsed)\n",
    "print(frases_amor_parsed)\n",
    "\n",
    "frases = frases_felicidade_parsed + frases_tristeza_parsed + frases_amor_parsed\n",
    "ldocs = [f'D{i}' for i in range(len(frases))]"
   ]
  },
  {
   "cell_type": "code",
   "execution_count": 834,
   "metadata": {
    "ExecuteTime": {
     "end_time": "2018-10-21T14:27:50.890663Z",
     "start_time": "2018-10-21T14:27:48.380208Z"
    },
    "scrolled": false
   },
   "outputs": [
    {
     "name": "stdout",
     "output_type": "stream",
     "text": [
      "(5, 25)\n",
      "(5, 25)\n",
      "(25, 25)\n",
      "   Actual number of tfidf features: 25\n"
     ]
    },
    {
     "data": {
      "text/html": [
       "<div>\n",
       "<style scoped>\n",
       "    .dataframe tbody tr th:only-of-type {\n",
       "        vertical-align: middle;\n",
       "    }\n",
       "\n",
       "    .dataframe tbody tr th {\n",
       "        vertical-align: top;\n",
       "    }\n",
       "\n",
       "    .dataframe thead th {\n",
       "        text-align: right;\n",
       "    }\n",
       "</style>\n",
       "<table border=\"1\" class=\"dataframe\">\n",
       "  <thead>\n",
       "    <tr style=\"text-align: right;\">\n",
       "      <th></th>\n",
       "      <th>D0</th>\n",
       "      <th>D1</th>\n",
       "      <th>D2</th>\n",
       "      <th>D3</th>\n",
       "      <th>D4</th>\n",
       "    </tr>\n",
       "  </thead>\n",
       "  <tbody>\n",
       "    <tr>\n",
       "      <th>abrir</th>\n",
       "      <td>-0.26960</td>\n",
       "      <td>-0.33378</td>\n",
       "      <td>-0.79615</td>\n",
       "      <td>-0.41183</td>\n",
       "      <td>-1.14050</td>\n",
       "    </tr>\n",
       "    <tr>\n",
       "      <th>amor</th>\n",
       "      <td>0.56748</td>\n",
       "      <td>0.45733</td>\n",
       "      <td>0.60041</td>\n",
       "      <td>0.63459</td>\n",
       "      <td>0.90574</td>\n",
       "    </tr>\n",
       "    <tr>\n",
       "      <th>artista</th>\n",
       "      <td>0.63622</td>\n",
       "      <td>0.50353</td>\n",
       "      <td>0.33298</td>\n",
       "      <td>0.64246</td>\n",
       "      <td>0.47718</td>\n",
       "    </tr>\n",
       "    <tr>\n",
       "      <th>cair</th>\n",
       "      <td>0.25191</td>\n",
       "      <td>0.23025</td>\n",
       "      <td>0.15785</td>\n",
       "      <td>0.31004</td>\n",
       "      <td>0.19127</td>\n",
       "    </tr>\n",
       "    <tr>\n",
       "      <th>chegar</th>\n",
       "      <td>0.13537</td>\n",
       "      <td>0.08612</td>\n",
       "      <td>-0.07693</td>\n",
       "      <td>0.15639</td>\n",
       "      <td>-0.17792</td>\n",
       "    </tr>\n",
       "    <tr>\n",
       "      <th>dia</th>\n",
       "      <td>0.78902</td>\n",
       "      <td>0.71646</td>\n",
       "      <td>1.05013</td>\n",
       "      <td>0.92915</td>\n",
       "      <td>1.58203</td>\n",
       "    </tr>\n",
       "    <tr>\n",
       "      <th>doer</th>\n",
       "      <td>-0.73679</td>\n",
       "      <td>-0.54659</td>\n",
       "      <td>-0.35577</td>\n",
       "      <td>-0.75483</td>\n",
       "      <td>-0.50238</td>\n",
       "    </tr>\n",
       "    <tr>\n",
       "      <th>dói</th>\n",
       "      <td>-0.36953</td>\n",
       "      <td>-0.45830</td>\n",
       "      <td>-1.27205</td>\n",
       "      <td>-0.60313</td>\n",
       "      <td>-1.92419</td>\n",
       "    </tr>\n",
       "    <tr>\n",
       "      <th>excelente</th>\n",
       "      <td>0.45611</td>\n",
       "      <td>0.36731</td>\n",
       "      <td>0.53060</td>\n",
       "      <td>0.49294</td>\n",
       "      <td>0.82302</td>\n",
       "    </tr>\n",
       "    <tr>\n",
       "      <th>fazer</th>\n",
       "      <td>0.20404</td>\n",
       "      <td>0.16715</td>\n",
       "      <td>0.23141</td>\n",
       "      <td>0.21406</td>\n",
       "      <td>0.34289</td>\n",
       "    </tr>\n",
       "    <tr>\n",
       "      <th>felicidade</th>\n",
       "      <td>0.12996</td>\n",
       "      <td>0.09317</td>\n",
       "      <td>-0.10673</td>\n",
       "      <td>0.10168</td>\n",
       "      <td>-0.18411</td>\n",
       "    </tr>\n",
       "    <tr>\n",
       "      <th>feliz</th>\n",
       "      <td>-0.26190</td>\n",
       "      <td>-0.13755</td>\n",
       "      <td>0.19539</td>\n",
       "      <td>-0.21187</td>\n",
       "      <td>0.29753</td>\n",
       "    </tr>\n",
       "    <tr>\n",
       "      <th>hoje</th>\n",
       "      <td>-0.65416</td>\n",
       "      <td>-0.44122</td>\n",
       "      <td>-0.18319</td>\n",
       "      <td>-0.57515</td>\n",
       "      <td>-0.29090</td>\n",
       "    </tr>\n",
       "    <tr>\n",
       "      <th>imaginar</th>\n",
       "      <td>-0.50691</td>\n",
       "      <td>-0.43239</td>\n",
       "      <td>-0.75782</td>\n",
       "      <td>-0.58016</td>\n",
       "      <td>-1.15216</td>\n",
       "    </tr>\n",
       "    <tr>\n",
       "      <th>lágrimas</th>\n",
       "      <td>0.07000</td>\n",
       "      <td>0.00786</td>\n",
       "      <td>-0.26751</td>\n",
       "      <td>0.03212</td>\n",
       "      <td>-0.44406</td>\n",
       "    </tr>\n",
       "  </tbody>\n",
       "</table>\n",
       "</div>"
      ],
      "text/plain": [
       "                 D0       D1       D2       D3       D4\n",
       "abrir      -0.26960 -0.33378 -0.79615 -0.41183 -1.14050\n",
       "amor        0.56748  0.45733  0.60041  0.63459  0.90574\n",
       "artista     0.63622  0.50353  0.33298  0.64246  0.47718\n",
       "cair        0.25191  0.23025  0.15785  0.31004  0.19127\n",
       "chegar      0.13537  0.08612 -0.07693  0.15639 -0.17792\n",
       "dia         0.78902  0.71646  1.05013  0.92915  1.58203\n",
       "doer       -0.73679 -0.54659 -0.35577 -0.75483 -0.50238\n",
       "dói        -0.36953 -0.45830 -1.27205 -0.60313 -1.92419\n",
       "excelente   0.45611  0.36731  0.53060  0.49294  0.82302\n",
       "fazer       0.20404  0.16715  0.23141  0.21406  0.34289\n",
       "felicidade  0.12996  0.09317 -0.10673  0.10168 -0.18411\n",
       "feliz      -0.26190 -0.13755  0.19539 -0.21187  0.29753\n",
       "hoje       -0.65416 -0.44122 -0.18319 -0.57515 -0.29090\n",
       "imaginar   -0.50691 -0.43239 -0.75782 -0.58016 -1.15216\n",
       "lágrimas    0.07000  0.00786 -0.26751  0.03212 -0.44406"
      ]
     },
     "metadata": {},
     "output_type": "display_data"
    }
   ],
   "source": [
    "vec_tfidf = TfidfVectorizer(ngram_range=(1, 1))\n",
    "X_tfidf = vec_tfidf.fit_transform(frases)\n",
    "\n",
    "N_features = X_tfidf.shape[1]\n",
    "\n",
    "frases_w2v = []\n",
    "for frase in frases:\n",
    "    bigram = []\n",
    "    p_frase = word_tokenize(frase)\n",
    "    for m, palavra in enumerate(p_frase):\n",
    "        next_p = None\n",
    "        try:\n",
    "            next_p = p_frase[m+1]\n",
    "        except:\n",
    "            pass\n",
    "        bigram += [f'{palavra}']\n",
    "#         if next_p:\n",
    "#             bigram += [f'{palavra} {next_p}']\n",
    "    frases_w2v += [bigram]\n",
    "\n",
    "model = gensim.models.Word2Vec(\n",
    "    frases_w2v,\n",
    "    sg=1,\n",
    "    size=N_features,\n",
    "    window=50,\n",
    "    min_count=1,\n",
    "    workers=10)\n",
    "model.train(frases_w2v, total_examples=len(frases_w2v), epochs=1500)\n",
    "\n",
    "vec_count = CountVectorizer(ngram_range=(1, 1))\n",
    "X_count = vec_count.fit_transform(frases)\n",
    "weights_count = pd.DataFrame(np.round(X_count.toarray().T, 5), index=vec_count.get_feature_names(), columns=ldocs)\n",
    "\n",
    "print(X_tfidf.shape)\n",
    "print(X_count.shape)\n",
    "print(model.wv.vectors.shape)\n",
    "\n",
    "# X_tfidf = X_tfidf + X_count\n",
    "X_tfidf = np.asarray(np.dot(X_tfidf.toarray(), model.wv.vectors))\n",
    "# X_tfidf = X_tfidf.toarray()\n",
    "\n",
    "print(\"   Actual number of tfidf features: %d\" % N_features)\n",
    "weights_tfidf = pd.DataFrame(np.round(X_tfidf.T, 5), index=vec_tfidf.get_feature_names(), columns=ldocs)\n",
    "display(weights_tfidf.head(15))"
   ]
  },
  {
   "cell_type": "code",
   "execution_count": 841,
   "metadata": {
    "ExecuteTime": {
     "end_time": "2018-10-21T14:28:30.656680Z",
     "start_time": "2018-10-21T14:28:27.321142Z"
    }
   },
   "outputs": [],
   "source": [
    "alegria = ['feliz', 'felicidade', 'sorriso', \n",
    "           'perfeito', 'belo', 'excelente', 'perfeição', \n",
    "           'amor', 'verdadeiro', 'verdade', 'cuidar', 'lindo', 'tesouro']\n",
    "alegria += ['abundante', 'acalmar', 'aceitável', 'aceitação', 'aclamar', 'aconchego', 'adesão', 'admirar', 'adorar', 'adoração', 'afeição', 'afeto', 'afetividade', 'afortunado', 'afável', 'agradar', 'ajeitar', 'altivez', 'altivo', 'alívio', 'amabilidade', 'amado', 'amar', 'amenizar', 'ameno', 'amigável', 'amistoso', 'amizade', 'amor', 'amável', 'animação', 'anseio', 'ansioso', 'apaixonado', 'apaziguar', 'aplausos', 'apoiar', 'aprazer', 'apreciar', 'aprovação', 'aproveitar', 'ardor', 'armirar', 'arrumar', 'atraente', 'atrair', 'atração', 'avidamente', 'avidez', 'belo', 'beleza', 'bem-estar', 'beneficiador', 'beneficência', 'benefício', 'benevocência', 'benignamente', 'benéfico', 'benígno', 'boa-intenção', 'bom', 'bom-humor', 'bondade', 'bondoso', 'bonito', 'bravura', 'brilhante', 'brilhantismo', 'brincadeira', 'brio', 'calma', 'calor', 'caridade', 'caridoso', 'carinho', 'cativar', 'charme', 'cheery', 'clamar', 'cofortar', 'coleguismo', 'comover', 'compaixão', 'companheirismo', 'compatibilidade', 'compatível', 'complacência', 'completar', 'compreensão', 'comédia', 'conclusão', 'concretização', 'condescendência', 'confiança', 'confortante', 'congratulação', 'conquistar', 'consentir', 'considerar', 'consideração', 'consolação', 'consolo', 'contentamento', 'contente', 'coragem', 'cordial', 'cuidadoso', 'cumplicidade', 'cômico', 'dedicação', 'deleitado', 'delicadamente', 'delicadeza', 'delicado', 'desejar', 'despreocupação', 'devoto', 'devoção', 'dignidade', 'diversão', 'divertido', 'elogiado', 'emocionante', 'emotivo', 'emoção', 'empatia', 'empolgação', 'empático', 'enamorar', 'encantado', 'encantar', 'encorajado', 'enfeitar', 'engraçado', 'entendimento', 'entusiasmadamente', 'entusiástico', 'esperança', 'esplendor', 'estima', 'estimar', 'estimulante', 'euforia', 'euforizante', 'eufórico', 'exaltar', 'excelente', 'excitar', 'expansivo', 'extasiar', 'exuberante', 'exultar', 'facilitar', 'familiaridade', 'fascinação', 'fascínio', 'favor', 'favorecer', 'favorito', 'felicidade', 'feliz', 'festa', 'festejar', 'festivo', 'fidelidade', 'fiel', 'filantropia', 'filantrópico', 'fraterno', 'fã', 'ganhar', 'generosidade', 'generoso', 'gentil', 'glorificar', 'glória', 'gostar', 'gostoso', 'gozar', 'gratidão', 'gratificante', 'gratificação', 'grato', 'hilariante', 'honra', 'humor', 'impressionar', 'incentivar', 'incentivo', 'inclinação', 'incrível', 'inspirar', 'interessar', 'interesse', 'irmandade', 'jovial', 'jovialidade', 'jubilante', 'júbilo', 'lealdade', 'legítimo', 'leveza', 'louvar', 'louvavelmente', 'louvável', 'lucrativo', 'lucro', 'majestoso', 'maravilhoso', 'melhor', 'namoro', 'nobre', 'obter', 'obteve', 'ode', 'orgulho', 'orgulhoso', 'paixão', 'parabenizar', 'paz', 'piedoso', 'positivo', 'prazenteiro', 'prazer', 'predileção', 'preencher', 'preferido', 'preferência', 'promissor', 'prosperidade', 'proteger', 'protetor', 'proteção', 'proveito', 'provilégio', 'querer', 'radiante', 'realizar', 'recomendável', 'recompensa', 'reconhecer', 'recrear', 'recreativo', 'recreação', 'regozijar', 'respeitar', 'ressuscitar', 'revigorar', 'risada', 'risonho', 'romantismo', 'romântico', 'saciar', 'saciável', 'satisfatoriamente', 'satisfatório', 'satisfazer', 'satisfação', 'satisfeito', 'seduzir', 'sedução', 'sereno', 'simpaticamente', 'simpático', 'sobreviver', 'sobrevivência', 'sorte', 'sortudo', 'sucesso', 'surpreender', 'tenro', 'ternura', 'torcer', 'tranquilo', 'triunfal', 'triunfante', 'triunfo', 'vanglória', 'vantagem', 'vantajoso', 'vencedor', 'veneração', 'ventura', 'vida', 'vigor', 'virtude', 'virtuoso', 'vitorioso', 'vitória', 'viver', 'vivo', 'zelo', 'zeloso', 'ávido', 'ânimo', 'ânsia', 'tesouro']\n",
    "alegria = list(set(alegria))\n",
    "tristeza = ['tristeza', 'problema', 'arrependimento', 'errar', \n",
    "            'não', 'falsa', 'morte', 'saudade', 'luto', 'distância', \n",
    "            'perda', 'memórias', 'dúvida', 'dói', 'lágrimas']\n",
    "tristeza += ['abandonado', 'abandonar', 'abater', 'abatido', 'abatimento', 'abominável', 'aborrecer', 'aborrecimento', 'abortar', 'aceitação', 'adversidade', 'adverso', 'afastamento', 'afligir', 'aflito', 'aflição', 'agoniado', 'agoniar', 'amargo', 'amargor', 'amargura', 'amargurado', 'angustiado', 'angústia', 'ansiedade', 'apartado', 'arrepender', 'arrependidamente', 'arrependido', 'arrependimento', 'atormentado', 'atrito', 'azar', 'cabisbaixo', 'carrancudo', 'castigar', 'castigo', 'chorar', 'choro', 'choroso', 'chorão', 'circunspecção', 'circunspeção', 'coitado', 'compassivo', 'compungido', 'compunção', 'consternado', 'consternação', 'contristador', 'contrito', 'contrição', 'culpa', 'defeituoso', 'degradante', 'deplorável', 'deposição', 'depravado', 'depressivo', 'depressão', 'deprimente', 'deprimido', 'deprimir', 'derrota', 'derrubar', 'desalentar', 'desalento', 'desamparado', 'desamparo', 'desanimado', 'desanimar', 'desapontar', 'desconsolo', 'descontente', 'desculpas', 'desencorajar', 'desentusiasmar', 'desesperar', 'desespero', 'desestimular', 'desgaste', 'desgosto', 'desgraça', 'desiludir', 'desincentivar', 'desistir', 'desistência', 'deslocado', 'desmoralizar', 'desmotivar', 'desolado', 'desolar', 'desonra', 'despojado', 'desprazer', 'desprezo', 'desumano', 'desânimo', 'discriminar', 'disforia', 'disfórico', 'dissuadir', 'divórcio', 'doloroso', 'dor', 'dó', 'encobrir', 'enegrecer', 'enfadado', 'enlutar', 'entediado', 'entristecedor', 'entristecer', 'envergonhar', 'errante', 'erro', 'errôneo', 'escaldado', 'escurecer', 'escuridão', 'escuro', 'esmorecer', 'esquecido', 'estragado', 'estranho', 'execrável', 'extirpar', 'falsidade', 'falso', 'falta', 'flagelar', 'flagelo', 'fraco', 'fraqueza', 'fricção', 'frieza', 'frio', 'funesto', 'fúnebre', 'gelar', 'grave', 'horror', 'humilhar', 'importuno', 'inconsolável', 'indefeso', 'infelicidade', 'infeliz', 'infortúnio', 'inveja', 'isolado', 'isolamento', 'isolar', 'lacrimejante', 'lacrimoso', 'lamentar', 'lastimoso', 'luto', 'lutoso', 'lágrima', 'lástima', 'lúgubre', 'magoado', 'magoar', 'martirizar', 'martírio', 'mau', 'melancolia', 'melancólico', 'menosprezar', 'miseravelmente', 'misterioso', 'mistério', 'miséria', 'morre', 'morte', 'mortificado', 'mortificante', 'mortificação', 'mágoa', 'negligentemente', 'nocivo', 'nostalgia', 'nublar', 'obscuro', 'ofuscar', 'opressivo', 'opressão', 'oprimir', 'partida', 'pena', 'penalizar', 'penitencial', 'penitente', 'penitência', 'penoso', 'pensativo', 'penumbra', 'perder', 'perturbado', 'perverso', 'pervertar', 'pesar', 'pesaroso', 'pessimamente', 'piedade', 'pobre', 'porcamente', 'prejudicado', 'prejudicial', 'prejuízo', 'pressionar', 'pressão', 'prostração', 'quebrar', 'queda', 'queixoso', 'rechaçar', 'remorso', 'repressivo', 'repressão', 'reprimir', 'retidão', 'retitude', 'ruim', 'saudade', 'secreto', 'segregação', 'sentido', 'separação', 'seriedade', 'servil', 'sisudez', 'sisudeza', 'sobrecarga', 'sobrecarregado', 'sofrer', 'sofrimento', 'solidão', 'solitário', 'sombrio', 'soturno', 'sozinho', 'sucumbir', 'sujo', 'suplicar', 'suplício', 'só', 'timidez', 'tormento', 'torturado', 'torturar', 'trevas', 'triste', 'tristemente', 'tristonho', 'tédio', 'tímido', 'vazio',]\n",
    "tristeza = list(set(tristeza))\n",
    "\n",
    "alegria = [tokenizer(word) for word in alegria]\n",
    "tristeza = [tokenizer(word) for word in tristeza]\n",
    "\n",
    "def retorn_palavras(palavras, size):\n",
    "    r_words = {}\n",
    "    for i, word in enumerate(palavras):\n",
    "        for index, word2 in enumerate(weights_tfidf.index):\n",
    "            if word in word2:\n",
    "                r_words[word2] = weights_tfidf.iloc[index].values\n",
    "    return np.asarray(list(r_words.values())).T\n",
    "\n",
    "r_words_1 = retorn_palavras(alegria, len(frases))\n",
    "r_words_2 = retorn_palavras(tristeza, len(frases))\n",
    "\n",
    "X = np.column_stack((r_words_1, r_words_2))\n",
    "n = len(model.wv.vectors[1])\n",
    "# X = TruncatedSVD(n_components=29, random_state=0).fit_transform(X)\n",
    "# print(X.shape)\n",
    "X = LatentDirichletAllocation(n_components=n, random_state=0).fit_transform(softmax(X))"
   ]
  },
  {
   "cell_type": "code",
   "execution_count": 842,
   "metadata": {
    "ExecuteTime": {
     "end_time": "2018-10-21T14:28:30.730495Z",
     "start_time": "2018-10-21T14:28:30.658711Z"
    },
    "scrolled": false
   },
   "outputs": [],
   "source": [
    "k = 3\n",
    "kmeans = KMeans(n_clusters=k, n_init=50, max_iter=500, random_state=0, n_jobs=5)\n",
    "J = kmeans.fit_transform(X)\n",
    "\n",
    "# kmeans = DBSCAN(eps=.05, min_samples=3)\n",
    "# kmeans.fit(X)\n",
    "# k = len(set(kmeans.labels_))\n",
    "\n",
    "# kmeans = MeanShift(bandwidth=estimate_bandwidth(X, quantile=0.2, n_samples=500), cluster_all=True, n_jobs=5)\n",
    "# kmeans.fit(X)\n",
    "# k = len(set(kmeans.labels_))"
   ]
  },
  {
   "cell_type": "code",
   "execution_count": 843,
   "metadata": {
    "ExecuteTime": {
     "end_time": "2018-10-21T14:28:31.106963Z",
     "start_time": "2018-10-21T14:28:31.095346Z"
    }
   },
   "outputs": [
    {
     "name": "stdout",
     "output_type": "stream",
     "text": [
      "labels: [1 1 2 1 0]\n",
      "number of estimated clusters : 3\n"
     ]
    }
   ],
   "source": [
    "print('labels:', kmeans.labels_)\n",
    "labels_unique = np.unique(kmeans.labels_)\n",
    "n_clusters_ = len(labels_unique)\n",
    "print(\"number of estimated clusters : %d\" % n_clusters_)"
   ]
  },
  {
   "cell_type": "code",
   "execution_count": 844,
   "metadata": {
    "ExecuteTime": {
     "end_time": "2018-10-21T14:28:32.454640Z",
     "start_time": "2018-10-21T14:28:32.444746Z"
    },
    "scrolled": false
   },
   "outputs": [
    {
     "name": "stdout",
     "output_type": "stream",
     "text": [
      "-- Cluster 0\n",
      "AMOR pensar tornar um poeta olhar tornar um artista imaginar amor tornar um sonhador\n",
      "-- Cluster 1\n",
      "FELICIDADE hoje muito feliz\n",
      "FELICIDADE dia excelente muito feliz\n",
      "TRISTEZA lágrimas não doer dói motivo fazer cair\n",
      "-- Cluster 2\n",
      "FELICIDADE abrir um sorriso felicidade chegar\n"
     ]
    }
   ],
   "source": [
    "cluster_assignments_dict = {}\n",
    "\n",
    "for i in set(kmeans.labels_):\n",
    "    current_cluster = [frases[x] for x in np.where(kmeans.labels_ == i)[0]]\n",
    "    cluster_assignments_dict[i] = current_cluster\n",
    "\n",
    "for n in range(k):\n",
    "    print('-- Cluster {0}'.format(n))\n",
    "    for frase in cluster_assignments_dict[n]:\n",
    "        if frase in frases_felicidade_parsed:\n",
    "            print('FELICIDADE', frase)\n",
    "        elif frase in frases_tristeza_parsed:\n",
    "            print('TRISTEZA', frase)\n",
    "        elif frase in frases_amor_parsed:\n",
    "            print('AMOR', frase)"
   ]
  },
  {
   "cell_type": "code",
   "execution_count": 840,
   "metadata": {
    "ExecuteTime": {
     "end_time": "2018-10-21T14:28:09.893175Z",
     "start_time": "2018-10-21T14:28:09.641548Z"
    },
    "scrolled": false
   },
   "outputs": [
    {
     "data": {
      "image/png": "[encoded data removed]",
      "text/plain": [
       "<Figure size 360x360 with 1 Axes>"
      ]
     },
     "metadata": {
      "needs_background": "light"
     },
     "output_type": "display_data"
    }
   ],
   "source": [
    "# tfs_embedded = TSNE(n_components=k, perplexity=50, verbose=2).fit_transform(tfs_reduced)\n",
    "J = TruncatedSVD(n_components=2, random_state=0).fit_transform(X)\n",
    "\n",
    "fig = plt.figure(figsize = (5, 5))\n",
    "for i in range(J.shape[0]):\n",
    "    if kmeans.labels_[i] == 0:\n",
    "        c1 = plt.scatter((J[i, 0]), (J[i, 1]), c='r', marker='+')\n",
    "    elif kmeans.labels_[i] == 1:\n",
    "        c2 = plt.scatter((J[i, 0]), (J[i, 1]), c='g', marker='o')\n",
    "    elif kmeans.labels_[i] == 2:\n",
    "        c3 = plt.scatter((J[i, 0]), (J[i, 1]), c='b', marker='*')\n",
    "    elif kmeans.labels_[i] == 3:\n",
    "        c4 = plt.scatter((J[i, 0]), (J[i, 1]), c='y', marker='x')\n",
    "plt.legend([c1, c2, c3, c4], ['C0', 'C1', 'C2', 'C3'])\n",
    "plt.show()"
   ]
  },
  {
   "cell_type": "code",
   "execution_count": null,
   "metadata": {},
   "outputs": [],
   "source": []
  }
 ],
 "metadata": {
  "kernelspec": {
   "display_name": "Python 3",
   "language": "python",
   "name": "python3"
  },
  "language_info": {
   "codemirror_mode": {
    "name": "ipython",
    "version": 3
   },
   "file_extension": ".py",
   "mimetype": "text/x-python",
   "name": "python",
   "nbconvert_exporter": "python",
   "pygments_lexer": "ipython3",
   "version": "3.7.0"
  },
  "latex_envs": {
   "LaTeX_envs_menu_present": true,
   "autocomplete": true,
   "bibliofile": "biblio.bib",
   "cite_by": "apalike",
   "current_citInitial": 1,
   "eqLabelWithNumbers": true,
   "eqNumInitial": 1,
   "hotkeys": {
    "equation": "Ctrl-E",
    "itemize": "Ctrl-I"
   },
   "labels_anchors": false,
   "latex_user_defs": false,
   "report_style_numbering": false,
   "user_envs_cfg": false
  },
  "toc": {
   "colors": {
    "hover_highlight": "#DAA520",
    "navigate_num": "#000000",
    "navigate_text": "#333333",
    "running_highlight": "#FF0000",
    "selected_highlight": "#FFD700",
    "sidebar_border": "#EEEEEE",
    "wrapper_background": "#FFFFFF"
   },
   "moveMenuLeft": true,
   "nav_menu": {
    "height": "12px",
    "width": "252px"
   },
   "navigate_menu": true,
   "number_sections": true,
   "sideBar": true,
   "threshold": 4,
   "toc_cell": false,
   "toc_section_display": "block",
   "toc_window_display": false,
   "widenNotebook": false
  }
 },
 "nbformat": 4,
 "nbformat_minor": 2
}
